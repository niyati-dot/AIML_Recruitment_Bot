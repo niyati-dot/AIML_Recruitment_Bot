{
 "cells": [
  {
   "cell_type": "markdown",
   "id": "d42af45e",
   "metadata": {},
   "source": [
    "## Recruitment Bot sentiment analysis model"
   ]
  },
  {
   "cell_type": "code",
   "execution_count": 58,
   "id": "e7500ab9",
   "metadata": {},
   "outputs": [],
   "source": [
    "import pandas as pd\n",
    "import matplotlib.pyplot as plt\n",
    "\n",
    "from tensorflow.keras.preprocessing.text import Tokenizer\n",
    "from tensorflow.keras.preprocessing.sequence import pad_sequences\n",
    "from tensorflow.keras.models import Sequential\n",
    "from tensorflow.keras.layers import LSTM,Dense, Dropout, SpatialDropout1D\n",
    "from tensorflow.keras.layers import Embedding\n",
    "import string\n",
    "import re\n",
    "from string import digits\n",
    "from cleantext import clean\n",
    "from nltk.corpus import stopwords\n",
    "from nltk.tokenize import word_tokenize\n",
    "import numpy as np\n",
    "import seaborn as sns\n",
    "from plotly import graph_objs as go\n",
    "import plotly.express as px\n",
    "import plotly.figure_factory as ff\n",
    "from collections import Counter\n",
    "stop_words = set(stopwords.words('english'))\n",
    "\n",
    "df = pd.read_csv(\"train_sentiment.csv\")"
   ]
  },
  {
   "cell_type": "markdown",
   "id": "fce46c6c",
   "metadata": {},
   "source": [
    "# EDA"
   ]
  },
  {
   "cell_type": "code",
   "execution_count": 2,
   "id": "2ebbbd23",
   "metadata": {},
   "outputs": [
    {
     "data": {
      "text/html": [
       "<div>\n",
       "<style scoped>\n",
       "    .dataframe tbody tr th:only-of-type {\n",
       "        vertical-align: middle;\n",
       "    }\n",
       "\n",
       "    .dataframe tbody tr th {\n",
       "        vertical-align: top;\n",
       "    }\n",
       "\n",
       "    .dataframe thead th {\n",
       "        text-align: right;\n",
       "    }\n",
       "</style>\n",
       "<table border=\"1\" class=\"dataframe\">\n",
       "  <thead>\n",
       "    <tr style=\"text-align: right;\">\n",
       "      <th></th>\n",
       "      <th>textID</th>\n",
       "      <th>text</th>\n",
       "      <th>selected_text</th>\n",
       "      <th>sentiment</th>\n",
       "      <th>Time of Tweet</th>\n",
       "      <th>Age of User</th>\n",
       "      <th>Country</th>\n",
       "      <th>Population -2020</th>\n",
       "      <th>Land Area (Km�)</th>\n",
       "      <th>Density (P/Km�)</th>\n",
       "    </tr>\n",
       "  </thead>\n",
       "  <tbody>\n",
       "    <tr>\n",
       "      <th>0</th>\n",
       "      <td>cb774db0d1</td>\n",
       "      <td>I`d have responded, if I were going</td>\n",
       "      <td>I`d have responded, if I were going</td>\n",
       "      <td>neutral</td>\n",
       "      <td>morning</td>\n",
       "      <td>0-20</td>\n",
       "      <td>Afghanistan</td>\n",
       "      <td>38928346</td>\n",
       "      <td>652860.0</td>\n",
       "      <td>60</td>\n",
       "    </tr>\n",
       "    <tr>\n",
       "      <th>1</th>\n",
       "      <td>549e992a42</td>\n",
       "      <td>Sooo SAD I will miss you here in San Diego!!!</td>\n",
       "      <td>Sooo SAD</td>\n",
       "      <td>negative</td>\n",
       "      <td>noon</td>\n",
       "      <td>21-30</td>\n",
       "      <td>Albania</td>\n",
       "      <td>2877797</td>\n",
       "      <td>27400.0</td>\n",
       "      <td>105</td>\n",
       "    </tr>\n",
       "    <tr>\n",
       "      <th>2</th>\n",
       "      <td>088c60f138</td>\n",
       "      <td>my boss is bullying me...</td>\n",
       "      <td>bullying me</td>\n",
       "      <td>negative</td>\n",
       "      <td>night</td>\n",
       "      <td>31-45</td>\n",
       "      <td>Algeria</td>\n",
       "      <td>43851044</td>\n",
       "      <td>2381740.0</td>\n",
       "      <td>18</td>\n",
       "    </tr>\n",
       "    <tr>\n",
       "      <th>3</th>\n",
       "      <td>9642c003ef</td>\n",
       "      <td>what interview! leave me alone</td>\n",
       "      <td>leave me alone</td>\n",
       "      <td>negative</td>\n",
       "      <td>morning</td>\n",
       "      <td>46-60</td>\n",
       "      <td>Andorra</td>\n",
       "      <td>77265</td>\n",
       "      <td>470.0</td>\n",
       "      <td>164</td>\n",
       "    </tr>\n",
       "    <tr>\n",
       "      <th>4</th>\n",
       "      <td>358bd9e861</td>\n",
       "      <td>Sons of ****, why couldn`t they put them on t...</td>\n",
       "      <td>Sons of ****,</td>\n",
       "      <td>negative</td>\n",
       "      <td>noon</td>\n",
       "      <td>60-70</td>\n",
       "      <td>Angola</td>\n",
       "      <td>32866272</td>\n",
       "      <td>1246700.0</td>\n",
       "      <td>26</td>\n",
       "    </tr>\n",
       "  </tbody>\n",
       "</table>\n",
       "</div>"
      ],
      "text/plain": [
       "       textID                                               text  \\\n",
       "0  cb774db0d1                I`d have responded, if I were going   \n",
       "1  549e992a42      Sooo SAD I will miss you here in San Diego!!!   \n",
       "2  088c60f138                          my boss is bullying me...   \n",
       "3  9642c003ef                     what interview! leave me alone   \n",
       "4  358bd9e861   Sons of ****, why couldn`t they put them on t...   \n",
       "\n",
       "                         selected_text sentiment Time of Tweet Age of User  \\\n",
       "0  I`d have responded, if I were going   neutral       morning        0-20   \n",
       "1                             Sooo SAD  negative          noon       21-30   \n",
       "2                          bullying me  negative         night       31-45   \n",
       "3                       leave me alone  negative       morning       46-60   \n",
       "4                        Sons of ****,  negative          noon       60-70   \n",
       "\n",
       "       Country  Population -2020  Land Area (Km�)  Density (P/Km�)  \n",
       "0  Afghanistan          38928346         652860.0               60  \n",
       "1      Albania           2877797          27400.0              105  \n",
       "2      Algeria          43851044        2381740.0               18  \n",
       "3      Andorra             77265            470.0              164  \n",
       "4       Angola          32866272        1246700.0               26  "
      ]
     },
     "execution_count": 2,
     "metadata": {},
     "output_type": "execute_result"
    }
   ],
   "source": [
    "df.head()"
   ]
  },
  {
   "cell_type": "code",
   "execution_count": 3,
   "id": "13bdb033",
   "metadata": {},
   "outputs": [
    {
     "data": {
      "text/plain": [
       "Index(['textID', 'text', 'selected_text', 'sentiment', 'Time of Tweet',\n",
       "       'Age of User', 'Country', 'Population -2020', 'Land Area (Km�)',\n",
       "       'Density (P/Km�)'],\n",
       "      dtype='object')"
      ]
     },
     "execution_count": 3,
     "metadata": {},
     "output_type": "execute_result"
    }
   ],
   "source": [
    "df.columns"
   ]
  },
  {
   "cell_type": "code",
   "execution_count": 5,
   "id": "15e6e584",
   "metadata": {},
   "outputs": [
    {
     "name": "stdout",
     "output_type": "stream",
     "text": [
      "(27481, 10)\n"
     ]
    }
   ],
   "source": [
    "print(df.shape)"
   ]
  },
  {
   "cell_type": "code",
   "execution_count": 9,
   "id": "199548c4",
   "metadata": {},
   "outputs": [
    {
     "name": "stdout",
     "output_type": "stream",
     "text": [
      "<class 'pandas.core.frame.DataFrame'>\n",
      "Int64Index: 27480 entries, 0 to 27480\n",
      "Data columns (total 10 columns):\n",
      " #   Column            Non-Null Count  Dtype  \n",
      "---  ------            --------------  -----  \n",
      " 0   textID            27480 non-null  object \n",
      " 1   text              27480 non-null  object \n",
      " 2   selected_text     27480 non-null  object \n",
      " 3   sentiment         27480 non-null  object \n",
      " 4   Time of Tweet     27480 non-null  object \n",
      " 5   Age of User       27480 non-null  object \n",
      " 6   Country           27480 non-null  object \n",
      " 7   Population -2020  27480 non-null  int64  \n",
      " 8   Land Area (Km�)   27480 non-null  float64\n",
      " 9   Density (P/Km�)   27480 non-null  int64  \n",
      "dtypes: float64(1), int64(2), object(7)\n",
      "memory usage: 2.3+ MB\n",
      "None\n"
     ]
    }
   ],
   "source": [
    "print(df.info())"
   ]
  },
  {
   "cell_type": "code",
   "execution_count": 8,
   "id": "d1ca6d52",
   "metadata": {},
   "outputs": [],
   "source": [
    "df.dropna(inplace=True)"
   ]
  },
  {
   "cell_type": "code",
   "execution_count": 12,
   "id": "92a7ed66",
   "metadata": {},
   "outputs": [
    {
     "name": "stdout",
     "output_type": "stream",
     "text": [
      "(27480, 2)\n"
     ]
    },
    {
     "data": {
      "text/html": [
       "<div>\n",
       "<style scoped>\n",
       "    .dataframe tbody tr th:only-of-type {\n",
       "        vertical-align: middle;\n",
       "    }\n",
       "\n",
       "    .dataframe tbody tr th {\n",
       "        vertical-align: top;\n",
       "    }\n",
       "\n",
       "    .dataframe thead th {\n",
       "        text-align: right;\n",
       "    }\n",
       "</style>\n",
       "<table border=\"1\" class=\"dataframe\">\n",
       "  <thead>\n",
       "    <tr style=\"text-align: right;\">\n",
       "      <th></th>\n",
       "      <th>text</th>\n",
       "      <th>sentiment</th>\n",
       "    </tr>\n",
       "  </thead>\n",
       "  <tbody>\n",
       "    <tr>\n",
       "      <th>0</th>\n",
       "      <td>I`d have responded, if I were going</td>\n",
       "      <td>neutral</td>\n",
       "    </tr>\n",
       "    <tr>\n",
       "      <th>1</th>\n",
       "      <td>Sooo SAD I will miss you here in San Diego!!!</td>\n",
       "      <td>negative</td>\n",
       "    </tr>\n",
       "    <tr>\n",
       "      <th>2</th>\n",
       "      <td>my boss is bullying me...</td>\n",
       "      <td>negative</td>\n",
       "    </tr>\n",
       "    <tr>\n",
       "      <th>3</th>\n",
       "      <td>what interview! leave me alone</td>\n",
       "      <td>negative</td>\n",
       "    </tr>\n",
       "    <tr>\n",
       "      <th>4</th>\n",
       "      <td>Sons of ****, why couldn`t they put them on t...</td>\n",
       "      <td>negative</td>\n",
       "    </tr>\n",
       "  </tbody>\n",
       "</table>\n",
       "</div>"
      ],
      "text/plain": [
       "                                                text sentiment\n",
       "0                I`d have responded, if I were going   neutral\n",
       "1      Sooo SAD I will miss you here in San Diego!!!  negative\n",
       "2                          my boss is bullying me...  negative\n",
       "3                     what interview! leave me alone  negative\n",
       "4   Sons of ****, why couldn`t they put them on t...  negative"
      ]
     },
     "execution_count": 12,
     "metadata": {},
     "output_type": "execute_result"
    }
   ],
   "source": [
    "text_df = df[['text','sentiment']]\n",
    "print(text_df.shape)\n",
    "text_df.head(5)"
   ]
  },
  {
   "cell_type": "code",
   "execution_count": 32,
   "id": "a9652763",
   "metadata": {},
   "outputs": [
    {
     "data": {
      "text/html": [
       "<div>\n",
       "<style scoped>\n",
       "    .dataframe tbody tr th:only-of-type {\n",
       "        vertical-align: middle;\n",
       "    }\n",
       "\n",
       "    .dataframe tbody tr th {\n",
       "        vertical-align: top;\n",
       "    }\n",
       "\n",
       "    .dataframe thead th {\n",
       "        text-align: right;\n",
       "    }\n",
       "</style>\n",
       "<table border=\"1\" class=\"dataframe\">\n",
       "  <thead>\n",
       "    <tr style=\"text-align: right;\">\n",
       "      <th></th>\n",
       "      <th>text</th>\n",
       "      <th>sentiment</th>\n",
       "    </tr>\n",
       "  </thead>\n",
       "  <tbody>\n",
       "    <tr>\n",
       "      <th>count</th>\n",
       "      <td>16363</td>\n",
       "      <td>16363</td>\n",
       "    </tr>\n",
       "    <tr>\n",
       "      <th>unique</th>\n",
       "      <td>16363</td>\n",
       "      <td>2</td>\n",
       "    </tr>\n",
       "    <tr>\n",
       "      <th>top</th>\n",
       "      <td>A very exciting week</td>\n",
       "      <td>positive</td>\n",
       "    </tr>\n",
       "    <tr>\n",
       "      <th>freq</th>\n",
       "      <td>1</td>\n",
       "      <td>8582</td>\n",
       "    </tr>\n",
       "  </tbody>\n",
       "</table>\n",
       "</div>"
      ],
      "text/plain": [
       "                        text sentiment\n",
       "count                  16363     16363\n",
       "unique                 16363         2\n",
       "top     A very exciting week  positive\n",
       "freq                       1      8582"
      ]
     },
     "execution_count": 32,
     "metadata": {},
     "output_type": "execute_result"
    }
   ],
   "source": [
    "text_df.describe()"
   ]
  },
  {
   "cell_type": "code",
   "execution_count": 17,
   "id": "1c73ff70",
   "metadata": {},
   "outputs": [
    {
     "name": "stdout",
     "output_type": "stream",
     "text": [
      "(16363, 2)\n"
     ]
    },
    {
     "data": {
      "text/html": [
       "<div>\n",
       "<style scoped>\n",
       "    .dataframe tbody tr th:only-of-type {\n",
       "        vertical-align: middle;\n",
       "    }\n",
       "\n",
       "    .dataframe tbody tr th {\n",
       "        vertical-align: top;\n",
       "    }\n",
       "\n",
       "    .dataframe thead th {\n",
       "        text-align: right;\n",
       "    }\n",
       "</style>\n",
       "<table border=\"1\" class=\"dataframe\">\n",
       "  <thead>\n",
       "    <tr style=\"text-align: right;\">\n",
       "      <th></th>\n",
       "      <th>text</th>\n",
       "      <th>sentiment</th>\n",
       "    </tr>\n",
       "  </thead>\n",
       "  <tbody>\n",
       "    <tr>\n",
       "      <th>1</th>\n",
       "      <td>Sooo SAD I will miss you here in San Diego!!!</td>\n",
       "      <td>negative</td>\n",
       "    </tr>\n",
       "    <tr>\n",
       "      <th>2</th>\n",
       "      <td>my boss is bullying me...</td>\n",
       "      <td>negative</td>\n",
       "    </tr>\n",
       "    <tr>\n",
       "      <th>3</th>\n",
       "      <td>what interview! leave me alone</td>\n",
       "      <td>negative</td>\n",
       "    </tr>\n",
       "    <tr>\n",
       "      <th>4</th>\n",
       "      <td>Sons of ****, why couldn`t they put them on t...</td>\n",
       "      <td>negative</td>\n",
       "    </tr>\n",
       "    <tr>\n",
       "      <th>6</th>\n",
       "      <td>2am feedings for the baby are fun when he is a...</td>\n",
       "      <td>positive</td>\n",
       "    </tr>\n",
       "  </tbody>\n",
       "</table>\n",
       "</div>"
      ],
      "text/plain": [
       "                                                text sentiment\n",
       "1      Sooo SAD I will miss you here in San Diego!!!  negative\n",
       "2                          my boss is bullying me...  negative\n",
       "3                     what interview! leave me alone  negative\n",
       "4   Sons of ****, why couldn`t they put them on t...  negative\n",
       "6  2am feedings for the baby are fun when he is a...  positive"
      ]
     },
     "execution_count": 17,
     "metadata": {},
     "output_type": "execute_result"
    }
   ],
   "source": [
    "text_df = text_df[text_df['sentiment'] != 'neutral']\n",
    "print(text_df.shape)\n",
    "text_df.head(5)"
   ]
  },
  {
   "cell_type": "code",
   "execution_count": 18,
   "id": "6e14fc32",
   "metadata": {},
   "outputs": [
    {
     "data": {
      "text/html": [
       "<style  type=\"text/css\" >\n",
       "#T_a01a6_row0_col1{\n",
       "            background-color:  #67001f;\n",
       "            color:  #f1f1f1;\n",
       "        }#T_a01a6_row1_col1{\n",
       "            background-color:  #053061;\n",
       "            color:  #f1f1f1;\n",
       "        }</style><table id=\"T_a01a6_\" ><thead>    <tr>        <th class=\"blank level0\" ></th>        <th class=\"col_heading level0 col0\" >sentiment</th>        <th class=\"col_heading level0 col1\" >text</th>    </tr></thead><tbody>\n",
       "                <tr>\n",
       "                        <th id=\"T_a01a6_level0_row0\" class=\"row_heading level0 row0\" >1</th>\n",
       "                        <td id=\"T_a01a6_row0_col0\" class=\"data row0 col0\" >positive</td>\n",
       "                        <td id=\"T_a01a6_row0_col1\" class=\"data row0 col1\" >8582</td>\n",
       "            </tr>\n",
       "            <tr>\n",
       "                        <th id=\"T_a01a6_level0_row1\" class=\"row_heading level0 row1\" >0</th>\n",
       "                        <td id=\"T_a01a6_row1_col0\" class=\"data row1 col0\" >negative</td>\n",
       "                        <td id=\"T_a01a6_row1_col1\" class=\"data row1 col1\" >7781</td>\n",
       "            </tr>\n",
       "    </tbody></table>"
      ],
      "text/plain": [
       "<pandas.io.formats.style.Styler at 0x1a2e7a53820>"
      ]
     },
     "execution_count": 18,
     "metadata": {},
     "output_type": "execute_result"
    }
   ],
   "source": [
    "dist = text_df.groupby('sentiment').count()['text'].reset_index().sort_values(by='text',ascending=False)\n",
    "dist.style.background_gradient(cmap='RdBu_r')"
   ]
  },
  {
   "cell_type": "code",
   "execution_count": 24,
   "id": "670d5f4c",
   "metadata": {},
   "outputs": [
    {
     "data": {
      "text/plain": [
       "positive    8582\n",
       "negative    7781\n",
       "Name: sentiment, dtype: int64"
      ]
     },
     "execution_count": 24,
     "metadata": {},
     "output_type": "execute_result"
    }
   ],
   "source": [
    "text_df[\"sentiment\"].value_counts()"
   ]
  },
  {
   "cell_type": "markdown",
   "id": "6e4dfa65",
   "metadata": {},
   "source": [
    "# Visualization"
   ]
  },
  {
   "cell_type": "code",
   "execution_count": 53,
   "id": "904961f5",
   "metadata": {},
   "outputs": [
    {
     "data": {
      "text/html": [
       "<style  type=\"text/css\" >\n",
       "#T_88152_row0_col1{\n",
       "            background-color:  #08306b;\n",
       "            color:  #f1f1f1;\n",
       "        }#T_88152_row1_col1{\n",
       "            background-color:  #084285;\n",
       "            color:  #f1f1f1;\n",
       "        }#T_88152_row2_col1{\n",
       "            background-color:  #0d57a1;\n",
       "            color:  #f1f1f1;\n",
       "        }#T_88152_row3_col1{\n",
       "            background-color:  #4090c5;\n",
       "            color:  #000000;\n",
       "        }#T_88152_row4_col1{\n",
       "            background-color:  #8abfdd;\n",
       "            color:  #000000;\n",
       "        }#T_88152_row5_col1{\n",
       "            background-color:  #99c7e0;\n",
       "            color:  #000000;\n",
       "        }#T_88152_row6_col1{\n",
       "            background-color:  #a9cfe5;\n",
       "            color:  #000000;\n",
       "        }#T_88152_row7_col1{\n",
       "            background-color:  #c3daee;\n",
       "            color:  #000000;\n",
       "        }#T_88152_row8_col1{\n",
       "            background-color:  #c7dcef;\n",
       "            color:  #000000;\n",
       "        }#T_88152_row9_col1{\n",
       "            background-color:  #cde0f1;\n",
       "            color:  #000000;\n",
       "        }#T_88152_row10_col1{\n",
       "            background-color:  #d2e3f3;\n",
       "            color:  #000000;\n",
       "        }#T_88152_row11_col1{\n",
       "            background-color:  #dae8f6;\n",
       "            color:  #000000;\n",
       "        }#T_88152_row12_col1{\n",
       "            background-color:  #dbe9f6;\n",
       "            color:  #000000;\n",
       "        }#T_88152_row13_col1{\n",
       "            background-color:  #eaf3fb;\n",
       "            color:  #000000;\n",
       "        }#T_88152_row14_col1{\n",
       "            background-color:  #ebf3fb;\n",
       "            color:  #000000;\n",
       "        }#T_88152_row15_col1{\n",
       "            background-color:  #edf4fc;\n",
       "            color:  #000000;\n",
       "        }#T_88152_row16_col1{\n",
       "            background-color:  #f0f6fd;\n",
       "            color:  #000000;\n",
       "        }#T_88152_row17_col1{\n",
       "            background-color:  #f2f8fd;\n",
       "            color:  #000000;\n",
       "        }#T_88152_row18_col1{\n",
       "            background-color:  #f6faff;\n",
       "            color:  #000000;\n",
       "        }#T_88152_row19_col1{\n",
       "            background-color:  #f7fbff;\n",
       "            color:  #000000;\n",
       "        }</style><table id=\"T_88152_\" ><thead>    <tr>        <th class=\"blank level0\" ></th>        <th class=\"col_heading level0 col0\" >Common_words</th>        <th class=\"col_heading level0 col1\" >count</th>    </tr></thead><tbody>\n",
       "                <tr>\n",
       "                        <th id=\"T_88152_level0_row0\" class=\"row_heading level0 row0\" >0</th>\n",
       "                        <td id=\"T_88152_row0_col0\" class=\"data row0 col0\" >to</td>\n",
       "                        <td id=\"T_88152_row0_col1\" class=\"data row0 col1\" >5752</td>\n",
       "            </tr>\n",
       "            <tr>\n",
       "                        <th id=\"T_88152_level0_row1\" class=\"row_heading level0 row1\" >1</th>\n",
       "                        <td id=\"T_88152_row1_col0\" class=\"data row1 col0\" >I</td>\n",
       "                        <td id=\"T_88152_row1_col1\" class=\"data row1 col1\" >5437</td>\n",
       "            </tr>\n",
       "            <tr>\n",
       "                        <th id=\"T_88152_level0_row2\" class=\"row_heading level0 row2\" >2</th>\n",
       "                        <td id=\"T_88152_row2_col0\" class=\"data row2 col0\" >the</td>\n",
       "                        <td id=\"T_88152_row2_col1\" class=\"data row2 col1\" >5059</td>\n",
       "            </tr>\n",
       "            <tr>\n",
       "                        <th id=\"T_88152_level0_row3\" class=\"row_heading level0 row3\" >3</th>\n",
       "                        <td id=\"T_88152_row3_col0\" class=\"data row3 col0\" >a</td>\n",
       "                        <td id=\"T_88152_row3_col1\" class=\"data row3 col1\" >4063</td>\n",
       "            </tr>\n",
       "            <tr>\n",
       "                        <th id=\"T_88152_level0_row4\" class=\"row_heading level0 row4\" >4</th>\n",
       "                        <td id=\"T_88152_row4_col0\" class=\"data row4 col0\" >my</td>\n",
       "                        <td id=\"T_88152_row4_col1\" class=\"data row4 col1\" >3132</td>\n",
       "            </tr>\n",
       "            <tr>\n",
       "                        <th id=\"T_88152_level0_row5\" class=\"row_heading level0 row5\" >5</th>\n",
       "                        <td id=\"T_88152_row5_col0\" class=\"data row5 col0\" >and</td>\n",
       "                        <td id=\"T_88152_row5_col1\" class=\"data row5 col1\" >2964</td>\n",
       "            </tr>\n",
       "            <tr>\n",
       "                        <th id=\"T_88152_level0_row6\" class=\"row_heading level0 row6\" >6</th>\n",
       "                        <td id=\"T_88152_row6_col0\" class=\"data row6 col0\" >i</td>\n",
       "                        <td id=\"T_88152_row6_col1\" class=\"data row6 col1\" >2756</td>\n",
       "            </tr>\n",
       "            <tr>\n",
       "                        <th id=\"T_88152_level0_row7\" class=\"row_heading level0 row7\" >7</th>\n",
       "                        <td id=\"T_88152_row7_col0\" class=\"data row7 col0\" >you</td>\n",
       "                        <td id=\"T_88152_row7_col1\" class=\"data row7 col1\" >2375</td>\n",
       "            </tr>\n",
       "            <tr>\n",
       "                        <th id=\"T_88152_level0_row8\" class=\"row_heading level0 row8\" >8</th>\n",
       "                        <td id=\"T_88152_row8_col0\" class=\"data row8 col0\" >is</td>\n",
       "                        <td id=\"T_88152_row8_col1\" class=\"data row8 col1\" >2310</td>\n",
       "            </tr>\n",
       "            <tr>\n",
       "                        <th id=\"T_88152_level0_row9\" class=\"row_heading level0 row9\" >9</th>\n",
       "                        <td id=\"T_88152_row9_col0\" class=\"data row9 col0\" >for</td>\n",
       "                        <td id=\"T_88152_row9_col1\" class=\"data row9 col1\" >2163</td>\n",
       "            </tr>\n",
       "            <tr>\n",
       "                        <th id=\"T_88152_level0_row10\" class=\"row_heading level0 row10\" >10</th>\n",
       "                        <td id=\"T_88152_row10_col0\" class=\"data row10 col0\" >in</td>\n",
       "                        <td id=\"T_88152_row10_col1\" class=\"data row10 col1\" >2053</td>\n",
       "            </tr>\n",
       "            <tr>\n",
       "                        <th id=\"T_88152_level0_row11\" class=\"row_heading level0 row11\" >11</th>\n",
       "                        <td id=\"T_88152_row11_col0\" class=\"data row11 col0\" >of</td>\n",
       "                        <td id=\"T_88152_row11_col1\" class=\"data row11 col1\" >1865</td>\n",
       "            </tr>\n",
       "            <tr>\n",
       "                        <th id=\"T_88152_level0_row12\" class=\"row_heading level0 row12\" >12</th>\n",
       "                        <td id=\"T_88152_row12_col0\" class=\"data row12 col0\" >it</td>\n",
       "                        <td id=\"T_88152_row12_col1\" class=\"data row12 col1\" >1847</td>\n",
       "            </tr>\n",
       "            <tr>\n",
       "                        <th id=\"T_88152_level0_row13\" class=\"row_heading level0 row13\" >13</th>\n",
       "                        <td id=\"T_88152_row13_col0\" class=\"data row13 col0\" >so</td>\n",
       "                        <td id=\"T_88152_row13_col1\" class=\"data row13 col1\" >1483</td>\n",
       "            </tr>\n",
       "            <tr>\n",
       "                        <th id=\"T_88152_level0_row14\" class=\"row_heading level0 row14\" >14</th>\n",
       "                        <td id=\"T_88152_row14_col0\" class=\"data row14 col0\" >on</td>\n",
       "                        <td id=\"T_88152_row14_col1\" class=\"data row14 col1\" >1473</td>\n",
       "            </tr>\n",
       "            <tr>\n",
       "                        <th id=\"T_88152_level0_row15\" class=\"row_heading level0 row15\" >15</th>\n",
       "                        <td id=\"T_88152_row15_col0\" class=\"data row15 col0\" >have</td>\n",
       "                        <td id=\"T_88152_row15_col1\" class=\"data row15 col1\" >1438</td>\n",
       "            </tr>\n",
       "            <tr>\n",
       "                        <th id=\"T_88152_level0_row16\" class=\"row_heading level0 row16\" >16</th>\n",
       "                        <td id=\"T_88152_row16_col0\" class=\"data row16 col0\" >that</td>\n",
       "                        <td id=\"T_88152_row16_col1\" class=\"data row16 col1\" >1367</td>\n",
       "            </tr>\n",
       "            <tr>\n",
       "                        <th id=\"T_88152_level0_row17\" class=\"row_heading level0 row17\" >17</th>\n",
       "                        <td id=\"T_88152_row17_col0\" class=\"data row17 col0\" >me</td>\n",
       "                        <td id=\"T_88152_row17_col1\" class=\"data row17 col1\" >1307</td>\n",
       "            </tr>\n",
       "            <tr>\n",
       "                        <th id=\"T_88152_level0_row18\" class=\"row_heading level0 row18\" >18</th>\n",
       "                        <td id=\"T_88152_row18_col0\" class=\"data row18 col0\" >with</td>\n",
       "                        <td id=\"T_88152_row18_col1\" class=\"data row18 col1\" >1210</td>\n",
       "            </tr>\n",
       "            <tr>\n",
       "                        <th id=\"T_88152_level0_row19\" class=\"row_heading level0 row19\" >19</th>\n",
       "                        <td id=\"T_88152_row19_col0\" class=\"data row19 col0\" >be</td>\n",
       "                        <td id=\"T_88152_row19_col1\" class=\"data row19 col1\" >1190</td>\n",
       "            </tr>\n",
       "    </tbody></table>"
      ],
      "text/plain": [
       "<pandas.io.formats.style.Styler at 0x1a2ed313c40>"
      ]
     },
     "execution_count": 53,
     "metadata": {},
     "output_type": "execute_result"
    }
   ],
   "source": [
    "text_df['temp_list'] = text_df[\"text\"].apply(lambda x:str(x).split())\n",
    "top = Counter([item for sublist in text_df['temp_list'] for item in sublist])\n",
    "temp = pd.DataFrame(top.most_common(20))\n",
    "temp.columns = ['Common_words','count']\n",
    "temp.style.background_gradient(cmap='Blues')"
   ]
  },
  {
   "cell_type": "code",
   "execution_count": 21,
   "id": "6a9c3d6f",
   "metadata": {},
   "outputs": [
    {
     "data": {
      "text/plain": [
       "<AxesSubplot:xlabel='sentiment', ylabel='count'>"
      ]
     },
     "execution_count": 21,
     "metadata": {},
     "output_type": "execute_result"
    },
    {
     "data": {
      "image/png": "[encoded data removed]",
      "text/plain": [
       "<Figure size 864x432 with 1 Axes>"
      ]
     },
     "metadata": {
      "needs_background": "light"
     },
     "output_type": "display_data"
    }
   ],
   "source": [
    "plt.figure(figsize=(12,6))\n",
    "sns.countplot(x='sentiment',data=text_df)"
   ]
  },
  {
   "cell_type": "code",
   "execution_count": 31,
   "id": "8977e388",
   "metadata": {},
   "outputs": [
    {
     "data": {
      "application/vnd.plotly.v1+json": {
       "config": {
        "plotlyServerURL": "https://plotly.com"
       },
       "data": [
        {
         "text": [
          "positive",
          "negative"
         ],
         "title": {
          "position": "top center",
          "text": "Sentiment Distribution"
         },
         "type": "funnelarea",
         "values": [
          8582,
          7781
         ]
        }
       ],
       "layout": {
        "template": {
         "data": {
          "bar": [
           {
            "error_x": {
             "color": "#2a3f5f"
            },
            "error_y": {
             "color": "#2a3f5f"
            },
            "marker": {
             "line": {
              "color": "#E5ECF6",
              "width": 0.5
             },
             "pattern": {
              "fillmode": "overlay",
              "size": 10,
              "solidity": 0.2
             }
            },
            "type": "bar"
           }
          ],
          "barpolar": [
           {
            "marker": {
             "line": {
              "color": "#E5ECF6",
              "width": 0.5
             },
             "pattern": {
              "fillmode": "overlay",
              "size": 10,
              "solidity": 0.2
             }
            },
            "type": "barpolar"
           }
          ],
          "carpet": [
           {
            "aaxis": {
             "endlinecolor": "#2a3f5f",
             "gridcolor": "white",
             "linecolor": "white",
             "minorgridcolor": "white",
             "startlinecolor": "#2a3f5f"
            },
            "baxis": {
             "endlinecolor": "#2a3f5f",
             "gridcolor": "white",
             "linecolor": "white",
             "minorgridcolor": "white",
             "startlinecolor": "#2a3f5f"
            },
            "type": "carpet"
           }
          ],
          "choropleth": [
           {
            "colorbar": {
             "outlinewidth": 0,
             "ticks": ""
            },
            "type": "choropleth"
           }
          ],
          "contour": [
           {
            "colorbar": {
             "outlinewidth": 0,
             "ticks": ""
            },
            "colorscale": [
             [
              0,
              "#0d0887"
             ],
             [
              0.1111111111111111,
              "#46039f"
             ],
             [
              0.2222222222222222,
              "#7201a8"
             ],
             [
              0.3333333333333333,
              "#9c179e"
             ],
             [
              0.4444444444444444,
              "#bd3786"
             ],
             [
              0.5555555555555556,
              "#d8576b"
             ],
             [
              0.6666666666666666,
              "#ed7953"
             ],
             [
              0.7777777777777778,
              "#fb9f3a"
             ],
             [
              0.8888888888888888,
              "#fdca26"
             ],
             [
              1,
              "#f0f921"
             ]
            ],
            "type": "contour"
           }
          ],
          "contourcarpet": [
           {
            "colorbar": {
             "outlinewidth": 0,
             "ticks": ""
            },
            "type": "contourcarpet"
           }
          ],
          "heatmap": [
           {
            "colorbar": {
             "outlinewidth": 0,
             "ticks": ""
            },
            "colorscale": [
             [
              0,
              "#0d0887"
             ],
             [
              0.1111111111111111,
              "#46039f"
             ],
             [
              0.2222222222222222,
              "#7201a8"
             ],
             [
              0.3333333333333333,
              "#9c179e"
             ],
             [
              0.4444444444444444,
              "#bd3786"
             ],
             [
              0.5555555555555556,
              "#d8576b"
             ],
             [
              0.6666666666666666,
              "#ed7953"
             ],
             [
              0.7777777777777778,
              "#fb9f3a"
             ],
             [
              0.8888888888888888,
              "#fdca26"
             ],
             [
              1,
              "#f0f921"
             ]
            ],
            "type": "heatmap"
           }
          ],
          "heatmapgl": [
           {
            "colorbar": {
             "outlinewidth": 0,
             "ticks": ""
            },
            "colorscale": [
             [
              0,
              "#0d0887"
             ],
             [
              0.1111111111111111,
              "#46039f"
             ],
             [
              0.2222222222222222,
              "#7201a8"
             ],
             [
              0.3333333333333333,
              "#9c179e"
             ],
             [
              0.4444444444444444,
              "#bd3786"
             ],
             [
              0.5555555555555556,
              "#d8576b"
             ],
             [
              0.6666666666666666,
              "#ed7953"
             ],
             [
              0.7777777777777778,
              "#fb9f3a"
             ],
             [
              0.8888888888888888,
              "#fdca26"
             ],
             [
              1,
              "#f0f921"
             ]
            ],
            "type": "heatmapgl"
           }
          ],
          "histogram": [
           {
            "marker": {
             "pattern": {
              "fillmode": "overlay",
              "size": 10,
              "solidity": 0.2
             }
            },
            "type": "histogram"
           }
          ],
          "histogram2d": [
           {
            "colorbar": {
             "outlinewidth": 0,
             "ticks": ""
            },
            "colorscale": [
             [
              0,
              "#0d0887"
             ],
             [
              0.1111111111111111,
              "#46039f"
             ],
             [
              0.2222222222222222,
              "#7201a8"
             ],
             [
              0.3333333333333333,
              "#9c179e"
             ],
             [
              0.4444444444444444,
              "#bd3786"
             ],
             [
              0.5555555555555556,
              "#d8576b"
             ],
             [
              0.6666666666666666,
              "#ed7953"
             ],
             [
              0.7777777777777778,
              "#fb9f3a"
             ],
             [
              0.8888888888888888,
              "#fdca26"
             ],
             [
              1,
              "#f0f921"
             ]
            ],
            "type": "histogram2d"
           }
          ],
          "histogram2dcontour": [
           {
            "colorbar": {
             "outlinewidth": 0,
             "ticks": ""
            },
            "colorscale": [
             [
              0,
              "#0d0887"
             ],
             [
              0.1111111111111111,
              "#46039f"
             ],
             [
              0.2222222222222222,
              "#7201a8"
             ],
             [
              0.3333333333333333,
              "#9c179e"
             ],
             [
              0.4444444444444444,
              "#bd3786"
             ],
             [
              0.5555555555555556,
              "#d8576b"
             ],
             [
              0.6666666666666666,
              "#ed7953"
             ],
             [
              0.7777777777777778,
              "#fb9f3a"
             ],
             [
              0.8888888888888888,
              "#fdca26"
             ],
             [
              1,
              "#f0f921"
             ]
            ],
            "type": "histogram2dcontour"
           }
          ],
          "mesh3d": [
           {
            "colorbar": {
             "outlinewidth": 0,
             "ticks": ""
            },
            "type": "mesh3d"
           }
          ],
          "parcoords": [
           {
            "line": {
             "colorbar": {
              "outlinewidth": 0,
              "ticks": ""
             }
            },
            "type": "parcoords"
           }
          ],
          "pie": [
           {
            "automargin": true,
            "type": "pie"
           }
          ],
          "scatter": [
           {
            "marker": {
             "colorbar": {
              "outlinewidth": 0,
              "ticks": ""
             }
            },
            "type": "scatter"
           }
          ],
          "scatter3d": [
           {
            "line": {
             "colorbar": {
              "outlinewidth": 0,
              "ticks": ""
             }
            },
            "marker": {
             "colorbar": {
              "outlinewidth": 0,
              "ticks": ""
             }
            },
            "type": "scatter3d"
           }
          ],
          "scattercarpet": [
           {
            "marker": {
             "colorbar": {
              "outlinewidth": 0,
              "ticks": ""
             }
            },
            "type": "scattercarpet"
           }
          ],
          "scattergeo": [
           {
            "marker": {
             "colorbar": {
              "outlinewidth": 0,
              "ticks": ""
             }
            },
            "type": "scattergeo"
           }
          ],
          "scattergl": [
           {
            "marker": {
             "colorbar": {
              "outlinewidth": 0,
              "ticks": ""
             }
            },
            "type": "scattergl"
           }
          ],
          "scattermapbox": [
           {
            "marker": {
             "colorbar": {
              "outlinewidth": 0,
              "ticks": ""
             }
            },
            "type": "scattermapbox"
           }
          ],
          "scatterpolar": [
           {
            "marker": {
             "colorbar": {
              "outlinewidth": 0,
              "ticks": ""
             }
            },
            "type": "scatterpolar"
           }
          ],
          "scatterpolargl": [
           {
            "marker": {
             "colorbar": {
              "outlinewidth": 0,
              "ticks": ""
             }
            },
            "type": "scatterpolargl"
           }
          ],
          "scatterternary": [
           {
            "marker": {
             "colorbar": {
              "outlinewidth": 0,
              "ticks": ""
             }
            },
            "type": "scatterternary"
           }
          ],
          "surface": [
           {
            "colorbar": {
             "outlinewidth": 0,
             "ticks": ""
            },
            "colorscale": [
             [
              0,
              "#0d0887"
             ],
             [
              0.1111111111111111,
              "#46039f"
             ],
             [
              0.2222222222222222,
              "#7201a8"
             ],
             [
              0.3333333333333333,
              "#9c179e"
             ],
             [
              0.4444444444444444,
              "#bd3786"
             ],
             [
              0.5555555555555556,
              "#d8576b"
             ],
             [
              0.6666666666666666,
              "#ed7953"
             ],
             [
              0.7777777777777778,
              "#fb9f3a"
             ],
             [
              0.8888888888888888,
              "#fdca26"
             ],
             [
              1,
              "#f0f921"
             ]
            ],
            "type": "surface"
           }
          ],
          "table": [
           {
            "cells": {
             "fill": {
              "color": "#EBF0F8"
             },
             "line": {
              "color": "white"
             }
            },
            "header": {
             "fill": {
              "color": "#C8D4E3"
             },
             "line": {
              "color": "white"
             }
            },
            "type": "table"
           }
          ]
         },
         "layout": {
          "annotationdefaults": {
           "arrowcolor": "#2a3f5f",
           "arrowhead": 0,
           "arrowwidth": 1
          },
          "autotypenumbers": "strict",
          "coloraxis": {
           "colorbar": {
            "outlinewidth": 0,
            "ticks": ""
           }
          },
          "colorscale": {
           "diverging": [
            [
             0,
             "#8e0152"
            ],
            [
             0.1,
             "#c51b7d"
            ],
            [
             0.2,
             "#de77ae"
            ],
            [
             0.3,
             "#f1b6da"
            ],
            [
             0.4,
             "#fde0ef"
            ],
            [
             0.5,
             "#f7f7f7"
            ],
            [
             0.6,
             "#e6f5d0"
            ],
            [
             0.7,
             "#b8e186"
            ],
            [
             0.8,
             "#7fbc41"
            ],
            [
             0.9,
             "#4d9221"
            ],
            [
             1,
             "#276419"
            ]
           ],
           "sequential": [
            [
             0,
             "#0d0887"
            ],
            [
             0.1111111111111111,
             "#46039f"
            ],
            [
             0.2222222222222222,
             "#7201a8"
            ],
            [
             0.3333333333333333,
             "#9c179e"
            ],
            [
             0.4444444444444444,
             "#bd3786"
            ],
            [
             0.5555555555555556,
             "#d8576b"
            ],
            [
             0.6666666666666666,
             "#ed7953"
            ],
            [
             0.7777777777777778,
             "#fb9f3a"
            ],
            [
             0.8888888888888888,
             "#fdca26"
            ],
            [
             1,
             "#f0f921"
            ]
           ],
           "sequentialminus": [
            [
             0,
             "#0d0887"
            ],
            [
             0.1111111111111111,
             "#46039f"
            ],
            [
             0.2222222222222222,
             "#7201a8"
            ],
            [
             0.3333333333333333,
             "#9c179e"
            ],
            [
             0.4444444444444444,
             "#bd3786"
            ],
            [
             0.5555555555555556,
             "#d8576b"
            ],
            [
             0.6666666666666666,
             "#ed7953"
            ],
            [
             0.7777777777777778,
             "#fb9f3a"
            ],
            [
             0.8888888888888888,
             "#fdca26"
            ],
            [
             1,
             "#f0f921"
            ]
           ]
          },
          "colorway": [
           "#636efa",
           "#EF553B",
           "#00cc96",
           "#ab63fa",
           "#FFA15A",
           "#19d3f3",
           "#FF6692",
           "#B6E880",
           "#FF97FF",
           "#FECB52"
          ],
          "font": {
           "color": "#2a3f5f"
          },
          "geo": {
           "bgcolor": "white",
           "lakecolor": "white",
           "landcolor": "#E5ECF6",
           "showlakes": true,
           "showland": true,
           "subunitcolor": "white"
          },
          "hoverlabel": {
           "align": "left"
          },
          "hovermode": "closest",
          "mapbox": {
           "style": "light"
          },
          "paper_bgcolor": "white",
          "plot_bgcolor": "#E5ECF6",
          "polar": {
           "angularaxis": {
            "gridcolor": "white",
            "linecolor": "white",
            "ticks": ""
           },
           "bgcolor": "#E5ECF6",
           "radialaxis": {
            "gridcolor": "white",
            "linecolor": "white",
            "ticks": ""
           }
          },
          "scene": {
           "xaxis": {
            "backgroundcolor": "#E5ECF6",
            "gridcolor": "white",
            "gridwidth": 2,
            "linecolor": "white",
            "showbackground": true,
            "ticks": "",
            "zerolinecolor": "white"
           },
           "yaxis": {
            "backgroundcolor": "#E5ECF6",
            "gridcolor": "white",
            "gridwidth": 2,
            "linecolor": "white",
            "showbackground": true,
            "ticks": "",
            "zerolinecolor": "white"
           },
           "zaxis": {
            "backgroundcolor": "#E5ECF6",
            "gridcolor": "white",
            "gridwidth": 2,
            "linecolor": "white",
            "showbackground": true,
            "ticks": "",
            "zerolinecolor": "white"
           }
          },
          "shapedefaults": {
           "line": {
            "color": "#2a3f5f"
           }
          },
          "ternary": {
           "aaxis": {
            "gridcolor": "white",
            "linecolor": "white",
            "ticks": ""
           },
           "baxis": {
            "gridcolor": "white",
            "linecolor": "white",
            "ticks": ""
           },
           "bgcolor": "#E5ECF6",
           "caxis": {
            "gridcolor": "white",
            "linecolor": "white",
            "ticks": ""
           }
          },
          "title": {
           "x": 0.05
          },
          "xaxis": {
           "automargin": true,
           "gridcolor": "white",
           "linecolor": "white",
           "ticks": "",
           "title": {
            "standoff": 15
           },
           "zerolinecolor": "white",
           "zerolinewidth": 2
          },
          "yaxis": {
           "automargin": true,
           "gridcolor": "white",
           "linecolor": "white",
           "ticks": "",
           "title": {
            "standoff": 15
           },
           "zerolinecolor": "white",
           "zerolinewidth": 2
          }
         }
        }
       }
      },
      "text/html": [
       "<div>                            <div id=\"22b47425-04f3-4614-9dc2-cd7f8e30948a\" class=\"plotly-graph-div\" style=\"height:525px; width:100%;\"></div>            <script type=\"text/javascript\">                require([\"plotly\"], function(Plotly) {                    window.PLOTLYENV=window.PLOTLYENV || {};                                    if (document.getElementById(\"22b47425-04f3-4614-9dc2-cd7f8e30948a\")) {                    Plotly.newPlot(                        \"22b47425-04f3-4614-9dc2-cd7f8e30948a\",                        [{\"text\":[\"positive\",\"negative\"],\"title\":{\"position\":\"top center\",\"text\":\"Sentiment Distribution\"},\"type\":\"funnelarea\",\"values\":[8582,7781]}],                        {\"template\":{\"data\":{\"bar\":[{\"error_x\":{\"color\":\"#2a3f5f\"},\"error_y\":{\"color\":\"#2a3f5f\"},\"marker\":{\"line\":{\"color\":\"#E5ECF6\",\"width\":0.5},\"pattern\":{\"fillmode\":\"overlay\",\"size\":10,\"solidity\":0.2}},\"type\":\"bar\"}],\"barpolar\":[{\"marker\":{\"line\":{\"color\":\"#E5ECF6\",\"width\":0.5},\"pattern\":{\"fillmode\":\"overlay\",\"size\":10,\"solidity\":0.2}},\"type\":\"barpolar\"}],\"carpet\":[{\"aaxis\":{\"endlinecolor\":\"#2a3f5f\",\"gridcolor\":\"white\",\"linecolor\":\"white\",\"minorgridcolor\":\"white\",\"startlinecolor\":\"#2a3f5f\"},\"baxis\":{\"endlinecolor\":\"#2a3f5f\",\"gridcolor\":\"white\",\"linecolor\":\"white\",\"minorgridcolor\":\"white\",\"startlinecolor\":\"#2a3f5f\"},\"type\":\"carpet\"}],\"choropleth\":[{\"colorbar\":{\"outlinewidth\":0,\"ticks\":\"\"},\"type\":\"choropleth\"}],\"contour\":[{\"colorbar\":{\"outlinewidth\":0,\"ticks\":\"\"},\"colorscale\":[[0.0,\"#0d0887\"],[0.1111111111111111,\"#46039f\"],[0.2222222222222222,\"#7201a8\"],[0.3333333333333333,\"#9c179e\"],[0.4444444444444444,\"#bd3786\"],[0.5555555555555556,\"#d8576b\"],[0.6666666666666666,\"#ed7953\"],[0.7777777777777778,\"#fb9f3a\"],[0.8888888888888888,\"#fdca26\"],[1.0,\"#f0f921\"]],\"type\":\"contour\"}],\"contourcarpet\":[{\"colorbar\":{\"outlinewidth\":0,\"ticks\":\"\"},\"type\":\"contourcarpet\"}],\"heatmap\":[{\"colorbar\":{\"outlinewidth\":0,\"ticks\":\"\"},\"colorscale\":[[0.0,\"#0d0887\"],[0.1111111111111111,\"#46039f\"],[0.2222222222222222,\"#7201a8\"],[0.3333333333333333,\"#9c179e\"],[0.4444444444444444,\"#bd3786\"],[0.5555555555555556,\"#d8576b\"],[0.6666666666666666,\"#ed7953\"],[0.7777777777777778,\"#fb9f3a\"],[0.8888888888888888,\"#fdca26\"],[1.0,\"#f0f921\"]],\"type\":\"heatmap\"}],\"heatmapgl\":[{\"colorbar\":{\"outlinewidth\":0,\"ticks\":\"\"},\"colorscale\":[[0.0,\"#0d0887\"],[0.1111111111111111,\"#46039f\"],[0.2222222222222222,\"#7201a8\"],[0.3333333333333333,\"#9c179e\"],[0.4444444444444444,\"#bd3786\"],[0.5555555555555556,\"#d8576b\"],[0.6666666666666666,\"#ed7953\"],[0.7777777777777778,\"#fb9f3a\"],[0.8888888888888888,\"#fdca26\"],[1.0,\"#f0f921\"]],\"type\":\"heatmapgl\"}],\"histogram\":[{\"marker\":{\"pattern\":{\"fillmode\":\"overlay\",\"size\":10,\"solidity\":0.2}},\"type\":\"histogram\"}],\"histogram2d\":[{\"colorbar\":{\"outlinewidth\":0,\"ticks\":\"\"},\"colorscale\":[[0.0,\"#0d0887\"],[0.1111111111111111,\"#46039f\"],[0.2222222222222222,\"#7201a8\"],[0.3333333333333333,\"#9c179e\"],[0.4444444444444444,\"#bd3786\"],[0.5555555555555556,\"#d8576b\"],[0.6666666666666666,\"#ed7953\"],[0.7777777777777778,\"#fb9f3a\"],[0.8888888888888888,\"#fdca26\"],[1.0,\"#f0f921\"]],\"type\":\"histogram2d\"}],\"histogram2dcontour\":[{\"colorbar\":{\"outlinewidth\":0,\"ticks\":\"\"},\"colorscale\":[[0.0,\"#0d0887\"],[0.1111111111111111,\"#46039f\"],[0.2222222222222222,\"#7201a8\"],[0.3333333333333333,\"#9c179e\"],[0.4444444444444444,\"#bd3786\"],[0.5555555555555556,\"#d8576b\"],[0.6666666666666666,\"#ed7953\"],[0.7777777777777778,\"#fb9f3a\"],[0.8888888888888888,\"#fdca26\"],[1.0,\"#f0f921\"]],\"type\":\"histogram2dcontour\"}],\"mesh3d\":[{\"colorbar\":{\"outlinewidth\":0,\"ticks\":\"\"},\"type\":\"mesh3d\"}],\"parcoords\":[{\"line\":{\"colorbar\":{\"outlinewidth\":0,\"ticks\":\"\"}},\"type\":\"parcoords\"}],\"pie\":[{\"automargin\":true,\"type\":\"pie\"}],\"scatter\":[{\"marker\":{\"colorbar\":{\"outlinewidth\":0,\"ticks\":\"\"}},\"type\":\"scatter\"}],\"scatter3d\":[{\"line\":{\"colorbar\":{\"outlinewidth\":0,\"ticks\":\"\"}},\"marker\":{\"colorbar\":{\"outlinewidth\":0,\"ticks\":\"\"}},\"type\":\"scatter3d\"}],\"scattercarpet\":[{\"marker\":{\"colorbar\":{\"outlinewidth\":0,\"ticks\":\"\"}},\"type\":\"scattercarpet\"}],\"scattergeo\":[{\"marker\":{\"colorbar\":{\"outlinewidth\":0,\"ticks\":\"\"}},\"type\":\"scattergeo\"}],\"scattergl\":[{\"marker\":{\"colorbar\":{\"outlinewidth\":0,\"ticks\":\"\"}},\"type\":\"scattergl\"}],\"scattermapbox\":[{\"marker\":{\"colorbar\":{\"outlinewidth\":0,\"ticks\":\"\"}},\"type\":\"scattermapbox\"}],\"scatterpolar\":[{\"marker\":{\"colorbar\":{\"outlinewidth\":0,\"ticks\":\"\"}},\"type\":\"scatterpolar\"}],\"scatterpolargl\":[{\"marker\":{\"colorbar\":{\"outlinewidth\":0,\"ticks\":\"\"}},\"type\":\"scatterpolargl\"}],\"scatterternary\":[{\"marker\":{\"colorbar\":{\"outlinewidth\":0,\"ticks\":\"\"}},\"type\":\"scatterternary\"}],\"surface\":[{\"colorbar\":{\"outlinewidth\":0,\"ticks\":\"\"},\"colorscale\":[[0.0,\"#0d0887\"],[0.1111111111111111,\"#46039f\"],[0.2222222222222222,\"#7201a8\"],[0.3333333333333333,\"#9c179e\"],[0.4444444444444444,\"#bd3786\"],[0.5555555555555556,\"#d8576b\"],[0.6666666666666666,\"#ed7953\"],[0.7777777777777778,\"#fb9f3a\"],[0.8888888888888888,\"#fdca26\"],[1.0,\"#f0f921\"]],\"type\":\"surface\"}],\"table\":[{\"cells\":{\"fill\":{\"color\":\"#EBF0F8\"},\"line\":{\"color\":\"white\"}},\"header\":{\"fill\":{\"color\":\"#C8D4E3\"},\"line\":{\"color\":\"white\"}},\"type\":\"table\"}]},\"layout\":{\"annotationdefaults\":{\"arrowcolor\":\"#2a3f5f\",\"arrowhead\":0,\"arrowwidth\":1},\"autotypenumbers\":\"strict\",\"coloraxis\":{\"colorbar\":{\"outlinewidth\":0,\"ticks\":\"\"}},\"colorscale\":{\"diverging\":[[0,\"#8e0152\"],[0.1,\"#c51b7d\"],[0.2,\"#de77ae\"],[0.3,\"#f1b6da\"],[0.4,\"#fde0ef\"],[0.5,\"#f7f7f7\"],[0.6,\"#e6f5d0\"],[0.7,\"#b8e186\"],[0.8,\"#7fbc41\"],[0.9,\"#4d9221\"],[1,\"#276419\"]],\"sequential\":[[0.0,\"#0d0887\"],[0.1111111111111111,\"#46039f\"],[0.2222222222222222,\"#7201a8\"],[0.3333333333333333,\"#9c179e\"],[0.4444444444444444,\"#bd3786\"],[0.5555555555555556,\"#d8576b\"],[0.6666666666666666,\"#ed7953\"],[0.7777777777777778,\"#fb9f3a\"],[0.8888888888888888,\"#fdca26\"],[1.0,\"#f0f921\"]],\"sequentialminus\":[[0.0,\"#0d0887\"],[0.1111111111111111,\"#46039f\"],[0.2222222222222222,\"#7201a8\"],[0.3333333333333333,\"#9c179e\"],[0.4444444444444444,\"#bd3786\"],[0.5555555555555556,\"#d8576b\"],[0.6666666666666666,\"#ed7953\"],[0.7777777777777778,\"#fb9f3a\"],[0.8888888888888888,\"#fdca26\"],[1.0,\"#f0f921\"]]},\"colorway\":[\"#636efa\",\"#EF553B\",\"#00cc96\",\"#ab63fa\",\"#FFA15A\",\"#19d3f3\",\"#FF6692\",\"#B6E880\",\"#FF97FF\",\"#FECB52\"],\"font\":{\"color\":\"#2a3f5f\"},\"geo\":{\"bgcolor\":\"white\",\"lakecolor\":\"white\",\"landcolor\":\"#E5ECF6\",\"showlakes\":true,\"showland\":true,\"subunitcolor\":\"white\"},\"hoverlabel\":{\"align\":\"left\"},\"hovermode\":\"closest\",\"mapbox\":{\"style\":\"light\"},\"paper_bgcolor\":\"white\",\"plot_bgcolor\":\"#E5ECF6\",\"polar\":{\"angularaxis\":{\"gridcolor\":\"white\",\"linecolor\":\"white\",\"ticks\":\"\"},\"bgcolor\":\"#E5ECF6\",\"radialaxis\":{\"gridcolor\":\"white\",\"linecolor\":\"white\",\"ticks\":\"\"}},\"scene\":{\"xaxis\":{\"backgroundcolor\":\"#E5ECF6\",\"gridcolor\":\"white\",\"gridwidth\":2,\"linecolor\":\"white\",\"showbackground\":true,\"ticks\":\"\",\"zerolinecolor\":\"white\"},\"yaxis\":{\"backgroundcolor\":\"#E5ECF6\",\"gridcolor\":\"white\",\"gridwidth\":2,\"linecolor\":\"white\",\"showbackground\":true,\"ticks\":\"\",\"zerolinecolor\":\"white\"},\"zaxis\":{\"backgroundcolor\":\"#E5ECF6\",\"gridcolor\":\"white\",\"gridwidth\":2,\"linecolor\":\"white\",\"showbackground\":true,\"ticks\":\"\",\"zerolinecolor\":\"white\"}},\"shapedefaults\":{\"line\":{\"color\":\"#2a3f5f\"}},\"ternary\":{\"aaxis\":{\"gridcolor\":\"white\",\"linecolor\":\"white\",\"ticks\":\"\"},\"baxis\":{\"gridcolor\":\"white\",\"linecolor\":\"white\",\"ticks\":\"\"},\"bgcolor\":\"#E5ECF6\",\"caxis\":{\"gridcolor\":\"white\",\"linecolor\":\"white\",\"ticks\":\"\"}},\"title\":{\"x\":0.05},\"xaxis\":{\"automargin\":true,\"gridcolor\":\"white\",\"linecolor\":\"white\",\"ticks\":\"\",\"title\":{\"standoff\":15},\"zerolinecolor\":\"white\",\"zerolinewidth\":2},\"yaxis\":{\"automargin\":true,\"gridcolor\":\"white\",\"linecolor\":\"white\",\"ticks\":\"\",\"title\":{\"standoff\":15},\"zerolinecolor\":\"white\",\"zerolinewidth\":2}}}},                        {\"responsive\": true}                    ).then(function(){\n",
       "                            \n",
       "var gd = document.getElementById('22b47425-04f3-4614-9dc2-cd7f8e30948a');\n",
       "var x = new MutationObserver(function (mutations, observer) {{\n",
       "        var display = window.getComputedStyle(gd).display;\n",
       "        if (!display || display === 'none') {{\n",
       "            console.log([gd, 'removed!']);\n",
       "            Plotly.purge(gd);\n",
       "            observer.disconnect();\n",
       "        }}\n",
       "}});\n",
       "\n",
       "// Listen for the removal of the full notebook cells\n",
       "var notebookContainer = gd.closest('#notebook-container');\n",
       "if (notebookContainer) {{\n",
       "    x.observe(notebookContainer, {childList: true});\n",
       "}}\n",
       "\n",
       "// Listen for the clearing of the current output cell\n",
       "var outputEl = gd.closest('.output');\n",
       "if (outputEl) {{\n",
       "    x.observe(outputEl, {childList: true});\n",
       "}}\n",
       "\n",
       "                        })                };                });            </script>        </div>"
      ]
     },
     "metadata": {},
     "output_type": "display_data"
    }
   ],
   "source": [
    "fig = go.Figure(go.Funnelarea(\n",
    "    text =dist.sentiment,\n",
    "    values = dist.text,\n",
    "    title = {\"position\": \"top center\", \"text\": \"Sentiment Distribution\"}\n",
    "    ))\n",
    "fig.show()"
   ]
  },
  {
   "cell_type": "code",
   "execution_count": 55,
   "id": "1dafc03b",
   "metadata": {},
   "outputs": [
    {
     "data": {
      "application/vnd.plotly.v1+json": {
       "config": {
        "plotlyServerURL": "https://plotly.com"
       },
       "data": [
        {
         "alignmentgroup": "True",
         "hovertemplate": "Common_words=%{y}<br>count=%{x}<extra></extra>",
         "legendgroup": "to",
         "marker": {
          "color": "#636efa",
          "pattern": {
           "shape": ""
          }
         },
         "name": "to",
         "offsetgroup": "to",
         "orientation": "h",
         "showlegend": true,
         "textposition": "auto",
         "type": "bar",
         "x": [
          5752
         ],
         "xaxis": "x",
         "y": [
          "to"
         ],
         "yaxis": "y"
        },
        {
         "alignmentgroup": "True",
         "hovertemplate": "Common_words=%{y}<br>count=%{x}<extra></extra>",
         "legendgroup": "I",
         "marker": {
          "color": "#EF553B",
          "pattern": {
           "shape": ""
          }
         },
         "name": "I",
         "offsetgroup": "I",
         "orientation": "h",
         "showlegend": true,
         "textposition": "auto",
         "type": "bar",
         "x": [
          5437
         ],
         "xaxis": "x",
         "y": [
          "I"
         ],
         "yaxis": "y"
        },
        {
         "alignmentgroup": "True",
         "hovertemplate": "Common_words=%{y}<br>count=%{x}<extra></extra>",
         "legendgroup": "the",
         "marker": {
          "color": "#00cc96",
          "pattern": {
           "shape": ""
          }
         },
         "name": "the",
         "offsetgroup": "the",
         "orientation": "h",
         "showlegend": true,
         "textposition": "auto",
         "type": "bar",
         "x": [
          5059
         ],
         "xaxis": "x",
         "y": [
          "the"
         ],
         "yaxis": "y"
        },
        {
         "alignmentgroup": "True",
         "hovertemplate": "Common_words=%{y}<br>count=%{x}<extra></extra>",
         "legendgroup": "a",
         "marker": {
          "color": "#ab63fa",
          "pattern": {
           "shape": ""
          }
         },
         "name": "a",
         "offsetgroup": "a",
         "orientation": "h",
         "showlegend": true,
         "textposition": "auto",
         "type": "bar",
         "x": [
          4063
         ],
         "xaxis": "x",
         "y": [
          "a"
         ],
         "yaxis": "y"
        },
        {
         "alignmentgroup": "True",
         "hovertemplate": "Common_words=%{y}<br>count=%{x}<extra></extra>",
         "legendgroup": "my",
         "marker": {
          "color": "#FFA15A",
          "pattern": {
           "shape": ""
          }
         },
         "name": "my",
         "offsetgroup": "my",
         "orientation": "h",
         "showlegend": true,
         "textposition": "auto",
         "type": "bar",
         "x": [
          3132
         ],
         "xaxis": "x",
         "y": [
          "my"
         ],
         "yaxis": "y"
        },
        {
         "alignmentgroup": "True",
         "hovertemplate": "Common_words=%{y}<br>count=%{x}<extra></extra>",
         "legendgroup": "and",
         "marker": {
          "color": "#19d3f3",
          "pattern": {
           "shape": ""
          }
         },
         "name": "and",
         "offsetgroup": "and",
         "orientation": "h",
         "showlegend": true,
         "textposition": "auto",
         "type": "bar",
         "x": [
          2964
         ],
         "xaxis": "x",
         "y": [
          "and"
         ],
         "yaxis": "y"
        },
        {
         "alignmentgroup": "True",
         "hovertemplate": "Common_words=%{y}<br>count=%{x}<extra></extra>",
         "legendgroup": "i",
         "marker": {
          "color": "#FF6692",
          "pattern": {
           "shape": ""
          }
         },
         "name": "i",
         "offsetgroup": "i",
         "orientation": "h",
         "showlegend": true,
         "textposition": "auto",
         "type": "bar",
         "x": [
          2756
         ],
         "xaxis": "x",
         "y": [
          "i"
         ],
         "yaxis": "y"
        },
        {
         "alignmentgroup": "True",
         "hovertemplate": "Common_words=%{y}<br>count=%{x}<extra></extra>",
         "legendgroup": "you",
         "marker": {
          "color": "#B6E880",
          "pattern": {
           "shape": ""
          }
         },
         "name": "you",
         "offsetgroup": "you",
         "orientation": "h",
         "showlegend": true,
         "textposition": "auto",
         "type": "bar",
         "x": [
          2375
         ],
         "xaxis": "x",
         "y": [
          "you"
         ],
         "yaxis": "y"
        },
        {
         "alignmentgroup": "True",
         "hovertemplate": "Common_words=%{y}<br>count=%{x}<extra></extra>",
         "legendgroup": "is",
         "marker": {
          "color": "#FF97FF",
          "pattern": {
           "shape": ""
          }
         },
         "name": "is",
         "offsetgroup": "is",
         "orientation": "h",
         "showlegend": true,
         "textposition": "auto",
         "type": "bar",
         "x": [
          2310
         ],
         "xaxis": "x",
         "y": [
          "is"
         ],
         "yaxis": "y"
        },
        {
         "alignmentgroup": "True",
         "hovertemplate": "Common_words=%{y}<br>count=%{x}<extra></extra>",
         "legendgroup": "for",
         "marker": {
          "color": "#FECB52",
          "pattern": {
           "shape": ""
          }
         },
         "name": "for",
         "offsetgroup": "for",
         "orientation": "h",
         "showlegend": true,
         "textposition": "auto",
         "type": "bar",
         "x": [
          2163
         ],
         "xaxis": "x",
         "y": [
          "for"
         ],
         "yaxis": "y"
        },
        {
         "alignmentgroup": "True",
         "hovertemplate": "Common_words=%{y}<br>count=%{x}<extra></extra>",
         "legendgroup": "in",
         "marker": {
          "color": "#636efa",
          "pattern": {
           "shape": ""
          }
         },
         "name": "in",
         "offsetgroup": "in",
         "orientation": "h",
         "showlegend": true,
         "textposition": "auto",
         "type": "bar",
         "x": [
          2053
         ],
         "xaxis": "x",
         "y": [
          "in"
         ],
         "yaxis": "y"
        },
        {
         "alignmentgroup": "True",
         "hovertemplate": "Common_words=%{y}<br>count=%{x}<extra></extra>",
         "legendgroup": "of",
         "marker": {
          "color": "#EF553B",
          "pattern": {
           "shape": ""
          }
         },
         "name": "of",
         "offsetgroup": "of",
         "orientation": "h",
         "showlegend": true,
         "textposition": "auto",
         "type": "bar",
         "x": [
          1865
         ],
         "xaxis": "x",
         "y": [
          "of"
         ],
         "yaxis": "y"
        },
        {
         "alignmentgroup": "True",
         "hovertemplate": "Common_words=%{y}<br>count=%{x}<extra></extra>",
         "legendgroup": "it",
         "marker": {
          "color": "#00cc96",
          "pattern": {
           "shape": ""
          }
         },
         "name": "it",
         "offsetgroup": "it",
         "orientation": "h",
         "showlegend": true,
         "textposition": "auto",
         "type": "bar",
         "x": [
          1847
         ],
         "xaxis": "x",
         "y": [
          "it"
         ],
         "yaxis": "y"
        },
        {
         "alignmentgroup": "True",
         "hovertemplate": "Common_words=%{y}<br>count=%{x}<extra></extra>",
         "legendgroup": "so",
         "marker": {
          "color": "#ab63fa",
          "pattern": {
           "shape": ""
          }
         },
         "name": "so",
         "offsetgroup": "so",
         "orientation": "h",
         "showlegend": true,
         "textposition": "auto",
         "type": "bar",
         "x": [
          1483
         ],
         "xaxis": "x",
         "y": [
          "so"
         ],
         "yaxis": "y"
        },
        {
         "alignmentgroup": "True",
         "hovertemplate": "Common_words=%{y}<br>count=%{x}<extra></extra>",
         "legendgroup": "on",
         "marker": {
          "color": "#FFA15A",
          "pattern": {
           "shape": ""
          }
         },
         "name": "on",
         "offsetgroup": "on",
         "orientation": "h",
         "showlegend": true,
         "textposition": "auto",
         "type": "bar",
         "x": [
          1473
         ],
         "xaxis": "x",
         "y": [
          "on"
         ],
         "yaxis": "y"
        },
        {
         "alignmentgroup": "True",
         "hovertemplate": "Common_words=%{y}<br>count=%{x}<extra></extra>",
         "legendgroup": "have",
         "marker": {
          "color": "#19d3f3",
          "pattern": {
           "shape": ""
          }
         },
         "name": "have",
         "offsetgroup": "have",
         "orientation": "h",
         "showlegend": true,
         "textposition": "auto",
         "type": "bar",
         "x": [
          1438
         ],
         "xaxis": "x",
         "y": [
          "have"
         ],
         "yaxis": "y"
        },
        {
         "alignmentgroup": "True",
         "hovertemplate": "Common_words=%{y}<br>count=%{x}<extra></extra>",
         "legendgroup": "that",
         "marker": {
          "color": "#FF6692",
          "pattern": {
           "shape": ""
          }
         },
         "name": "that",
         "offsetgroup": "that",
         "orientation": "h",
         "showlegend": true,
         "textposition": "auto",
         "type": "bar",
         "x": [
          1367
         ],
         "xaxis": "x",
         "y": [
          "that"
         ],
         "yaxis": "y"
        },
        {
         "alignmentgroup": "True",
         "hovertemplate": "Common_words=%{y}<br>count=%{x}<extra></extra>",
         "legendgroup": "me",
         "marker": {
          "color": "#B6E880",
          "pattern": {
           "shape": ""
          }
         },
         "name": "me",
         "offsetgroup": "me",
         "orientation": "h",
         "showlegend": true,
         "textposition": "auto",
         "type": "bar",
         "x": [
          1307
         ],
         "xaxis": "x",
         "y": [
          "me"
         ],
         "yaxis": "y"
        },
        {
         "alignmentgroup": "True",
         "hovertemplate": "Common_words=%{y}<br>count=%{x}<extra></extra>",
         "legendgroup": "with",
         "marker": {
          "color": "#FF97FF",
          "pattern": {
           "shape": ""
          }
         },
         "name": "with",
         "offsetgroup": "with",
         "orientation": "h",
         "showlegend": true,
         "textposition": "auto",
         "type": "bar",
         "x": [
          1210
         ],
         "xaxis": "x",
         "y": [
          "with"
         ],
         "yaxis": "y"
        },
        {
         "alignmentgroup": "True",
         "hovertemplate": "Common_words=%{y}<br>count=%{x}<extra></extra>",
         "legendgroup": "be",
         "marker": {
          "color": "#FECB52",
          "pattern": {
           "shape": ""
          }
         },
         "name": "be",
         "offsetgroup": "be",
         "orientation": "h",
         "showlegend": true,
         "textposition": "auto",
         "type": "bar",
         "x": [
          1190
         ],
         "xaxis": "x",
         "y": [
          "be"
         ],
         "yaxis": "y"
        }
       ],
       "layout": {
        "barmode": "relative",
        "height": 700,
        "legend": {
         "title": {
          "text": "Common_words"
         },
         "tracegroupgap": 0
        },
        "template": {
         "data": {
          "bar": [
           {
            "error_x": {
             "color": "#2a3f5f"
            },
            "error_y": {
             "color": "#2a3f5f"
            },
            "marker": {
             "line": {
              "color": "#E5ECF6",
              "width": 0.5
             },
             "pattern": {
              "fillmode": "overlay",
              "size": 10,
              "solidity": 0.2
             }
            },
            "type": "bar"
           }
          ],
          "barpolar": [
           {
            "marker": {
             "line": {
              "color": "#E5ECF6",
              "width": 0.5
             },
             "pattern": {
              "fillmode": "overlay",
              "size": 10,
              "solidity": 0.2
             }
            },
            "type": "barpolar"
           }
          ],
          "carpet": [
           {
            "aaxis": {
             "endlinecolor": "#2a3f5f",
             "gridcolor": "white",
             "linecolor": "white",
             "minorgridcolor": "white",
             "startlinecolor": "#2a3f5f"
            },
            "baxis": {
             "endlinecolor": "#2a3f5f",
             "gridcolor": "white",
             "linecolor": "white",
             "minorgridcolor": "white",
             "startlinecolor": "#2a3f5f"
            },
            "type": "carpet"
           }
          ],
          "choropleth": [
           {
            "colorbar": {
             "outlinewidth": 0,
             "ticks": ""
            },
            "type": "choropleth"
           }
          ],
          "contour": [
           {
            "colorbar": {
             "outlinewidth": 0,
             "ticks": ""
            },
            "colorscale": [
             [
              0,
              "#0d0887"
             ],
             [
              0.1111111111111111,
              "#46039f"
             ],
             [
              0.2222222222222222,
              "#7201a8"
             ],
             [
              0.3333333333333333,
              "#9c179e"
             ],
             [
              0.4444444444444444,
              "#bd3786"
             ],
             [
              0.5555555555555556,
              "#d8576b"
             ],
             [
              0.6666666666666666,
              "#ed7953"
             ],
             [
              0.7777777777777778,
              "#fb9f3a"
             ],
             [
              0.8888888888888888,
              "#fdca26"
             ],
             [
              1,
              "#f0f921"
             ]
            ],
            "type": "contour"
           }
          ],
          "contourcarpet": [
           {
            "colorbar": {
             "outlinewidth": 0,
             "ticks": ""
            },
            "type": "contourcarpet"
           }
          ],
          "heatmap": [
           {
            "colorbar": {
             "outlinewidth": 0,
             "ticks": ""
            },
            "colorscale": [
             [
              0,
              "#0d0887"
             ],
             [
              0.1111111111111111,
              "#46039f"
             ],
             [
              0.2222222222222222,
              "#7201a8"
             ],
             [
              0.3333333333333333,
              "#9c179e"
             ],
             [
              0.4444444444444444,
              "#bd3786"
             ],
             [
              0.5555555555555556,
              "#d8576b"
             ],
             [
              0.6666666666666666,
              "#ed7953"
             ],
             [
              0.7777777777777778,
              "#fb9f3a"
             ],
             [
              0.8888888888888888,
              "#fdca26"
             ],
             [
              1,
              "#f0f921"
             ]
            ],
            "type": "heatmap"
           }
          ],
          "heatmapgl": [
           {
            "colorbar": {
             "outlinewidth": 0,
             "ticks": ""
            },
            "colorscale": [
             [
              0,
              "#0d0887"
             ],
             [
              0.1111111111111111,
              "#46039f"
             ],
             [
              0.2222222222222222,
              "#7201a8"
             ],
             [
              0.3333333333333333,
              "#9c179e"
             ],
             [
              0.4444444444444444,
              "#bd3786"
             ],
             [
              0.5555555555555556,
              "#d8576b"
             ],
             [
              0.6666666666666666,
              "#ed7953"
             ],
             [
              0.7777777777777778,
              "#fb9f3a"
             ],
             [
              0.8888888888888888,
              "#fdca26"
             ],
             [
              1,
              "#f0f921"
             ]
            ],
            "type": "heatmapgl"
           }
          ],
          "histogram": [
           {
            "marker": {
             "pattern": {
              "fillmode": "overlay",
              "size": 10,
              "solidity": 0.2
             }
            },
            "type": "histogram"
           }
          ],
          "histogram2d": [
           {
            "colorbar": {
             "outlinewidth": 0,
             "ticks": ""
            },
            "colorscale": [
             [
              0,
              "#0d0887"
             ],
             [
              0.1111111111111111,
              "#46039f"
             ],
             [
              0.2222222222222222,
              "#7201a8"
             ],
             [
              0.3333333333333333,
              "#9c179e"
             ],
             [
              0.4444444444444444,
              "#bd3786"
             ],
             [
              0.5555555555555556,
              "#d8576b"
             ],
             [
              0.6666666666666666,
              "#ed7953"
             ],
             [
              0.7777777777777778,
              "#fb9f3a"
             ],
             [
              0.8888888888888888,
              "#fdca26"
             ],
             [
              1,
              "#f0f921"
             ]
            ],
            "type": "histogram2d"
           }
          ],
          "histogram2dcontour": [
           {
            "colorbar": {
             "outlinewidth": 0,
             "ticks": ""
            },
            "colorscale": [
             [
              0,
              "#0d0887"
             ],
             [
              0.1111111111111111,
              "#46039f"
             ],
             [
              0.2222222222222222,
              "#7201a8"
             ],
             [
              0.3333333333333333,
              "#9c179e"
             ],
             [
              0.4444444444444444,
              "#bd3786"
             ],
             [
              0.5555555555555556,
              "#d8576b"
             ],
             [
              0.6666666666666666,
              "#ed7953"
             ],
             [
              0.7777777777777778,
              "#fb9f3a"
             ],
             [
              0.8888888888888888,
              "#fdca26"
             ],
             [
              1,
              "#f0f921"
             ]
            ],
            "type": "histogram2dcontour"
           }
          ],
          "mesh3d": [
           {
            "colorbar": {
             "outlinewidth": 0,
             "ticks": ""
            },
            "type": "mesh3d"
           }
          ],
          "parcoords": [
           {
            "line": {
             "colorbar": {
              "outlinewidth": 0,
              "ticks": ""
             }
            },
            "type": "parcoords"
           }
          ],
          "pie": [
           {
            "automargin": true,
            "type": "pie"
           }
          ],
          "scatter": [
           {
            "marker": {
             "colorbar": {
              "outlinewidth": 0,
              "ticks": ""
             }
            },
            "type": "scatter"
           }
          ],
          "scatter3d": [
           {
            "line": {
             "colorbar": {
              "outlinewidth": 0,
              "ticks": ""
             }
            },
            "marker": {
             "colorbar": {
              "outlinewidth": 0,
              "ticks": ""
             }
            },
            "type": "scatter3d"
           }
          ],
          "scattercarpet": [
           {
            "marker": {
             "colorbar": {
              "outlinewidth": 0,
              "ticks": ""
             }
            },
            "type": "scattercarpet"
           }
          ],
          "scattergeo": [
           {
            "marker": {
             "colorbar": {
              "outlinewidth": 0,
              "ticks": ""
             }
            },
            "type": "scattergeo"
           }
          ],
          "scattergl": [
           {
            "marker": {
             "colorbar": {
              "outlinewidth": 0,
              "ticks": ""
             }
            },
            "type": "scattergl"
           }
          ],
          "scattermapbox": [
           {
            "marker": {
             "colorbar": {
              "outlinewidth": 0,
              "ticks": ""
             }
            },
            "type": "scattermapbox"
           }
          ],
          "scatterpolar": [
           {
            "marker": {
             "colorbar": {
              "outlinewidth": 0,
              "ticks": ""
             }
            },
            "type": "scatterpolar"
           }
          ],
          "scatterpolargl": [
           {
            "marker": {
             "colorbar": {
              "outlinewidth": 0,
              "ticks": ""
             }
            },
            "type": "scatterpolargl"
           }
          ],
          "scatterternary": [
           {
            "marker": {
             "colorbar": {
              "outlinewidth": 0,
              "ticks": ""
             }
            },
            "type": "scatterternary"
           }
          ],
          "surface": [
           {
            "colorbar": {
             "outlinewidth": 0,
             "ticks": ""
            },
            "colorscale": [
             [
              0,
              "#0d0887"
             ],
             [
              0.1111111111111111,
              "#46039f"
             ],
             [
              0.2222222222222222,
              "#7201a8"
             ],
             [
              0.3333333333333333,
              "#9c179e"
             ],
             [
              0.4444444444444444,
              "#bd3786"
             ],
             [
              0.5555555555555556,
              "#d8576b"
             ],
             [
              0.6666666666666666,
              "#ed7953"
             ],
             [
              0.7777777777777778,
              "#fb9f3a"
             ],
             [
              0.8888888888888888,
              "#fdca26"
             ],
             [
              1,
              "#f0f921"
             ]
            ],
            "type": "surface"
           }
          ],
          "table": [
           {
            "cells": {
             "fill": {
              "color": "#EBF0F8"
             },
             "line": {
              "color": "white"
             }
            },
            "header": {
             "fill": {
              "color": "#C8D4E3"
             },
             "line": {
              "color": "white"
             }
            },
            "type": "table"
           }
          ]
         },
         "layout": {
          "annotationdefaults": {
           "arrowcolor": "#2a3f5f",
           "arrowhead": 0,
           "arrowwidth": 1
          },
          "autotypenumbers": "strict",
          "coloraxis": {
           "colorbar": {
            "outlinewidth": 0,
            "ticks": ""
           }
          },
          "colorscale": {
           "diverging": [
            [
             0,
             "#8e0152"
            ],
            [
             0.1,
             "#c51b7d"
            ],
            [
             0.2,
             "#de77ae"
            ],
            [
             0.3,
             "#f1b6da"
            ],
            [
             0.4,
             "#fde0ef"
            ],
            [
             0.5,
             "#f7f7f7"
            ],
            [
             0.6,
             "#e6f5d0"
            ],
            [
             0.7,
             "#b8e186"
            ],
            [
             0.8,
             "#7fbc41"
            ],
            [
             0.9,
             "#4d9221"
            ],
            [
             1,
             "#276419"
            ]
           ],
           "sequential": [
            [
             0,
             "#0d0887"
            ],
            [
             0.1111111111111111,
             "#46039f"
            ],
            [
             0.2222222222222222,
             "#7201a8"
            ],
            [
             0.3333333333333333,
             "#9c179e"
            ],
            [
             0.4444444444444444,
             "#bd3786"
            ],
            [
             0.5555555555555556,
             "#d8576b"
            ],
            [
             0.6666666666666666,
             "#ed7953"
            ],
            [
             0.7777777777777778,
             "#fb9f3a"
            ],
            [
             0.8888888888888888,
             "#fdca26"
            ],
            [
             1,
             "#f0f921"
            ]
           ],
           "sequentialminus": [
            [
             0,
             "#0d0887"
            ],
            [
             0.1111111111111111,
             "#46039f"
            ],
            [
             0.2222222222222222,
             "#7201a8"
            ],
            [
             0.3333333333333333,
             "#9c179e"
            ],
            [
             0.4444444444444444,
             "#bd3786"
            ],
            [
             0.5555555555555556,
             "#d8576b"
            ],
            [
             0.6666666666666666,
             "#ed7953"
            ],
            [
             0.7777777777777778,
             "#fb9f3a"
            ],
            [
             0.8888888888888888,
             "#fdca26"
            ],
            [
             1,
             "#f0f921"
            ]
           ]
          },
          "colorway": [
           "#636efa",
           "#EF553B",
           "#00cc96",
           "#ab63fa",
           "#FFA15A",
           "#19d3f3",
           "#FF6692",
           "#B6E880",
           "#FF97FF",
           "#FECB52"
          ],
          "font": {
           "color": "#2a3f5f"
          },
          "geo": {
           "bgcolor": "white",
           "lakecolor": "white",
           "landcolor": "#E5ECF6",
           "showlakes": true,
           "showland": true,
           "subunitcolor": "white"
          },
          "hoverlabel": {
           "align": "left"
          },
          "hovermode": "closest",
          "mapbox": {
           "style": "light"
          },
          "paper_bgcolor": "white",
          "plot_bgcolor": "#E5ECF6",
          "polar": {
           "angularaxis": {
            "gridcolor": "white",
            "linecolor": "white",
            "ticks": ""
           },
           "bgcolor": "#E5ECF6",
           "radialaxis": {
            "gridcolor": "white",
            "linecolor": "white",
            "ticks": ""
           }
          },
          "scene": {
           "xaxis": {
            "backgroundcolor": "#E5ECF6",
            "gridcolor": "white",
            "gridwidth": 2,
            "linecolor": "white",
            "showbackground": true,
            "ticks": "",
            "zerolinecolor": "white"
           },
           "yaxis": {
            "backgroundcolor": "#E5ECF6",
            "gridcolor": "white",
            "gridwidth": 2,
            "linecolor": "white",
            "showbackground": true,
            "ticks": "",
            "zerolinecolor": "white"
           },
           "zaxis": {
            "backgroundcolor": "#E5ECF6",
            "gridcolor": "white",
            "gridwidth": 2,
            "linecolor": "white",
            "showbackground": true,
            "ticks": "",
            "zerolinecolor": "white"
           }
          },
          "shapedefaults": {
           "line": {
            "color": "#2a3f5f"
           }
          },
          "ternary": {
           "aaxis": {
            "gridcolor": "white",
            "linecolor": "white",
            "ticks": ""
           },
           "baxis": {
            "gridcolor": "white",
            "linecolor": "white",
            "ticks": ""
           },
           "bgcolor": "#E5ECF6",
           "caxis": {
            "gridcolor": "white",
            "linecolor": "white",
            "ticks": ""
           }
          },
          "title": {
           "x": 0.05
          },
          "xaxis": {
           "automargin": true,
           "gridcolor": "white",
           "linecolor": "white",
           "ticks": "",
           "title": {
            "standoff": 15
           },
           "zerolinecolor": "white",
           "zerolinewidth": 2
          },
          "yaxis": {
           "automargin": true,
           "gridcolor": "white",
           "linecolor": "white",
           "ticks": "",
           "title": {
            "standoff": 15
           },
           "zerolinecolor": "white",
           "zerolinewidth": 2
          }
         }
        },
        "title": {
         "text": "Commmon Words in Selected Text"
        },
        "width": 700,
        "xaxis": {
         "anchor": "y",
         "domain": [
          0,
          1
         ],
         "title": {
          "text": "count"
         }
        },
        "yaxis": {
         "anchor": "x",
         "categoryarray": [
          "be",
          "with",
          "me",
          "that",
          "have",
          "on",
          "so",
          "it",
          "of",
          "in",
          "for",
          "is",
          "you",
          "i",
          "and",
          "my",
          "a",
          "the",
          "I",
          "to"
         ],
         "categoryorder": "array",
         "domain": [
          0,
          1
         ],
         "title": {
          "text": "Common_words"
         }
        }
       }
      },
      "text/html": [
       "<div>                            <div id=\"9f7df103-b4f4-4853-ab60-d4dad3cae98a\" class=\"plotly-graph-div\" style=\"height:700px; width:700px;\"></div>            <script type=\"text/javascript\">                require([\"plotly\"], function(Plotly) {                    window.PLOTLYENV=window.PLOTLYENV || {};                                    if (document.getElementById(\"9f7df103-b4f4-4853-ab60-d4dad3cae98a\")) {                    Plotly.newPlot(                        \"9f7df103-b4f4-4853-ab60-d4dad3cae98a\",                        [{\"alignmentgroup\":\"True\",\"hovertemplate\":\"Common_words=%{y}<br>count=%{x}<extra></extra>\",\"legendgroup\":\"to\",\"marker\":{\"color\":\"#636efa\",\"pattern\":{\"shape\":\"\"}},\"name\":\"to\",\"offsetgroup\":\"to\",\"orientation\":\"h\",\"showlegend\":true,\"textposition\":\"auto\",\"type\":\"bar\",\"x\":[5752],\"xaxis\":\"x\",\"y\":[\"to\"],\"yaxis\":\"y\"},{\"alignmentgroup\":\"True\",\"hovertemplate\":\"Common_words=%{y}<br>count=%{x}<extra></extra>\",\"legendgroup\":\"I\",\"marker\":{\"color\":\"#EF553B\",\"pattern\":{\"shape\":\"\"}},\"name\":\"I\",\"offsetgroup\":\"I\",\"orientation\":\"h\",\"showlegend\":true,\"textposition\":\"auto\",\"type\":\"bar\",\"x\":[5437],\"xaxis\":\"x\",\"y\":[\"I\"],\"yaxis\":\"y\"},{\"alignmentgroup\":\"True\",\"hovertemplate\":\"Common_words=%{y}<br>count=%{x}<extra></extra>\",\"legendgroup\":\"the\",\"marker\":{\"color\":\"#00cc96\",\"pattern\":{\"shape\":\"\"}},\"name\":\"the\",\"offsetgroup\":\"the\",\"orientation\":\"h\",\"showlegend\":true,\"textposition\":\"auto\",\"type\":\"bar\",\"x\":[5059],\"xaxis\":\"x\",\"y\":[\"the\"],\"yaxis\":\"y\"},{\"alignmentgroup\":\"True\",\"hovertemplate\":\"Common_words=%{y}<br>count=%{x}<extra></extra>\",\"legendgroup\":\"a\",\"marker\":{\"color\":\"#ab63fa\",\"pattern\":{\"shape\":\"\"}},\"name\":\"a\",\"offsetgroup\":\"a\",\"orientation\":\"h\",\"showlegend\":true,\"textposition\":\"auto\",\"type\":\"bar\",\"x\":[4063],\"xaxis\":\"x\",\"y\":[\"a\"],\"yaxis\":\"y\"},{\"alignmentgroup\":\"True\",\"hovertemplate\":\"Common_words=%{y}<br>count=%{x}<extra></extra>\",\"legendgroup\":\"my\",\"marker\":{\"color\":\"#FFA15A\",\"pattern\":{\"shape\":\"\"}},\"name\":\"my\",\"offsetgroup\":\"my\",\"orientation\":\"h\",\"showlegend\":true,\"textposition\":\"auto\",\"type\":\"bar\",\"x\":[3132],\"xaxis\":\"x\",\"y\":[\"my\"],\"yaxis\":\"y\"},{\"alignmentgroup\":\"True\",\"hovertemplate\":\"Common_words=%{y}<br>count=%{x}<extra></extra>\",\"legendgroup\":\"and\",\"marker\":{\"color\":\"#19d3f3\",\"pattern\":{\"shape\":\"\"}},\"name\":\"and\",\"offsetgroup\":\"and\",\"orientation\":\"h\",\"showlegend\":true,\"textposition\":\"auto\",\"type\":\"bar\",\"x\":[2964],\"xaxis\":\"x\",\"y\":[\"and\"],\"yaxis\":\"y\"},{\"alignmentgroup\":\"True\",\"hovertemplate\":\"Common_words=%{y}<br>count=%{x}<extra></extra>\",\"legendgroup\":\"i\",\"marker\":{\"color\":\"#FF6692\",\"pattern\":{\"shape\":\"\"}},\"name\":\"i\",\"offsetgroup\":\"i\",\"orientation\":\"h\",\"showlegend\":true,\"textposition\":\"auto\",\"type\":\"bar\",\"x\":[2756],\"xaxis\":\"x\",\"y\":[\"i\"],\"yaxis\":\"y\"},{\"alignmentgroup\":\"True\",\"hovertemplate\":\"Common_words=%{y}<br>count=%{x}<extra></extra>\",\"legendgroup\":\"you\",\"marker\":{\"color\":\"#B6E880\",\"pattern\":{\"shape\":\"\"}},\"name\":\"you\",\"offsetgroup\":\"you\",\"orientation\":\"h\",\"showlegend\":true,\"textposition\":\"auto\",\"type\":\"bar\",\"x\":[2375],\"xaxis\":\"x\",\"y\":[\"you\"],\"yaxis\":\"y\"},{\"alignmentgroup\":\"True\",\"hovertemplate\":\"Common_words=%{y}<br>count=%{x}<extra></extra>\",\"legendgroup\":\"is\",\"marker\":{\"color\":\"#FF97FF\",\"pattern\":{\"shape\":\"\"}},\"name\":\"is\",\"offsetgroup\":\"is\",\"orientation\":\"h\",\"showlegend\":true,\"textposition\":\"auto\",\"type\":\"bar\",\"x\":[2310],\"xaxis\":\"x\",\"y\":[\"is\"],\"yaxis\":\"y\"},{\"alignmentgroup\":\"True\",\"hovertemplate\":\"Common_words=%{y}<br>count=%{x}<extra></extra>\",\"legendgroup\":\"for\",\"marker\":{\"color\":\"#FECB52\",\"pattern\":{\"shape\":\"\"}},\"name\":\"for\",\"offsetgroup\":\"for\",\"orientation\":\"h\",\"showlegend\":true,\"textposition\":\"auto\",\"type\":\"bar\",\"x\":[2163],\"xaxis\":\"x\",\"y\":[\"for\"],\"yaxis\":\"y\"},{\"alignmentgroup\":\"True\",\"hovertemplate\":\"Common_words=%{y}<br>count=%{x}<extra></extra>\",\"legendgroup\":\"in\",\"marker\":{\"color\":\"#636efa\",\"pattern\":{\"shape\":\"\"}},\"name\":\"in\",\"offsetgroup\":\"in\",\"orientation\":\"h\",\"showlegend\":true,\"textposition\":\"auto\",\"type\":\"bar\",\"x\":[2053],\"xaxis\":\"x\",\"y\":[\"in\"],\"yaxis\":\"y\"},{\"alignmentgroup\":\"True\",\"hovertemplate\":\"Common_words=%{y}<br>count=%{x}<extra></extra>\",\"legendgroup\":\"of\",\"marker\":{\"color\":\"#EF553B\",\"pattern\":{\"shape\":\"\"}},\"name\":\"of\",\"offsetgroup\":\"of\",\"orientation\":\"h\",\"showlegend\":true,\"textposition\":\"auto\",\"type\":\"bar\",\"x\":[1865],\"xaxis\":\"x\",\"y\":[\"of\"],\"yaxis\":\"y\"},{\"alignmentgroup\":\"True\",\"hovertemplate\":\"Common_words=%{y}<br>count=%{x}<extra></extra>\",\"legendgroup\":\"it\",\"marker\":{\"color\":\"#00cc96\",\"pattern\":{\"shape\":\"\"}},\"name\":\"it\",\"offsetgroup\":\"it\",\"orientation\":\"h\",\"showlegend\":true,\"textposition\":\"auto\",\"type\":\"bar\",\"x\":[1847],\"xaxis\":\"x\",\"y\":[\"it\"],\"yaxis\":\"y\"},{\"alignmentgroup\":\"True\",\"hovertemplate\":\"Common_words=%{y}<br>count=%{x}<extra></extra>\",\"legendgroup\":\"so\",\"marker\":{\"color\":\"#ab63fa\",\"pattern\":{\"shape\":\"\"}},\"name\":\"so\",\"offsetgroup\":\"so\",\"orientation\":\"h\",\"showlegend\":true,\"textposition\":\"auto\",\"type\":\"bar\",\"x\":[1483],\"xaxis\":\"x\",\"y\":[\"so\"],\"yaxis\":\"y\"},{\"alignmentgroup\":\"True\",\"hovertemplate\":\"Common_words=%{y}<br>count=%{x}<extra></extra>\",\"legendgroup\":\"on\",\"marker\":{\"color\":\"#FFA15A\",\"pattern\":{\"shape\":\"\"}},\"name\":\"on\",\"offsetgroup\":\"on\",\"orientation\":\"h\",\"showlegend\":true,\"textposition\":\"auto\",\"type\":\"bar\",\"x\":[1473],\"xaxis\":\"x\",\"y\":[\"on\"],\"yaxis\":\"y\"},{\"alignmentgroup\":\"True\",\"hovertemplate\":\"Common_words=%{y}<br>count=%{x}<extra></extra>\",\"legendgroup\":\"have\",\"marker\":{\"color\":\"#19d3f3\",\"pattern\":{\"shape\":\"\"}},\"name\":\"have\",\"offsetgroup\":\"have\",\"orientation\":\"h\",\"showlegend\":true,\"textposition\":\"auto\",\"type\":\"bar\",\"x\":[1438],\"xaxis\":\"x\",\"y\":[\"have\"],\"yaxis\":\"y\"},{\"alignmentgroup\":\"True\",\"hovertemplate\":\"Common_words=%{y}<br>count=%{x}<extra></extra>\",\"legendgroup\":\"that\",\"marker\":{\"color\":\"#FF6692\",\"pattern\":{\"shape\":\"\"}},\"name\":\"that\",\"offsetgroup\":\"that\",\"orientation\":\"h\",\"showlegend\":true,\"textposition\":\"auto\",\"type\":\"bar\",\"x\":[1367],\"xaxis\":\"x\",\"y\":[\"that\"],\"yaxis\":\"y\"},{\"alignmentgroup\":\"True\",\"hovertemplate\":\"Common_words=%{y}<br>count=%{x}<extra></extra>\",\"legendgroup\":\"me\",\"marker\":{\"color\":\"#B6E880\",\"pattern\":{\"shape\":\"\"}},\"name\":\"me\",\"offsetgroup\":\"me\",\"orientation\":\"h\",\"showlegend\":true,\"textposition\":\"auto\",\"type\":\"bar\",\"x\":[1307],\"xaxis\":\"x\",\"y\":[\"me\"],\"yaxis\":\"y\"},{\"alignmentgroup\":\"True\",\"hovertemplate\":\"Common_words=%{y}<br>count=%{x}<extra></extra>\",\"legendgroup\":\"with\",\"marker\":{\"color\":\"#FF97FF\",\"pattern\":{\"shape\":\"\"}},\"name\":\"with\",\"offsetgroup\":\"with\",\"orientation\":\"h\",\"showlegend\":true,\"textposition\":\"auto\",\"type\":\"bar\",\"x\":[1210],\"xaxis\":\"x\",\"y\":[\"with\"],\"yaxis\":\"y\"},{\"alignmentgroup\":\"True\",\"hovertemplate\":\"Common_words=%{y}<br>count=%{x}<extra></extra>\",\"legendgroup\":\"be\",\"marker\":{\"color\":\"#FECB52\",\"pattern\":{\"shape\":\"\"}},\"name\":\"be\",\"offsetgroup\":\"be\",\"orientation\":\"h\",\"showlegend\":true,\"textposition\":\"auto\",\"type\":\"bar\",\"x\":[1190],\"xaxis\":\"x\",\"y\":[\"be\"],\"yaxis\":\"y\"}],                        {\"barmode\":\"relative\",\"height\":700,\"legend\":{\"title\":{\"text\":\"Common_words\"},\"tracegroupgap\":0},\"template\":{\"data\":{\"bar\":[{\"error_x\":{\"color\":\"#2a3f5f\"},\"error_y\":{\"color\":\"#2a3f5f\"},\"marker\":{\"line\":{\"color\":\"#E5ECF6\",\"width\":0.5},\"pattern\":{\"fillmode\":\"overlay\",\"size\":10,\"solidity\":0.2}},\"type\":\"bar\"}],\"barpolar\":[{\"marker\":{\"line\":{\"color\":\"#E5ECF6\",\"width\":0.5},\"pattern\":{\"fillmode\":\"overlay\",\"size\":10,\"solidity\":0.2}},\"type\":\"barpolar\"}],\"carpet\":[{\"aaxis\":{\"endlinecolor\":\"#2a3f5f\",\"gridcolor\":\"white\",\"linecolor\":\"white\",\"minorgridcolor\":\"white\",\"startlinecolor\":\"#2a3f5f\"},\"baxis\":{\"endlinecolor\":\"#2a3f5f\",\"gridcolor\":\"white\",\"linecolor\":\"white\",\"minorgridcolor\":\"white\",\"startlinecolor\":\"#2a3f5f\"},\"type\":\"carpet\"}],\"choropleth\":[{\"colorbar\":{\"outlinewidth\":0,\"ticks\":\"\"},\"type\":\"choropleth\"}],\"contour\":[{\"colorbar\":{\"outlinewidth\":0,\"ticks\":\"\"},\"colorscale\":[[0.0,\"#0d0887\"],[0.1111111111111111,\"#46039f\"],[0.2222222222222222,\"#7201a8\"],[0.3333333333333333,\"#9c179e\"],[0.4444444444444444,\"#bd3786\"],[0.5555555555555556,\"#d8576b\"],[0.6666666666666666,\"#ed7953\"],[0.7777777777777778,\"#fb9f3a\"],[0.8888888888888888,\"#fdca26\"],[1.0,\"#f0f921\"]],\"type\":\"contour\"}],\"contourcarpet\":[{\"colorbar\":{\"outlinewidth\":0,\"ticks\":\"\"},\"type\":\"contourcarpet\"}],\"heatmap\":[{\"colorbar\":{\"outlinewidth\":0,\"ticks\":\"\"},\"colorscale\":[[0.0,\"#0d0887\"],[0.1111111111111111,\"#46039f\"],[0.2222222222222222,\"#7201a8\"],[0.3333333333333333,\"#9c179e\"],[0.4444444444444444,\"#bd3786\"],[0.5555555555555556,\"#d8576b\"],[0.6666666666666666,\"#ed7953\"],[0.7777777777777778,\"#fb9f3a\"],[0.8888888888888888,\"#fdca26\"],[1.0,\"#f0f921\"]],\"type\":\"heatmap\"}],\"heatmapgl\":[{\"colorbar\":{\"outlinewidth\":0,\"ticks\":\"\"},\"colorscale\":[[0.0,\"#0d0887\"],[0.1111111111111111,\"#46039f\"],[0.2222222222222222,\"#7201a8\"],[0.3333333333333333,\"#9c179e\"],[0.4444444444444444,\"#bd3786\"],[0.5555555555555556,\"#d8576b\"],[0.6666666666666666,\"#ed7953\"],[0.7777777777777778,\"#fb9f3a\"],[0.8888888888888888,\"#fdca26\"],[1.0,\"#f0f921\"]],\"type\":\"heatmapgl\"}],\"histogram\":[{\"marker\":{\"pattern\":{\"fillmode\":\"overlay\",\"size\":10,\"solidity\":0.2}},\"type\":\"histogram\"}],\"histogram2d\":[{\"colorbar\":{\"outlinewidth\":0,\"ticks\":\"\"},\"colorscale\":[[0.0,\"#0d0887\"],[0.1111111111111111,\"#46039f\"],[0.2222222222222222,\"#7201a8\"],[0.3333333333333333,\"#9c179e\"],[0.4444444444444444,\"#bd3786\"],[0.5555555555555556,\"#d8576b\"],[0.6666666666666666,\"#ed7953\"],[0.7777777777777778,\"#fb9f3a\"],[0.8888888888888888,\"#fdca26\"],[1.0,\"#f0f921\"]],\"type\":\"histogram2d\"}],\"histogram2dcontour\":[{\"colorbar\":{\"outlinewidth\":0,\"ticks\":\"\"},\"colorscale\":[[0.0,\"#0d0887\"],[0.1111111111111111,\"#46039f\"],[0.2222222222222222,\"#7201a8\"],[0.3333333333333333,\"#9c179e\"],[0.4444444444444444,\"#bd3786\"],[0.5555555555555556,\"#d8576b\"],[0.6666666666666666,\"#ed7953\"],[0.7777777777777778,\"#fb9f3a\"],[0.8888888888888888,\"#fdca26\"],[1.0,\"#f0f921\"]],\"type\":\"histogram2dcontour\"}],\"mesh3d\":[{\"colorbar\":{\"outlinewidth\":0,\"ticks\":\"\"},\"type\":\"mesh3d\"}],\"parcoords\":[{\"line\":{\"colorbar\":{\"outlinewidth\":0,\"ticks\":\"\"}},\"type\":\"parcoords\"}],\"pie\":[{\"automargin\":true,\"type\":\"pie\"}],\"scatter\":[{\"marker\":{\"colorbar\":{\"outlinewidth\":0,\"ticks\":\"\"}},\"type\":\"scatter\"}],\"scatter3d\":[{\"line\":{\"colorbar\":{\"outlinewidth\":0,\"ticks\":\"\"}},\"marker\":{\"colorbar\":{\"outlinewidth\":0,\"ticks\":\"\"}},\"type\":\"scatter3d\"}],\"scattercarpet\":[{\"marker\":{\"colorbar\":{\"outlinewidth\":0,\"ticks\":\"\"}},\"type\":\"scattercarpet\"}],\"scattergeo\":[{\"marker\":{\"colorbar\":{\"outlinewidth\":0,\"ticks\":\"\"}},\"type\":\"scattergeo\"}],\"scattergl\":[{\"marker\":{\"colorbar\":{\"outlinewidth\":0,\"ticks\":\"\"}},\"type\":\"scattergl\"}],\"scattermapbox\":[{\"marker\":{\"colorbar\":{\"outlinewidth\":0,\"ticks\":\"\"}},\"type\":\"scattermapbox\"}],\"scatterpolar\":[{\"marker\":{\"colorbar\":{\"outlinewidth\":0,\"ticks\":\"\"}},\"type\":\"scatterpolar\"}],\"scatterpolargl\":[{\"marker\":{\"colorbar\":{\"outlinewidth\":0,\"ticks\":\"\"}},\"type\":\"scatterpolargl\"}],\"scatterternary\":[{\"marker\":{\"colorbar\":{\"outlinewidth\":0,\"ticks\":\"\"}},\"type\":\"scatterternary\"}],\"surface\":[{\"colorbar\":{\"outlinewidth\":0,\"ticks\":\"\"},\"colorscale\":[[0.0,\"#0d0887\"],[0.1111111111111111,\"#46039f\"],[0.2222222222222222,\"#7201a8\"],[0.3333333333333333,\"#9c179e\"],[0.4444444444444444,\"#bd3786\"],[0.5555555555555556,\"#d8576b\"],[0.6666666666666666,\"#ed7953\"],[0.7777777777777778,\"#fb9f3a\"],[0.8888888888888888,\"#fdca26\"],[1.0,\"#f0f921\"]],\"type\":\"surface\"}],\"table\":[{\"cells\":{\"fill\":{\"color\":\"#EBF0F8\"},\"line\":{\"color\":\"white\"}},\"header\":{\"fill\":{\"color\":\"#C8D4E3\"},\"line\":{\"color\":\"white\"}},\"type\":\"table\"}]},\"layout\":{\"annotationdefaults\":{\"arrowcolor\":\"#2a3f5f\",\"arrowhead\":0,\"arrowwidth\":1},\"autotypenumbers\":\"strict\",\"coloraxis\":{\"colorbar\":{\"outlinewidth\":0,\"ticks\":\"\"}},\"colorscale\":{\"diverging\":[[0,\"#8e0152\"],[0.1,\"#c51b7d\"],[0.2,\"#de77ae\"],[0.3,\"#f1b6da\"],[0.4,\"#fde0ef\"],[0.5,\"#f7f7f7\"],[0.6,\"#e6f5d0\"],[0.7,\"#b8e186\"],[0.8,\"#7fbc41\"],[0.9,\"#4d9221\"],[1,\"#276419\"]],\"sequential\":[[0.0,\"#0d0887\"],[0.1111111111111111,\"#46039f\"],[0.2222222222222222,\"#7201a8\"],[0.3333333333333333,\"#9c179e\"],[0.4444444444444444,\"#bd3786\"],[0.5555555555555556,\"#d8576b\"],[0.6666666666666666,\"#ed7953\"],[0.7777777777777778,\"#fb9f3a\"],[0.8888888888888888,\"#fdca26\"],[1.0,\"#f0f921\"]],\"sequentialminus\":[[0.0,\"#0d0887\"],[0.1111111111111111,\"#46039f\"],[0.2222222222222222,\"#7201a8\"],[0.3333333333333333,\"#9c179e\"],[0.4444444444444444,\"#bd3786\"],[0.5555555555555556,\"#d8576b\"],[0.6666666666666666,\"#ed7953\"],[0.7777777777777778,\"#fb9f3a\"],[0.8888888888888888,\"#fdca26\"],[1.0,\"#f0f921\"]]},\"colorway\":[\"#636efa\",\"#EF553B\",\"#00cc96\",\"#ab63fa\",\"#FFA15A\",\"#19d3f3\",\"#FF6692\",\"#B6E880\",\"#FF97FF\",\"#FECB52\"],\"font\":{\"color\":\"#2a3f5f\"},\"geo\":{\"bgcolor\":\"white\",\"lakecolor\":\"white\",\"landcolor\":\"#E5ECF6\",\"showlakes\":true,\"showland\":true,\"subunitcolor\":\"white\"},\"hoverlabel\":{\"align\":\"left\"},\"hovermode\":\"closest\",\"mapbox\":{\"style\":\"light\"},\"paper_bgcolor\":\"white\",\"plot_bgcolor\":\"#E5ECF6\",\"polar\":{\"angularaxis\":{\"gridcolor\":\"white\",\"linecolor\":\"white\",\"ticks\":\"\"},\"bgcolor\":\"#E5ECF6\",\"radialaxis\":{\"gridcolor\":\"white\",\"linecolor\":\"white\",\"ticks\":\"\"}},\"scene\":{\"xaxis\":{\"backgroundcolor\":\"#E5ECF6\",\"gridcolor\":\"white\",\"gridwidth\":2,\"linecolor\":\"white\",\"showbackground\":true,\"ticks\":\"\",\"zerolinecolor\":\"white\"},\"yaxis\":{\"backgroundcolor\":\"#E5ECF6\",\"gridcolor\":\"white\",\"gridwidth\":2,\"linecolor\":\"white\",\"showbackground\":true,\"ticks\":\"\",\"zerolinecolor\":\"white\"},\"zaxis\":{\"backgroundcolor\":\"#E5ECF6\",\"gridcolor\":\"white\",\"gridwidth\":2,\"linecolor\":\"white\",\"showbackground\":true,\"ticks\":\"\",\"zerolinecolor\":\"white\"}},\"shapedefaults\":{\"line\":{\"color\":\"#2a3f5f\"}},\"ternary\":{\"aaxis\":{\"gridcolor\":\"white\",\"linecolor\":\"white\",\"ticks\":\"\"},\"baxis\":{\"gridcolor\":\"white\",\"linecolor\":\"white\",\"ticks\":\"\"},\"bgcolor\":\"#E5ECF6\",\"caxis\":{\"gridcolor\":\"white\",\"linecolor\":\"white\",\"ticks\":\"\"}},\"title\":{\"x\":0.05},\"xaxis\":{\"automargin\":true,\"gridcolor\":\"white\",\"linecolor\":\"white\",\"ticks\":\"\",\"title\":{\"standoff\":15},\"zerolinecolor\":\"white\",\"zerolinewidth\":2},\"yaxis\":{\"automargin\":true,\"gridcolor\":\"white\",\"linecolor\":\"white\",\"ticks\":\"\",\"title\":{\"standoff\":15},\"zerolinecolor\":\"white\",\"zerolinewidth\":2}}},\"title\":{\"text\":\"Commmon Words in Selected Text\"},\"width\":700,\"xaxis\":{\"anchor\":\"y\",\"domain\":[0.0,1.0],\"title\":{\"text\":\"count\"}},\"yaxis\":{\"anchor\":\"x\",\"categoryarray\":[\"be\",\"with\",\"me\",\"that\",\"have\",\"on\",\"so\",\"it\",\"of\",\"in\",\"for\",\"is\",\"you\",\"i\",\"and\",\"my\",\"a\",\"the\",\"I\",\"to\"],\"categoryorder\":\"array\",\"domain\":[0.0,1.0],\"title\":{\"text\":\"Common_words\"}}},                        {\"responsive\": true}                    ).then(function(){\n",
       "                            \n",
       "var gd = document.getElementById('9f7df103-b4f4-4853-ab60-d4dad3cae98a');\n",
       "var x = new MutationObserver(function (mutations, observer) {{\n",
       "        var display = window.getComputedStyle(gd).display;\n",
       "        if (!display || display === 'none') {{\n",
       "            console.log([gd, 'removed!']);\n",
       "            Plotly.purge(gd);\n",
       "            observer.disconnect();\n",
       "        }}\n",
       "}});\n",
       "\n",
       "// Listen for the removal of the full notebook cells\n",
       "var notebookContainer = gd.closest('#notebook-container');\n",
       "if (notebookContainer) {{\n",
       "    x.observe(notebookContainer, {childList: true});\n",
       "}}\n",
       "\n",
       "// Listen for the clearing of the current output cell\n",
       "var outputEl = gd.closest('.output');\n",
       "if (outputEl) {{\n",
       "    x.observe(outputEl, {childList: true});\n",
       "}}\n",
       "\n",
       "                        })                };                });            </script>        </div>"
      ]
     },
     "metadata": {},
     "output_type": "display_data"
    }
   ],
   "source": [
    "fig = px.bar(temp, x=\"count\", y=\"Common_words\", title='Commmon Words in Selected Text', orientation='h', \n",
    "             width=700, height=700,color='Common_words')\n",
    "fig.show()"
   ]
  },
  {
   "cell_type": "code",
   "execution_count": 56,
   "id": "48849ce9",
   "metadata": {},
   "outputs": [
    {
     "data": {
      "application/vnd.plotly.v1+json": {
       "config": {
        "plotlyServerURL": "https://plotly.com"
       },
       "data": [
        {
         "branchvalues": "total",
         "domain": {
          "x": [
           0,
           1
          ],
          "y": [
           0,
           1
          ]
         },
         "hovertemplate": "labels=%{label}<br>count=%{value}<br>parent=%{parent}<br>id=%{id}<extra></extra>",
         "ids": [
          "I",
          "a",
          "and",
          "be",
          "for",
          "have",
          "i",
          "in",
          "is",
          "it",
          "me",
          "my",
          "of",
          "on",
          "so",
          "that",
          "the",
          "to",
          "with",
          "you"
         ],
         "labels": [
          "I",
          "a",
          "and",
          "be",
          "for",
          "have",
          "i",
          "in",
          "is",
          "it",
          "me",
          "my",
          "of",
          "on",
          "so",
          "that",
          "the",
          "to",
          "with",
          "you"
         ],
         "name": "",
         "parents": [
          "",
          "",
          "",
          "",
          "",
          "",
          "",
          "",
          "",
          "",
          "",
          "",
          "",
          "",
          "",
          "",
          "",
          "",
          "",
          ""
         ],
         "type": "treemap",
         "values": [
          5437,
          4063,
          2964,
          1190,
          2163,
          1438,
          2756,
          2053,
          2310,
          1847,
          1307,
          3132,
          1865,
          1473,
          1483,
          1367,
          5059,
          5752,
          1210,
          2375
         ]
        }
       ],
       "layout": {
        "legend": {
         "tracegroupgap": 0
        },
        "template": {
         "data": {
          "bar": [
           {
            "error_x": {
             "color": "#2a3f5f"
            },
            "error_y": {
             "color": "#2a3f5f"
            },
            "marker": {
             "line": {
              "color": "#E5ECF6",
              "width": 0.5
             },
             "pattern": {
              "fillmode": "overlay",
              "size": 10,
              "solidity": 0.2
             }
            },
            "type": "bar"
           }
          ],
          "barpolar": [
           {
            "marker": {
             "line": {
              "color": "#E5ECF6",
              "width": 0.5
             },
             "pattern": {
              "fillmode": "overlay",
              "size": 10,
              "solidity": 0.2
             }
            },
            "type": "barpolar"
           }
          ],
          "carpet": [
           {
            "aaxis": {
             "endlinecolor": "#2a3f5f",
             "gridcolor": "white",
             "linecolor": "white",
             "minorgridcolor": "white",
             "startlinecolor": "#2a3f5f"
            },
            "baxis": {
             "endlinecolor": "#2a3f5f",
             "gridcolor": "white",
             "linecolor": "white",
             "minorgridcolor": "white",
             "startlinecolor": "#2a3f5f"
            },
            "type": "carpet"
           }
          ],
          "choropleth": [
           {
            "colorbar": {
             "outlinewidth": 0,
             "ticks": ""
            },
            "type": "choropleth"
           }
          ],
          "contour": [
           {
            "colorbar": {
             "outlinewidth": 0,
             "ticks": ""
            },
            "colorscale": [
             [
              0,
              "#0d0887"
             ],
             [
              0.1111111111111111,
              "#46039f"
             ],
             [
              0.2222222222222222,
              "#7201a8"
             ],
             [
              0.3333333333333333,
              "#9c179e"
             ],
             [
              0.4444444444444444,
              "#bd3786"
             ],
             [
              0.5555555555555556,
              "#d8576b"
             ],
             [
              0.6666666666666666,
              "#ed7953"
             ],
             [
              0.7777777777777778,
              "#fb9f3a"
             ],
             [
              0.8888888888888888,
              "#fdca26"
             ],
             [
              1,
              "#f0f921"
             ]
            ],
            "type": "contour"
           }
          ],
          "contourcarpet": [
           {
            "colorbar": {
             "outlinewidth": 0,
             "ticks": ""
            },
            "type": "contourcarpet"
           }
          ],
          "heatmap": [
           {
            "colorbar": {
             "outlinewidth": 0,
             "ticks": ""
            },
            "colorscale": [
             [
              0,
              "#0d0887"
             ],
             [
              0.1111111111111111,
              "#46039f"
             ],
             [
              0.2222222222222222,
              "#7201a8"
             ],
             [
              0.3333333333333333,
              "#9c179e"
             ],
             [
              0.4444444444444444,
              "#bd3786"
             ],
             [
              0.5555555555555556,
              "#d8576b"
             ],
             [
              0.6666666666666666,
              "#ed7953"
             ],
             [
              0.7777777777777778,
              "#fb9f3a"
             ],
             [
              0.8888888888888888,
              "#fdca26"
             ],
             [
              1,
              "#f0f921"
             ]
            ],
            "type": "heatmap"
           }
          ],
          "heatmapgl": [
           {
            "colorbar": {
             "outlinewidth": 0,
             "ticks": ""
            },
            "colorscale": [
             [
              0,
              "#0d0887"
             ],
             [
              0.1111111111111111,
              "#46039f"
             ],
             [
              0.2222222222222222,
              "#7201a8"
             ],
             [
              0.3333333333333333,
              "#9c179e"
             ],
             [
              0.4444444444444444,
              "#bd3786"
             ],
             [
              0.5555555555555556,
              "#d8576b"
             ],
             [
              0.6666666666666666,
              "#ed7953"
             ],
             [
              0.7777777777777778,
              "#fb9f3a"
             ],
             [
              0.8888888888888888,
              "#fdca26"
             ],
             [
              1,
              "#f0f921"
             ]
            ],
            "type": "heatmapgl"
           }
          ],
          "histogram": [
           {
            "marker": {
             "pattern": {
              "fillmode": "overlay",
              "size": 10,
              "solidity": 0.2
             }
            },
            "type": "histogram"
           }
          ],
          "histogram2d": [
           {
            "colorbar": {
             "outlinewidth": 0,
             "ticks": ""
            },
            "colorscale": [
             [
              0,
              "#0d0887"
             ],
             [
              0.1111111111111111,
              "#46039f"
             ],
             [
              0.2222222222222222,
              "#7201a8"
             ],
             [
              0.3333333333333333,
              "#9c179e"
             ],
             [
              0.4444444444444444,
              "#bd3786"
             ],
             [
              0.5555555555555556,
              "#d8576b"
             ],
             [
              0.6666666666666666,
              "#ed7953"
             ],
             [
              0.7777777777777778,
              "#fb9f3a"
             ],
             [
              0.8888888888888888,
              "#fdca26"
             ],
             [
              1,
              "#f0f921"
             ]
            ],
            "type": "histogram2d"
           }
          ],
          "histogram2dcontour": [
           {
            "colorbar": {
             "outlinewidth": 0,
             "ticks": ""
            },
            "colorscale": [
             [
              0,
              "#0d0887"
             ],
             [
              0.1111111111111111,
              "#46039f"
             ],
             [
              0.2222222222222222,
              "#7201a8"
             ],
             [
              0.3333333333333333,
              "#9c179e"
             ],
             [
              0.4444444444444444,
              "#bd3786"
             ],
             [
              0.5555555555555556,
              "#d8576b"
             ],
             [
              0.6666666666666666,
              "#ed7953"
             ],
             [
              0.7777777777777778,
              "#fb9f3a"
             ],
             [
              0.8888888888888888,
              "#fdca26"
             ],
             [
              1,
              "#f0f921"
             ]
            ],
            "type": "histogram2dcontour"
           }
          ],
          "mesh3d": [
           {
            "colorbar": {
             "outlinewidth": 0,
             "ticks": ""
            },
            "type": "mesh3d"
           }
          ],
          "parcoords": [
           {
            "line": {
             "colorbar": {
              "outlinewidth": 0,
              "ticks": ""
             }
            },
            "type": "parcoords"
           }
          ],
          "pie": [
           {
            "automargin": true,
            "type": "pie"
           }
          ],
          "scatter": [
           {
            "marker": {
             "colorbar": {
              "outlinewidth": 0,
              "ticks": ""
             }
            },
            "type": "scatter"
           }
          ],
          "scatter3d": [
           {
            "line": {
             "colorbar": {
              "outlinewidth": 0,
              "ticks": ""
             }
            },
            "marker": {
             "colorbar": {
              "outlinewidth": 0,
              "ticks": ""
             }
            },
            "type": "scatter3d"
           }
          ],
          "scattercarpet": [
           {
            "marker": {
             "colorbar": {
              "outlinewidth": 0,
              "ticks": ""
             }
            },
            "type": "scattercarpet"
           }
          ],
          "scattergeo": [
           {
            "marker": {
             "colorbar": {
              "outlinewidth": 0,
              "ticks": ""
             }
            },
            "type": "scattergeo"
           }
          ],
          "scattergl": [
           {
            "marker": {
             "colorbar": {
              "outlinewidth": 0,
              "ticks": ""
             }
            },
            "type": "scattergl"
           }
          ],
          "scattermapbox": [
           {
            "marker": {
             "colorbar": {
              "outlinewidth": 0,
              "ticks": ""
             }
            },
            "type": "scattermapbox"
           }
          ],
          "scatterpolar": [
           {
            "marker": {
             "colorbar": {
              "outlinewidth": 0,
              "ticks": ""
             }
            },
            "type": "scatterpolar"
           }
          ],
          "scatterpolargl": [
           {
            "marker": {
             "colorbar": {
              "outlinewidth": 0,
              "ticks": ""
             }
            },
            "type": "scatterpolargl"
           }
          ],
          "scatterternary": [
           {
            "marker": {
             "colorbar": {
              "outlinewidth": 0,
              "ticks": ""
             }
            },
            "type": "scatterternary"
           }
          ],
          "surface": [
           {
            "colorbar": {
             "outlinewidth": 0,
             "ticks": ""
            },
            "colorscale": [
             [
              0,
              "#0d0887"
             ],
             [
              0.1111111111111111,
              "#46039f"
             ],
             [
              0.2222222222222222,
              "#7201a8"
             ],
             [
              0.3333333333333333,
              "#9c179e"
             ],
             [
              0.4444444444444444,
              "#bd3786"
             ],
             [
              0.5555555555555556,
              "#d8576b"
             ],
             [
              0.6666666666666666,
              "#ed7953"
             ],
             [
              0.7777777777777778,
              "#fb9f3a"
             ],
             [
              0.8888888888888888,
              "#fdca26"
             ],
             [
              1,
              "#f0f921"
             ]
            ],
            "type": "surface"
           }
          ],
          "table": [
           {
            "cells": {
             "fill": {
              "color": "#EBF0F8"
             },
             "line": {
              "color": "white"
             }
            },
            "header": {
             "fill": {
              "color": "#C8D4E3"
             },
             "line": {
              "color": "white"
             }
            },
            "type": "table"
           }
          ]
         },
         "layout": {
          "annotationdefaults": {
           "arrowcolor": "#2a3f5f",
           "arrowhead": 0,
           "arrowwidth": 1
          },
          "autotypenumbers": "strict",
          "coloraxis": {
           "colorbar": {
            "outlinewidth": 0,
            "ticks": ""
           }
          },
          "colorscale": {
           "diverging": [
            [
             0,
             "#8e0152"
            ],
            [
             0.1,
             "#c51b7d"
            ],
            [
             0.2,
             "#de77ae"
            ],
            [
             0.3,
             "#f1b6da"
            ],
            [
             0.4,
             "#fde0ef"
            ],
            [
             0.5,
             "#f7f7f7"
            ],
            [
             0.6,
             "#e6f5d0"
            ],
            [
             0.7,
             "#b8e186"
            ],
            [
             0.8,
             "#7fbc41"
            ],
            [
             0.9,
             "#4d9221"
            ],
            [
             1,
             "#276419"
            ]
           ],
           "sequential": [
            [
             0,
             "#0d0887"
            ],
            [
             0.1111111111111111,
             "#46039f"
            ],
            [
             0.2222222222222222,
             "#7201a8"
            ],
            [
             0.3333333333333333,
             "#9c179e"
            ],
            [
             0.4444444444444444,
             "#bd3786"
            ],
            [
             0.5555555555555556,
             "#d8576b"
            ],
            [
             0.6666666666666666,
             "#ed7953"
            ],
            [
             0.7777777777777778,
             "#fb9f3a"
            ],
            [
             0.8888888888888888,
             "#fdca26"
            ],
            [
             1,
             "#f0f921"
            ]
           ],
           "sequentialminus": [
            [
             0,
             "#0d0887"
            ],
            [
             0.1111111111111111,
             "#46039f"
            ],
            [
             0.2222222222222222,
             "#7201a8"
            ],
            [
             0.3333333333333333,
             "#9c179e"
            ],
            [
             0.4444444444444444,
             "#bd3786"
            ],
            [
             0.5555555555555556,
             "#d8576b"
            ],
            [
             0.6666666666666666,
             "#ed7953"
            ],
            [
             0.7777777777777778,
             "#fb9f3a"
            ],
            [
             0.8888888888888888,
             "#fdca26"
            ],
            [
             1,
             "#f0f921"
            ]
           ]
          },
          "colorway": [
           "#636efa",
           "#EF553B",
           "#00cc96",
           "#ab63fa",
           "#FFA15A",
           "#19d3f3",
           "#FF6692",
           "#B6E880",
           "#FF97FF",
           "#FECB52"
          ],
          "font": {
           "color": "#2a3f5f"
          },
          "geo": {
           "bgcolor": "white",
           "lakecolor": "white",
           "landcolor": "#E5ECF6",
           "showlakes": true,
           "showland": true,
           "subunitcolor": "white"
          },
          "hoverlabel": {
           "align": "left"
          },
          "hovermode": "closest",
          "mapbox": {
           "style": "light"
          },
          "paper_bgcolor": "white",
          "plot_bgcolor": "#E5ECF6",
          "polar": {
           "angularaxis": {
            "gridcolor": "white",
            "linecolor": "white",
            "ticks": ""
           },
           "bgcolor": "#E5ECF6",
           "radialaxis": {
            "gridcolor": "white",
            "linecolor": "white",
            "ticks": ""
           }
          },
          "scene": {
           "xaxis": {
            "backgroundcolor": "#E5ECF6",
            "gridcolor": "white",
            "gridwidth": 2,
            "linecolor": "white",
            "showbackground": true,
            "ticks": "",
            "zerolinecolor": "white"
           },
           "yaxis": {
            "backgroundcolor": "#E5ECF6",
            "gridcolor": "white",
            "gridwidth": 2,
            "linecolor": "white",
            "showbackground": true,
            "ticks": "",
            "zerolinecolor": "white"
           },
           "zaxis": {
            "backgroundcolor": "#E5ECF6",
            "gridcolor": "white",
            "gridwidth": 2,
            "linecolor": "white",
            "showbackground": true,
            "ticks": "",
            "zerolinecolor": "white"
           }
          },
          "shapedefaults": {
           "line": {
            "color": "#2a3f5f"
           }
          },
          "ternary": {
           "aaxis": {
            "gridcolor": "white",
            "linecolor": "white",
            "ticks": ""
           },
           "baxis": {
            "gridcolor": "white",
            "linecolor": "white",
            "ticks": ""
           },
           "bgcolor": "#E5ECF6",
           "caxis": {
            "gridcolor": "white",
            "linecolor": "white",
            "ticks": ""
           }
          },
          "title": {
           "x": 0.05
          },
          "xaxis": {
           "automargin": true,
           "gridcolor": "white",
           "linecolor": "white",
           "ticks": "",
           "title": {
            "standoff": 15
           },
           "zerolinecolor": "white",
           "zerolinewidth": 2
          },
          "yaxis": {
           "automargin": true,
           "gridcolor": "white",
           "linecolor": "white",
           "ticks": "",
           "title": {
            "standoff": 15
           },
           "zerolinecolor": "white",
           "zerolinewidth": 2
          }
         }
        },
        "title": {
         "text": "Tree of Most Common Words"
        }
       }
      },
      "text/html": [
       "<div>                            <div id=\"6d083fea-623f-4730-88f9-0e46bb8f08eb\" class=\"plotly-graph-div\" style=\"height:525px; width:100%;\"></div>            <script type=\"text/javascript\">                require([\"plotly\"], function(Plotly) {                    window.PLOTLYENV=window.PLOTLYENV || {};                                    if (document.getElementById(\"6d083fea-623f-4730-88f9-0e46bb8f08eb\")) {                    Plotly.newPlot(                        \"6d083fea-623f-4730-88f9-0e46bb8f08eb\",                        [{\"branchvalues\":\"total\",\"domain\":{\"x\":[0.0,1.0],\"y\":[0.0,1.0]},\"hovertemplate\":\"labels=%{label}<br>count=%{value}<br>parent=%{parent}<br>id=%{id}<extra></extra>\",\"ids\":[\"I\",\"a\",\"and\",\"be\",\"for\",\"have\",\"i\",\"in\",\"is\",\"it\",\"me\",\"my\",\"of\",\"on\",\"so\",\"that\",\"the\",\"to\",\"with\",\"you\"],\"labels\":[\"I\",\"a\",\"and\",\"be\",\"for\",\"have\",\"i\",\"in\",\"is\",\"it\",\"me\",\"my\",\"of\",\"on\",\"so\",\"that\",\"the\",\"to\",\"with\",\"you\"],\"name\":\"\",\"parents\":[\"\",\"\",\"\",\"\",\"\",\"\",\"\",\"\",\"\",\"\",\"\",\"\",\"\",\"\",\"\",\"\",\"\",\"\",\"\",\"\"],\"type\":\"treemap\",\"values\":[5437,4063,2964,1190,2163,1438,2756,2053,2310,1847,1307,3132,1865,1473,1483,1367,5059,5752,1210,2375]}],                        {\"legend\":{\"tracegroupgap\":0},\"template\":{\"data\":{\"bar\":[{\"error_x\":{\"color\":\"#2a3f5f\"},\"error_y\":{\"color\":\"#2a3f5f\"},\"marker\":{\"line\":{\"color\":\"#E5ECF6\",\"width\":0.5},\"pattern\":{\"fillmode\":\"overlay\",\"size\":10,\"solidity\":0.2}},\"type\":\"bar\"}],\"barpolar\":[{\"marker\":{\"line\":{\"color\":\"#E5ECF6\",\"width\":0.5},\"pattern\":{\"fillmode\":\"overlay\",\"size\":10,\"solidity\":0.2}},\"type\":\"barpolar\"}],\"carpet\":[{\"aaxis\":{\"endlinecolor\":\"#2a3f5f\",\"gridcolor\":\"white\",\"linecolor\":\"white\",\"minorgridcolor\":\"white\",\"startlinecolor\":\"#2a3f5f\"},\"baxis\":{\"endlinecolor\":\"#2a3f5f\",\"gridcolor\":\"white\",\"linecolor\":\"white\",\"minorgridcolor\":\"white\",\"startlinecolor\":\"#2a3f5f\"},\"type\":\"carpet\"}],\"choropleth\":[{\"colorbar\":{\"outlinewidth\":0,\"ticks\":\"\"},\"type\":\"choropleth\"}],\"contour\":[{\"colorbar\":{\"outlinewidth\":0,\"ticks\":\"\"},\"colorscale\":[[0.0,\"#0d0887\"],[0.1111111111111111,\"#46039f\"],[0.2222222222222222,\"#7201a8\"],[0.3333333333333333,\"#9c179e\"],[0.4444444444444444,\"#bd3786\"],[0.5555555555555556,\"#d8576b\"],[0.6666666666666666,\"#ed7953\"],[0.7777777777777778,\"#fb9f3a\"],[0.8888888888888888,\"#fdca26\"],[1.0,\"#f0f921\"]],\"type\":\"contour\"}],\"contourcarpet\":[{\"colorbar\":{\"outlinewidth\":0,\"ticks\":\"\"},\"type\":\"contourcarpet\"}],\"heatmap\":[{\"colorbar\":{\"outlinewidth\":0,\"ticks\":\"\"},\"colorscale\":[[0.0,\"#0d0887\"],[0.1111111111111111,\"#46039f\"],[0.2222222222222222,\"#7201a8\"],[0.3333333333333333,\"#9c179e\"],[0.4444444444444444,\"#bd3786\"],[0.5555555555555556,\"#d8576b\"],[0.6666666666666666,\"#ed7953\"],[0.7777777777777778,\"#fb9f3a\"],[0.8888888888888888,\"#fdca26\"],[1.0,\"#f0f921\"]],\"type\":\"heatmap\"}],\"heatmapgl\":[{\"colorbar\":{\"outlinewidth\":0,\"ticks\":\"\"},\"colorscale\":[[0.0,\"#0d0887\"],[0.1111111111111111,\"#46039f\"],[0.2222222222222222,\"#7201a8\"],[0.3333333333333333,\"#9c179e\"],[0.4444444444444444,\"#bd3786\"],[0.5555555555555556,\"#d8576b\"],[0.6666666666666666,\"#ed7953\"],[0.7777777777777778,\"#fb9f3a\"],[0.8888888888888888,\"#fdca26\"],[1.0,\"#f0f921\"]],\"type\":\"heatmapgl\"}],\"histogram\":[{\"marker\":{\"pattern\":{\"fillmode\":\"overlay\",\"size\":10,\"solidity\":0.2}},\"type\":\"histogram\"}],\"histogram2d\":[{\"colorbar\":{\"outlinewidth\":0,\"ticks\":\"\"},\"colorscale\":[[0.0,\"#0d0887\"],[0.1111111111111111,\"#46039f\"],[0.2222222222222222,\"#7201a8\"],[0.3333333333333333,\"#9c179e\"],[0.4444444444444444,\"#bd3786\"],[0.5555555555555556,\"#d8576b\"],[0.6666666666666666,\"#ed7953\"],[0.7777777777777778,\"#fb9f3a\"],[0.8888888888888888,\"#fdca26\"],[1.0,\"#f0f921\"]],\"type\":\"histogram2d\"}],\"histogram2dcontour\":[{\"colorbar\":{\"outlinewidth\":0,\"ticks\":\"\"},\"colorscale\":[[0.0,\"#0d0887\"],[0.1111111111111111,\"#46039f\"],[0.2222222222222222,\"#7201a8\"],[0.3333333333333333,\"#9c179e\"],[0.4444444444444444,\"#bd3786\"],[0.5555555555555556,\"#d8576b\"],[0.6666666666666666,\"#ed7953\"],[0.7777777777777778,\"#fb9f3a\"],[0.8888888888888888,\"#fdca26\"],[1.0,\"#f0f921\"]],\"type\":\"histogram2dcontour\"}],\"mesh3d\":[{\"colorbar\":{\"outlinewidth\":0,\"ticks\":\"\"},\"type\":\"mesh3d\"}],\"parcoords\":[{\"line\":{\"colorbar\":{\"outlinewidth\":0,\"ticks\":\"\"}},\"type\":\"parcoords\"}],\"pie\":[{\"automargin\":true,\"type\":\"pie\"}],\"scatter\":[{\"marker\":{\"colorbar\":{\"outlinewidth\":0,\"ticks\":\"\"}},\"type\":\"scatter\"}],\"scatter3d\":[{\"line\":{\"colorbar\":{\"outlinewidth\":0,\"ticks\":\"\"}},\"marker\":{\"colorbar\":{\"outlinewidth\":0,\"ticks\":\"\"}},\"type\":\"scatter3d\"}],\"scattercarpet\":[{\"marker\":{\"colorbar\":{\"outlinewidth\":0,\"ticks\":\"\"}},\"type\":\"scattercarpet\"}],\"scattergeo\":[{\"marker\":{\"colorbar\":{\"outlinewidth\":0,\"ticks\":\"\"}},\"type\":\"scattergeo\"}],\"scattergl\":[{\"marker\":{\"colorbar\":{\"outlinewidth\":0,\"ticks\":\"\"}},\"type\":\"scattergl\"}],\"scattermapbox\":[{\"marker\":{\"colorbar\":{\"outlinewidth\":0,\"ticks\":\"\"}},\"type\":\"scattermapbox\"}],\"scatterpolar\":[{\"marker\":{\"colorbar\":{\"outlinewidth\":0,\"ticks\":\"\"}},\"type\":\"scatterpolar\"}],\"scatterpolargl\":[{\"marker\":{\"colorbar\":{\"outlinewidth\":0,\"ticks\":\"\"}},\"type\":\"scatterpolargl\"}],\"scatterternary\":[{\"marker\":{\"colorbar\":{\"outlinewidth\":0,\"ticks\":\"\"}},\"type\":\"scatterternary\"}],\"surface\":[{\"colorbar\":{\"outlinewidth\":0,\"ticks\":\"\"},\"colorscale\":[[0.0,\"#0d0887\"],[0.1111111111111111,\"#46039f\"],[0.2222222222222222,\"#7201a8\"],[0.3333333333333333,\"#9c179e\"],[0.4444444444444444,\"#bd3786\"],[0.5555555555555556,\"#d8576b\"],[0.6666666666666666,\"#ed7953\"],[0.7777777777777778,\"#fb9f3a\"],[0.8888888888888888,\"#fdca26\"],[1.0,\"#f0f921\"]],\"type\":\"surface\"}],\"table\":[{\"cells\":{\"fill\":{\"color\":\"#EBF0F8\"},\"line\":{\"color\":\"white\"}},\"header\":{\"fill\":{\"color\":\"#C8D4E3\"},\"line\":{\"color\":\"white\"}},\"type\":\"table\"}]},\"layout\":{\"annotationdefaults\":{\"arrowcolor\":\"#2a3f5f\",\"arrowhead\":0,\"arrowwidth\":1},\"autotypenumbers\":\"strict\",\"coloraxis\":{\"colorbar\":{\"outlinewidth\":0,\"ticks\":\"\"}},\"colorscale\":{\"diverging\":[[0,\"#8e0152\"],[0.1,\"#c51b7d\"],[0.2,\"#de77ae\"],[0.3,\"#f1b6da\"],[0.4,\"#fde0ef\"],[0.5,\"#f7f7f7\"],[0.6,\"#e6f5d0\"],[0.7,\"#b8e186\"],[0.8,\"#7fbc41\"],[0.9,\"#4d9221\"],[1,\"#276419\"]],\"sequential\":[[0.0,\"#0d0887\"],[0.1111111111111111,\"#46039f\"],[0.2222222222222222,\"#7201a8\"],[0.3333333333333333,\"#9c179e\"],[0.4444444444444444,\"#bd3786\"],[0.5555555555555556,\"#d8576b\"],[0.6666666666666666,\"#ed7953\"],[0.7777777777777778,\"#fb9f3a\"],[0.8888888888888888,\"#fdca26\"],[1.0,\"#f0f921\"]],\"sequentialminus\":[[0.0,\"#0d0887\"],[0.1111111111111111,\"#46039f\"],[0.2222222222222222,\"#7201a8\"],[0.3333333333333333,\"#9c179e\"],[0.4444444444444444,\"#bd3786\"],[0.5555555555555556,\"#d8576b\"],[0.6666666666666666,\"#ed7953\"],[0.7777777777777778,\"#fb9f3a\"],[0.8888888888888888,\"#fdca26\"],[1.0,\"#f0f921\"]]},\"colorway\":[\"#636efa\",\"#EF553B\",\"#00cc96\",\"#ab63fa\",\"#FFA15A\",\"#19d3f3\",\"#FF6692\",\"#B6E880\",\"#FF97FF\",\"#FECB52\"],\"font\":{\"color\":\"#2a3f5f\"},\"geo\":{\"bgcolor\":\"white\",\"lakecolor\":\"white\",\"landcolor\":\"#E5ECF6\",\"showlakes\":true,\"showland\":true,\"subunitcolor\":\"white\"},\"hoverlabel\":{\"align\":\"left\"},\"hovermode\":\"closest\",\"mapbox\":{\"style\":\"light\"},\"paper_bgcolor\":\"white\",\"plot_bgcolor\":\"#E5ECF6\",\"polar\":{\"angularaxis\":{\"gridcolor\":\"white\",\"linecolor\":\"white\",\"ticks\":\"\"},\"bgcolor\":\"#E5ECF6\",\"radialaxis\":{\"gridcolor\":\"white\",\"linecolor\":\"white\",\"ticks\":\"\"}},\"scene\":{\"xaxis\":{\"backgroundcolor\":\"#E5ECF6\",\"gridcolor\":\"white\",\"gridwidth\":2,\"linecolor\":\"white\",\"showbackground\":true,\"ticks\":\"\",\"zerolinecolor\":\"white\"},\"yaxis\":{\"backgroundcolor\":\"#E5ECF6\",\"gridcolor\":\"white\",\"gridwidth\":2,\"linecolor\":\"white\",\"showbackground\":true,\"ticks\":\"\",\"zerolinecolor\":\"white\"},\"zaxis\":{\"backgroundcolor\":\"#E5ECF6\",\"gridcolor\":\"white\",\"gridwidth\":2,\"linecolor\":\"white\",\"showbackground\":true,\"ticks\":\"\",\"zerolinecolor\":\"white\"}},\"shapedefaults\":{\"line\":{\"color\":\"#2a3f5f\"}},\"ternary\":{\"aaxis\":{\"gridcolor\":\"white\",\"linecolor\":\"white\",\"ticks\":\"\"},\"baxis\":{\"gridcolor\":\"white\",\"linecolor\":\"white\",\"ticks\":\"\"},\"bgcolor\":\"#E5ECF6\",\"caxis\":{\"gridcolor\":\"white\",\"linecolor\":\"white\",\"ticks\":\"\"}},\"title\":{\"x\":0.05},\"xaxis\":{\"automargin\":true,\"gridcolor\":\"white\",\"linecolor\":\"white\",\"ticks\":\"\",\"title\":{\"standoff\":15},\"zerolinecolor\":\"white\",\"zerolinewidth\":2},\"yaxis\":{\"automargin\":true,\"gridcolor\":\"white\",\"linecolor\":\"white\",\"ticks\":\"\",\"title\":{\"standoff\":15},\"zerolinecolor\":\"white\",\"zerolinewidth\":2}}},\"title\":{\"text\":\"Tree of Most Common Words\"}},                        {\"responsive\": true}                    ).then(function(){\n",
       "                            \n",
       "var gd = document.getElementById('6d083fea-623f-4730-88f9-0e46bb8f08eb');\n",
       "var x = new MutationObserver(function (mutations, observer) {{\n",
       "        var display = window.getComputedStyle(gd).display;\n",
       "        if (!display || display === 'none') {{\n",
       "            console.log([gd, 'removed!']);\n",
       "            Plotly.purge(gd);\n",
       "            observer.disconnect();\n",
       "        }}\n",
       "}});\n",
       "\n",
       "// Listen for the removal of the full notebook cells\n",
       "var notebookContainer = gd.closest('#notebook-container');\n",
       "if (notebookContainer) {{\n",
       "    x.observe(notebookContainer, {childList: true});\n",
       "}}\n",
       "\n",
       "// Listen for the clearing of the current output cell\n",
       "var outputEl = gd.closest('.output');\n",
       "if (outputEl) {{\n",
       "    x.observe(outputEl, {childList: true});\n",
       "}}\n",
       "\n",
       "                        })                };                });            </script>        </div>"
      ]
     },
     "metadata": {},
     "output_type": "display_data"
    }
   ],
   "source": [
    "fig = px.treemap(temp, path=['Common_words'], values='count',title='Tree of Most Common Words')\n",
    "fig.show()"
   ]
  },
  {
   "cell_type": "code",
   "execution_count": 35,
   "id": "6340bf9a",
   "metadata": {},
   "outputs": [
    {
     "data": {
      "text/plain": [
       "(array([0, 0, 0, ..., 0, 1, 1], dtype=int64),\n",
       " Index(['negative', 'positive'], dtype='object'))"
      ]
     },
     "execution_count": 35,
     "metadata": {},
     "output_type": "execute_result"
    }
   ],
   "source": [
    "sentiment_label = text_df.sentiment.factorize()\n",
    "sentiment_label"
   ]
  },
  {
   "cell_type": "code",
   "execution_count": 36,
   "id": "2f5a6436",
   "metadata": {},
   "outputs": [],
   "source": [
    "text = text_df.text.values"
   ]
  },
  {
   "cell_type": "code",
   "execution_count": 37,
   "id": "d2455245",
   "metadata": {},
   "outputs": [],
   "source": [
    "new_text = []\n",
    "for t in text:\n",
    "    if type(t) == str:\n",
    "        t.lower()\n",
    "    \n",
    "        # Remove urls from the comments\n",
    "        t = re.sub(r\"http\\S+|www\\S+|https\\S+\", '', t, flags=re.MULTILINE)\n",
    "        # Remove user related references from the comments:: '@' and '#' \n",
    "        t = re.sub(r'\\@\\w+|\\#','', t)    \n",
    "        # Remove punctuations from the comments\n",
    "        t = t.translate(str.maketrans('', '', string.punctuation))    \n",
    "        # Remove numbers\n",
    "        table = str.maketrans('', '', digits)\n",
    "        t = t.translate(table)\n",
    "        #Remove emojis\n",
    "        t = clean(t, no_emoji=True)    \n",
    "        # Remove stopwords from the comments\n",
    "        text_tokens = word_tokenize(t)\n",
    "        filtered_words = [w for w in text_tokens if not w in stop_words]\n",
    "        joined_text = \" \".join(filtered_words)\n",
    "        new_text.append(joined_text)"
   ]
  },
  {
   "cell_type": "code",
   "execution_count": 38,
   "id": "1bb117cc",
   "metadata": {},
   "outputs": [],
   "source": [
    "tokenizer = Tokenizer(num_words=5000)\n",
    "tokenizer.fit_on_texts(new_text)\n",
    "vocab_size = len(tokenizer.word_index) + 1\n",
    "encoded_docs = tokenizer.texts_to_sequences(new_text)\n",
    "padded_sequence = pad_sequences(encoded_docs, maxlen=200)"
   ]
  },
  {
   "cell_type": "code",
   "execution_count": 39,
   "id": "69ed76e5",
   "metadata": {},
   "outputs": [
    {
     "name": "stdout",
     "output_type": "stream",
     "text": [
      "{'im': 1, 'day': 2, 'good': 3, 'love': 4, 'like': 5, 'happy': 6, 'get': 7, 'dont': 8, 'got': 9, 'go': 10, 'cant': 11, 'today': 12, 'really': 13, 'mothers': 14, 'work': 15, 'going': 16, 'thanks': 17, 'one': 18, 'u': 19, 'time': 20, 'know': 21, 'great': 22, 'lol': 23, 'back': 24, 'much': 25, 'miss': 26, 'night': 27, 'well': 28, 'hope': 29, 'see': 30, 'oh': 31, 'na': 32, 'new': 33, 'think': 34, 'fun': 35, 'still': 36, 'sad': 37, 'feel': 38, 'want': 39, 'home': 40, 'thats': 41, 'wish': 42, 'nice': 43, 'sorry': 44, 'morning': 45, 'bad': 46, 'haha': 47, 'last': 48, 'need': 49, 'would': 50, 'ill': 51, 'tonight': 52, 'better': 53, 'twitter': 54, 'tomorrow': 55, 'right': 56, 'awesome': 57, 'gon': 58, 'hate': 59, 'make': 60, 'didnt': 61, 'sleep': 62, 'thank': 63, 'best': 64, 'weekend': 65, 'could': 66, 'though': 67, 'week': 68, 'youre': 69, 'getting': 70, 'way': 71, 'come': 72, 'ive': 73, 'people': 74, 'yeah': 75, 'bed': 76, 'sick': 77, 'feeling': 78, 'wait': 79, 'even': 80, 'mom': 81, 'next': 82, 'school': 83, 'cool': 84, 'tired': 85, 'days': 86, 'say': 87, 'thing': 88, 'everyone': 89, 'friends': 90, 'life': 91, 'sucks': 92, 'little': 93, 'show': 94, 'long': 95, 'amazing': 96, 'watching': 97, 'sure': 98, 'soon': 99, 'wont': 100, 'ever': 101, 'never': 102, 'guys': 103, 'may': 104, 'look': 105, 'working': 106, 'already': 107, 'man': 108, 'always': 109, 'ok': 110, 'pretty': 111, 'movie': 112, 'hey': 113, 'yay': 114, 'done': 115, 'ugh': 116, 'another': 117, 'doesnt': 118, 'wan': 119, 'first': 120, 'please': 121, 'yes': 122, 'us': 123, 'house': 124, 'made': 125, 'ur': 126, 'wow': 127, 'take': 128, 'something': 129, 'x': 130, 'omg': 131, 'bored': 132, 'looks': 133, 'hard': 134, 'star': 135, 'missed': 136, 'big': 137, 'moms': 138, 'glad': 139, 'looking': 140, 'trying': 141, 'finally': 142, 'girl': 143, 'hours': 144, 'old': 145, 'excited': 146, 'also': 147, 'hurts': 148, 'enjoy': 149, 'away': 150, 'went': 151, 'find': 152, 'hot': 153, 'poor': 154, 'thought': 155, 'phone': 156, 'birthday': 157, 'makes': 158, 'let': 159, 'hear': 160, 'world': 161, 'yet': 162, 'stupid': 163, 'year': 164, 'friday': 165, 'job': 166, 'ready': 167, 'aww': 168, 'left': 169, 'lost': 170, 'saw': 171, 'monday': 172, 'missing': 173, 'things': 174, 'two': 175, 'watch': 176, 'song': 177, 'friend': 178, 'th': 179, 'n': 180, 'someone': 181, 'cute': 182, 'weather': 183, 'god': 184, 'ya': 185, 'keep': 186, 'sounds': 187, 'luck': 188, 'havent': 189, 'help': 190, 'family': 191, 'baby': 192, 'isnt': 193, 'bit': 194, 'follow': 195, 'music': 196, 'funny': 197, 'yesterday': 198, 'live': 199, 'guess': 200, 'nothing': 201, 'maybe': 202, 'tweet': 203, 'head': 204, 'lot': 205, 'try': 206, 'said': 207, 'many': 208, 'welcome': 209, 'since': 210, 'stuff': 211, 'rain': 212, 'hes': 213, 'beautiful': 214, 'sweet': 215, 'hi': 216, 'forward': 217, 'gone': 218, 'actually': 219, 'late': 220, 'start': 221, 'lovely': 222, 'must': 223, 'anything': 224, 'believe': 225, 'later': 226, 'give': 227, 'cause': 228, 'party': 229, 'times': 230, 'around': 231, 'totally': 232, 'id': 233, 'talk': 234, 'found': 235, 'car': 236, 'shes': 237, 'coming': 238, 'without': 239, 'summer': 240, 'making': 241, 'stop': 242, 'sun': 243, 'tell': 244, 'headache': 245, 'early': 246, 'put': 247, 'ta': 248, 'read': 249, 'almost': 250, 'cold': 251, 'sooo': 252, 'mean': 253, 'might': 254, 'wasnt': 255, 'food': 256, 'hair': 257, 'sunday': 258, 'loved': 259, 'play': 260, 'end': 261, 'far': 262, 'money': 263, 'call': 264, 'b': 265, 'couldnt': 266, 'game': 267, 'goodnight': 268, 'wanted': 269, 'thinking': 270, 'leave': 271, 'mine': 272, 'wars': 273, 'everything': 274, 'eat': 275, 'till': 276, 'hell': 277, 'listening': 278, 'outside': 279, 'check': 280, 'wonderful': 281, 'wrong': 282, 'free': 283, 'whats': 284, 'stuck': 285, 'dinner': 286, 'place': 287, 'coffee': 288, 'cry': 289, 'followers': 290, 'least': 291, 'every': 292, 'anymore': 293, 'lunch': 294, 'hopefully': 295, 'hour': 296, 'waiting': 297, 'hurt': 298, 'super': 299, 'hahaha': 300, 'saturday': 301, 'okay': 302, 'finished': 303, 'kinda': 304, 'kids': 305, 'real': 306, 'fail': 307, 'whole': 308, 'tho': 309, 'soo': 310, 'enough': 311, 'woke': 312, 'book': 313, 'loves': 314, 'ha': 315, 'use': 316, 'years': 317, 'anyone': 318, 'probably': 319, 'pic': 320, 'idea': 321, 'internet': 322, 'came': 323, 'forgot': 324, 'dude': 325, 'girls': 326, 'playing': 327, 'crazy': 328, 'took': 329, 'seeing': 330, 'kind': 331, 'feels': 332, 'theres': 333, 'perfect': 334, 'alone': 335, 'quite': 336, 'hit': 337, 'w': 338, 'taking': 339, 'broke': 340, 'dog': 341, 'office': 342, 'r': 343, 'mum': 344, 'lots': 345, 'tv': 346, 'seen': 347, 'class': 348, 'mommy': 349, 'weeks': 350, 'face': 351, 'busy': 352, 'eating': 353, 'break': 354, 'theyre': 355, 'rest': 356, 'dad': 357, 'awww': 358, 'wants': 359, 'lucky': 360, 'watched': 361, 'following': 362, 'able': 363, 'ago': 364, 'gets': 365, 'full': 366, 'evening': 367, 'true': 368, 'guy': 369, 'says': 370, 'favorite': 371, 'holiday': 372, 'sore': 373, 'boring': 374, 'buy': 375, 'seems': 376, 'name': 377, 'hoping': 378, 'sitting': 379, 'suck': 380, 'used': 381, 'fan': 382, 'video': 383, 'else': 384, 'pain': 385, 'cuz': 386, 'btw': 387, 'starting': 388, 'dead': 389, 'meet': 390, 'boo': 391, 'mind': 392, 'news': 393, 'shopping': 394, 'problem': 395, 'bank': 396, 'soooo': 397, 'mother': 398, 'heard': 399, 'trek': 400, 'talking': 401, 'instead': 402, 'moment': 403, 'either': 404, 'tried': 405, 'win': 406, 'room': 407, 'trip': 408, 'tweets': 409, 'nite': 410, 'awake': 411, 'month': 412, 'move': 413, 'run': 414, 'interesting': 415, 'ones': 416, 'til': 417, 'definitely': 418, 'stay': 419, 'youll': 420, 'lmao': 421, 'called': 422, 'sigh': 423, 'sadly': 424, 'picture': 425, 'running': 426, 'minutes': 427, 'post': 428, 'sleeping': 429, 'fine': 430, 'high': 431, 'wtf': 432, 'liked': 433, 'online': 434, 'pm': 435, 'computer': 436, 'person': 437, 'half': 438, 'eyes': 439, 'worst': 440, 'months': 441, 'told': 442, 'lets': 443, 'change': 444, 'drive': 445, 'fair': 446, 'wishing': 447, 'hello': 448, 'sometimes': 449, 'gave': 450, 'heart': 451, 'goes': 452, 'broken': 453, 'started': 454, 'due': 455, 'part': 456, 'lil': 457, 'special': 458, 'bought': 459, 'hehe': 460, 'aw': 461, 'iphone': 462, 'concert': 463, 'p': 464, 'writing': 465, 'worth': 466, 'facebook': 467, 'ah': 468, 'blog': 469, 'email': 470, 'site': 471, 'remember': 472, 'sound': 473, 'hugs': 474, 'hungry': 475, 'reason': 476, 'dream': 477, 'boy': 478, 'congrats': 479, 'mad': 480, 'care': 481, 'la': 482, 'asleep': 483, 'seriously': 484, 'set': 485, 'anyway': 486, 'spend': 487, 'june': 488, 'everybody': 489, 'xd': 490, 'open': 491, 'songs': 492, 'ice': 493, 'wouldnt': 494, 'chocolate': 495, 'unfortunately': 496, 'beach': 497, 'hang': 498, 'bless': 499, 'bday': 500, 'happened': 501, 'weird': 502, 'st': 503, 'yall': 504, 'youtube': 505, 'enjoying': 506, 'supposed': 507, 'close': 508, 'water': 509, 'slow': 510, 'upset': 511, 'seem': 512, 'flu': 513, 'died': 514, 'mood': 515, 'fantastic': 516, 'together': 517, 'sunny': 518, 'especially': 519, 'saying': 520, 'catch': 521, 'breakfast': 522, 'reading': 523, 'jealous': 524, 'means': 525, 'nd': 526, 'movies': 527, 'fast': 528, 'ppl': 529, 'happen': 530, 'aint': 531, 'worry': 532, 'ahh': 533, 'cut': 534, 'forget': 535, 'vote': 536, 'couple': 537, 'heading': 538, 'fb': 539, 'wishes': 540, 'crying': 541, 'drink': 542, 'babe': 543, 'horrible': 544, 'comes': 545, 'city': 546, 'top': 547, 'meeting': 548, 'yum': 549, 'season': 550, 'dear': 551, 'red': 552, 'worse': 553, 'turn': 554, 'warm': 555, 'hates': 556, 'rock': 557, 'dreams': 558, 'pics': 559, 'knew': 560, 'stomach': 561, 'send': 562, 'boys': 563, 'youve': 564, 'sister': 565, 'loving': 566, 'exam': 567, 'absolutely': 568, 'reply': 569, 'mums': 570, 'ask': 571, 'throat': 572, 'luv': 573, 'relaxing': 574, 'driving': 575, 'needs': 576, 'lonely': 577, 'final': 578, 'link': 579, 'leaving': 580, 'yummy': 581, 'shower': 582, 'c': 583, 'lady': 584, 'plus': 585, 'pictures': 586, 'yea': 587, 'album': 588, 'past': 589, 'uk': 590, 'son': 591, 'laptop': 592, 'plans': 593, 'chance': 594, 'photo': 595, 'bgt': 596, 'bout': 597, 'moving': 598, 'bye': 599, 'second': 600, 'kid': 601, 'appreciate': 602, 'three': 603, 'die': 604, 'using': 605, 'afternoon': 606, 'thx': 607, 'save': 608, 'card': 609, 'wake': 610, 'fell': 611, 'account': 612, 'exciting': 613, 'agree': 614, 'dang': 615, 'london': 616, 'date': 617, 'smile': 618, 'write': 619, 'point': 620, 'course': 621, 'pizza': 622, 'tickets': 623, 'needed': 624, 'raining': 625, 'cat': 626, 'earlier': 627, 'hand': 628, 'hun': 629, 'tweeting': 630, 'walk': 631, 'traffic': 632, 'jonas': 633, 'test': 634, 'episode': 635, 'easy': 636, 'ride': 637, 'photos': 638, 'spent': 639, 'fall': 640, 'learn': 641, 'da': 642, 'tummy': 643, 'cream': 644, 'living': 645, 'drunk': 646, 'mr': 647, 'looked': 648, 'cake': 649, 'goin': 650, 'ps': 651, 'tea': 652, 'congratulations': 653, 'sat': 654, 'tour': 655, 'fact': 656, 'bike': 657, 'problems': 658, 'text': 659, 'safe': 660, 'exams': 661, 'garden': 662, 'longer': 663, 'ate': 664, 'park': 665, 'yep': 666, 'forever': 667, 'proud': 668, 'body': 669, 'near': 670, 'gutted': 671, 'along': 672, 'k': 673, 'behind': 674, 'arent': 675, 'white': 676, 'town': 677, 'shows': 678, 'rather': 679, 'less': 680, 'bus': 681, 'cos': 682, 'ipod': 683, 'ouch': 684, 'bc': 685, 'shame': 686, 'ohh': 687, 'john': 688, 'prom': 689, 'feet': 690, 'finish': 691, 'brother': 692, 'ahhh': 693, 'clean': 694, 'sunshine': 695, 'list': 696, 'rip': 697, 'hospital': 698, 'words': 699, 'bring': 700, 'listen': 701, 'short': 702, 'xoxo': 703, 'chillin': 704, 'lame': 705, 'nap': 706, 'works': 707, 'english': 708, 'cleaning': 709, 'huge': 710, 'brothers': 711, 'fix': 712, 'inside': 713, 'gorgeous': 714, 'meant': 715, 'idk': 716, 'wedding': 717, 'gift': 718, 'snl': 719, 'em': 720, 'beer': 721, 'figure': 722, 'annoying': 723, 'hug': 724, 'gym': 725, 'thinks': 726, 'page': 727, 'sleepy': 728, 'study': 729, 'side': 730, 'officially': 731, 'radio': 732, 'alot': 733, 'completely': 734, 'camera': 735, 'understand': 736, 'hahah': 737, 'hanging': 738, 'cheers': 739, 'hilarious': 740, 'middle': 741, 'wine': 742, 'decided': 743, 'google': 744, 'felt': 745, 'flight': 746, 'dogs': 747, 'parents': 748, 'support': 749, 'answer': 750, 'bet': 751, 'drinking': 752, 'fans': 753, 'slept': 754, 'visit': 755, 'message': 756, 'played': 757, 'nights': 758, 'team': 759, 'starts': 760, 'project': 761, 'delicious': 762, 'happens': 763, 'failed': 764, 'worried': 765, 'woo': 766, 'kill': 767, 'singing': 768, 'legs': 769, 'sooooo': 770, 'wondering': 771, 'different': 772, 'future': 773, 'dance': 774, 'homework': 775, 'black': 776, 'join': 777, 'lazy': 778, 'wife': 779, 'shoes': 780, 'bummed': 781, 'apparently': 782, 'mac': 783, 'rainy': 784, 'story': 785, 'ran': 786, 'none': 787, 'daddy': 788, 'mins': 789, 'feelin': 790, 'finger': 791, 'air': 792, 'stopped': 793, 'enjoyed': 794, 'mama': 795, 'afraid': 796, 'moon': 797, 'apple': 798, 'awful': 799, 'thanx': 800, 'yr': 801, 'update': 802, 'word': 803, 'etc': 804, 'thursday': 805, 'july': 806, 'blast': 807, 'ooh': 808, 'itll': 809, 'single': 810, 'indeed': 811, 'bbq': 812, 'graduation': 813, 'terrible': 814, 'miles': 815, 'killing': 816, 'disappointed': 817, 'followed': 818, 'small': 819, 'trouble': 820, 'l': 821, 'company': 822, 'scared': 823, 'clothes': 824, 'men': 825, 'chat': 826, 'packing': 827, 'church': 828, 'favourite': 829, 'shop': 830, 'pick': 831, 'bloody': 832, 'freakin': 833, 'burnt': 834, 'hmm': 835, 'business': 836, 'sis': 837, 'dancing': 838, 'waking': 839, 'share': 840, 'cup': 841, 'college': 842, 'bummer': 843, 'david': 844, 'interview': 845, 'taylor': 846, 'voice': 847, 'french': 848, 'plan': 849, 'pass': 850, 'windows': 851, 'cancelled': 852, 'sit': 853, 'boyfriend': 854, 'giving': 855, 'wearing': 856, 'train': 857, 'shouldnt': 858, 'present': 859, 'everyday': 860, 'chicken': 861, 'shirt': 862, 'pool': 863, 'takes': 864, 'swine': 865, 'whatever': 866, 'fav': 867, 'wear': 868, 'cheese': 869, 'killed': 870, 'e': 871, 'website': 872, 'bro': 873, 'exactly': 874, 'deserve': 875, 'sing': 876, 'goodbye': 877, 'club': 878, 'band': 879, 'joy': 880, 'death': 881, 'nope': 882, 'low': 883, 'app': 884, 'sending': 885, 'messed': 886, 'extra': 887, 'surprise': 888, 'pay': 889, 'fam': 890, 'mate': 891, 'fever': 892, 'met': 893, 'dads': 894, 'dammit': 895, 'quick': 896, 'children': 897, 'matter': 898, 'sweetie': 899, 'young': 900, 'fab': 901, 'classes': 902, 'jon': 903, 'paper': 904, 'blue': 905, 'keeps': 906, 'cried': 907, 'number': 908, 'outta': 909, 'justin': 910, 'store': 911, 'hahahaha': 912, 'tom': 913, 'fingers': 914, 'math': 915, 'revision': 916, 'wonder': 917, 'v': 918, 'scary': 919, 'lately': 920, 'realized': 921, 'stand': 922, 'ages': 923, 'depressing': 924, 'sent': 925, 'talent': 926, 'puppy': 927, 'via': 928, 'five': 929, 'rocks': 930, 'yo': 931, 'excellent': 932, 'service': 933, 'dnt': 934, 'nyc': 935, 'blah': 936, 'bag': 937, 'cd': 938, 'fly': 939, 'kno': 940, 'others': 941, 'likes': 942, 'foot': 943, 'sharing': 944, 'fml': 945, 'sign': 946, 'helping': 947, 'f': 948, 'twilight': 949, 'mommies': 950, 'lose': 951, 'heat': 952, 'cook': 953, 'productive': 954, 'tuesday': 955, 'laugh': 956, 'return': 957, 'books': 958, 'dress': 959, 'hurting': 960, 'line': 961, 'afford': 962, 'front': 963, 'travel': 964, 'dark': 965, 'mobile': 966, 'mommys': 967, 'entire': 968, 'nobody': 969, 'deal': 970, 'except': 971, 'messages': 972, 'stressed': 973, 'power': 974, 'mess': 975, 'round': 976, 'case': 977, 'g': 978, 'sold': 979, 'blessed': 980, 'screen': 981, 'depressed': 982, 'gig': 983, 'spending': 984, 'version': 985, 'fave': 986, 'beat': 987, 'pray': 988, 'experience': 989, 'gosh': 990, 'jus': 991, 'shut': 992, 'coz': 993, 'group': 994, 'serious': 995, 'session': 996, 'profile': 997, 'games': 998, 'sexy': 999, 'joke': 1000, 'sense': 1001, 'arms': 1002, 'eh': 1003, 'itunes': 1004, 'upload': 1005, 'miley': 1006, 'ohhh': 1007, 'sale': 1008, 'load': 1009, 'vegas': 1010, 'hrs': 1011, 'ima': 1012, 'def': 1013, 'gettin': 1014, 'asking': 1015, 'blackberry': 1016, 'add': 1017, 'germany': 1018, 'comment': 1019, 'ladies': 1020, 'showing': 1021, 'track': 1022, 'darn': 1023, 'alright': 1024, 'impressed': 1025, 'taken': 1026, 'barely': 1027, 'ball': 1028, 'minute': 1029, 'design': 1030, 'knee': 1031, 'apart': 1032, 'freaking': 1033, 'prob': 1034, 'mention': 1035, 'peace': 1036, 'walking': 1037, 'neck': 1038, 'laying': 1039, 'film': 1040, 'surgery': 1041, 'daughter': 1042, 'cats': 1043, 'turned': 1044, 'history': 1045, 'everywhere': 1046, 'posted': 1047, 'followfriday': 1048, 'fight': 1049, 'swear': 1050, 'expensive': 1051, 'across': 1052, 'pissed': 1053, 'moved': 1054, 'important': 1055, 'become': 1056, 'system': 1057, 'falling': 1058, 'oops': 1059, 'ff': 1060, 'public': 1061, 'dvd': 1062, 'burned': 1063, 'although': 1064, 'min': 1065, 'nose': 1066, 'currently': 1067, 'anyways': 1068, 'macbook': 1069, 'pc': 1070, 'green': 1071, 'flowers': 1072, 'breaking': 1073, 'studying': 1074, 'checked': 1075, 'art': 1076, 'usually': 1077, 'losing': 1078, 'fit': 1079, 'hannah': 1080, 'putting': 1081, 'truly': 1082, 'brought': 1083, 'note': 1084, 'hubby': 1085, 'epic': 1086, 'exhausted': 1087, 'happiness': 1088, 'healthy': 1089, 'ny': 1090, 'kick': 1091, 'worked': 1092, 'age': 1093, 'earth': 1094, 'self': 1095, 'mouth': 1096, 'shift': 1097, 'fresh': 1098, 'strange': 1099, 'america': 1100, 'huh': 1101, 'somebody': 1102, 'ring': 1103, 'lay': 1104, 'magic': 1105, 'blood': 1106, 'stick': 1107, 'woman': 1108, 'holidays': 1109, 'sux': 1110, 'pink': 1111, 'shall': 1112, 'info': 1113, 'starbucks': 1114, 'hoo': 1115, 'cover': 1116, 'simple': 1117, 'australia': 1118, 'sucked': 1119, 'britains': 1120, 'lake': 1121, 'ugly': 1122, 'knows': 1123, 'ben': 1124, 'choice': 1125, 'peeps': 1126, 'somewhere': 1127, 'series': 1128, 'tweetdeck': 1129, 'cheer': 1130, 'cousins': 1131, 'sam': 1132, 'quiet': 1133, 'record': 1134, 'possible': 1135, 'updates': 1136, 'fighting': 1137, 'dunno': 1138, 'cars': 1139, 'myspace': 1140, 'liking': 1141, 'bug': 1142, 'argh': 1143, 'match': 1144, 'ticket': 1145, 'kiss': 1146, 'tough': 1147, 'ruined': 1148, 'learned': 1149, 'bar': 1150, 'silly': 1151, 'wheres': 1152, 'gives': 1153, 'vacation': 1154, 'usual': 1155, 'follower': 1156, 'chinese': 1157, 'fat': 1158, 'major': 1159, 'honey': 1160, 'anytime': 1161, 'vid': 1162, 'keeping': 1163, 'delayed': 1164, 'philippines': 1165, 'mix': 1166, 'momma': 1167, 'burn': 1168, 'opening': 1169, 'mommas': 1170, 'ahead': 1171, 'videos': 1172, 'teeth': 1173, 'random': 1174, 'window': 1175, 'blocked': 1176, 'download': 1177, 'ily': 1178, 'touch': 1179, 'light': 1180, 'badly': 1181, 'changed': 1182, 'fault': 1183, 'sydney': 1184, 'mondays': 1185, 'fabulous': 1186, 'milk': 1187, 'brain': 1188, 'wit': 1189, 'telling': 1190, 'pleasure': 1191, 'misses': 1192, 'nah': 1193, 'wednesday': 1194, 'chill': 1195, 'leg': 1196, 'boss': 1197, 'meal': 1198, 'holy': 1199, 'suppose': 1200, 'machine': 1201, 'thoughts': 1202, 'space': 1203, 'xmen': 1204, 'ended': 1205, 'teaching': 1206, 'painful': 1207, 'mcfly': 1208, 'migraine': 1209, 'celebrate': 1210, 'sunburn': 1211, 'jack': 1212, 'table': 1213, 'caught': 1214, 'kitchen': 1215, 'north': 1216, 'bb': 1217, 'street': 1218, 'um': 1219, 'rd': 1220, 'area': 1221, 'greg': 1222, 'presentation': 1223, 'xo': 1224, 'cousin': 1225, 'block': 1226, 'august': 1227, 'floor': 1228, 'arm': 1229, 'web': 1230, 'twittering': 1231, 'fourth': 1232, 'box': 1233, 'youd': 1234, 'pack': 1235, 'awe': 1236, 'spot': 1237, 'advice': 1238, 'imma': 1239, 'copy': 1240, 'given': 1241, 'loss': 1242, 'mrs': 1243, 'calling': 1244, 'hadnt': 1245, 'kate': 1246, 'order': 1247, 'imagine': 1248, 'local': 1249, 'weve': 1250, 'hands': 1251, 'code': 1252, 'fixed': 1253, 'anybody': 1254, 'ahhhh': 1255, 'conversation': 1256, 'lives': 1257, 'aha': 1258, 'husband': 1259, 'california': 1260, 'crappy': 1261, 'happening': 1262, 'throw': 1263, 'stress': 1264, 'despite': 1265, 'asked': 1266, 'tix': 1267, 'sort': 1268, 'mamas': 1269, 'san': 1270, 'access': 1271, 'available': 1272, 'celebrating': 1273, 'wolverine': 1274, 'hr': 1275, 'listened': 1276, 'shot': 1277, 'confused': 1278, 'passed': 1279, 'wide': 1280, 'tongue': 1281, 'awsome': 1282, 'dying': 1283, 'several': 1284, 'laundry': 1285, 'successful': 1286, 'calls': 1287, 'fake': 1288, 'planning': 1289, 'juice': 1290, 'uncle': 1291, 'screwed': 1292, 'becoming': 1293, 'race': 1294, 'count': 1295, 'alex': 1296, 'doin': 1297, 'planned': 1298, 'double': 1299, 'piece': 1300, 'issues': 1301, 'midnight': 1302, 'figured': 1303, 'twitpic': 1304, 'adorable': 1305, 'nervous': 1306, 'lookin': 1307, 'slowly': 1308, 'beyond': 1309, 'style': 1310, 'complete': 1311, 'credit': 1312, 'deep': 1313, 'latest': 1314, 'ache': 1315, 'staying': 1316, 'canada': 1317, 'interested': 1318, 'tweeps': 1319, 'loads': 1320, 'angry': 1321, 'soup': 1322, 'quiz': 1323, 'j': 1324, 'practice': 1325, 'door': 1326, 'nick': 1327, 'smh': 1328, 'drama': 1329, 'chilling': 1330, 'expected': 1331, 'heh': 1332, 'er': 1333, 'four': 1334, 'chicago': 1335, 'kisses': 1336, 'bird': 1337, 'wat': 1338, 'easier': 1339, 'closed': 1340, 'gah': 1341, 'reality': 1342, 'ac': 1343, 'buying': 1344, 'downloaded': 1345, 'places': 1346, 'gotten': 1347, 'however': 1348, 'laughed': 1349, 'energy': 1350, 'cnt': 1351, 'mmm': 1352, 'drop': 1353, 'question': 1354, 'states': 1355, 'thunder': 1356, 'praying': 1357, 'quote': 1358, 'oo': 1359, 'background': 1360, 'tear': 1361, 'third': 1362, 'twit': 1363, 'bah': 1364, 'washing': 1365, 'hopes': 1366, 'voted': 1367, 'hella': 1368, 'wild': 1369, 'friendly': 1370, 'paying': 1371, 'partying': 1372, 'tonite': 1373, 'drag': 1374, 'review': 1375, 'dentist': 1376, 'talented': 1377, 'hardly': 1378, 'goodmorning': 1379, 'cooking': 1380, 'slightly': 1381, 'six': 1382, 'asap': 1383, 'wii': 1384, 'boston': 1385, 'yup': 1386, 'nowhere': 1387, 'rofl': 1388, 'havin': 1389, 'greatest': 1390, 'rice': 1391, 'shoot': 1392, 'action': 1393, 'cost': 1394, 'excuse': 1395, 'mail': 1396, 'wee': 1397, 'disney': 1398, 'known': 1399, 'rains': 1400, 'editing': 1401, 'waste': 1402, 'besides': 1403, 'worries': 1404, 'hugh': 1405, 'weekends': 1406, 'tha': 1407, 'shining': 1408, 'recommend': 1409, 'paid': 1410, 'library': 1411, 'net': 1412, 'grr': 1413, 'plane': 1414, 'sandwich': 1415, 'hangover': 1416, 'christian': 1417, 'charge': 1418, 'crash': 1419, 'honestly': 1420, 'everyones': 1421, 'annoyed': 1422, 'wed': 1423, 'apps': 1424, 'realize': 1425, 'american': 1426, 'noooo': 1427, 'wisdom': 1428, 'road': 1429, 'bf': 1430, 'dave': 1431, 'folks': 1432, 'wanting': 1433, 'basically': 1434, 'abt': 1435, 'unless': 1436, 'promise': 1437, 'hasnt': 1438, 'key': 1439, 'woop': 1440, 'tooo': 1441, 'lived': 1442, 'emails': 1443, 'price': 1444, 'country': 1445, 'button': 1446, 'fancy': 1447, 'fish': 1448, 'guitar': 1449, 'evil': 1450, 'blame': 1451, 'law': 1452, 'nearly': 1453, 'social': 1454, 'ms': 1455, 'theatre': 1456, 'fire': 1457, 'land': 1458, 'positive': 1459, 'thankyou': 1460, 'coast': 1461, 'involved': 1462, 'finding': 1463, 'event': 1464, 'kelly': 1465, 'montana': 1466, 'alcohol': 1467, 'hat': 1468, 'pet': 1469, 'addicted': 1470, 'soooooo': 1471, 'relax': 1472, 'bottle': 1473, 'dirty': 1474, 'ocean': 1475, 'allowed': 1476, 'giant': 1477, 'workout': 1478, 'starving': 1479, 'ew': 1480, 'loud': 1481, 'parking': 1482, 'noo': 1483, 'degrees': 1484, 'notes': 1485, 'cell': 1486, 'degree': 1487, 'helps': 1488, 'act': 1489, 'toe': 1490, 'jobs': 1491, 'trailer': 1492, 'treat': 1493, 'atm': 1494, 'massive': 1495, 'nooo': 1496, 'cable': 1497, 'roast': 1498, 'somehow': 1499, 'finals': 1500, 'wet': 1501, 'plenty': 1502, 'often': 1503, 'state': 1504, 'battery': 1505, 'laughing': 1506, 'added': 1507, 'ordered': 1508, 'dumb': 1509, 'chris': 1510, 'holly': 1511, 'balls': 1512, 'chick': 1513, 'attempt': 1514, 'ryan': 1515, 'dressed': 1516, 'fridays': 1517, 'hills': 1518, 'father': 1519, 'jk': 1520, 'memories': 1521, 'cheap': 1522, 'sum': 1523, 'hmmm': 1524, 'insane': 1525, 'truth': 1526, 'grrr': 1527, 'rocked': 1528, 'sky': 1529, 'wicked': 1530, 'sunburnt': 1531, 'hulu': 1532, 'tweeted': 1533, 'makin': 1534, 'frustrated': 1535, 'strong': 1536, 'lines': 1537, 'mistake': 1538, 'bill': 1539, 'grey': 1540, 'period': 1541, 'nuts': 1542, 'anniversary': 1543, 'daughters': 1544, 'attack': 1545, 'tgif': 1546, 'chest': 1547, 'thnx': 1548, 'spam': 1549, 'incredible': 1550, 'swim': 1551, 'student': 1552, 'doubt': 1553, 'choose': 1554, 'bands': 1555, 'tweeters': 1556, 'egg': 1557, 'idiot': 1558, 'pull': 1559, 'desk': 1560, 'gr': 1561, 'texting': 1562, 'woohoo': 1563, 'mall': 1564, 'bags': 1565, 'cancer': 1566, 'letting': 1567, 'allergies': 1568, 'loser': 1569, 'dr': 1570, 'purple': 1571, 'hunting': 1572, 'normal': 1573, 'bff': 1574, 'notice': 1575, 'todays': 1576, 'west': 1577, 'hero': 1578, 'studio': 1579, 'picked': 1580, 'straight': 1581, 'tonights': 1582, 'thankful': 1583, 'mark': 1584, 'craving': 1585, 'apartment': 1586, 'ton': 1587, 'eye': 1588, 'demi': 1589, 'doc': 1590, 'joe': 1591, 'ups': 1592, 'dry': 1593, 'bath': 1594, 'ga': 1595, 'performance': 1596, 'photography': 1597, 'jay': 1598, 'attention': 1599, 'truck': 1600, 'accident': 1601, 'board': 1602, 'reminds': 1603, 'feelings': 1604, 'women': 1605, 'surprisingly': 1606, 'bay': 1607, 'speak': 1608, 'born': 1609, 'pills': 1610, 'speech': 1611, 'glasses': 1612, 'lmfao': 1613, 'network': 1614, 'teacher': 1615, 'grown': 1616, 'thru': 1617, 'sober': 1618, 'crush': 1619, 'rocking': 1620, 'reviews': 1621, 'ahaha': 1622, 'normally': 1623, 'report': 1624, 'cards': 1625, 'sugar': 1626, 'forced': 1627, 'pancakes': 1628, 'baseball': 1629, 'heres': 1630, 'bein': 1631, 'covered': 1632, 'doctor': 1633, 'mostly': 1634, 'urgh': 1635, 'empty': 1636, 'pls': 1637, 'driver': 1638, 'anywhere': 1639, 'accidentally': 1640, 'issue': 1641, 'airport': 1642, 'sometime': 1643, 'tan': 1644, 'sara': 1645, 'steve': 1646, 'regret': 1647, 'ty': 1648, 'canceled': 1649, 'bright': 1650, 'crossed': 1651, 'hows': 1652, 'onto': 1653, 'article': 1654, 'freezing': 1655, 'noticed': 1656, 'turns': 1657, 'deleted': 1658, 'headed': 1659, 'arrived': 1660, 'difficult': 1661, 'lakers': 1662, 'center': 1663, 'ow': 1664, 'oooh': 1665, 'fyi': 1666, 'request': 1667, 'talkin': 1668, 'literally': 1669, 'brand': 1670, 'taste': 1671, 'de': 1672, 'conference': 1673, 'bothered': 1674, 'henrie': 1675, 'host': 1676, 'talked': 1677, 'shots': 1678, 'schools': 1679, 'hurry': 1680, 'twice': 1681, 'whew': 1682, 'results': 1683, 'gb': 1684, 'roll': 1685, 'hated': 1686, 'smiling': 1687, 'mi': 1688, 'hotel': 1689, 'smells': 1690, 'yah': 1691, 'finishing': 1692, 'someday': 1693, 'kidding': 1694, 'dc': 1695, 'adding': 1696, 'loose': 1697, 'tip': 1698, 'square': 1699, 'fully': 1700, 'respect': 1701, 'cloudy': 1702, 'knowing': 1703, 'gloomy': 1704, 'brazil': 1705, 'bother': 1706, 'within': 1707, 'lord': 1708, 'metal': 1709, 'fed': 1710, 'player': 1711, 'catching': 1712, 'package': 1713, 'details': 1714, 'uni': 1715, 'sushi': 1716, 'wireless': 1717, 'awards': 1718, 'bum': 1719, 'goodness': 1720, 'managed': 1721, 'golden': 1722, 'incredibly': 1723, 'scene': 1724, 'picking': 1725, 'cali': 1726, 'lie': 1727, 'closing': 1728, 'alarm': 1729, 'odd': 1730, 'dropped': 1731, 'dm': 1732, 'score': 1733, 'married': 1734, 'jam': 1735, 'hee': 1736, 'stayed': 1737, 'rubbish': 1738, 'hav': 1739, 'dat': 1740, 'bunny': 1741, 'parts': 1742, 'mo': 1743, 'marathon': 1744, 'downtown': 1745, 'suffering': 1746, 'brilliant': 1747, 'bahaha': 1748, 'smiles': 1749, 'journey': 1750, 'uh': 1751, 'juss': 1752, 'texas': 1753, 'pity': 1754, 'yer': 1755, 'nooooo': 1756, 'tooth': 1757, 'diet': 1758, 'screw': 1759, 'vista': 1760, 'animals': 1761, 'dishes': 1762, 'bunch': 1763, 'damnit': 1764, 'research': 1765, 'essay': 1766, 'matt': 1767, 'december': 1768, 'cavs': 1769, 'comfy': 1770, 'cuddle': 1771, 'nails': 1772, 'including': 1773, 'swollen': 1774, 'james': 1775, 'role': 1776, 'chips': 1777, 'suggestions': 1778, 'noon': 1779, 'aswell': 1780, 'grad': 1781, 'replies': 1782, 'mini': 1783, 'disappointing': 1784, 'tears': 1785, 'andy': 1786, 'cross': 1787, 'grab': 1788, 'bones': 1789, 'honest': 1790, 'push': 1791, 'budget': 1792, 'channel': 1793, 'joined': 1794, 'drove': 1795, 'swimming': 1796, 'created': 1797, 'female': 1798, 'van': 1799, 'pa': 1800, 'smart': 1801, 'jokes': 1802, 'questions': 1803, 'wats': 1804, 'yrs': 1805, 'flick': 1806, 'nasty': 1807, 'drinks': 1808, 'comments': 1809, 'whenever': 1810, 'mmmm': 1811, 'million': 1812, 'ohhhh': 1813, 'gas': 1814, 'lead': 1815, 'hollyoaks': 1816, 'piss': 1817, 'crack': 1818, 'desktop': 1819, 'large': 1820, 'extremely': 1821, 'appreciated': 1822, 'failing': 1823, 'constantly': 1824, 'rite': 1825, 'connection': 1826, 'hangin': 1827, 'ideas': 1828, 'humor': 1829, 'hah': 1830, 'recipe': 1831, 'cupcakes': 1832, 'screaming': 1833, 'properly': 1834, 'tune': 1835, 'police': 1836, 'camp': 1837, 'proper': 1838, 'pulled': 1839, 'peanut': 1840, 'kitty': 1841, 'butt': 1842, 'gear': 1843, 'ignore': 1844, 'direct': 1845, 'wknd': 1846, 'usb': 1847, 'michael': 1848, 'waitin': 1849, 'weak': 1850, 'pair': 1851, 'bacon': 1852, 'ooo': 1853, 'crashed': 1854, 'pants': 1855, 'miami': 1856, 'atleast': 1857, 'paramore': 1858, 'level': 1859, 'whos': 1860, 'trains': 1861, 'cab': 1862, 'paranoid': 1863, 'heaven': 1864, 'ten': 1865, 'spring': 1866, 'retweet': 1867, 'skin': 1868, 'row': 1869, 'cookie': 1870, 'theyve': 1871, 'fruit': 1872, 'wouldve': 1873, 'characters': 1874, 'clever': 1875, 'york': 1876, 'msg': 1877, 'plain': 1878, 'booked': 1879, 'meeee': 1880, 'turning': 1881, 'shiny': 1882, 'surprised': 1883, 'rich': 1884, 'grandma': 1885, 'buddy': 1886, 'release': 1887, 'manchester': 1888, 'babies': 1889, 'ummm': 1890, 'gud': 1891, 'lack': 1892, 'recovering': 1893, 'delivery': 1894, 'ay': 1895, 'soul': 1896, 'sadness': 1897, 'heck': 1898, 'owe': 1899, 'chem': 1900, 'grand': 1901, 'wrote': 1902, 'meh': 1903, 'sell': 1904, 'hehehe': 1905, 'gossip': 1906, 'orange': 1907, 'banana': 1908, 'makeup': 1909, 'status': 1910, 'field': 1911, 'awhile': 1912, 'remembered': 1913, 'comp': 1914, 'biggest': 1915, 'cough': 1916, 'obviously': 1917, 'glorious': 1918, 'hold': 1919, 'ooooh': 1920, 'impossible': 1921, 'ears': 1922, 'ii': 1923, 'lovin': 1924, 'bedtime': 1925, 'ughhh': 1926, 'sudden': 1927, 'toast': 1928, 'situation': 1929, 'saved': 1930, 'acting': 1931, 'mouse': 1932, 'success': 1933, 'eggs': 1934, 'football': 1935, 'winter': 1936, 'aim': 1937, 'tis': 1938, 'geek': 1939, 'collection': 1940, 'swift': 1941, 'sunburned': 1942, 'unhappy': 1943, 'thrilled': 1944, 'realy': 1945, 'saving': 1946, 'tastes': 1947, 'schedule': 1948, 'personal': 1949, 'official': 1950, 'skills': 1951, 'handle': 1952, 'limit': 1953, 'decide': 1954, 'blows': 1955, 'bills': 1956, 'gross': 1957, 'skies': 1958, 'difference': 1959, 'visiting': 1960, 'joining': 1961, 'popular': 1962, 'keys': 1963, 'alive': 1964, 'tweeple': 1965, 'bella': 1966, 'workin': 1967, 'headaches': 1968, 'allergic': 1969, 'sisters': 1970, 'lounge': 1971, 'cash': 1972, 'quality': 1973, 'sec': 1974, 'carry': 1975, 'hating': 1976, 'cramps': 1977, 'senior': 1978, 'gifts': 1979, 'breathe': 1980, 'gmail': 1981, 'mission': 1982, 'snow': 1983, 'simply': 1984, 'selling': 1985, 'twitterverse': 1986, 'topic': 1987, 'proof': 1988, 'noodles': 1989, 'bathroom': 1990, 'terminator': 1991, 'amusing': 1992, 'dragged': 1993, 'ebay': 1994, 'nursing': 1995, 'austin': 1996, 'plays': 1997, 'finale': 1998, 'h': 1999, 'yucky': 2000, 'grateful': 2001, 'growing': 2002, 'mexican': 2003, 'perhaps': 2004, 'shell': 2005, 'ways': 2006, 'rude': 2007, 'shoutout': 2008, 'mile': 2009, 'pop': 2010, 'bowling': 2011, 'twitters': 2012, 'expect': 2013, 'emotional': 2014, 'bomb': 2015, 'soccer': 2016, 'voting': 2017, 'boredom': 2018, 'neither': 2019, 'shake': 2020, 'vanilla': 2021, 'passes': 2022, 'omfg': 2023, 'continue': 2024, 'dryer': 2025, 'blocks': 2026, 'tool': 2027, 'competition': 2028, 'ankle': 2029, 'mask': 2030, 'scare': 2031, 'media': 2032, 'pages': 2033, 'helpful': 2034, 'gf': 2035, 'recording': 2036, 'steel': 2037, 'contact': 2038, 'edge': 2039, 'hollie': 2040, 'daily': 2041, 'gnight': 2042, 'centre': 2043, 'seat': 2044, 'vet': 2045, 'leaves': 2046, 'mornin': 2047, 'appear': 2048, 'suit': 2049, 'held': 2050, 'bottom': 2051, 'wall': 2052, 'painting': 2053, 'doctors': 2054, 'private': 2055, 'shared': 2056, 'poo': 2057, 'heads': 2058, 'theyll': 2059, 'rly': 2060, 'sites': 2061, 'feedback': 2062, 'survive': 2063, 'eww': 2064, 'posts': 2065, 'aka': 2066, 'respond': 2067, 'south': 2068, 'lesson': 2069, 'sittin': 2070, 'watchin': 2071, 'jeff': 2072, 'updating': 2073, 'hahahahaha': 2074, 'girlfriend': 2075, 'spider': 2076, 'updated': 2077, 'bugs': 2078, 'effing': 2079, 'philly': 2080, 'starship': 2081, 'named': 2082, 'usa': 2083, 'cancel': 2084, 'princess': 2085, 'saddest': 2086, 'useful': 2087, 'keyboard': 2088, 'gray': 2089, 'presents': 2090, 'flat': 2091, 'hits': 2092, 'britney': 2093, 'closer': 2094, 'pissing': 2095, 'peoples': 2096, 'sry': 2097, 'miserable': 2098, 'memory': 2099, 'view': 2100, 'heavy': 2101, 'seniors': 2102, 'wen': 2103, 'butter': 2104, 'glass': 2105, 'breath': 2106, 'musical': 2107, 'msn': 2108, 'clue': 2109, 'mcdonalds': 2110, 'invited': 2111, 'shooting': 2112, 'seattle': 2113, 'bud': 2114, 'scratch': 2115, 'puppies': 2116, 'england': 2117, 'cast': 2118, 'market': 2119, 'timberlake': 2120, 'servers': 2121, 'model': 2122, 'type': 2123, 'wo': 2124, 'runs': 2125, 'kicked': 2126, 'feed': 2127, 'woken': 2128, 'curious': 2129, 'el': 2130, 'ds': 2131, 'original': 2132, 'fusion': 2133, 'quit': 2134, 'tree': 2135, 'gunna': 2136, 'exist': 2137, 'program': 2138, 'portfolio': 2139, 'cutting': 2140, 'admit': 2141, 'meaning': 2142, 'realised': 2143, 'rule': 2144, 'dam': 2145, 'mary': 2146, 'uploading': 2147, 'mode': 2148, 'bt': 2149, 'subway': 2150, 'ruby': 2151, 'woot': 2152, 'pleased': 2153, 'october': 2154, 'jerk': 2155, 'nt': 2156, 'hay': 2157, 'ashley': 2158, 'kept': 2159, 'fellow': 2160, 'bee': 2161, 'rachel': 2162, 'cries': 2163, 'trending': 2164, 'flash': 2165, 'brings': 2166, 'considering': 2167, 'tattoo': 2168, 'core': 2169, 'stole': 2170, 'minor': 2171, 'offer': 2172, 'bear': 2173, 'fool': 2174, 'assignment': 2175, 'weight': 2176, 'students': 2177, 'trust': 2178, 'error': 2179, 'prayers': 2180, 'vs': 2181, 'bleh': 2182, 'points': 2183, 'station': 2184, 'ie': 2185, 'walked': 2186, 'hearing': 2187, 'deck': 2188, 'americans': 2189, 'wifi': 2190, 'tiny': 2191, 'ss': 2192, 'mummy': 2193, 'greetings': 2194, 'expecting': 2195, 'leno': 2196, 'lights': 2197, 'danny': 2198, 'bigger': 2199, 'friggin': 2200, 'child': 2201, 'island': 2202, 'massage': 2203, 'drugs': 2204, 'cyrus': 2205, 'convinced': 2206, 'china': 2207, 'items': 2208, 'appointment': 2209, 'cookies': 2210, 'diego': 2211, 'became': 2212, 'zero': 2213, 'ace': 2214, 'script': 2215, 'blip': 2216, 'sf': 2217, 'mia': 2218, 'frm': 2219, 'term': 2220, 'bugger': 2221, 'blessings': 2222, 'tim': 2223, 'url': 2224, 'secret': 2225, 'helped': 2226, 'tanning': 2227, 'total': 2228, 'computers': 2229, 'boot': 2230, 'address': 2231, 'famous': 2232, 'tony': 2233, 'drawing': 2234, 'checking': 2235, 'rush': 2236, 'rained': 2237, 'sees': 2238, 'phones': 2239, 'pix': 2240, 'clip': 2241, 'tease': 2242, 'candy': 2243, 'dish': 2244, 'exact': 2245, 'ikea': 2246, 'srsly': 2247, 'gd': 2248, 'mothersday': 2249, 'couldve': 2250, 'remote': 2251, 'teach': 2252, 'lessons': 2253, 'lily': 2254, 'bk': 2255, 'ex': 2256, 'uber': 2257, 'sorted': 2258, 'posting': 2259, 'alas': 2260, 'actual': 2261, 'grandparents': 2262, 'plants': 2263, 'decent': 2264, 'smoking': 2265, 'size': 2266, 'product': 2267, 'yahoo': 2268, 'hd': 2269, 'chair': 2270, 'wallet': 2271, 'bob': 2272, 'mass': 2273, 'episodes': 2274, 'chapter': 2275, 'constant': 2276, 'yu': 2277, 'sob': 2278, 'grade': 2279, 'iced': 2280, 'wind': 2281, 'yard': 2282, 'twitterland': 2283, 'smoke': 2284, 'nicole': 2285, 'ross': 2286, 'neighbors': 2287, 'sir': 2288, 'entertaining': 2289, 'anxiety': 2290, 'stinks': 2291, 'jb': 2292, 'roof': 2293, 'learning': 2294, 'assignments': 2295, 'storm': 2296, 'decision': 2297, 'clients': 2298, 'comin': 2299, 'morrow': 2300, 'forums': 2301, 'il': 2302, 'mike': 2303, 'speaking': 2304, 'infection': 2305, 'comet': 2306, 'clock': 2307, 'otherwise': 2308, 'wooo': 2309, 'thatll': 2310, 'imac': 2311, 'orlando': 2312, 'fried': 2313, 'boom': 2314, 'ftw': 2315, 'dealing': 2316, 'clear': 2317, 'lip': 2318, 'challenge': 2319, 'flying': 2320, 'skype': 2321, 'quickly': 2322, 'gallery': 2323, 'jen': 2324, 'typing': 2325, 'chuck': 2326, 'andrew': 2327, 'wonders': 2328, 'bringing': 2329, 'trips': 2330, 'maddie': 2331, 'content': 2332, 'pub': 2333, 'monster': 2334, 'supernatural': 2335, 'avatar': 2336, 'reach': 2337, 'spain': 2338, 'bio': 2339, 'trousers': 2340, 'boat': 2341, 'war': 2342, 'inspired': 2343, 'ability': 2344, 'sentence': 2345, 'fri': 2346, 'launch': 2347, 'aches': 2348, 'snap': 2349, 'guilt': 2350, 'benson': 2351, 'knowledge': 2352, 'rolls': 2353, 'frustrating': 2354, 'wore': 2355, 'reasons': 2356, 'socks': 2357, 'newcastle': 2358, 'subject': 2359, 'partner': 2360, 'log': 2361, 'beginning': 2362, 'semester': 2363, 'motivation': 2364, 'buzz': 2365, 'photoshop': 2366, 'effects': 2367, 'effort': 2368, 'tmrw': 2369, 'ignoring': 2370, 'horse': 2371, 'active': 2372, 'animal': 2373, 'florida': 2374, 'hmph': 2375, 'inspiration': 2376, 'jump': 2377, 'lisa': 2378, 'havnt': 2379, 'betty': 2380, 'shout': 2381, 'younger': 2382, 'sooooooo': 2383, 'seemed': 2384, 'seats': 2385, 'mcr': 2386, 'dia': 2387, 'anna': 2388, 'server': 2389, 'returned': 2390, 'te': 2391, 'faces': 2392, 'possibly': 2393, 'devastated': 2394, 'garage': 2395, 'hill': 2396, 'delivered': 2397, 'joes': 2398, 'shocked': 2399, 'juddday': 2400, 'graduating': 2401, 'tax': 2402, 'sings': 2403, 'mtv': 2404, 'tracks': 2405, 'sales': 2406, 'coolest': 2407, 'awh': 2408, 'sissy': 2409, 'cinema': 2410, 'scream': 2411, 'hed': 2412, 'scrubs': 2413, 'pjs': 2414, 'economy': 2415, 'baking': 2416, 'comfortable': 2417, 'twist': 2418, 'advance': 2419, 'wash': 2420, 'hon': 2421, 'moments': 2422, 'pro': 2423, 'tons': 2424, 'shud': 2425, 'obama': 2426, 'ish': 2427, 'modern': 2428, 'thomas': 2429, 'homeless': 2430, 'christmas': 2431, 'dies': 2432, 'quotes': 2433, 'con': 2434, 'wasted': 2435, 'honored': 2436, 'goood': 2437, 'beloved': 2438, 'press': 2439, 'forum': 2440, 'stack': 2441, 'ear': 2442, 'east': 2443, 'al': 2444, 'dougie': 2445, 'marriage': 2446, 'yayy': 2447, 'ahhhhh': 2448, 'standing': 2449, 'thumbs': 2450, 'nom': 2451, 'belly': 2452, 'fashion': 2453, 'spread': 2454, 'bea': 2455, 'pathetic': 2456, 'cleaned': 2457, 'sims': 2458, 'crossing': 2459, 'farm': 2460, 'coach': 2461, 'korea': 2462, 'funeral': 2463, 'grow': 2464, 'mentioned': 2465, 'fries': 2466, 'harder': 2467, 'noes': 2468, 'sarah': 2469, 'forgive': 2470, 'picnic': 2471, 'color': 2472, 'health': 2473, 'unfair': 2474, 'valley': 2475, 'highly': 2476, 'panda': 2477, 'everythings': 2478, 'xxxx': 2479, 'climb': 2480, 'loll': 2481, 'dreaming': 2482, 'science': 2483, 'junior': 2484, 'queens': 2485, 'force': 2486, 'step': 2487, 'rose': 2488, 'walmart': 2489, 'josh': 2490, 'cooler': 2491, 'audition': 2492, 'vids': 2493, 'oz': 2494, 'response': 2495, 'beta': 2496, 'jumping': 2497, 'maths': 2498, 'geography': 2499, 'adore': 2500, 'chatting': 2501, 'relate': 2502, 'laurie': 2503, 'tweetup': 2504, 'previous': 2505, 'changes': 2506, 'wave': 2507, 'recently': 2508, 'build': 2509, 'leads': 2510, 'showed': 2511, 'nba': 2512, 'nuggets': 2513, 'ellen': 2514, 'ad': 2515, 'wango': 2516, 'arrival': 2517, 'india': 2518, 'actress': 2519, 'searching': 2520, 'heels': 2521, 'technology': 2522, 'nut': 2523, 'birds': 2524, 'preview': 2525, 'creepy': 2526, 'spinning': 2527, 'quarter': 2528, 'booo': 2529, 'tips': 2530, 'tonsils': 2531, 'shops': 2532, 'toronto': 2533, 'mucho': 2534, 'karaoke': 2535, 'dh': 2536, 'bs': 2537, 'counting': 2538, 'overcast': 2539, 'tyler': 2540, 'inbox': 2541, 'creative': 2542, 'weathers': 2543, 'thailand': 2544, 'laid': 2545, 'nkotb': 2546, 'mixed': 2547, 'grrrr': 2548, 'microsoft': 2549, 'buffalo': 2550, 'november': 2551, 'rough': 2552, 'waves': 2553, 'names': 2554, 'lightning': 2555, 'packed': 2556, 'remind': 2557, 'tomato': 2558, 'twitts': 2559, 'kim': 2560, 'human': 2561, 'tommorow': 2562, 'replied': 2563, 'bass': 2564, 'everytime': 2565, 'itchy': 2566, 'stood': 2567, 'yaay': 2568, 'uploaded': 2569, 'mint': 2570, 'depends': 2571, 'toy': 2572, 'dis': 2573, 'anthony': 2574, 'clap': 2575, 'form': 2576, 'based': 2577, 'salad': 2578, 'mow': 2579, 'ray': 2580, 'current': 2581, 'activity': 2582, 'zealand': 2583, 'stoked': 2584, 'nerd': 2585, 'dayyyy': 2586, 'stock': 2587, 'kicks': 2588, 'atl': 2589, 'guilty': 2590, 'lauren': 2591, 'ending': 2592, 'filming': 2593, 'piano': 2594, 'melbourne': 2595, 'beans': 2596, 'wrist': 2597, 'refuses': 2598, 'master': 2599, 'plant': 2600, 'hockey': 2601, 'basketball': 2602, 'whoo': 2603, 'complain': 2604, 'gm': 2605, 'apologies': 2606, 'chain': 2607, 'unfollowed': 2608, 'junk': 2609, 'yess': 2610, 'shouldve': 2611, 'shortly': 2612, 'file': 2613, 'hyper': 2614, 'todd': 2615, 'accomplished': 2616, 'todayi': 2617, 'xbox': 2618, 'slammed': 2619, 'recover': 2620, 'outfit': 2621, 'thee': 2622, 'yt': 2623, 'oprah': 2624, 'wk': 2625, 'baked': 2626, 'cruel': 2627, 'italian': 2628, 'lasts': 2629, 'kickin': 2630, 'hall': 2631, 'glasgow': 2632, 'riding': 2633, 'grounded': 2634, 'forgetting': 2635, 'deadline': 2636, 'maui': 2637, 'community': 2638, 'backup': 2639, 'happier': 2640, 'negative': 2641, 'correct': 2642, 'concentrate': 2643, 'iron': 2644, 'useless': 2645, 'complicated': 2646, 'pritchard': 2647, 'control': 2648, 'mee': 2649, 'sidekick': 2650, 'focus': 2651, 'effin': 2652, 'regretting': 2653, 'security': 2654, 'somewhat': 2655, 'tweetie': 2656, 'process': 2657, 'babes': 2658, 'cobra': 2659, 'society': 2660, 'ubuntu': 2661, 'agh': 2662, 'regular': 2663, 'golf': 2664, 'jo': 2665, 'heyy': 2666, 'steal': 2667, 'ciara': 2668, 'poster': 2669, 'bestie': 2670, 'attempting': 2671, 'refreshing': 2672, 'gurl': 2673, 'bride': 2674, 'pouring': 2675, 'selena': 2676, 'confusing': 2677, 'wth': 2678, 'muah': 2679, 'panic': 2680, 'umm': 2681, 'disappoint': 2682, 'mitchel': 2683, 'duck': 2684, 'idiots': 2685, 'downstairs': 2686, 'homemade': 2687, 'files': 2688, 'illegal': 2689, 'bars': 2690, 'rules': 2691, 'esp': 2692, 'happiest': 2693, 'shape': 2694, 'curse': 2695, 'general': 2696, 'kitties': 2697, 'tools': 2698, 'stories': 2699, 'tryin': 2700, 'twin': 2701, 'whoops': 2702, 'killer': 2703, 'familiar': 2704, 'marry': 2705, 'loop': 2706, 'dollhouse': 2707, 'starwars': 2708, 'suspended': 2709, 'river': 2710, 'cheesecake': 2711, 'dizzy': 2712, 'guild': 2713, 'yeahh': 2714, 'upgrade': 2715, 'hoppusday': 2716, 'applied': 2717, 'besties': 2718, 'ol': 2719, 'lower': 2720, 'charged': 2721, 'data': 2722, 'dye': 2723, 'models': 2724, 'grocery': 2725, 'crawl': 2726, 'imo': 2727, 'wrap': 2728, 'sooner': 2729, 'steak': 2730, 'flower': 2731, 'hole': 2732, 'nooooooo': 2733, 'members': 2734, 'ends': 2735, 'hayfever': 2736, 'avoid': 2737, 'becuz': 2738, 'rent': 2739, 'canucks': 2740, 'taxi': 2741, 'twitterberry': 2742, 'piggy': 2743, 'cutest': 2744, 'hopeful': 2745, 'leigh': 2746, 'filling': 2747, 'twitterers': 2748, 'shine': 2749, 'invite': 2750, 'marie': 2751, 'events': 2752, 'item': 2753, 'lyrics': 2754, 'search': 2755, 'mc': 2756, 'cycling': 2757, 'awesomeness': 2758, 'crashing': 2759, 'asthma': 2760, 'pride': 2761, 'appt': 2762, 'pal': 2763, 'virus': 2764, 'methinks': 2765, 'pasta': 2766, 'dayy': 2767, 'eric': 2768, 'crown': 2769, 'colds': 2770, 'enter': 2771, 'afterwards': 2772, 'queen': 2773, 'motivated': 2774, 'france': 2775, 'guessing': 2776, 'topics': 2777, 'projects': 2778, 'dallas': 2779, 'snack': 2780, 'nine': 2781, 'thingy': 2782, 'native': 2783, 'pillow': 2784, 'silence': 2785, 'moves': 2786, 'adam': 2787, 'nature': 2788, 'natalie': 2789, 'received': 2790, 'roommate': 2791, 'tooooo': 2792, 'patio': 2793, 'spoke': 2794, 'sundays': 2795, 'sayin': 2796, 'sports': 2797, 'lolz': 2798, 'pure': 2799, 'september': 2800, 'groups': 2801, 'amount': 2802, 'relaxation': 2803, 'phil': 2804, 'fails': 2805, 'cds': 2806, 'drives': 2807, 'retarded': 2808, 'teachers': 2809, 'aussie': 2810, 'wink': 2811, 'dayand': 2812, 'regarding': 2813, 'filled': 2814, 'brunch': 2815, 'toooo': 2816, 'hectic': 2817, 'ruin': 2818, 'furniture': 2819, 'lastfm': 2820, 'obsessed': 2821, 'dork': 2822, 'molly': 2823, 'chi': 2824, 'adult': 2825, 'cheesy': 2826, 'phew': 2827, 'mexico': 2828, 'magical': 2829, 'digital': 2830, 'ughh': 2831, 'michelle': 2832, 'jimmy': 2833, 'worlds': 2834, 'com': 2835, 'grill': 2836, 'pole': 2837, 'festival': 2838, 'whoa': 2839, 'accepted': 2840, 'advantage': 2841, 'tokyo': 2842, 'bits': 2843, 'kudos': 2844, 'building': 2845, 'las': 2846, 'forth': 2847, 'shattered': 2848, 'morn': 2849, 'certain': 2850, 'niece': 2851, 'perform': 2852, 'horror': 2853, 'warning': 2854, 'hurray': 2855, 'chilly': 2856, 'repair': 2857, 'dudes': 2858, 'amo': 2859, 'se': 2860, 'haircut': 2861, 'gods': 2862, 'berry': 2863, 'tampa': 2864, 'upon': 2865, 'definately': 2866, 'pj': 2867, 'smell': 2868, 'reminder': 2869, 'contract': 2870, 'dms': 2871, 'curry': 2872, 'thumb': 2873, 'strawberries': 2874, 'character': 2875, 'windy': 2876, 'legal': 2877, 'sucky': 2878, 'messing': 2879, 'q': 2880, 'cullen': 2881, 'foods': 2882, 'bookstore': 2883, 'uses': 2884, 'expert': 2885, 'belive': 2886, 'muffin': 2887, 'bang': 2888, 'hm': 2889, 'sons': 2890, 'ghost': 2891, 'cares': 2892, 'magazine': 2893, 'coworker': 2894, 'torn': 2895, 'spoil': 2896, 'missin': 2897, 'webcam': 2898, 'modem': 2899, 'offline': 2900, 'parent': 2901, 'wout': 2902, 'origins': 2903, 'rats': 2904, 'whilst': 2905, 'twitterville': 2906, 'icarly': 2907, 'smooth': 2908, 'chrome': 2909, 'demo': 2910, 'offended': 2911, 'william': 2912, 'discovered': 2913, 'laughs': 2914, 'threw': 2915, 'roomies': 2916, 'popping': 2917, 'distracted': 2918, 'brandon': 2919, 'placement': 2920, 'tango': 2921, 'daniel': 2922, 'becomes': 2923, 'draw': 2924, 'lemon': 2925, 'si': 2926, 'fishies': 2927, 'poop': 2928, 'title': 2929, 'iv': 2930, 'lacking': 2931, 'dj': 2932, 'prayer': 2933, 'according': 2934, 'wack': 2935, 'katie': 2936, 'impression': 2937, 'rc': 2938, 'sweating': 2939, 'emily': 2940, 'theory': 2941, 'cope': 2942, 'yippee': 2943, 'aah': 2944, 'interviews': 2945, 'slap': 2946, 'greeting': 2947, 'relief': 2948, 'selfish': 2949, 'labels': 2950, 'nail': 2951, 'popped': 2952, 'amy': 2953, 'sauce': 2954, 'controls': 2955, 'nevermind': 2956, 'disappeared': 2957, 'links': 2958, 'wings': 2959, 'patience': 2960, 'salt': 2961, 'pepper': 2962, 'parties': 2963, 'terribly': 2964, 'confirmed': 2965, 'texts': 2966, 'heather': 2967, 'signal': 2968, 'faith': 2969, 'braces': 2970, 'meetings': 2971, 'stunning': 2972, 'cont': 2973, 'prison': 2974, 'dropping': 2975, 'shoulda': 2976, 'national': 2977, 'inspire': 2978, 'tx': 2979, 'theme': 2980, 'hook': 2981, 'unexpected': 2982, 'loveeee': 2983, 'effed': 2984, 'icecream': 2985, 'inlaws': 2986, 'gooood': 2987, 'holding': 2988, 'twitterific': 2989, 'spammers': 2990, 'deserved': 2991, 'hung': 2992, 'hahahah': 2993, 'boooo': 2994, 'oot': 2995, 'dublin': 2996, 'abit': 2997, 'tomorow': 2998, 'ng': 2999, 'lang': 3000, 'ang': 3001, 'noone': 3002, 'someones': 3003, 'seasons': 3004, 'prosper': 3005, 'vt': 3006, 'circus': 3007, 'moro': 3008, 'lee': 3009, 'singer': 3010, 'sleepin': 3011, 'cooker': 3012, 'guinea': 3013, 'pig': 3014, 'entry': 3015, 'dollar': 3016, 'entertainment': 3017, 'feature': 3018, 'camping': 3019, 'lifes': 3020, 'pups': 3021, 'adopt': 3022, 'suddenly': 3023, 'stuffed': 3024, 'puts': 3025, 'naked': 3026, 'europe': 3027, 'surrounded': 3028, 'mud': 3029, 'sight': 3030, 'gona': 3031, 'george': 3032, 'lbs': 3033, 'prejudice': 3034, 'eddie': 3035, 'sweetheart': 3036, 'nans': 3037, 'shoe': 3038, 'corner': 3039, 'dawn': 3040, 'kills': 3041, 'kat': 3042, 'itd': 3043, 'mic': 3044, 'muscle': 3045, 'attend': 3046, 'kay': 3047, 'bears': 3048, 'bust': 3049, 'pressure': 3050, 'planet': 3051, 'spanish': 3052, 'stream': 3053, 'fone': 3054, 'brown': 3055, 'rove': 3056, 'virtual': 3057, 'alice': 3058, 'prefer': 3059, 'impatient': 3060, 'setting': 3061, 'charity': 3062, 'writer': 3063, 'witty': 3064, 'fairly': 3065, 'seconds': 3066, 'dell': 3067, 'waited': 3068, 'army': 3069, 'orders': 3070, 'presence': 3071, 'wives': 3072, 'result': 3073, 'tasty': 3074, 'journal': 3075, 'geez': 3076, 'ducks': 3077, 'stayin': 3078, 'agreed': 3079, 'mid': 3080, 'lebron': 3081, 'village': 3082, 'unique': 3083, 'ignored': 3084, 'printed': 3085, 'damage': 3086, 'pong': 3087, 'angel': 3088, 'tag': 3089, 'remembering': 3090, 'icant': 3091, 'rejected': 3092, 'bedroom': 3093, 'sea': 3094, 'fry': 3095, 'discovery': 3096, 'thou': 3097, 'venus': 3098, 'comedy': 3099, 'transfer': 3100, 'inviting': 3101, 'tight': 3102, 'idol': 3103, 'dates': 3104, 'tells': 3105, 'xoxox': 3106, 'alllll': 3107, 'matters': 3108, 'bbl': 3109, 'print': 3110, 'amazon': 3111, 'sidewalk': 3112, 'relaxin': 3113, 'envy': 3114, 'expo': 3115, 'president': 3116, 'jade': 3117, 'yeh': 3118, 'genius': 3119, 'howd': 3120, 'ripped': 3121, 'hw': 3122, 'suggestion': 3123, 'classic': 3124, 'brooklyn': 3125, 'takin': 3126, 'stressful': 3127, 'device': 3128, 'linux': 3129, 'rise': 3130, 'cinnamon': 3131, 'showered': 3132, 'thankfully': 3133, 'arnold': 3134, 'bruised': 3135, 'reference': 3136, 'careless': 3137, 'relationships': 3138, 'sample': 3139, 'views': 3140, 'kinds': 3141, 'slacking': 3142, 'caused': 3143, 'selected': 3144, 'battle': 3145, 'loner': 3146, 'bliss': 3147, 'hostage': 3148, 'brave': 3149, 'italy': 3150, 'begin': 3151, 'flyer': 3152, 'compared': 3153, 'tarmac': 3154, 'sanctuarysunday': 3155, 'locked': 3156, 'convince': 3157, 'installed': 3158, 'rockin': 3159, 'reception': 3160, 'drs': 3161, 'kitten': 3162, 'gained': 3163, 'personality': 3164, 'jonathan': 3165, 'spotify': 3166, 'cn': 3167, 'belong': 3168, 'appropriate': 3169, 'paris': 3170, 'aunt': 3171, 'blown': 3172, 'per': 3173, 'goodluck': 3174, 'paulo': 3175, 'lovee': 3176, 'cocktails': 3177, 'wah': 3178, 'yaaay': 3179, 'nothings': 3180, 'basket': 3181, 'archie': 3182, 'veronica': 3183, 'comic': 3184, 'wise': 3185, 'earrings': 3186, 'overall': 3187, 'limited': 3188, 'wears': 3189, 'spirit': 3190, 'logo': 3191, 'user': 3192, 'smith': 3193, 'recession': 3194, 'accepting': 3195, 'toys': 3196, 'distractions': 3197, 'pets': 3198, 'oven': 3199, 'meds': 3200, 'martin': 3201, 'eurovision': 3202, 'sympathy': 3203, 'nest': 3204, 'soap': 3205, 'similar': 3206, 'britain': 3207, 'input': 3208, 'buddies': 3209, 'cracking': 3210, 'progress': 3211, 'bbc': 3212, 'monkey': 3213, 'paint': 3214, 'crushed': 3215, 'charming': 3216, 'dayi': 3217, 'readin': 3218, 'experiencing': 3219, 'stairs': 3220, 'kellie': 3221, 'mmmmmm': 3222, 'ottawa': 3223, 'eaten': 3224, 'earphones': 3225, 'perfectly': 3226, 'monitor': 3227, 'ahhhhhh': 3228, 'engagement': 3229, 'cam': 3230, 'rob': 3231, 'ads': 3232, 'wasting': 3233, 'tie': 3234, 'turtle': 3235, 'wana': 3236, 'cities': 3237, 'tomorrows': 3238, 'weed': 3239, 'upcoming': 3240, 'hooked': 3241, 'priceless': 3242, 'brad': 3243, 'actor': 3244, 'funniest': 3245, 'unfollow': 3246, 'hayley': 3247, 'jail': 3248, 'heaps': 3249, 'qld': 3250, 'grin': 3251, 'samantha': 3252, 'risk': 3253, 'uhh': 3254, 'unlucky': 3255, 'cozy': 3256, 'theater': 3257, 'poker': 3258, 'bruise': 3259, 'decisions': 3260, 'errands': 3261, 'kewl': 3262, 'stores': 3263, 'graduated': 3264, 'released': 3265, 'gmorning': 3266, 'impressive': 3267, 'struggling': 3268, 'unable': 3269, 'blow': 3270, 'receive': 3271, 'miserably': 3272, 'pamper': 3273, 'woods': 3274, 'remix': 3275, 'skint': 3276, 'celebrity': 3277, 'recommendations': 3278, 'bare': 3279, 'exchange': 3280, 'reminded': 3281, 'notebook': 3282, 'werent': 3283, 'duty': 3284, 'silent': 3285, 'marley': 3286, 'beast': 3287, 'boiling': 3288, 'verizon': 3289, 'outlook': 3290, 'delete': 3291, 'mines': 3292, 'sweetest': 3293, 'davis': 3294, 'cheaper': 3295, 'neglected': 3296, 'nintendo': 3297, 'cutie': 3298, 'mandy': 3299, 'stuffs': 3300, 'carrie': 3301, 'older': 3302, 'tweeties': 3303, 'supply': 3304, 'addiction': 3305, 'towards': 3306, 'surprises': 3307, 'spell': 3308, 'pump': 3309, 'strawberry': 3310, 'shirts': 3311, 'inspiring': 3312, 'heater': 3313, 'rant': 3314, 'tumblr': 3315, 'studyin': 3316, 'quietly': 3317, 'halo': 3318, 'crochet': 3319, 'victory': 3320, 'switzerland': 3321, 'boots': 3322, 'tiring': 3323, 'aching': 3324, 'pile': 3325, 'attacked': 3326, 'jean': 3327, 'touring': 3328, 'allah': 3329, 'aaaah': 3330, 'wifey': 3331, 'hp': 3332, 'pains': 3333, 'yesss': 3334, 'japanese': 3335, 'costs': 3336, 'childrens': 3337, 'customer': 3338, 'signed': 3339, 'burns': 3340, 'cafe': 3341, 'superman': 3342, 'jordan': 3343, 'coulda': 3344, 'desperate': 3345, 'batman': 3346, 'zoo': 3347, 'wished': 3348, 'salary': 3349, 'gardening': 3350, 'smoothie': 3351, 'chemistry': 3352, 'quilt': 3353, 'seafood': 3354, 'mornings': 3355, 'connect': 3356, 'ginger': 3357, 'factor': 3358, 'dane': 3359, 'format': 3360, 'sneezing': 3361, 'cakes': 3362, 'steam': 3363, 'boooooo': 3364, 'ali': 3365, 'sticker': 3366, 'external': 3367, 'scan': 3368, 'downloading': 3369, 'lying': 3370, 'homie': 3371, 'lucas': 3372, 'signing': 3373, 'heroes': 3374, 'couch': 3375, 'soft': 3376, 'pounding': 3377, 'melt': 3378, 'plz': 3379, 'definition': 3380, 'paradise': 3381, 'palm': 3382, 'ca': 3383, 'potential': 3384, 'lawn': 3385, 'michigan': 3386, 'sits': 3387, 'raw': 3388, 'fits': 3389, 'thnks': 3390, 'sport': 3391, 'bangs': 3392, 'mm': 3393, 'ohhhhh': 3394, 'mon': 3395, 'lov': 3396, 'tape': 3397, 'arizona': 3398, 'pleasant': 3399, 'rabbit': 3400, 'signs': 3401, 'hardest': 3402, 'celebrated': 3403, 'pretend': 3404, 'mango': 3405, 'tt': 3406, 'rate': 3407, 'lover': 3408, 'main': 3409, 'employee': 3410, 'stage': 3411, 'calm': 3412, 'rid': 3413, 'neat': 3414, 'dan': 3415, 'logies': 3416, 'pounds': 3417, 'revising': 3418, 'temp': 3419, 'docs': 3420, 'jane': 3421, 'jess': 3422, 'compliment': 3423, 'luggage': 3424, 'selection': 3425, 'hooray': 3426, 'cryin': 3427, 'factory': 3428, 'wrk': 3429, 'cocktail': 3430, 'doll': 3431, 'contacts': 3432, 'likely': 3433, 'answered': 3434, 'funky': 3435, 'foreign': 3436, 'revise': 3437, 'callin': 3438, 'washed': 3439, 'overnight': 3440, 'cardio': 3441, 'license': 3442, 'grew': 3443, 'edited': 3444, 'html': 3445, 'numbers': 3446, 'ap': 3447, 'nicely': 3448, 'hitting': 3449, 'position': 3450, 'vancouver': 3451, 'description': 3452, 'yous': 3453, 'karma': 3454, 'verify': 3455, 'toothache': 3456, 'traveling': 3457, 'peaceful': 3458, 'twas': 3459, 'solid': 3460, 'ti': 3461, 'jr': 3462, 'gaga': 3463, 'comps': 3464, 'xp': 3465, 'dump': 3466, 'max': 3467, 'kingdom': 3468, 'exit': 3469, 'pug': 3470, 'albums': 3471, 'amazingly': 3472, 'recognize': 3473, 'paul': 3474, 'recommendation': 3475, 'sweety': 3476, 'imagination': 3477, 'personally': 3478, 'winning': 3479, 'contest': 3480, 'sway': 3481, 'johnny': 3482, 'typical': 3483, 'bradie': 3484, 'rat': 3485, 'milkshake': 3486, 'farewell': 3487, 'cycle': 3488, 'busted': 3489, 'drank': 3490, 'tbh': 3491, 'beauty': 3492, 'eatin': 3493, 'favorites': 3494, 'allen': 3495, 'legit': 3496, 'sd': 3497, 'emo': 3498, 'infamous': 3499, 'coke': 3500, 'zombie': 3501, 'shaun': 3502, 'arrive': 3503, 'stolen': 3504, 'merch': 3505, 'eagles': 3506, 'sweaty': 3507, 'dedicated': 3508, 'ep': 3509, 'fox': 3510, 'robert': 3511, 'inches': 3512, 'ea': 3513, 'lamb': 3514, 'gnite': 3515, 'lyk': 3516, 'bhb': 3517, 'victoria': 3518, 'consider': 3519, 'fold': 3520, 'beard': 3521, 'nephew': 3522, 'author': 3523, 'ridiculous': 3524, 'papa': 3525, 'sowwy': 3526, 'lap': 3527, 'dreambears': 3528, 'horrid': 3529, 'cooked': 3530, 'leavin': 3531, 'economic': 3532, 'jesus': 3533, 'lovato': 3534, 'gahh': 3535, 'humid': 3536, 'dreading': 3537, 'laura': 3538, 'nxt': 3539, 'ram': 3540, 'tht': 3541, 'treated': 3542, 'dum': 3543, 'plot': 3544, 'dragon': 3545, 'madd': 3546, 'raised': 3547, 'convert': 3548, 'crawling': 3549, 'smacked': 3550, 'hearts': 3551, 'easily': 3552, 'bby': 3553, 'testing': 3554, 'prolly': 3555, 'freaked': 3556, 'obvious': 3557, 'spray': 3558, 'tests': 3559, 'hahaa': 3560, 'nonetheless': 3561, 'relaxed': 3562, 'evans': 3563, 'copenhagen': 3564, 'enjoyable': 3565, 'healing': 3566, 'removed': 3567, 'privacy': 3568, 'inspection': 3569, 'taxes': 3570, 'blackberries': 3571, 'bible': 3572, 'ftsk': 3573, 'minds': 3574, 'tum': 3575, 'spelling': 3576, 'minus': 3577, 'opened': 3578, 'exhausting': 3579, 'failure': 3580, 'repeated': 3581, 'lifting': 3582, 'bumps': 3583, 'peeling': 3584, 'fn': 3585, 'dosent': 3586, 'jumped': 3587, 'entertain': 3588, 'urge': 3589, 'nauseous': 3590, 'replacement': 3591, 'bumping': 3592, 'crab': 3593, 'attending': 3594, 'nathan': 3595, 'families': 3596, 'mountains': 3597, 'dooo': 3598, 'peas': 3599, 'punch': 3600, 'heal': 3601, 'shopped': 3602, 'slowest': 3603, 'tierd': 3604, 'amichael': 3605, 'bipolar': 3606, 'submitted': 3607, 'resume': 3608, 'alien': 3609, 'tend': 3610, 'throwback': 3611, 'morris': 3612, 'forgotten': 3613, 'stone': 3614, 'crisis': 3615, 'court': 3616, 'unemployed': 3617, 'wif': 3618, 'burbank': 3619, 'cracked': 3620, 'planted': 3621, 'bouncy': 3622, 'photographer': 3623, 'hai': 3624, 'kittykat': 3625, 'birthdays': 3626, 'randomly': 3627, 'goodies': 3628, 'ironing': 3629, 'courthouse': 3630, 'hols': 3631, 'comcast': 3632, 'coworkers': 3633, 'squad': 3634, 'boi': 3635, 'prematurely': 3636, 'booze': 3637, 'recital': 3638, 'husbands': 3639, 'responses': 3640, 'twits': 3641, 'mistakes': 3642, 'refund': 3643, 'poorly': 3644, 'ia': 3645, 'equipment': 3646, 'rides': 3647, 'bryan': 3648, 'tmobile': 3649, 'nonstop': 3650, 'pattern': 3651, 'precious': 3652, 'granny': 3653, 'suns': 3654, 'hahahha': 3655, 'pieces': 3656, 'bites': 3657, 'chase': 3658, 'vampire': 3659, 'dessert': 3660, 'relay': 3661, 'grandmas': 3662, 'loosing': 3663, 'honor': 3664, 'agile': 3665, 'breaks': 3666, 'cartoon': 3667, 'votes': 3668, 'frogs': 3669, 'opposed': 3670, 'zach': 3671, 'fewer': 3672, 'chin': 3673, 'conan': 3674, 'display': 3675, 'dentists': 3676, 'bottles': 3677, 'omj': 3678, 'monies': 3679, 'wandering': 3680, 'evidence': 3681, 'management': 3682, 'realise': 3683, 'dans': 3684, 'brightens': 3685, 'colorful': 3686, 'yey': 3687, 'loli': 3688, 'pam': 3689, 'understands': 3690, 'thousands': 3691, 'conrad': 3692, 'dew': 3693, 'prizes': 3694, 'winners': 3695, 'missy': 3696, 'ooc': 3697, 'pit': 3698, 'brody': 3699, 'kk': 3700, 'chili': 3701, 'relationship': 3702, 'unknown': 3703, 'announced': 3704, 'spirits': 3705, 'spamming': 3706, 'bball': 3707, 'lopez': 3708, 'electric': 3709, 'lungs': 3710, 'coverage': 3711, 'equal': 3712, 'ian': 3713, 'mental': 3714, 'rotten': 3715, 'grease': 3716, 'trumps': 3717, 'twisted': 3718, 'traditional': 3719, 'tink': 3720, 'doom': 3721, 'paste': 3722, 'oil': 3723, 'hunny': 3724, 'circumstances': 3725, 'strangers': 3726, 'timing': 3727, 'melting': 3728, 'shade': 3729, 'offf': 3730, 'wnt': 3731, 'pandora': 3732, 'stu': 3733, 'shoulder': 3734, 'sack': 3735, 'attempts': 3736, 'volume': 3737, 'polar': 3738, 'lacroix': 3739, 'surely': 3740, 'devil': 3741, 'amsterdam': 3742, 'everr': 3743, 'fuel': 3744, 'accept': 3745, 'physics': 3746, 'tastic': 3747, 'bros': 3748, 'masculinity': 3749, 'ud': 3750, 'gambit': 3751, 'tcot': 3752, 'chai': 3753, 'standards': 3754, 'stadium': 3755, 'hawaii': 3756, 'absolutly': 3757, 'lucy': 3758, 'lolll': 3759, 'career': 3760, 'physio': 3761, 'restaurant': 3762, 'ughhhh': 3763, 'blues': 3764, 'debit': 3765, 'spoilt': 3766, 'heartburn': 3767, 'amaze': 3768, 'geeky': 3769, 'dances': 3770, 'joking': 3771, 'xox': 3772, 'untill': 3773, 'scratchy': 3774, 'hubbys': 3775, 'funerals': 3776, 'rum': 3777, 'opera': 3778, 'az': 3779, 'kenny': 3780, 'damp': 3781, 'friendster': 3782, 'eight': 3783, 'perfection': 3784, 'blogtv': 3785, 'intense': 3786, 'apt': 3787, 'km': 3788, 'speed': 3789, 'condition': 3790, 'softball': 3791, 'dee': 3792, 'harry': 3793, 'vegetarian': 3794, 'lasted': 3795, 'suicides': 3796, 'hive': 3797, 'madre': 3798, 'blank': 3799, 'convenient': 3800, 'drew': 3801, 'pad': 3802, 'girlfriends': 3803, 'predictable': 3804, 'frame': 3805, 'passion': 3806, 'coursework': 3807, 'ashamed': 3808, 'suggest': 3809, 'patron': 3810, 'award': 3811, 'flag': 3812, 'proudly': 3813, 'hangout': 3814, 'cooperating': 3815, 'neighbor': 3816, 'dvr': 3817, 'heartbreak': 3818, 'naw': 3819, 'stalking': 3820, 'diggin': 3821, 'careful': 3822, 'screamed': 3823, 'delhi': 3824, 'bound': 3825, 'harsh': 3826, 'rolled': 3827, 'crib': 3828, 'cult': 3829, 'shite': 3830, 'holds': 3831, 'trash': 3832, 'written': 3833, 'hashtag': 3834, 'banging': 3835, 'mohawk': 3836, 'homies': 3837, 'flip': 3838, 'therell': 3839, 'marks': 3840, 'charm': 3841, 'hid': 3842, 'culture': 3843, 'tubes': 3844, 'bffs': 3845, 'nashville': 3846, 'cmon': 3847, 'listenin': 3848, 'itsucks': 3849, 'audio': 3850, 'carolina': 3851, 'jet': 3852, 'flights': 3853, 'bin': 3854, 'index': 3855, 'wales': 3856, 'srry': 3857, 'discuss': 3858, 'promising': 3859, 'marina': 3860, 'brits': 3861, 'leadership': 3862, 'choices': 3863, 'aj': 3864, 'angle': 3865, 'jeans': 3866, 'treats': 3867, 'flickr': 3868, 'kings': 3869, 'commence': 3870, 'generation': 3871, 'dull': 3872, 'blogger': 3873, 'mentor': 3874, 'walls': 3875, 'yest': 3876, 'babys': 3877, 'backs': 3878, 'fought': 3879, 'jeremy': 3880, 'kyle': 3881, 'bothering': 3882, 'concern': 3883, 'multiple': 3884, 'animation': 3885, 'fifth': 3886, 'raise': 3887, 'triste': 3888, 'needle': 3889, 'layout': 3890, 'loveee': 3891, 'sg': 3892, 'combo': 3893, 'joey': 3894, 'greek': 3895, 'faster': 3896, 'slower': 3897, 'yumm': 3898, 'metro': 3899, 'saddened': 3900, 'christina': 3901, 'sang': 3902, 'wellington': 3903, 'teased': 3904, 'attitude': 3905, 'mp': 3906, 'slim': 3907, 'aight': 3908, 'duper': 3909, 'actions': 3910, 'tmw': 3911, 'honour': 3912, 'scar': 3913, 'ilove': 3914, 'deed': 3915, 'ako': 3916, 'twittered': 3917, 'rt': 3918, 'houses': 3919, 'yearbook': 3920, 'storms': 3921, 'scott': 3922, 'dem': 3923, 'arrives': 3924, 'handsome': 3925, 'regardless': 3926, 'option': 3927, 'longest': 3928, 'humidity': 3929, 'finds': 3930, 'winner': 3931, 'jams': 3932, 'toilet': 3933, 'willing': 3934, 'injured': 3935, 'frustraded': 3936, 'global': 3937, 'therapy': 3938, 'stopping': 3939, 'nicky': 3940, 'letdown': 3941, 'rolling': 3942, 'eek': 3943, 'laptops': 3944, 'youu': 3945, 'wuv': 3946, 'dvds': 3947, 'knees': 3948, 'approaching': 3949, 'que': 3950, 'overtime': 3951, 'labor': 3952, 'mirror': 3953, 'led': 3954, 'boxes': 3955, 'burning': 3956, 'cuppa': 3957, 'santa': 3958, 'gigs': 3959, 'casino': 3960, 'australian': 3961, 'citizens': 3962, 'artists': 3963, 'bg': 3964, 'creating': 3965, 'tp': 3966, 'metallica': 3967, 'boooooooo': 3968, 'exited': 3969, 'pee': 3970, 'joan': 3971, 'tragic': 3972, 'comics': 3973, 'stylish': 3974, 'girlie': 3975, 'chelsea': 3976, 'recipes': 3977, 'possibility': 3978, 'ooops': 3979, 'eventually': 3980, 'graham': 3981, 'bots': 3982, 'mg': 3983, 'cube': 3984, 'hookah': 3985, 'entertained': 3986, 'venue': 3987, 'kilkenny': 3988, 'pint': 3989, 'graduate': 3990, 'den': 3991, 'womens': 3992, 'tai': 3993, 'commentary': 3994, 'sonny': 3995, 'java': 3996, 'pulling': 3997, 'refuse': 3998, 'strike': 3999, 'itches': 4000, 'aloud': 4001, 'greater': 4002, 'asses': 4003, 'sa': 4004, 'translation': 4005, 'dandy': 4006, 'chip': 4007, 'jt': 4008, 'costume': 4009, 'yelled': 4010, 'pays': 4011, 'beating': 4012, 'twitterworld': 4013, 'stitches': 4014, 'ultra': 4015, 'cc': 4016, 'kicking': 4017, 'domain': 4018, 'explanation': 4019, 'johnson': 4020, 'wu': 4021, 'january': 4022, 'spose': 4023, 'leighton': 4024, 'meester': 4025, 'continues': 4026, 'teh': 4027, 'speakers': 4028, 'psychology': 4029, 'urs': 4030, 'mourning': 4031, 'gut': 4032, 'costa': 4033, 'disturbed': 4034, 'films': 4035, 'parade': 4036, 'reminding': 4037, 'ffs': 4038, 'toes': 4039, 'jailbreak': 4040, 'slight': 4041, 'nhl': 4042, 'walks': 4043, 'resting': 4044, 'bite': 4045, 'megan': 4046, 'earn': 4047, 'experiment': 4048, 'rings': 4049, 'menu': 4050, 'bubble': 4051, 'va': 4052, 'stronger': 4053, 'defo': 4054, 'effect': 4055, 'somethin': 4056, 'sausage': 4057, 'sucker': 4058, 'recorded': 4059, 'bleed': 4060, 'nano': 4061, 'expired': 4062, 'dollars': 4063, 'quoted': 4064, 'laker': 4065, 'kidney': 4066, 'lolso': 4067, 'dislike': 4068, 'erin': 4069, 'replys': 4070, 'indiana': 4071, 'amazed': 4072, 'application': 4073, 'podcast': 4074, 'shelves': 4075, 'king': 4076, 'cs': 4077, 'sweat': 4078, 'lenovo': 4079, 'ne': 4080, 'haters': 4081, 'standard': 4082, 'united': 4083, 'taco': 4084, 'bell': 4085, 'ft': 4086, 'thanking': 4087, 'manual': 4088, 'pregnant': 4089, 'sony': 4090, 'subjects': 4091, 'dora': 4092, 'trapped': 4093, 'engine': 4094, 'cameras': 4095, 'sms': 4096, 'flew': 4097, 'legend': 4098, 'string': 4099, 'freeway': 4100, 'cloud': 4101, 'craziness': 4102, 'pshh': 4103, 'sprained': 4104, 'designers': 4105, 'sake': 4106, 'rested': 4107, 'ungodly': 4108, 'angela': 4109, 'travis': 4110, 'twenty': 4111, 'beyonce': 4112, 'freaky': 4113, 'grande': 4114, 'argentina': 4115, 'hacked': 4116, 'wiped': 4117, 'relying': 4118, 'pointing': 4119, 'lemonade': 4120, 'skip': 4121, 'coat': 4122, 'goo': 4123, 'dolls': 4124, 'mountain': 4125, 'napping': 4126, 'whistle': 4127, 'cork': 4128, 'studied': 4129, 'celebs': 4130, 'cap': 4131, 'passing': 4132, 'angels': 4133, 'digging': 4134, 'efron': 4135, 'guna': 4136, 'pigs': 4137, 'bronchitis': 4138, 'scifi': 4139, 'sorting': 4140, 'hunt': 4141, 'eventful': 4142, 'garlic': 4143, 'saturdays': 4144, 'subscribers': 4145, 'belated': 4146, 'diamond': 4147, 'lied': 4148, 'manly': 4149, 'ooohhh': 4150, 'infected': 4151, 'cruise': 4152, 'corporate': 4153, 'completed': 4154, 'char': 4155, 'teddy': 4156, 'injury': 4157, 'zombies': 4158, 'hoped': 4159, 'thai': 4160, 'hardcore': 4161, 'beanie': 4162, 'situations': 4163, 'condolences': 4164, 'thaa': 4165, 'letter': 4166, 'firefox': 4167, 'figures': 4168, 'smack': 4169, 'dust': 4170, 'spells': 4171, 'yoga': 4172, 'cubicle': 4173, 'babysitting': 4174, 'asylum': 4175, 'diesel': 4176, 'perez': 4177, 'moring': 4178, 'goddamn': 4179, 'wheel': 4180, 'drivers': 4181, 'chirping': 4182, 'lego': 4183, 'rooting': 4184, 'swedish': 4185, 'charger': 4186, 'allergy': 4187, 'jury': 4188, 'goal': 4189, 'accomplish': 4190, 'flush': 4191, 'houston': 4192, 'pb': 4193, 'fiddler': 4194, 'sheet': 4195, 'racism': 4196, 'cleared': 4197, 'acid': 4198, 'sweep': 4199, 'balcony': 4200, 'auto': 4201, 'doo': 4202, 'overcome': 4203, 'urself': 4204, 'bebo': 4205, 'assembly': 4206, 'reports': 4207, 'professional': 4208, 'anime': 4209, 'mighty': 4210, 'motion': 4211, 'yas': 4212, 'hurricane': 4213, 'gluten': 4214, 'tc': 4215, 'jones': 4216, 'prize': 4217, 'tube': 4218, 'mri': 4219, 'agreeing': 4220, 'specific': 4221, 'cruising': 4222, 'erm': 4223, 'noise': 4224, 'tripped': 4225, 'circuit': 4226, 'awaiting': 4227, 'neil': 4228, 'trial': 4229, 'handles': 4230, 'noooooo': 4231, 'inn': 4232, 'non': 4233, 'nth': 4234, 'thr': 4235, 'entirely': 4236, 'thick': 4237, 'plate': 4238, 'pin': 4239, 'information': 4240, 'clearly': 4241, 'pushed': 4242, 'trails': 4243, 'abandoned': 4244, 'fear': 4245, 'highway': 4246, 'waaa': 4247, 'freezer': 4248, 'skool': 4249, 'tennessee': 4250, 'maria': 4251, 'mowing': 4252, 'teenagers': 4253, 'tut': 4254, 'popcorn': 4255, 'prices': 4256, 'attached': 4257, 'anxious': 4258, 'crunch': 4259, 'disgusted': 4260, 'safari': 4261, 'recommended': 4262, 'bridge': 4263, 'settle': 4264, 'cider': 4265, 'keen': 4266, 'bebe': 4267, 'sadi': 4268, 'sigjeans': 4269, 'offically': 4270, 'equals': 4271, 'yuck': 4272, 'confirmation': 4273, 'sand': 4274, 'nk': 4275, 'reckon': 4276, 'warn': 4277, 'heyyy': 4278, 'denial': 4279, 'spoken': 4280, 'coupon': 4281, 'brittany': 4282, 'wa': 4283, 'butterfly': 4284, 'migraines': 4285, 'exercise': 4286, 'proving': 4287, 'sitter': 4288, 'goose': 4289, 'sped': 4290, 'kc': 4291, 'barnes': 4292, 'gasp': 4293, 'classy': 4294, 'zone': 4295, 'spongebob': 4296, 'creativity': 4297, 'inspirational': 4298, 'melted': 4299, 'bread': 4300, 'sinuses': 4301, 'telecom': 4302, 'purpose': 4303, 'terry': 4304, 'keyboards': 4305, 'nightmare': 4306, 'eve': 4307, 'sb': 4308, 'software': 4309, 'convo': 4310, 'billy': 4311, 'hurtin': 4312, 'african': 4313, 'tricked': 4314, 'fur': 4315, 'irony': 4316, 'troopers': 4317, 'frank': 4318, 'blink': 4319, 'performing': 4320, 'smashed': 4321, 'solo': 4322, 'mei': 4323, 'toss': 4324, 'tommy': 4325, 'darling': 4326, 'ordering': 4327, 'looove': 4328, 'dreary': 4329, 'pizzas': 4330, 'downside': 4331, 'hurrah': 4332, 'funnnn': 4333, 'sized': 4334, 'gary': 4335, 'hughes': 4336, 'jim': 4337, 'premiere': 4338, 'takers': 4339, 'aiming': 4340, 'donnie': 4341, 'startrek': 4342, 'disneyland': 4343, 'duh': 4344, 'complaining': 4345, 'tutorials': 4346, 'bak': 4347, 'brian': 4348, 'youth': 4349, 'todayy': 4350, 'oceans': 4351, 'clouds': 4352, 'german': 4353, 'rogers': 4354, 'der': 4355, 'murray': 4356, 'fishing': 4357, 'prepare': 4358, 'hungover': 4359, 'arriving': 4360, 'owners': 4361, 'wrecked': 4362, 'cucumber': 4363, 'sadd': 4364, 'wire': 4365, 'linda': 4366, 'creek': 4367, 'documentary': 4368, 'pms': 4369, 'sprain': 4370, 'richards': 4371, 'horses': 4372, 'shuffle': 4373, 'hosted': 4374, 'cheddar': 4375, 'sighs': 4376, 'pitch': 4377, 'alpine': 4378, 'filipino': 4379, 'buzzed': 4380, 'assistant': 4381, 'pony': 4382, 'strip': 4383, 'inlove': 4384, 'arvo': 4385, 'thighs': 4386, 'particularly': 4387, 'dig': 4388, 'merlin': 4389, 'crew': 4390, 'visual': 4391, 'unit': 4392, 'redesigned': 4393, 'ack': 4394, 'stubborn': 4395, 'pies': 4396, 'indy': 4397, 'ho': 4398, 'sync': 4399, 'banquet': 4400, 'emma': 4401, 'folding': 4402, 'fireworks': 4403, 'tacos': 4404, 'choc': 4405, 'crafty': 4406, 'bestfriend': 4407, 'vintage': 4408, 'tru': 4409, 'ahahaha': 4410, 'trees': 4411, 'dual': 4412, 'cupcake': 4413, 'spilled': 4414, 'ridiculously': 4415, 'aunts': 4416, 'tvs': 4417, 'korean': 4418, 'include': 4419, 'travelling': 4420, 'blipfm': 4421, 'shipped': 4422, 'replace': 4423, 'edinburgh': 4424, 'somethings': 4425, 'replying': 4426, 'highlight': 4427, 'dd': 4428, 'wooow': 4429, 'immediately': 4430, 'acts': 4431, 'automatic': 4432, 'scotland': 4433, 'sleeep': 4434, 'politics': 4435, 'engaged': 4436, 'ford': 4437, 'rarely': 4438, 'bkk': 4439, 'survey': 4440, 'youi': 4441, 'allll': 4442, 'wks': 4443, 'unpacking': 4444, 'boyfriends': 4445, 'av': 4446, 'favor': 4447, 'playlist': 4448, 'dangit': 4449, 'hosting': 4450, 'edwards': 4451, 'limb': 4452, 'grandmother': 4453, 'msgs': 4454, 'practically': 4455, 'anatomy': 4456, 'blogging': 4457, 'meee': 4458, 'ct': 4459, 'basement': 4460, 'manners': 4461, 'nicest': 4462, 'pops': 4463, 'pot': 4464, 'separate': 4465, 'christ': 4466, 'mocha': 4467, 'screening': 4468, 'olive': 4469, 'uu': 4470, 'tweeter': 4471, 'sniffle': 4472, 'tues': 4473, 'attacking': 4474, 'juz': 4475, 'bake': 4476, 'spit': 4477, 'promote': 4478, 'task': 4479, 'cya': 4480, 'balance': 4481, 'increased': 4482, 'knight': 4483, 'fridge': 4484, 'liz': 4485, 'sweatshirt': 4486, 'automatically': 4487, 'margaritas': 4488, 'returns': 4489, 'fitness': 4490, 'wooooo': 4491, 'mystery': 4492, 'ooooo': 4493, 'bruce': 4494, 'pie': 4495, 'drill': 4496, 'dk': 4497, 'charlie': 4498, 'chef': 4499, 'mod': 4500, 'jp': 4501, 'volleyball': 4502, 'scaring': 4503, 'tokio': 4504, 'rogue': 4505, 'handy': 4506, 'diana': 4507, 'francisco': 4508, 'dieing': 4509, 'fred': 4510, 'burgers': 4511, 'zachary': 4512, 'quinto': 4513, 'filthy': 4514, 'texted': 4515, 'covering': 4516, 'training': 4517, 'ach': 4518, 'cords': 4519, 'gooooood': 4520, 'wood': 4521, 'escaped': 4522, 'diff': 4523, 'knoww': 4524, 'pos': 4525, 'owner': 4526, 'riot': 4527, 'purse': 4528, 'blunt': 4529, 'kevin': 4530, 'scout': 4531, 'obsession': 4532, 'bodies': 4533, 'twpp': 4534, 'claims': 4535, 'hott': 4536, 'trumpet': 4537, 'copies': 4538, 'denmark': 4539, 'recent': 4540, 'upgrades': 4541, 'gue': 4542, 'crocheted': 4543, 'poly': 4544, 'fibe': 4545, 'sundae': 4546, 'flippin': 4547, 'inner': 4548, 'opportunity': 4549, 'remains': 4550, 'sicker': 4551, 'vent': 4552, 'blend': 4553, 'itouch': 4554, 'delight': 4555, 'springsteen': 4556, 'mel': 4557, 'companys': 4558, 'cow': 4559, 'torture': 4560, 'whoop': 4561, 'stanley': 4562, 'icky': 4563, 'likewise': 4564, 'converse': 4565, 'pat': 4566, 'conquered': 4567, 'guts': 4568, 'bows': 4569, 'ding': 4570, 'dong': 4571, 'en': 4572, 'espresso': 4573, 'gna': 4574, 'fkin': 4575, 'squirrel': 4576, 'frickin': 4577, 'woulda': 4578, 'apartments': 4579, 'vog': 4580, 'flies': 4581, 'tsk': 4582, 'certainly': 4583, 'yogurt': 4584, 'material': 4585, 'necklace': 4586, 'campus': 4587, 'jake': 4588, 'marketing': 4589, 'priscilla': 4590, 'pisses': 4591, 'grass': 4592, 'independent': 4593, 'crowd': 4594, 'lactose': 4595, 'shannon': 4596, 'plug': 4597, 'anne': 4598, 'dresses': 4599, 'banned': 4600, 'hut': 4601, 'vibes': 4602, 'cubs': 4603, 'serial': 4604, 'itbut': 4605, 'itand': 4606, 'wins': 4607, 'sinus': 4608, 'witness': 4609, 'explode': 4610, 'returning': 4611, 'grandpa': 4612, 'strep': 4613, 'discussion': 4614, 'onion': 4615, 'beatles': 4616, 'plague': 4617, 'kirk': 4618, 'needa': 4619, 'reaction': 4620, 'iowa': 4621, 'gang': 4622, 'rabbits': 4623, 'beats': 4624, 'humour': 4625, 'moods': 4626, 'climbing': 4627, 'shares': 4628, 'generally': 4629, 'swing': 4630, 'map': 4631, 'njoy': 4632, 'production': 4633, 'isaac': 4634, 'medicine': 4635, 'steph': 4636, 'deserves': 4637, 'cleaner': 4638, 'payed': 4639, 'kris': 4640, 'changing': 4641, 'hulk': 4642, 'drummer': 4643, 'gt': 4644, 'ghz': 4645, 'ere': 4646, 'ultimate': 4647, 'lime': 4648, 'newest': 4649, 'offered': 4650, 'tshirt': 4651, 'indulgence': 4652, 'twins': 4653, 'delay': 4654, 'perth': 4655, 'embarrassing': 4656, 'thinkin': 4657, 'jason': 4658, 'ohio': 4659, 'dresser': 4660, 'vip': 4661, 'central': 4662, 'strikes': 4663, 'siya': 4664, 'rocket': 4665, 'universe': 4666, 'jenny': 4667, 'blushing': 4668, 'caring': 4669, 'included': 4670, 'lott': 4671, 'technical': 4672, 'average': 4673, 'fascinating': 4674, 'criminal': 4675, 'connected': 4676, 'virgin': 4677, 'eff': 4678, 'replacing': 4679, 'snuggle': 4680, 'denver': 4681, 'tym': 4682, 'bow': 4683, 'parks': 4684, 'releases': 4685, 'thus': 4686, 'wierd': 4687, 'unni': 4688, 'consolation': 4689, 'tested': 4690, 'jeje': 4691, 'jaja': 4692, 'avid': 4693, 'prawns': 4694, 'mannnn': 4695, 'baddd': 4696, 'parody': 4697, 'publicly': 4698, 'fran': 4699, 'carpet': 4700, 'marvelous': 4701, 'nasal': 4702, 'todayyy': 4703, 'awesomee': 4704, 'smokes': 4705, 'pickle': 4706, 'natural': 4707, 'roots': 4708, 'instant': 4709, 'unfortunatley': 4710, 'candle': 4711, 'wax': 4712, 'goooooddd': 4713, 'skl': 4714, 'lydia': 4715, 'es': 4716, 'neice': 4717, 'illness': 4718, 'parked': 4719, 'creeper': 4720, 'fame': 4721, 'miranda': 4722, 'bracket': 4723, 'represent': 4724, 'appology': 4725, 'publishing': 4726, 'neighborhood': 4727, 'matching': 4728, 'alike': 4729, 'lara': 4730, 'tres': 4731, 'celebrities': 4732, 'jacked': 4733, 'parallel': 4734, 'spaces': 4735, 'roomie': 4736, 'errors': 4737, 'virginity': 4738, 'ship': 4739, 'dustbin': 4740, 'pinched': 4741, 'nerve': 4742, 'amazin': 4743, 'killers': 4744, 'drum': 4745, 'downer': 4746, 'hopeless': 4747, 'rb': 4748, 'announcement': 4749, 'lm': 4750, 'launched': 4751, 'flys': 4752, 'pen': 4753, 'infact': 4754, 'bueno': 4755, 'luna': 4756, 'passengers': 4757, 'ethan': 4758, 'devon': 4759, 'cereal': 4760, 'fil': 4761, 'stung': 4762, 'brief': 4763, 'jersey': 4764, 'chiropractor': 4765, 'poverty': 4766, 'fudge': 4767, 'bunnies': 4768, 'gun': 4769, 'converted': 4770, 'tucking': 4771, 'onions': 4772, 'beets': 4773, 'betos': 4774, 'throbbing': 4775, 'invention': 4776, 'influence': 4777, 'bac': 4778, 'stops': 4779, 'discrimination': 4780, 'trio': 4781, 'heavens': 4782, 'mates': 4783, 'soooim': 4784, 'micro': 4785, 'duet': 4786, 'numbrs': 4787, 'sprinkler': 4788, 'ichigo': 4789, 'boards': 4790, 'misery': 4791, 'jackson': 4792, 'fringe': 4793, 'killboy': 4794, 'kit': 4795, 'stroke': 4796, 'roo': 4797, 'crossfit': 4798, 'specials': 4799, 'emergency': 4800, 'jungle': 4801, 'pluck': 4802, 'tonighti': 4803, 'pacquiao': 4804, 'seed': 4805, 'flapataco': 4806, 'chillaxin': 4807, 'everbody': 4808, 'wkend': 4809, 'motorcycle': 4810, 'wowyou': 4811, 'pork': 4812, 'runners': 4813, 'reminiscing': 4814, 'hk': 4815, 'grace': 4816, 'stroll': 4817, 'bam': 4818, 'lit': 4819, 'coooooooool': 4820, 'tags': 4821, 'chomp': 4822, 'sumtime': 4823, 'victim': 4824, 'slip': 4825, 'ugggh': 4826, 'salvation': 4827, 'cheerleading': 4828, 'babygirl': 4829, 'prop': 4830, 'headin': 4831, 'beery': 4832, 'charts': 4833, 'csi': 4834, 'glimpse': 4835, 'runnin': 4836, 'grumpy': 4837, 'invisible': 4838, 'buried': 4839, 'pedro': 4840, 'homes': 4841, 'breakomg': 4842, 'showfinally': 4843, 'hollywood': 4844, 'studios': 4845, 'offices': 4846, 'shave': 4847, 'hairs': 4848, 'priced': 4849, 'nowjust': 4850, 'involves': 4851, 'industrial': 4852, 'carne': 4853, 'asada': 4854, 'greta': 4855, 'admire': 4856, 'rays': 4857, 'againi': 4858, 'cici': 4859, 'lexus': 4860, 'abusive': 4861, 'distracting': 4862, 'concrete': 4863, 'dota': 4864, 'frisbee': 4865, 'richard': 4866, 'goooooood': 4867, 'batteries': 4868, 'positivity': 4869, 'forsure': 4870, 'related': 4871, 'fruits': 4872, 'vegetable': 4873, 'lams': 4874, 'luvin': 4875, 'immediate': 4876, 'ratings': 4877, 'aaawww': 4878, 'ld': 4879, 'felted': 4880, 'lovelies': 4881, 'bart': 4882, 'nadia': 4883, 'basshunter': 4884, 'chachi': 4885, 'sl': 4886, 'distract': 4887, 'crabs': 4888, 'common': 4889, 'professionals': 4890, 'iight': 4891, 'shuld': 4892, 'cb': 4893, 'jello': 4894, 'lappy': 4895, 'ning': 4896, 'cafeteria': 4897, 'manager': 4898, 'brightly': 4899, 'begun': 4900, 'les': 4901, 'operation': 4902, 'tank': 4903, 'neva': 4904, 'dun': 4905, 'hiatus': 4906, 'buti': 4907, 'ko': 4908, 'producers': 4909, 'commute': 4910, 'logged': 4911, 'wiki': 4912, 'davids': 4913, 'belgian': 4914, 'dada': 4915, 'hire': 4916, 'pouts': 4917, 'roflmao': 4918, 'ot': 4919, 'naty': 4920, 'cure': 4921, 'ernie': 4922, 'skull': 4923, 'instrument': 4924, 'nic': 4925, 'thunderstorm': 4926, 'lovingly': 4927, 'lc': 4928, 'ard': 4929, 'rented': 4930, 'bikes': 4931, 'giggle': 4932, 'dash': 4933, 'latte': 4934, 'bury': 4935, 'matrix': 4936, 'bushes': 4937, 'rocky': 4938, 'shells': 4939, 'dismal': 4940, 'noooooooo': 4941, 'peter': 4942, 'natie': 4943, 'watkins': 4944, 'oy': 4945, 'followin': 4946, 'izzard': 4947, 'argue': 4948, 'wthem': 4949, 'ignorant': 4950, 'lab': 4951, 'nottingham': 4952, 'lovelovelove': 4953, 'sleeeep': 4954, 'appartment': 4955, 'jc': 4956, 'awfully': 4957, 'ym': 4958, 'repeatedly': 4959, 'indian': 4960, 'treating': 4961, 'glen': 4962, 'beck': 4963, 'raven': 4964, 'friendship': 4965, 'toris': 4966, 'whether': 4967, 'communication': 4968, 'graders': 4969, 'aloha': 4970, 'lift': 4971, 'greet': 4972, 'maltese': 4973, 'sharon': 4974, 'satisfied': 4975, 'drizzling': 4976, 'organizing': 4977, 'audioboo': 4978, 'dishwasher': 4979, 'robluketic': 4980, 'possessed': 4981, 'tennis': 4982, 'ure': 4983, 'cheeseburger': 4984, 'empire': 4985, 'worn': 4986, 'sars': 4987, 'beginnings': 4988, 'excruciating': 4989, 'drunken': 4990, 'smoothness': 4991, 'anythin': 4992, 'kayo': 4993, 'probs': 4994, 'rehearsals': 4995, 'malaysia': 4996, 'dayss': 4997, 'cents': 4998, 'medication': 4999, 'harold': 5000, 'riley': 5001, 'waz': 5002, 'lj': 5003, 'decorated': 5004, 'sweeney': 5005, 'mayo': 5006, 'morrrning': 5007, 'kh': 5008, 'abc': 5009, 'goooo': 5010, 'vicky': 5011, 'omgggg': 5012, 'throwing': 5013, 'eachother': 5014, 'splendid': 5015, 'seaworld': 5016, 'toilets': 5017, 'nowit': 5018, 'awesomei': 5019, 'sleeps': 5020, 'border': 5021, 'syndrome': 5022, 'okc': 5023, 'ahahah': 5024, 'pow': 5025, 'mainly': 5026, 'freckles': 5027, 'fieldnotes': 5028, 'midnite': 5029, 'absent': 5030, 'jaunty': 5031, 'mustaches': 5032, 'visible': 5033, 'showcase': 5034, 'spiced': 5035, 'weeps': 5036, 'ke': 5037, 'fluids': 5038, 'prepared': 5039, 'committed': 5040, 'nz': 5041, 'blowin': 5042, 'joint': 5043, 'brawl': 5044, 'twittertakeover': 5045, 'suprised': 5046, 'seperation': 5047, 'seperate': 5048, 'ims': 5049, 'damn': 5050, 'advanced': 5051, 'stefan': 5052, 'underbelly': 5053, 'uncomfortable': 5054, 'newish': 5055, 'fatigue': 5056, 'rooftop': 5057, 'champs': 5058, 'vegan': 5059, 'yur': 5060, 'sodas': 5061, 'nicholas': 5062, 'kindergarten': 5063, 'speakeasy': 5064, 'theaters': 5065, 'profession': 5066, 'flavors': 5067, 'flow': 5068, 'whee': 5069, 'daddys': 5070, 'survived': 5071, 'pitas': 5072, 'euphoria': 5073, 'smoothies': 5074, 'totalled': 5075, 'knowim': 5076, 'mmmmm': 5077, 'cary': 5078, 'grant': 5079, 'translate': 5080, 'holland': 5081, 'poetry': 5082, 'favs': 5083, 'alabama': 5084, 'visitin': 5085, 'developers': 5086, 'providers': 5087, 'venture': 5088, 'meatballs': 5089, 'responding': 5090, 'dayssss': 5091, 'increasingly': 5092, 'wx': 5093, 'delays': 5094, 'ward': 5095, 'discount': 5096, 'gates': 5097, 'resort': 5098, 'outlet': 5099, 'doubled': 5100, 'golfing': 5101, 'skill': 5102, 'impressions': 5103, 'fog': 5104, 'oyster': 5105, 'utter': 5106, 'upto': 5107, 'classics': 5108, 'wabble': 5109, 'bham': 5110, 'feeding': 5111, 'harvard': 5112, 'wot': 5113, 'languages': 5114, 'spoiled': 5115, 'insomnia': 5116, 'finest': 5117, 'cox': 5118, 'advert': 5119, 'redo': 5120, 'nm': 5121, 'bounce': 5122, 'landlord': 5123, 'frankie': 5124, 'ranch': 5125, 'birth': 5126, 'rsmv': 5127, 'anotha': 5128, 'entering': 5129, 'mes': 5130, 'organized': 5131, 'standby': 5132, 'maintenance': 5133, 'judy': 5134, 'passport': 5135, 'scratches': 5136, 'dirt': 5137, 'cauz': 5138, 'pep': 5139, 'mayb': 5140, 'weeds': 5141, 'coincidence': 5142, 'girly': 5143, 'counts': 5144, 'raffle': 5145, 'palms': 5146, 'ibm': 5147, 'compatible': 5148, 'newborns': 5149, 'imaginary': 5150, 'vince': 5151, 'encourage': 5152, 'laters': 5153, 'rehearsing': 5154, 'fx': 5155, 'kernel': 5156, 'layin': 5157, 'chillaxing': 5158, 'dough': 5159, 'planes': 5160, 'unite': 5161, 'explicitly': 5162, 'wallpaper': 5163, 'goodbyes': 5164, 'awhhh': 5165, 'potus': 5166, 'coldplay': 5167, 'soldiers': 5168, 'limits': 5169, 'barcelona': 5170, 'sleeeeep': 5171, 'td': 5172, 'trampoline': 5173, 'guide': 5174, 'viewing': 5175, 'sabbeth': 5176, 'colin': 5177, 'vocals': 5178, 'panera': 5179, 'skinny': 5180, 'barack': 5181, 'dns': 5182, 'treatment': 5183, 'climbs': 5184, 'rohan': 5185, 'phobia': 5186, 'workwhat': 5187, 'booboo': 5188, 'onethose': 5189, 'heated': 5190, 'colleagues': 5191, 'sia': 5192, 'joys': 5193, 'lifts': 5194, 'greedy': 5195, 'widget': 5196, 'colder': 5197, 'porridge': 5198, 'solution': 5199, 'walkin': 5200, 'sunscreen': 5201, 'mirrors': 5202, 'gpu': 5203, 'hairstylebut': 5204, 'wealth': 5205, 'hairdresser': 5206, 'mms': 5207, 'berlin': 5208, 'broadway': 5209, 'meter': 5210, 'wich': 5211, 'asks': 5212, 'ummmnnn': 5213, 'grumble': 5214, 'reeses': 5215, 'crackers': 5216, 'heartbroken': 5217, 'ramen': 5218, 'policy': 5219, 'headphones': 5220, 'bose': 5221, 'qdoba': 5222, 'brick': 5223, 'unlimited': 5224, 'chats': 5225, 'salon': 5226, 'lend': 5227, 'lool': 5228, 'combine': 5229, 'pour': 5230, 'effective': 5231, 'salute': 5232, 'hawt': 5233, 'hs': 5234, 'lou': 5235, 'overheating': 5236, 'singapore': 5237, 'fortunately': 5238, 'havee': 5239, 'rs': 5240, 'brooks': 5241, 'rashid': 5242, 'nascar': 5243, 'pressie': 5244, 'omgsh': 5245, 'prodigy': 5246, 'screwing': 5247, 'mps': 5248, 'wordpress': 5249, 'giv': 5250, 'fortune': 5251, 'exotic': 5252, 'tooi': 5253, 'keshia': 5254, 'misss': 5255, 'ci': 5256, 'migranes': 5257, 'financial': 5258, 'dating': 5259, 'tanner': 5260, 'ahah': 5261, 'creeped': 5262, 'fl': 5263, 'carl': 5264, 'realistic': 5265, 'considerably': 5266, 'elvis': 5267, 'prada': 5268, 'create': 5269, 'courtesy': 5270, 'sources': 5271, 'fgs': 5272, 'rawr': 5273, 'bri': 5274, 'howie': 5275, 'pleaseee': 5276, 'photoshoot': 5277, 'loveeeee': 5278, 'booooooo': 5279, 'toyota': 5280, 'draft': 5281, 'bom': 5282, 'daaay': 5283, 'tshirts': 5284, 'cabin': 5285, 'backpack': 5286, 'producer': 5287, 'cf': 5288, 'highschool': 5289, 'rental': 5290, 'blockbuster': 5291, 'hunk': 5292, 'whaaaat': 5293, 'clara': 5294, 'thurs': 5295, 'sadder': 5296, 'revenge': 5297, 'chaos': 5298, 'ski': 5299, 'marc': 5300, 'invitation': 5301, 'blind': 5302, 'priority': 5303, 'units': 5304, 'css': 5305, 'roommates': 5306, 'chc': 5307, 'qu': 5308, 'ph': 5309, 'gp': 5310, 'lies': 5311, 'breast': 5312, 'heheh': 5313, 'qualifying': 5314, 'react': 5315, 'elliott': 5316, 'jools': 5317, 'insanely': 5318, 'za': 5319, 'ji': 5320, 'cheeses': 5321, 'greatly': 5322, 'geometry': 5323, 'om': 5324, 'fingernails': 5325, 'xoxoxo': 5326, 'vp': 5327, 'therei': 5328, 'brewed': 5329, 'laydown': 5330, 'estas': 5331, 'accounts': 5332, 'endometriosis': 5333, 'snoring': 5334, 'chores': 5335, 'restaurants': 5336, 'welli': 5337, 'pricing': 5338, 'sweeny': 5339, 'nitei': 5340, 'laughter': 5341, 'affects': 5342, 'inability': 5343, 'manage': 5344, 'savings': 5345, 'theyd': 5346, 'pembroke': 5347, 'biz': 5348, 'sooooooooo': 5349, 'trader': 5350, 'teaches': 5351, 'aguirre': 5352, 'international': 5353, 'rents': 5354, 'rights': 5355, 'alternate': 5356, 'females': 5357, 'target': 5358, 'seesmic': 5359, 'hosts': 5360, 'edit': 5361, 'designs': 5362, 'dissapointed': 5363, 'blocking': 5364, 'io': 5365, 'ops': 5366, 'swedes': 5367, 'knitting': 5368, 'tminus': 5369, 'depresses': 5370, 'marshall': 5371, 'damm': 5372, 'truffles': 5373, 'ughwhat': 5374, 'beatwittyparty': 5375, 'wounds': 5376, 'customers': 5377, 'crazyangel': 5378, 'sorrry': 5379, 'woodstock': 5380, 'bankruptcy': 5381, 'vodafone': 5382, 'safely': 5383, 'attics': 5384, 'enemy': 5385, 'soulja': 5386, 'therefore': 5387, 'funk': 5388, 'rejects': 5389, 'hatch': 5390, 'dare': 5391, 'tester': 5392, 'tech': 5393, 'topshop': 5394, 'berra': 5395, 'stevie': 5396, 'achieve': 5397, 'heap': 5398, 'tu': 5399, 'wbu': 5400, 'drawn': 5401, 'cougar': 5402, 'kel': 5403, 'ron': 5404, 'sandwiches': 5405, 'ba': 5406, 'wallace': 5407, 'receiving': 5408, 'whatta': 5409, 'suited': 5410, 'thames': 5411, 'lunches': 5412, 'bumped': 5413, 'horrors': 5414, 'reunion': 5415, 'iwonder': 5416, 'iget': 5417, 'blanket': 5418, 'shed': 5419, 'lint': 5420, 'skirt': 5421, 'absolutley': 5422, 'darlin': 5423, 'worthy': 5424, 'oreo': 5425, 'nooooooooo': 5426, 'douchebag': 5427, 'rifle': 5428, 'built': 5429, 'highest': 5430, 'sykes': 5431, 'liam': 5432, 'experimental': 5433, 'rez': 5434, 'reset': 5435, 'elaine': 5436, 'wrapped': 5437, 'midterms': 5438, 'convention': 5439, 'admitting': 5440, 'discretion': 5441, 'occasionally': 5442, 'amazes': 5443, 'wisconsin': 5444, 'lung': 5445, 'meeeee': 5446, 'academic': 5447, 'wohoo': 5448, 'slave': 5449, 'promises': 5450, 'clearing': 5451, 'maid': 5452, 'striped': 5453, 'chal': 5454, 'milwaukee': 5455, 'nothin': 5456, 'staff': 5457, 'blister': 5458, 'reznor': 5459, 'alexander': 5460, 'sketch': 5461, 'upside': 5462, 'backstreet': 5463, 'starfleet': 5464, 'diving': 5465, 'nighti': 5466, 'lmfaoo': 5467, 'sc': 5468, 'yessss': 5469, 'capital': 5470, 'ed': 5471, 'endorsement': 5472, 'caramel': 5473, 'jedi': 5474, 'gretel': 5475, 'greenville': 5476, 'logging': 5477, 'worrying': 5478, 'lavender': 5479, 'blur': 5480, 'photograph': 5481, 'momies': 5482, 'oliver': 5483, 'lmaoi': 5484, 'oneself': 5485, 'googled': 5486, 'traumatized': 5487, 'worktoo': 5488, 'handbag': 5489, 'wernt': 5490, 'blech': 5491, 'ambien': 5492, 'retiring': 5493, 'statement': 5494, 'unholy': 5495, 'aiden': 5496, 'addict': 5497, 'void': 5498, 'union': 5499, 'yearold': 5500, 'rare': 5501, 'soak': 5502, 'fixreplies': 5503, 'overwhelmed': 5504, 'steady': 5505, 'mead': 5506, 'chica': 5507, 'remedies': 5508, 'platform': 5509, 'womp': 5510, 'shoud': 5511, 'crumpin': 5512, 'columbus': 5513, 'networking': 5514, 'donna': 5515, 'joyfull': 5516, 'blender': 5517, 'cud': 5518, 'worship': 5519, 'graphic': 5520, 'sorries': 5521, 'bold': 5522, 'poet': 5523, 'borders': 5524, 'ze': 5525, 'cuuuute': 5526, 'fella': 5527, 'gfs': 5528, 'borrowing': 5529, 'plaster': 5530, 'apparantly': 5531, 'blackjack': 5532, 'wiv': 5533, 'amanda': 5534, 'pwns': 5535, 'utterly': 5536, 'importantly': 5537, 'sharapova': 5538, 'wellity': 5539, 'sensibility': 5540, 'welcomed': 5541, 'bach': 5542, 'animating': 5543, 'yeahhh': 5544, 'aircon': 5545, 'hairdo': 5546, 'macarons': 5547, 'dodging': 5548, 'praising': 5549, 'murdered': 5550, 'primavera': 5551, 'doughnuts': 5552, 'combination': 5553, 'database': 5554, 'digest': 5555, 'copied': 5556, 'mashed': 5557, 'alyssa': 5558, 'reyes': 5559, 'assume': 5560, 'font': 5561, 'grrrrr': 5562, 'macarena': 5563, 'explorer': 5564, 'ballerina': 5565, 'dsi': 5566, 'gadget': 5567, 'luckily': 5568, 'snapped': 5569, 'absolute': 5570, 'castiel': 5571, 'suffers': 5572, 'doug': 5573, 'niceeeee': 5574, 'patch': 5575, 'thier': 5576, 'oww': 5577, 'spank': 5578, 'gold': 5579, 'tore': 5580, 'bfast': 5581, 'clutches': 5582, 'yellow': 5583, 'alll': 5584, 'adults': 5585, 'cigarette': 5586, 'ae': 5587, 'tying': 5588, 'richmond': 5589, 'wi': 5590, 'clark': 5591, 'cricket': 5592, 'tablets': 5593, 'brewing': 5594, 'addon': 5595, 'hiiiiii': 5596, 'moan': 5597, 'visited': 5598, 'yaaaay': 5599, 'wordsaftersex': 5600, 'soy': 5601, 'tina': 5602, 'uggg': 5603, 'grrh': 5604, 'switching': 5605, 'seating': 5606, 'foolish': 5607, 'drops': 5608, 'cola': 5609, 'diner': 5610, 'sci': 5611, 'anticipating': 5612, 'distribution': 5613, 'contribute': 5614, 'mitch': 5615, 'scotty': 5616, 'thas': 5617, 'aargh': 5618, 'stormy': 5619, 'cord': 5620, 'lush': 5621, 'brew': 5622, 'cha': 5623, 'gw': 5624, 'ada': 5625, 'iris': 5626, 'pepsi': 5627, 'gums': 5628, 'fricken': 5629, 'images': 5630, 'thin': 5631, 'ivy': 5632, 'infested': 5633, 'archuleta': 5634, 'smoothly': 5635, 'vim': 5636, 'providence': 5637, 'erase': 5638, 'birmingham': 5639, 'hugged': 5640, 'welsh': 5641, 'clapton': 5642, 'winwood': 5643, 'madly': 5644, 'imported': 5645, 'fuzzball': 5646, 'zac': 5647, 'grader': 5648, 'sri': 5649, 'sensation': 5650, 'upgraded': 5651, 'yummmm': 5652, 'fukin': 5653, 'windoze': 5654, 'towel': 5655, 'daisy': 5656, 'doggie': 5657, 'forcast': 5658, 'taylors': 5659, 'hats': 5660, 'uve': 5661, 'violently': 5662, 'restrictions': 5663, 'sneak': 5664, 'finishes': 5665, 'romantic': 5666, 'gaah': 5667, 'pedicure': 5668, 'temperature': 5669, 'colour': 5670, 'hiring': 5671, 'chowder': 5672, 'noisy': 5673, 'woah': 5674, 'underwear': 5675, 'guests': 5676, 'bench': 5677, 'jakarta': 5678, 'sql': 5679, 'queries': 5680, 'underwood': 5681, 'flags': 5682, 'lenos': 5683, 'ireland': 5684, 'cindy': 5685, 'awkward': 5686, 'flashing': 5687, 'disconnected': 5688, 'vets': 5689, 'arts': 5690, 'loooooong': 5691, 'steveo': 5692, 'distance': 5693, 'companies': 5694, 'amused': 5695, 'keyword': 5696, 'ara': 5697, 'withdrawal': 5698, 'tiff': 5699, 'midst': 5700, 'mayhem': 5701, 'blogs': 5702, 'achy': 5703, 'suckssss': 5704, 'roads': 5705, 'unfortunatly': 5706, 'backyard': 5707, 'iwas': 5708, 'warranty': 5709, 'meredith': 5710, 'router': 5711, 'informed': 5712, 'stalkers': 5713, 'whens': 5714, 'empathy': 5715, 'technically': 5716, 'marta': 5717, 'wasabi': 5718, 'coated': 5719, 'beverly': 5720, 'meat': 5721, 'crazier': 5722, 'sao': 5723, 'rainforest': 5724, 'tryna': 5725, 'wid': 5726, 'smiley': 5727, 'robbed': 5728, 'mx': 5729, 'trilogy': 5730, 'tempting': 5731, 'arkham': 5732, 'predicted': 5733, 'udon': 5734, 'calculator': 5735, 'browser': 5736, 'babysitter': 5737, 'vincent': 5738, 'telly': 5739, 'toward': 5740, 'organic': 5741, 'phils': 5742, 'registered': 5743, 'preprom': 5744, 'kayla': 5745, 'keyed': 5746, 'hood': 5747, 'scratched': 5748, 'sleepless': 5749, 'okayy': 5750, 'keith': 5751, 'zoe': 5752, 'scion': 5753, 'txt': 5754, 'spree': 5755, 'roscoe': 5756, 'rap': 5757, 'liver': 5758, 'forgets': 5759, 'racers': 5760, 'fixing': 5761, 'flooding': 5762, 'allegra': 5763, 'mopping': 5764, 'milkshakes': 5765, 'notices': 5766, 'lynne': 5767, 'champions': 5768, 'ofcourse': 5769, 'serve': 5770, 'stalker': 5771, 'thatd': 5772, 'congratss': 5773, 'confusion': 5774, 'sections': 5775, 'reflux': 5776, 'nicer': 5777, 'partyyyyy': 5778, 'hiii': 5779, 'reunited': 5780, 'insurance': 5781, 'okayyy': 5782, 'gardens': 5783, 'adverts': 5784, 'majorly': 5785, 'tournament': 5786, 'rails': 5787, 'knowi': 5788, 'checkin': 5789, 'schoool': 5790, 'slice': 5791, 'dragging': 5792, 'likey': 5793, 'shin': 5794, 'touched': 5795, 'arthritis': 5796, 'funn': 5797, 'bond': 5798, 'editors': 5799, 'loaders': 5800, 'custom': 5801, 'scum': 5802, 'hawks': 5803, 'coughing': 5804, 'gum': 5805, 'completing': 5806, 'example': 5807, 'cheat': 5808, 'appointments': 5809, 'behave': 5810, 'emailed': 5811, 'vast': 5812, 'moldovan': 5813, 'lice': 5814, 'temporary': 5815, 'experiences': 5816, 'potter': 5817, 'insulting': 5818, 'foam': 5819, 'wiser': 5820, 'viewers': 5821, 'penalty': 5822, 'oral': 5823, 'fortunate': 5824, 'wreck': 5825, 'ouchies': 5826, 'unhealthy': 5827, 'liverpool': 5828, 'pw': 5829, 'statue': 5830, 'fourteen': 5831, 'icurve': 5832, 'ing': 5833, 'typed': 5834, 'fender': 5835, 'hiding': 5836, 'laterz': 5837, 'workk': 5838, 'oclock': 5839, 'surreal': 5840, 'grubby': 5841, 'runny': 5842, 'weirdo': 5843, 'looool': 5844, 'stays': 5845, 'efforts': 5846, 'calculus': 5847, 'killen': 5848, 'talaga': 5849, 'tao': 5850, 'surviving': 5851, 'stranded': 5852, 'springs': 5853, 'lt': 5854, 'daft': 5855, 'hallmark': 5856, 'versions': 5857, 'clothing': 5858, 'lotr': 5859, 'sneezed': 5860, 'ihave': 5861, 'honesty': 5862, 'palace': 5863, 'upstairs': 5864, 'harlem': 5865, 'fonts': 5866, 'explains': 5867, 'compromise': 5868, 'mels': 5869, 'cheapy': 5870, 'lancaster': 5871, 'invest': 5872, 'htown': 5873, 'todo': 5874, 'basic': 5875, 'scents': 5876, 'microwave': 5877, 'yao': 5878, 'sociology': 5879, 'biology': 5880, 'belt': 5881, 'youmy': 5882, 'dangerous': 5883, 'category': 5884, 'listing': 5885, 'gumbo': 5886, 'tommorrow': 5887, 'looooong': 5888, 'spectacular': 5889, 'tumor': 5890, 'conditions': 5891, 'rugby': 5892, 'playin': 5893, 'carnt': 5894, 'murphys': 5895, 'niko': 5896, 'vermont': 5897, 'overjoyed': 5898, 'tops': 5899, 'sinking': 5900, 'pharmacy': 5901, 'koreans': 5902, 'mamma': 5903, 'preparing': 5904, 'peep': 5905, 'dynasty': 5906, 'rang': 5907, 'whoever': 5908, 'begining': 5909, 'broncos': 5910, 'nightmares': 5911, 'fu': 5912, 'gable': 5913, 'chalet': 5914, 'friendorfollowcom': 5915, 'cheesecakes': 5916, 'higher': 5917, 'chevre': 5918, 'violated': 5919, 'terms': 5920, 'refused': 5921, 'bush': 5922, 'pierced': 5923, 'hooky': 5924, 'bailey': 5925, 'weekly': 5926, 'coraline': 5927, 'arg': 5928, 'woooooo': 5929, 'subscribed': 5930, 'olympic': 5931, 'audi': 5932, 'chiro': 5933, 'fubumvc': 5934, 'sed': 5935, 'saddo': 5936, 'gracious': 5937, 'britt': 5938, 'backstage': 5939, 'pound': 5940, 'nyquil': 5941, 'shawty': 5942, 'nun': 5943, 'scarred': 5944, 'handed': 5945, 'regards': 5946, 'nowi': 5947, 'liquor': 5948, 'nicked': 5949, 'hillsong': 5950, 'nicks': 5951, 'ihate': 5952, 'fastest': 5953, 'misconstrued': 5954, 'promised': 5955, 'needless': 5956, 'cache': 5957, 'unintentionally': 5958, 'introducing': 5959, 'kennys': 5960, 'teenage': 5961, 'witch': 5962, 'uncool': 5963, 'cases': 5964, 'heheee': 5965, 'patrick': 5966, 'director': 5967, 'environment': 5968, 'devs': 5969, 'poems': 5970, 'vacay': 5971, 'goooood': 5972, 'hype': 5973, 'spelled': 5974, 'giveaway': 5975, 'outdated': 5976, 'hhrs': 5977, 'whatnot': 5978, 'owww': 5979, 'excuses': 5980, 'tisdale': 5981, 'registration': 5982, 'remeber': 5983, 'maine': 5984, 'laws': 5985, 'etsy': 5986, 'li': 5987, 'incase': 5988, 'goat': 5989, 'firewire': 5990, 'oooooo': 5991, 'heya': 5992, 'unf': 5993, 'gus': 5994, 'march': 5995, 'industry': 5996, 'musings': 5997, 'discouraged': 5998, 'spreading': 5999, 'trusted': 6000, 'iplayer': 6001, 'skye': 6002, 'foundation': 6003, 'nvm': 6004, 'klutz': 6005, 'fare': 6006, 'sammy': 6007, 'pocket': 6008, 'tradition': 6009, 'playoff': 6010, 'roses': 6011, 'chocolates': 6012, 'engineer': 6013, 'hip': 6014, 'speeding': 6015, 'destroys': 6016, 'doubtful': 6017, 'showin': 6018, 'parker': 6019, 'arena': 6020, 'justice': 6021, 'rescue': 6022, 'starwarsday': 6023, 'deeply': 6024, 'unloved': 6025, 'mang': 6026, 'bl': 6027, 'nachos': 6028, 'pete': 6029, 'ozzy': 6030, 'uti': 6031, 'pan': 6032, 'wendy': 6033, 'z': 6034, 'lifetime': 6035, 'pours': 6036, 'doh': 6037, 'flesh': 6038, 'custard': 6039, 'unreal': 6040, 'atmos': 6041, 'mister': 6042, 'giants': 6043, 'wme': 6044, 'yearbooks': 6045, 'snacks': 6046, 'transportation': 6047, 'bitter': 6048, 'bent': 6049, 'utah': 6050, 'gaming': 6051, 'et': 6052, 'educated': 6053, 'dope': 6054, 'ec': 6055, 'euruko': 6056, 'grammar': 6057, 'aye': 6058, 'mails': 6059, 'architecture': 6060, 'judge': 6061, 'bullied': 6062, 'spreadsheets': 6063, 'flour': 6064, 'tortilla': 6065, 'liesboystell': 6066, 'cnn': 6067, 'nyt': 6068, 'upsetting': 6069, 'setup': 6070, 'reel': 6071, 'shifts': 6072, 'lambs': 6073, 'pilot': 6074, 'browsing': 6075, 'ble': 6076, 'bicycle': 6077, 'mushy': 6078, 'ground': 6079, 'commercials': 6080, 'guten': 6081, 'morgen': 6082, 'alley': 6083, 'nu': 6084, 'wos': 6085, 'development': 6086, 'thirty': 6087, 'debating': 6088, 'emotionally': 6089, 'ondemand': 6090, 'wthe': 6091, 'deb': 6092, 'particular': 6093, 'denied': 6094, 'rey': 6095, 'ira': 6096, 'restoring': 6097, 'acct': 6098, 'richie': 6099, 'syncing': 6100, 'dimple': 6101, 'knife': 6102, 'sweater': 6103, 'allens': 6104, 'democratic': 6105, 'served': 6106, 'wh': 6107, 'chap': 6108, 'drummers': 6109, 'asian': 6110, 'mumbai': 6111, 'indians': 6112, 'oficially': 6113, 'napa': 6114, 'peed': 6115, 'gots': 6116, 'cricinfo': 6117, 'loo': 6118, 'disco': 6119, 'directory': 6120, 'ikr': 6121, 'movietoo': 6122, 'employees': 6123, 'sih': 6124, 'scottish': 6125, 'popsicle': 6126, 'claim': 6127, 'skillz': 6128, 'oki': 6129, 'assigned': 6130, 'titles': 6131, 'rusty': 6132, 'nash': 6133, 'smaller': 6134, 'tyra': 6135, 'sooon': 6136, 'brekkie': 6137, 'durian': 6138, 'puffs': 6139, 'iloveyou': 6140, 'lacey': 6141, 'anyday': 6142, 'neighbours': 6143, 'libby': 6144, 'sugars': 6145, 'tissues': 6146, 'tattooed': 6147, 'trading': 6148, 'pineapple': 6149, 'crazii': 6150, 'ave': 6151, 'dunn': 6152, 'contemplating': 6153, 'guest': 6154, 'jonaswebcast': 6155, 'anxiously': 6156, 'fill': 6157, 'mayer': 6158, 'banged': 6159, 'bleeding': 6160, 'casting': 6161, 'eva': 6162, 'strict': 6163, 'schooling': 6164, 'housework': 6165, 'sewing': 6166, 'difficulties': 6167, 'raft': 6168, 'coupons': 6169, 'galore': 6170, 'lamesauce': 6171, 'spin': 6172, 'crikey': 6173, 'clumsy': 6174, 'icon': 6175, 'adventure': 6176, 'disappointment': 6177, 'intel': 6178, 'quad': 6179, 'shouts': 6180, 'android': 6181, 'jazz': 6182, 'qi': 6183, 'drawer': 6184, 'potato': 6185, 'shucks': 6186, 'poets': 6187, 'integrity': 6188, 'sulking': 6189, 'oxford': 6190, 'razer': 6191, 'aaahhh': 6192, 'everton': 6193, 'swarm': 6194, 'furious': 6195, 'placed': 6196, 'heartless': 6197, 'hq': 6198, 'dels': 6199, 'bolt': 6200, 'cus': 6201, 'hub': 6202, 'youyou': 6203, 'repierced': 6204, 'shines': 6205, 'bec': 6206, 'deer': 6207, 'mileys': 6208, 'puke': 6209, 'embarrassed': 6210, 'inventor': 6211, 'irish': 6212, 'collapses': 6213, 'wakes': 6214, 'queer': 6215, 'omgosh': 6216, 'expectations': 6217, 'cuddling': 6218, 'cuddles': 6219, 'taught': 6220, 'lizzie': 6221, 'chennai': 6222, 'sticky': 6223, 'tuner': 6224, 'wanda': 6225, 'vpn': 6226, 'pixies': 6227, 'hve': 6228, 'thursdays': 6229, 'sofa': 6230, 'artwork': 6231, 'specially': 6232, 'cheek': 6233, 'bargain': 6234, 'renew': 6235, 'ponytail': 6236, 'mindful': 6237, 'pku': 6238, 'twiggas': 6239, 'wassup': 6240, 'ayo': 6241, 'wayy': 6242, 'coldstone': 6243, 'language': 6244, 'upmaybe': 6245, 'doors': 6246, 'fc': 6247, 'follows': 6248, 'affected': 6249, 'mower': 6250, 'carls': 6251, 'tila': 6252, 'fin': 6253, 'het': 6254, 'faire': 6255, 'dubai': 6256, 'billion': 6257, 'gently': 6258, 'cba': 6259, 'nerves': 6260, 'frog': 6261, 'vfc': 6262, 'pollard': 6263, 'hubs': 6264, 'looooove': 6265, 'swineflu': 6266, 'abiding': 6267, 'geoff': 6268, 'despair': 6269, 'providing': 6270, 'grapes': 6271, 'trend': 6272, 'brb': 6273, 'twiter': 6274, 'repinging': 6275, 'southern': 6276, 'intentionally': 6277, 'shipwrecked': 6278, 'ceo': 6279, 'header': 6280, 'reward': 6281, 'trade': 6282, 'harlow': 6283, 'wing': 6284, 'turkey': 6285, 'fetch': 6286, 'frown': 6287, 'plurk': 6288, 'satan': 6289, 'skating': 6290, 'borin': 6291, 'swallow': 6292, 'academy': 6293, 'pingpong': 6294, 'nvr': 6295, 'thirsty': 6296, 'keychain': 6297, 'jealousy': 6298, 'yaaaaaaay': 6299, 'pcd': 6300, 'alexis': 6301, 'redyed': 6302, 'cramping': 6303, 'pre': 6304, 'downloads': 6305, 'fabulously': 6306, 'speedy': 6307, 'recovery': 6308, 'garbage': 6309, 'cod': 6310, 'hahhaa': 6311, 'disgusting': 6312, 'knockout': 6313, 'pros': 6314, 'burr': 6315, 'indie': 6316, 'moi': 6317, 'energized': 6318, 'kaya': 6319, 'baka': 6320, 'nomatter': 6321, 'zack': 6322, 'vhs': 6323, 'foxy': 6324, 'tennant': 6325, 'jacket': 6326, 'destroy': 6327, 'pout': 6328, 'catcher': 6329, 'rosie': 6330, 'bitten': 6331, 'disorder': 6332, 'adoption': 6333, 'curve': 6334, 'currency': 6335, 'leicester': 6336, 'trigger': 6337, 'patients': 6338, 'internal': 6339, 'multi': 6340, 'mikey': 6341, 'unbearable': 6342, 'screamin': 6343, 'impose': 6344, 'whered': 6345, 'lists': 6346, 'documents': 6347, 'schoolers': 6348, 'pigeon': 6349, 'longboard': 6350, 'samberg': 6351, 'forest': 6352, 'mens': 6353, 'robot': 6354, 'butterflies': 6355, 'wikileaks': 6356, 'fcking': 6357, 'freeze': 6358, 'wus': 6359, 'elliot': 6360, 'prior': 6361, 'btches': 6362, 'venice': 6363, 'nightlife': 6364, 'globe': 6365, 'eddy': 6366, 'himym': 6367, 'lala': 6368, 'sly': 6369, 'brisbane': 6370, 'unnecessary': 6371, 'dome': 6372, 'switch': 6373, 'tow': 6374, 'luxury': 6375, 'nugget': 6376, 'scariest': 6377, 'shock': 6378, 'homeeee': 6379, 'gate': 6380, 'pao': 6381, 'vinyl': 6382, 'location': 6383, 'tn': 6384, 'wd': 6385, 'giggling': 6386, 'username': 6387, 'shaanxi': 6388, 'chihuahua': 6389, 'collective': 6390, 'slater': 6391, 'lookout': 6392, 'lite': 6393, 'buns': 6394, 'transport': 6395, 'denny': 6396, 'crane': 6397, 'kg': 6398, 'addicting': 6399, 'chickened': 6400, 'soooooooo': 6401, 'rabies': 6402, 'distances': 6403, 'nokia': 6404, 'perspective': 6405, 'twitting': 6406, 'embarrased': 6407, 'pendant': 6408, 'ob': 6409, 'studies': 6410, 'cravings': 6411, 'suffer': 6412, 'uggh': 6413, 'python': 6414, 'gauge': 6415, 'complex': 6416, 'overload': 6417, 'leslie': 6418, 'debut': 6419, 'vaca': 6420, 'chart': 6421, 'gran': 6422, 'raleigh': 6423, 'nigh': 6424, 'watts': 6425, 'swings': 6426, 'viral': 6427, 'greys': 6428, 'pretending': 6429, 'onnnn': 6430, 'bloomington': 6431, 'wating': 6432, 'sheesh': 6433, 'fightin': 6434, 'twiterfon': 6435, 'leann': 6436, 'sniff': 6437, 'knackered': 6438, 'sanctuary': 6439, 'dashboard': 6440, 'hopin': 6441, 'paso': 6442, 'freshman': 6443, 'papers': 6444, 'mami': 6445, 'muse': 6446, 'jaycees': 6447, 'debate': 6448, 'africa': 6449, 'favourites': 6450, 'sickness': 6451, 'glitch': 6452, 'frost': 6453, 'selves': 6454, 'magnet': 6455, 'applies': 6456, 'ye': 6457, 'chauffeur': 6458, 'aidan': 6459, 'tanned': 6460, 'researching': 6461, 'hilton': 6462, 'disk': 6463, 'morgan': 6464, 'amongst': 6465, 'mann': 6466, 'hiccups': 6467, 'ceremony': 6468, 'recognized': 6469, 'andre': 6470, 'looming': 6471, 'myy': 6472, 'patient': 6473, 'oakland': 6474, 'noises': 6475, 'tall': 6476, 'landline': 6477, 'yummm': 6478, 'programme': 6479, 'claire': 6480, 'escape': 6481, 'steroids': 6482, 'sans': 6483, 'adium': 6484, 'hacker': 6485, 'pinky': 6486, 'magnificent': 6487, 'grove': 6488, 'subscribe': 6489, 'directly': 6490, 'babyy': 6491, 'mgmt': 6492, 'weirdest': 6493, 'siss': 6494, 'assholes': 6495, 'puked': 6496, 'locker': 6497, 'prove': 6498, 'tiredd': 6499, 'xs': 6500, 'retweeted': 6501, 'bot': 6502, 'coding': 6503, 'awaits': 6504, 'euro': 6505, 'simon': 6506, 'mis': 6507, 'civic': 6508, 'spice': 6509, 'crime': 6510, 'groom': 6511, 'racquet': 6512, 'costly': 6513, 'shrimp': 6514, 'element': 6515, 'squirrels': 6516, 'headsup': 6517, 'nekkid': 6518, 'nj': 6519, 'modest': 6520, 'zs': 6521, 'animated': 6522, 'jamie': 6523, 'classmate': 6524, 'male': 6525, 'sequels': 6526, 'chose': 6527, 'tires': 6528, 'eclipse': 6529, 'arghhh': 6530, 'preciate': 6531, 'reasonable': 6532, 'wrapping': 6533, 'lexington': 6534, 'mit': 6535, 'closest': 6536, 'shirley': 6537, 'mega': 6538, 'spock': 6539, 'leak': 6540, 'veggie': 6541, 'lovers': 6542, 'hn': 6543, 'woody': 6544, 'jip': 6545, 'imm': 6546, 'tot': 6547, 'county': 6548, 'printing': 6549, 'byeeee': 6550, 'wht': 6551, 'delish': 6552, 'ritz': 6553, 'monica': 6554, 'wendys': 6555, 'lars': 6556, 'craig': 6557, 'turnout': 6558, 'harbour': 6559, 'hahai': 6560, 'markets': 6561, 'suspect': 6562, 'virtually': 6563, 'stressfree': 6564, 'benadryl': 6565, 'specifically': 6566, 'pooch': 6567, 'reached': 6568, 'dancer': 6569, 'staples': 6570, 'db': 6571, 'aaron': 6572, 'finna': 6573, 'harddrive': 6574, 'gi': 6575, 'seek': 6576, 'wifes': 6577, 'singers': 6578, 'mayers': 6579, 'polly': 6580, 'optimistic': 6581, 'reconnect': 6582, 'inhabit': 6583, 'ahn': 6584, 'stinkin': 6585, 'hte': 6586, 'rub': 6587, 'morrissey': 6588, 'giggles': 6589, 'storming': 6590, 'daya': 6591, 'gee': 6592, 'phenomenal': 6593, 'mosquito': 6594, 'gaskarth': 6595, 'tuh': 6596, 'wher': 6597, 'enthusiasm': 6598, 'timberlakes': 6599, 'capacity': 6600, 'jumps': 6601, 'physically': 6602, 'canon': 6603, 'poured': 6604, 'bowl': 6605, 'designer': 6606, 'greece': 6607, 'oreos': 6608, 'wockeez': 6609, 'hhaha': 6610, 'peg': 6611, 'cuter': 6612, 'fathom': 6613, 'georgia': 6614, 'aced': 6615, 'owl': 6616, 'autofollow': 6617, 'mraz': 6618, 'hater': 6619, 'noodle': 6620, 'nat': 6621, 'tattoos': 6622, 'nanna': 6623, 'git': 6624, 'tragedy': 6625, 'classical': 6626, 'carol': 6627, 'audience': 6628, 'heartwarming': 6629, 'luff': 6630, 'port': 6631, 'squeeze': 6632, 'whack': 6633, 'cellphone': 6634, 'slippers': 6635, 'shuts': 6636, 'linkedin': 6637, 'diy': 6638, 'jackass': 6639, 'suspected': 6640, 'chrissy': 6641, 'bacardi': 6642, 'beijing': 6643, 'poia': 6644, 'deposits': 6645, 'route': 6646, 'imax': 6647, 'bonus': 6648, 'bugging': 6649, 'morley': 6650, 'dev': 6651, 'reviewed': 6652, 'sod': 6653, 'floors': 6654, 'shades': 6655, 'overkill': 6656, 'nurse': 6657, 'probly': 6658, 'fevers': 6659, 'pollution': 6660, 'chilled': 6661, 'itching': 6662, 'plato': 6663, 'reload': 6664, 'desire': 6665, 'eternally': 6666, 'chopped': 6667, 'image': 6668, 'woooo': 6669, 'click': 6670, 'cynical': 6671, 'express': 6672, 'spielburg': 6673, 'clubbing': 6674, 'rah': 6675, 'romeo': 6676, 'niqht': 6677, 'shooter': 6678, 'freedom': 6679, 'amen': 6680, 'badluck': 6681, 'punk': 6682, 'ipa': 6683, 'finland': 6684, 'curly': 6685, 'cage': 6686, 'souls': 6687, 'watermelon': 6688, 'fro': 6689, 'ithow': 6690, 'chars': 6691, 'seeking': 6692, 'ahhhhhhh': 6693, 'portable': 6694, 'brownies': 6695, 'whn': 6696, 'bull': 6697, 'stretch': 6698, 'robin': 6699, 'washington': 6700, 'concepts': 6701, 'lifesaver': 6702, 'pts': 6703, 'ts': 6704, 'nfg': 6705, 'izzy': 6706, 'dried': 6707, 'racists': 6708, 'believed': 6709, 'feb': 6710, 'marked': 6711, 'anderson': 6712, 'yeahhhhh': 6713, 'danced': 6714, 'debbie': 6715, 'bacc': 6716, 'wegmans': 6717, 'aboard': 6718, 'sike': 6719, 'knit': 6720, 'bra': 6721, 'strap': 6722, 'cleveland': 6723, 'madres': 6724, 'blankets': 6725, 'cheesey': 6726, 'wakey': 6727, 'geneva': 6728, 'pitcher': 6729, 'commenting': 6730, 'fiance': 6731, 'considered': 6732, 'loveliness': 6733, 'paparazzi': 6734, 'leon': 6735, 'login': 6736, 'bdays': 6737, 'bees': 6738, 'population': 6739, 'morgans': 6740, 'agent': 6741, 'bulky': 6742, 'ssd': 6743, 'harmless': 6744, 'portuguese': 6745, 'default': 6746, 'teehee': 6747, 'acing': 6748, 'posters': 6749, 'toothbrush': 6750, 'rex': 6751, 'jackman': 6752, 'gh': 6753, 'rhubarb': 6754, 'irvine': 6755, 'disposable': 6756, 'disc': 6757, 'andd': 6758, 'lure': 6759, 'scenes': 6760, 'tooooooo': 6761, 'sup': 6762, 'straw': 6763, 'aunties': 6764, 'wacom': 6765, 'eg': 6766, 'laurens': 6767, 'property': 6768, 'horrific': 6769, 'jar': 6770, 'bop': 6771, 'scares': 6772, 'argument': 6773, 'kawawa': 6774, 'raid': 6775, 'topped': 6776, 'optional': 6777, 'shallow': 6778, 'os': 6779, 'willy': 6780, 'mosquitoes': 6781, 'malaria': 6782, 'parasites': 6783, 'damaged': 6784, 'blisters': 6785, 'triple': 6786, 'potty': 6787, 'itim': 6788, 'onwards': 6789, 'medium': 6790, 'jenn': 6791, 'promo': 6792, 'sayang': 6793, 'apathetic': 6794, 'desert': 6795, 'pgpm': 6796, 'js': 6797, 'fallon': 6798, 'dampen': 6799, 'dreamt': 6800, 'visa': 6801, 'whoot': 6802, 'rash': 6803, 'susan': 6804, 'applying': 6805, 'adams': 6806, 'kobe': 6807, 'depression': 6808, 'hips': 6809, 'twitterer': 6810, 'wayyy': 6811, 'papas': 6812, 'irc': 6813, 'flicks': 6814, 'est': 6815, 'paige': 6816, 'captain': 6817, 'humma': 6818, 'sen': 6819, 'blonding': 6820, 'soda': 6821, 'twinz': 6822, 'hallucination': 6823, 'drugged': 6824, 'boredd': 6825, 'kardashian': 6826, 'annoy': 6827, 'knocked': 6828, 'rethink': 6829, 'stars': 6830, 'damned': 6831, 'formula': 6832, 'anyhoo': 6833, 'isp': 6834, 'lg': 6835, 'admitted': 6836, 'pavement': 6837, 'approve': 6838, 'ins': 6839, 'tivo': 6840, 'bsc': 6841, 'pervs': 6842, 'statuses': 6843, 'vacuumed': 6844, 'ama': 6845, 'amp': 6846, 'killin': 6847, 'citizen': 6848, 'bloom': 6849, 'flop': 6850, 'sher': 6851, 'bruises': 6852, 'repeat': 6853, 'shocking': 6854, 'danger': 6855, 'individual': 6856, 'rates': 6857, 'superb': 6858, 'carter': 6859, 'healthcare': 6860, 'dozen': 6861, 'ick': 6862, 'stewart': 6863, 'advil': 6864, 'zzzz': 6865, 'oasis': 6866, 'minee': 6867, 'pooping': 6868, 'elle': 6869, 'apprentice': 6870, 'bldg': 6871, 'drinkin': 6872, 'quitting': 6873, 'auntie': 6874, 'parallels': 6875, 'amber': 6876, 'shatner': 6877, 'emailing': 6878, 'spared': 6879, 'ken': 6880, 'muy': 6881, 'stuffier': 6882, 'mii': 6883, 'hinder': 6884, 'jerrys': 6885, 'owns': 6886, 'fallout': 6887, 'addictive': 6888, 'homee': 6889, 'expansion': 6890, 'poorer': 6891, 'locations': 6892, 'discover': 6893, 'yeaaah': 6894, 'sads': 6895, 'permit': 6896, 'pax': 6897, 'yikes': 6898, 'dayyy': 6899, 'emotions': 6900, 'unlike': 6901, 'arrest': 6902, 'irresponsible': 6903, 'chatted': 6904, 'differnt': 6905, 'getcha': 6906, 'maaan': 6907, 'dedication': 6908, 'unparalleled': 6909, 'eee': 6910, 'choir': 6911, 'fears': 6912, 'replay': 6913, 'intent': 6914, 'touching': 6915, 'tiger': 6916, 'freezes': 6917, 'lo': 6918, 'kimmy': 6919, 'hop': 6920, 'phat': 6921, 'kev': 6922, 'cranberry': 6923, 'ka': 6924, 'install': 6925, 'snickers': 6926, 'nation': 6927, 'homesick': 6928, 'nola': 6929, 'vision': 6930, 'disaster': 6931, 'andor': 6932, 'shown': 6933, 'portugal': 6934, 'futile': 6935, 'charging': 6936, 'backround': 6937, 'tweetin': 6938, 'broadcast': 6939, 'letters': 6940, 'ittt': 6941, 'funnier': 6942, 'cuts': 6943, 'blew': 6944, 'centigrade': 6945, 'needles': 6946, 'windshield': 6947, 'wiper': 6948, 'blades': 6949, 'endless': 6950, 'gabba': 6951, 'productivity': 6952, 'lahiran': 6953, 'di': 6954, 'stamina': 6955, 'mcflys': 6956, 'kelley': 6957, 'cherish': 6958, 'iz': 6959, 'spill': 6960, 'veronicas': 6961, 'defeated': 6962, 'bookmark': 6963, 'onei': 6964, 'tasted': 6965, 'belongs': 6966, 'partyin': 6967, 'bakery': 6968, 'cautious': 6969, 'tesco': 6970, 'spelt': 6971, 'abs': 6972, 'placements': 6973, 'tmr': 6974, 'eps': 6975, 'valid': 6976, 'dreamed': 6977, 'hayes': 6978, 'colossal': 6979, 'macadamia': 6980, 'shack': 6981, 'imput': 6982, 'allianz': 6983, 'psy': 6984, 'tita': 6985, 'waaaaay': 6986, 'mulch': 6987, 'bullying': 6988, 'feedings': 6989, 'coos': 6990, 'sharpie': 6991, 'dangerously': 6992, 'ink': 6993, 'sok': 6994, 'alternatives': 6995, 'kirin': 6996, 'metamorph': 6997, 'fillin': 6998, 'malaysiano': 6999, 'backk': 7000, 'berkeleyy': 7001, 'whassqoodd': 7002, 'noida': 7003, 'quiteheavenly': 7004, 'dahye': 7005, 'bmi': 7006, 'obesed': 7007, 'sleeeeepy': 7008, 'todaysniffle': 7009, 'itsm': 7010, 'magazines': 7011, 'egh': 7012, 'boooooooooooo': 7013, 'hangovers': 7014, 'suckkkkkk': 7015, 'donbt': 7016, 'peel': 7017, 'dissappointed': 7018, 'romance': 7019, 'hunchback': 7020, 'sleepyi': 7021, 'chilliin': 7022, 'celticslakers': 7023, 'rematch': 7024, 'yyyyyyyyyoooooooooouuuuu': 7025, 'kidi': 7026, 'loserville': 7027, 'simfinger': 7028, 'irape': 7029, 'coded': 7030, 'sweeeeet': 7031, 'caseys': 7032, 'piddled': 7033, 'hemp': 7034, 'cloth': 7035, 'baddies': 7036, 'myhorrible': 7037, 'traumatic': 7038, 'cholla': 7039, 'accidentchollas': 7040, 'trickpieces': 7041, 'emerge': 7042, 'everybodys': 7043, 'yourbiggestfan': 7044, 'reblipping': 7045, 'joshy': 7046, 'pooyoull': 7047, 'knock': 7048, 'woof': 7049, 'afrin': 7050, 'teacup': 7051, 'tries': 7052, 'confident': 7053, 'anyy': 7054, 'awesomeeeee': 7055, 'totalling': 7056, 'suncream': 7057, 'bmfing': 7058, 'nephews': 7059, 'spesh': 7060, 'splinters': 7061, 'painfulbut': 7062, 'heroic': 7063, 'trans': 7064, 'gratification': 7065, 'childline': 7066, 'aerlingus': 7067, 'ryanair': 7068, 'billund': 7069, 'carwarmed': 7070, 'sprite': 7071, 'unassuming': 7072, 'unpretentious': 7073, 'endearingbecause': 7074, 'cruisers': 7075, 'hurtsreally': 7076, 'brutal': 7077, 'lichfield': 7078, 'bevvies': 7079, 'twngreat': 7080, 'myers': 7081, 'timer': 7082, 'namerebecca': 7083, 'terminal': 7084, 'fakes': 7085, 'hrdest': 7086, 'gumoww': 7087, 'goooooooooooood': 7088, 'morrrrrrrrning': 7089, 'boredim': 7090, 'deffo': 7091, 'channels': 7092, 'cyberstalking': 7093, 'tonightand': 7094, 'tanghaling': 7095, 'tapat': 7096, 'bikeespecially': 7097, 'wooven': 7098, 'woantitip': 7099, 'woven': 7100, 'tabz': 7101, 'jossd': 7102, 'dominic': 7103, 'monaghan': 7104, 'tavares': 7105, 'thereto': 7106, 'accepts': 7107, 'brightness': 7108, 'reinstalled': 7109, 'insanedefaults': 7110, 'netplayer': 7111, 'harmed': 7112, 'mercy': 7113, 'mercedes': 7114, 'dindin': 7115, 'outfits': 7116, 'values': 7117, 'confidence': 7118, 'trait': 7119, 'applaud': 7120, 'behaved': 7121, 'compensate': 7122, 'pigged': 7123, 'homeroasted': 7124, 'almonds': 7125, 'chocked': 7126, 'grammatical': 7127, 'bannished': 7128, 'vita': 7129, 'dwell': 7130, 'supportive': 7131, 'workkk': 7132, 'haii': 7133, 'nightt': 7134, 'tutus': 7135, 'postr': 7136, 'halfheartedly': 7137, 'frist': 7138, 'wossy': 7139, 'investigate': 7140, 'hardware': 7141, 'thunderstormsperfect': 7142, 'ohoh': 7143, 'recalled': 7144, 'sunehre': 7145, 'loooove': 7146, 'jewish': 7147, 'elmwood': 7148, 'interactive': 7149, 'transsiberian': 7150, 'planner': 7151, 'swamped': 7152, 'deadlines': 7153, 'charades': 7154, 'mooks': 7155, 'aimed': 7156, 'insorry': 7157, 'dsds': 7158, 'xatl': 7159, 'barakats': 7160, 'ssoo': 7161, 'tamlyn': 7162, 'sock': 7163, 'typically': 7164, 'hunrgy': 7165, 'electronic': 7166, 'keyhole': 7167, 'ludi': 7168, 'rug': 7169, 'waterfront': 7170, 'faccia': 7171, 'clarendon': 7172, 'slipped': 7173, 'firsti': 7174, 'wayi': 7175, 'straightjust': 7176, 'arch': 7177, 'mvccs': 7178, 'cad': 7179, 'bouncing': 7180, 'woolsery': 7181, 'molton': 7182, 'clinch': 7183, 'league': 7184, 'singstar': 7185, 'duetter': 7186, 'gnr': 7187, 'alwas': 7188, 'fighter': 7189, 'seth': 7190, 'espns': 7191, 'opus': 7192, 'hicks': 7193, 'gettn': 7194, 'heartwhoeva': 7195, 'tahoe': 7196, 'ihavent': 7197, 'promotions': 7198, 'finagle': 7199, 'stocking': 7200, 'smelling': 7201, 'soaps': 7202, 'nyappy': 7203, 'traumatizing': 7204, 'childhood': 7205, 'massacred': 7206, 'organization': 7207, 'itil': 7208, 'preaching': 7209, 'libertine': 7210, 'mlia': 7211, 'corn': 7212, 'sqeaky': 7213, 'ignorance': 7214, 'awwww': 7215, 'worthing': 7216, 'oiks': 7217, 'pizzeria': 7218, 'banksville': 7219, 'beachview': 7220, 'martini': 7221, 'spare': 7222, 'amor': 7223, 'sleepso': 7224, 'hgtv': 7225, 'infomercials': 7226, 'kaylees': 7227, 'stomped': 7228, 'hokey': 7229, 'cokeu': 7230, 'television': 7231, 'droppedcome': 7232, 'nikon': 7233, 'puffy': 7234, 'todayugh': 7235, 'shinningat': 7236, 'lifeughgoodnightso': 7237, 'sr': 7238, 'styles': 7239, 'odour': 7240, 'ownflitter': 7241, 'mastered': 7242, 'etonlinecom': 7243, 'diffusing': 7244, 'irritation': 7245, 'ryans': 7246, 'housewife': 7247, 'tinfoil': 7248, 'beachball': 7249, 'westcott': 7250, 'apollo': 7251, 'yeaaaah': 7252, 'ranjan': 7253, 'hysterical': 7254, 'booziest': 7255, 'zindex': 7256, 'problemagain': 7257, 'nos': 7258, 'delicate': 7259, 'michele': 7260, 'thatam': 7261, 'themlove': 7262, 'causes': 7263, 'philosophy': 7264, 'grouchy': 7265, 'emmy': 7266, 'latin': 7267, 'aptitude': 7268, 'kap': 7269, 'happyskool': 7270, 'rebel': 7271, 'pelzer': 7272, 'alls': 7273, 'artistic': 7274, 'abilities': 7275, 'ursssss': 7276, 'comb': 7277, 'menno': 7278, 'nirvana': 7279, 'doneyea': 7280, 'boohooooooooooo': 7281, 'hospitals': 7282, 'youuuuuu': 7283, 'courage': 7284, 'sherrieshepherd': 7285, 'icing': 7286, 'bandage': 7287, 'irrelevant': 7288, 'genuine': 7289, 'dependent': 7290, 'bestttt': 7291, 'googledocs': 7292, 'folders': 7293, 'dentention': 7294, 'melissa': 7295, 'freeways': 7296, 'ge': 7297, 'haaaaaaaaate': 7298, 'overlolthanks': 7299, 'larger': 7300, 'avalina': 7301, 'dud': 7302, 'cultural': 7303, 'loiusas': 7304, 'kangaroo': 7305, 'sightseeing': 7306, 'cemetary': 7307, 'plebs': 7308, 'lynz': 7309, 'bankholiday': 7310, 'tmh': 7311, 'lmaoha': 7312, 'habbo': 7313, 'ban': 7314, 'refusn': 7315, 'pomona': 7316, 'dinners': 7317, 'tenderloin': 7318, 'greens': 7319, 'raininghad': 7320, 'ladyfriend': 7321, 'rockstar': 7322, 'thar': 7323, 'dulay': 7324, 'bel': 7325, 'alabang': 7326, 'cutewish': 7327, 'worksthat': 7328, 'beasted': 7329, 'unsalvageable': 7330, 'inventing': 7331, 'beaches': 7332, 'laterhopefully': 7333, 'dnd': 7334, 'lifecam': 7335, 'vx': 7336, 'atomic': 7337, 'flavored': 7338, 'yessir': 7339, 'mozarts': 7340, 'eine': 7341, 'kleine': 7342, 'nashtmusik': 7343, 'handand': 7344, 'bagged': 7345, 'stitch': 7346, 'craft': 7347, 'showershave': 7348, 'jottonia': 7349, 'dooooooooown': 7350, 'virtue': 7351, 'carsthis': 7352, 'proly': 7353, 'crrrrrazy': 7354, 'pizzatime': 7355, 'fridaylooking': 7356, 'twitterr': 7357, 'ilse': 7358, 'jobros': 7359, 'examination': 7360, 'cathay': 7361, 'soso': 7362, 'marcus': 7363, 'shiftswill': 7364, 'reupload': 7365, 'auctionhow': 7366, 'baseship': 7367, 'awesomeam': 7368, 'caloric': 7369, 'intake': 7370, 'piccies': 7371, 'realz': 7372, 'screengrab': 7373, 'buckley': 7374, 'tiiiiiiired': 7375, 'doting': 7376, 'craigg': 7377, 'moneyits': 7378, 'huggable': 7379, 'fr': 7380, 'congratulatory': 7381, 'gweetin': 7382, 'meeeaaannn': 7383, 'boost': 7384, 'recycling': 7385, 'amits': 7386, 'hauntingxealot': 7387, 'goulburn': 7388, 'clutch': 7389, 'royal': 7390, 'compos': 7391, 'thanxx': 7392, 'mondaycant': 7393, 'laavly': 7394, 'sami': 7395, 'stalkerishly': 7396, 'elevator': 7397, 'brookie': 7398, 'moracca': 7399, 'blinks': 7400, 'bastardized': 7401, 'doe': 7402, 'moho': 7403, 'backline': 7404, 'menow': 7405, 'jaiden': 7406, 'congradts': 7407, 'damjust': 7408, 'manhattan': 7409, 'panvel': 7410, 'manta': 7411, 'kraken': 7412, 'staffers': 7413, 'watered': 7414, 'lettuce': 7415, 'homely': 7416, 'freddie': 7417, 'funpacked': 7418, 'hummer': 7419, 'kidsmy': 7420, 'bron': 7421, 'tyg': 7422, 'glued': 7423, 'yearslol': 7424, 'passtime': 7425, 'savvv': 7426, 'demise': 7427, 'woolworths': 7428, 'reasonably': 7429, 'unlocked': 7430, 'decades': 7431, 'gottta': 7432, 'nightlame': 7433, 'appericiate': 7434, 'supports': 7435, 'schoolwhatever': 7436, 'candis': 7437, 'reasonmaybe': 7438, 'helsinki': 7439, 'hopw': 7440, 'uts': 7441, 'racoons': 7442, 'racoon': 7443, 'knottie': 7444, 'overgrown': 7445, 'wil': 7446, 'theyr': 7447, 'nexus': 7448, 'suitcase': 7449, 'indecicive': 7450, 'prevent': 7451, 'rian': 7452, 'staden': 7453, 'nako': 7454, 'umuulan': 7455, 'naman': 7456, 'oohh': 7457, 'addictioni': 7458, 'golfer': 7459, 'catches': 7460, 'lhoste': 7461, 'usael': 7462, 'notmuch': 7463, 'cig': 7464, 'memo': 7465, 'hilariouss': 7466, 'theree': 7467, 'browning': 7468, 'ucsd': 7469, 'twitterblackberry': 7470, 'itive': 7471, 'depend': 7472, 'structures': 7473, 'blogginggood': 7474, 'okie': 7475, 'maternalhealth': 7476, 'goooodnight': 7477, 'monumental': 7478, 'burfday': 7479, 'yesmet': 7480, 'questionning': 7481, 'petite': 7482, 'puce': 7483, 'adica': 7484, 'puricel': 7485, 'franceza': 7486, 'attracted': 7487, 'kmv': 7488, 'robinson': 7489, 'wfm': 7490, 'lex': 7491, 'incestuous': 7492, 'eron': 7493, 'effy': 7494, 'lyxxx': 7495, 'msning': 7496, 'issueslol': 7497, 'ccs': 7498, 'premiers': 7499, 'metroplex': 7500, 'reads': 7501, 'clancy': 7502, 'clamentsnope': 7503, 'shark': 7504, 'jas': 7505, 'roni': 7506, 'djing': 7507, 'roy': 7508, 'williams': 7509, 'dissects': 7510, 'extensive': 7511, 'chances': 7512, 'fusterated': 7513, 'lecturer': 7514, 'gob': 7515, 'imovie': 7516, 'balancing': 7517, 'sixth': 7518, 'sneers': 7519, 'schindlers': 7520, 'littleren': 7521, 'niceee': 7522, 'motivateddeterminedwannabe': 7523, 'bni': 7524, 'yeaa': 7525, 'jont': 7526, 'awpoor': 7527, 'trasfusionloaded': 7528, 'delirious': 7529, 'teddychucking': 7530, 'girll': 7531, 'accountant': 7532, 'middleschool': 7533, 'kyr': 7534, 'calanques': 7535, 'vin': 7536, 'ams': 7537, 'gmtish': 7538, 'recharged': 7539, 'lecturesdefinitely': 7540, 'ebm': 7541, 'phase': 7542, 'cauzinhoooo': 7543, 'preep': 7544, 'luigis': 7545, 'lllooovvveee': 7546, 'hami': 7547, 'alryt': 7548, 'tmoro': 7549, 'sud': 7550, 'sumin': 7551, 'aen': 7552, 'spicey': 7553, 'zaboo': 7554, 'noooooooooooooooooo': 7555, 'lakas': 7556, 'ulan': 7557, 'nalang': 7558, 'bandana': 7559, 'gossipgirl': 7560, 'lawns': 7561, 'melissaleah': 7562, 'bushidokan': 7563, 'karate': 7564, 'someplace': 7565, 'walker': 7566, 'meaner': 7567, 'faillllllllll': 7568, 'freee': 7569, 'eyescontentment': 7570, 'whataday': 7571, 'irratated': 7572, 'daywow': 7573, 'violations': 7574, 'trademark': 7575, 'borrowed': 7576, 'ogberry': 7577, 'submit': 7578, 'failblogorg': 7579, 'amadou': 7580, 'miriam': 7581, 'tue': 7582, 'value': 7583, 'dianne': 7584, 'lessonguess': 7585, 'waitand': 7586, 'sonia': 7587, 'pichave': 7588, 'tomoive': 7589, 'acsvxdcbgfn': 7590, 'phoebe': 7591, 'rakeem': 7592, 'blackberryless': 7593, 'biligual': 7594, 'sweatshop': 7595, 'shoesshoesshoesyayyayyayloliwouldpostatwitpicbutidntknohow': 7596, 'skippin': 7597, 'underpriveledged': 7598, 'studyyyyyyyyyyyyyyyyyyyyyyyyy': 7599, 'empathise': 7600, 'premier': 7601, 'amazecore': 7602, 'tranlsators': 7603, 'overslept': 7604, 'hbd': 7605, 'kellyshes': 7606, 'vados': 7607, 'walmartcom': 7608, 'wowhow': 7609, 'acs': 7610, 'floridia': 7611, 'sleepthen': 7612, 'grind': 7613, 'amazingi': 7614, 'portal': 7615, 'couplea': 7616, 'eeeeep': 7617, 'successnow': 7618, 'meagan': 7619, 'captured': 7620, 'outsidethank': 7621, 'quizzes': 7622, 'teethmouth': 7623, 'requests': 7624, 'augusten': 7625, 'burroughs': 7626, 'whisked': 7627, 'homepage': 7628, 'sometimessomtimes': 7629, 'aptism': 7630, 'fisher': 7631, 'grumbles': 7632, 'coola': 7633, 'tokens': 7634, 'epicfail': 7635, 'joseph': 7636, 'liao': 7637, 'endure': 7638, 'likable': 7639, 'hahahahahahaha': 7640, 'menace': 7641, 'moo': 7642, 'cello': 7643, 'janeway': 7644, 'trekkie': 7645, 'unanticipated': 7646, 'quashed': 7647, 'heeeey': 7648, 'unair': 7649, 'twitster': 7650, 'morse': 7651, 'gaze': 7652, 'youcan': 7653, 'rescued': 7654, 'sunglasses': 7655, 'lunchnow': 7656, 'lettin': 7657, 'raspberrylaced': 7658, 'messy': 7659, 'eater': 7660, 'divine': 7661, 'greatif': 7662, 'misfit': 7663, 'tylenol': 7664, 'som': 7665, 'twitterslowly': 7666, 'aroundhah': 7667, 'recoverable': 7668, 'isay': 7669, 'kamusta': 7670, 'bulacan': 7671, 'historical': 7672, 'gimmick': 7673, 'gilmore': 7674, 'xdd': 7675, 'muuch': 7676, 'trail': 7677, 'juneoct': 7678, 'hadve': 7679, 'hardi': 7680, 'revive': 7681, 'bunyum': 7682, 'antisocial': 7683, 'rollerblading': 7684, 'shoreline': 7685, 'crampin': 7686, 'section': 7687, 'rollo': 7688, 'inserted': 7689, 'silverstone': 7690, 'sandown': 7691, 'bonjour': 7692, 'gardener': 7693, 'trimmed': 7694, 'baitersss': 7695, 'ieits': 7696, 'hmlet': 7697, 'labs': 7698, 'sweeet': 7699, 'dtn': 7700, 'naperville': 7701, 'athletic': 7702, 'rockpools': 7703, 'octopi': 7704, 'alexxx': 7705, 'washer': 7706, 'labeled': 7707, 'dazed': 7708, 'inflammed': 7709, 'enthusiastic': 7710, 'freesats': 7711, 'truely': 7712, 'inshaaallah': 7713, 'nagios': 7714, 'configuration': 7715, 'config': 7716, 'labour': 7717, 'nerdim': 7718, 'writin': 7719, 'lik': 7720, 'activities': 7721, 'seaside': 7722, 'superseeded': 7723, 'kaufer': 7724, 'liars': 7725, 'hackneys': 7726, 'yoghurt': 7727, 'carrots': 7728, 'foward': 7729, 'wisely': 7730, 'pigging': 7731, 'travoltas': 7732, 'bassline': 7733, 'woooooooooo': 7734, 'carits': 7735, 'wombat': 7736, 'tamara': 7737, 'props': 7738, 'gdask': 7739, 'formulate': 7740, 'hungryyyyyyy': 7741, 'foodthe': 7742, 'pakistani': 7743, 'woowoo': 7744, 'chevrolet': 7745, 'fitting': 7746, 'tosser': 7747, 'flap': 7748, 'fuuuuuuuudgeee': 7749, 'neighboures': 7750, 'rainsnow': 7751, 'acorn': 7752, 'gambling': 7753, 'types': 7754, 'snakesand': 7755, 'hotand': 7756, 'skeptical': 7757, 'carried': 7758, 'suhweet': 7759, 'compromises': 7760, 'cenario': 7761, 'nightand': 7762, 'smashedbein': 7763, 'jst': 7764, 'questionable': 7765, 'extenders': 7766, 'smooches': 7767, 'ouuuuuuuuuchhhhhhhh': 7768, 'barca': 7769, 'spanking': 7770, 'virginia': 7771, 'kapag': 7772, 'magkakasama': 7773, 'ulet': 7774, 'tayo': 7775, 'nila': 7776, 'mapet': 7777, 'supporters': 7778, 'whooop': 7779, 'moomie': 7780, 'programs': 7781, 'centers': 7782, 'jeeves': 7783, 'noose': 7784, 'helden': 7785, 'dutylove': 7786, 'nanawish': 7787, 'muchly': 7788, 'olives': 7789, 'deezy': 7790, 'maam': 7791, 'xxoxo': 7792, 'cg': 7793, 'jstuart': 7794, 'licence': 7795, 'kyles': 7796, 'fwiends': 7797, 'rawrrr': 7798, 'fp': 7799, 'warms': 7800, 'benefits': 7801, 'thingsi': 7802, 'squeals': 7803, 'egrowth': 7804, 'scotts': 7805, 'feening': 7806, 'cigs': 7807, 'wowi': 7808, 'bookmarksi': 7809, 'daydream': 7810, 'superexcited': 7811, 'busiest': 7812, 'chelmsford': 7813, 'demad': 7814, 'distorted': 7815, 'obs': 7816, 'sleeeeeppyyyyyy': 7817, 'bccg': 7818, 'jacksonville': 7819, 'insight': 7820, 'stunnedits': 7821, 'aweomse': 7822, 'certainty': 7823, 'omds': 7824, 'onoff': 7825, 'pnar': 7826, 'yuppie': 7827, 'leader': 7828, 'failnow': 7829, 'divo': 7830, 'widow': 7831, 'kinf': 7832, 'april': 7833, 'mooorrreeee': 7834, 'alreadt': 7835, 'braclets': 7836, 'greatings': 7837, 'shannan': 7838, 'laded': 7839, 'lanet': 7840, 'hopefull': 7841, 'hmmhaiaa': 7842, 'finnished': 7843, 'inconvenience': 7844, 'gaahhhh': 7845, 'anywayz': 7846, 'nowtht': 7847, 'heltershelter': 7848, 'socal': 7849, 'watchpoor': 7850, 'stupor': 7851, 'zbrush': 7852, 'undeniable': 7853, 'distant': 7854, 'nkorea': 7855, 'endangers': 7856, 'reggae': 7857, 'yeahjust': 7858, 'webkit': 7859, 'woootwoooo': 7860, 'nakakahyper': 7861, 'yogurting': 7862, 'monas': 7863, 'yoplait': 7864, 'tmorrow': 7865, 'tirednot': 7866, 'daywork': 7867, 'broughty': 7868, 'ferry': 7869, 'mcfox': 7870, 'miacherry': 7871, 'kik': 7872, 'wrte': 7873, 'againgot': 7874, 'groceriesprices': 7875, 'inflating': 7876, 'gaha': 7877, 'swords': 7878, 'jennifer': 7879, 'garner': 7880, 'gina': 7881, 'patricias': 7882, 'urban': 7883, 'docx': 7884, 'ledge': 7885, 'appropriately': 7886, 'everyhere': 7887, 'cinco': 7888, 'partied': 7889, 'hardgoodnight': 7890, 'weeaboo': 7891, 'tamera': 7892, 'anywaythe': 7893, 'cw': 7894, 'appreciating': 7895, 'hilaaaaarious': 7896, 'vernae': 7897, 'smudging': 7898, 'alkaline': 7899, 'saves': 7900, 'vol': 7901, 'liu': 7902, 'byspork': 7903, 'spork': 7904, 'ohay': 7905, 'gochat': 7906, 'owls': 7907, 'tescos': 7908, 'scratchings': 7909, 'scripts': 7910, 'replybut': 7911, 'tommrow': 7912, 'sinks': 7913, 'spattered': 7914, 'doesi': 7915, 'sederhana': 7916, 'padang': 7917, 'soooughhhh': 7918, 'alreay': 7919, 'diapers': 7920, 'malware': 7921, 'dept': 7922, 'whispering': 7923, 'lb': 7924, 'dummy': 7925, 'accidentaly': 7926, 'trunk': 7927, 'morrisons': 7928, 'pastel': 7929, 'ahmazing': 7930, 'cease': 7931, 'panasonic': 7932, 'chargersorry': 7933, 'trance': 7934, 'drumnbass': 7935, 'erniehalter': 7936, 'forecast': 7937, 'heeeeere': 7938, 'yaaaaaay': 7939, 'earl': 7940, 'divorcing': 7941, 'dangggg': 7942, 'jumpy': 7943, 'eprocurement': 7944, 'blacklisted': 7945, 'whitelist': 7946, 'sensing': 7947, 'fiery': 7948, 'anger': 7949, 'surrounding': 7950, 'schulz': 7951, 'voices': 7952, 'eventhough': 7953, 'uhoooh': 7954, 'co': 7955, 'xoblair': 7956, 'devos': 7957, 'alyso': 7958, 'stoner': 7959, 'benton': 7960, 'messae': 7961, 'coment': 7962, 'ughhhhhhhhhhhh': 7963, 'lmfaaoooo': 7964, 'videoyou': 7965, 'itsoooo': 7966, 'novell': 7967, 'moonlight': 7968, 'powers': 7969, 'corona': 7970, 'okseriouslygood': 7971, 'mumm': 7972, 'hopefuly': 7973, 'suprise': 7974, 'partyit': 7975, 'yummmmmyyyy': 7976, 'herbs': 7977, 'aasman': 7978, 'paar': 7979, 'shaayad': 7980, 'bleech': 7981, 'paperbound': 7982, 'zit': 7983, 'herpes': 7984, 'sugarland': 7985, 'gknight': 7986, 'nineteenth': 7987, 'impatiently': 7988, 'wes': 7989, 'carr': 7990, 'capture': 7991, 'yaaaa': 7992, 'wellness': 7993, 'aggregate': 7994, 'mythic': 7995, 'screenshot': 7996, 'yoou': 7997, 'hallscary': 7998, 'operating': 7999, 'mtfbwy': 8000, 'harrassment': 8001, 'toll': 8002, 'agoive': 8003, 'tents': 8004, 'hmn': 8005, 'bpm': 8006, 'rewarding': 8007, 'terrace': 8008, 'prospectus': 8009, 'neeed': 8010, 'mack': 8011, 'teethed': 8012, 'pearlman': 8013, 'cassie': 8014, 'suhana': 8015, 'youregreat': 8016, 'bringin': 8017, 'tame': 8018, 'braun': 8019, 'cameron': 8020, 'goers': 8021, 'rightim': 8022, 'awethank': 8023, 'steels': 8024, 'prints': 8025, 'soonnnnnn': 8026, 'kirsten': 8027, 'mojokins': 8028, 'mvp': 8029, 'heardread': 8030, 'cherry': 8031, 'ritas': 8032, 'loveyou': 8033, 'ffaf': 8034, 'distraaaaacting': 8035, 'keypad': 8036, 'nowyour': 8037, 'careys': 8038, 'mpsha': 8039, 'hash': 8040, 'waterley': 8041, 'mistressing': 8042, 'porto': 8043, 'tulane': 8044, 'felix': 8045, 'treatments': 8046, 'tubs': 8047, 'ixigocom': 8048, 'resto': 8049, 'dayuummm': 8050, 'palahniuks': 8051, 'pygmy': 8052, 'mans': 8053, 'nipissing': 8054, 'barrie': 8055, 'heating': 8056, 'ladder': 8057, 'collapse': 8058, 'backbum': 8059, 'laundrynever': 8060, 'beforei': 8061, 'reven': 8062, 'ewww': 8063, 'badge': 8064, 'thingie': 8065, 'ghosts': 8066, 'accessing': 8067, 'istore': 8068, 'apuya': 8069, 'fhnixons': 8070, 'breannarose': 8071, 'fuuuuuuck': 8072, 'youuuu': 8073, 'lampions': 8074, 'antiboyle': 8075, 'bloggingits': 8076, 'hooping': 8077, 'calgary': 8078, 'guuud': 8079, 'pantien': 8080, 'sabrinathough': 8081, 'shabby': 8082, 'tfarp': 8083, 'nods': 8084, 'dres': 8085, 'smirker': 8086, 'jak': 8087, 'colleen': 8088, 'sincerely': 8089, 'dubstep': 8090, 'uncontrolable': 8091, 'hicups': 8092, 'txting': 8093, 'greaaaaat': 8094, 'harrassed': 8095, 'burgen': 8096, 'whywhywhy': 8097, 'essays': 8098, 'comedian': 8099, 'stereos': 8100, 'ofmy': 8101, 'alltop': 8102, 'bahah': 8103, 'lurveeeeee': 8104, 'twimulations': 8105, 'arthur': 8106, 'displayed': 8107, 'drumsticks': 8108, 'bald': 8109, 'eagle': 8110, 'lighthouse': 8111, 'curl': 8112, 'andjay': 8113, 'yaaayyy': 8114, 'knowww': 8115, 'scholfield': 8116, 'forgo': 8117, 'youuuuu': 8118, 'santino': 8119, 'thirteen': 8120, 'inlaw': 8121, 'nogard': 8122, 'bwi': 8123, 'unpleasant': 8124, 'wnlaws': 8125, 'ohmy': 8126, 'foots': 8127, 'churchsunday': 8128, 'conflicts': 8129, 'niffer': 8130, 'pads': 8131, 'reece': 8132, 'momentum': 8133, 'graveimpressive': 8134, 'kisskass': 8135, 'katey': 8136, 'vodkas': 8137, 'maven': 8138, 'dependencies': 8139, 'headlining': 8140, 'congratuations': 8141, 'range': 8142, 'lancey': 8143, 'grapevine': 8144, 'moustachio': 8145, 'daddio': 8146, 'suckkkk': 8147, 'icantsleepness': 8148, 'vlogcandy': 8149, 'saddens': 8150, 'ugghhh': 8151, 'weatherlooks': 8152, 'whit': 8153, 'drivein': 8154, 'operational': 8155, 'savvy': 8156, 'sexualmaternal': 8157, 'threatening': 8158, 'branding': 8159, 'drea': 8160, 'boubous': 8161, 'crunk': 8162, 'yew': 8163, 'reflecting': 8164, 'sunlight': 8165, 'notsoscenic': 8166, 'phatass': 8167, 'maryland': 8168, 'camden': 8169, 'vipcome': 8170, 'sniffles': 8171, 'rof': 8172, 'eepfangirl': 8173, 'hollowbabeshere': 8174, 'bffls': 8175, 'nevah': 8176, 'jasons': 8177, 'comingi': 8178, 'eather': 8179, 'sesame': 8180, 'flovers': 8181, 'oldvery': 8182, 'mucky': 8183, 'thhmmm': 8184, 'sailed': 8185, 'ccos': 8186, 'moocow': 8187, 'pastures': 8188, 'lutherans': 8189, 'vaccuum': 8190, 'todayim': 8191, 'ministers': 8192, 'pearl': 8193, 'yeahyour': 8194, 'interests': 8195, 'cobblestones': 8196, 'ciwwaf': 8197, 'inerne': 8198, 'everythin': 8199, 'distel': 8200, 'rotton': 8201, 'zip': 8202, 'courney': 8203, 'positivly': 8204, 'hals': 8205, 'jude': 8206, 'colouring': 8207, 'blogroll': 8208, 'motivate': 8209, 'anstee': 8210, 'lousy': 8211, 'sew': 8212, 'jagex': 8213, 'closin': 8214, 'studyexam': 8215, 'britneys': 8216, 'fulltime': 8217, 'antioch': 8218, 'amtrak': 8219, 'flywithmeobsessive': 8220, 'muffler': 8221, 'bearings': 8222, 'braving': 8223, 'theview': 8224, 'products': 8225, 'clambering': 8226, 'immigrant': 8227, 'festivus': 8228, 'wrestling': 8229, 'oxoxoteambreezy': 8230, 'resteraunt': 8231, 'loverboy': 8232, 'alenka': 8233, 'chicky': 8234, 'barnsley': 8235, 'youtubes': 8236, 'clogging': 8237, 'wavves': 8238, 'hourssss': 8239, 'sooooocalllll': 8240, 'luca': 8241, 'nowor': 8242, 'commercially': 8243, 'viable': 8244, 'sunbeams': 8245, 'brendon': 8246, 'loretta': 8247, 'mutual': 8248, 'admiration': 8249, 'buffet': 8250, 'gluttony': 8251, 'grows': 8252, 'techie': 8253, 'boarding': 8254, 'nige': 8255, 'goth': 8256, 'nomore': 8257, 'tellonly': 8258, 'immune': 8259, 'recoverednot': 8260, 'probby': 8261, 'jelous': 8262, 'lyndi': 8263, 'legacy': 8264, 'pcoverip': 8265, 'teradici': 8266, 'loading': 8267, 'sndhdaintel': 8268, 'drv': 8269, 'macarenaing': 8270, 'txtin': 8271, 'wishin': 8272, 'hyde': 8273, 'sickand': 8274, 'calms': 8275, 'hans': 8276, 'jtv': 8277, 'comm': 8278, 'dooooooodddddiiiieeee': 8279, 'warhammer': 8280, 'marines': 8281, 'gamers': 8282, 'shudnt': 8283, 'mowgli': 8284, 'threads': 8285, 'quesadillasand': 8286, 'icecold': 8287, 'stiches': 8288, 'ouchie': 8289, 'scrubbing': 8290, 'rachinea': 8291, 'showerswork': 8292, 'heahhh': 8293, 'toooooo': 8294, 'trafficking': 8295, 'daly': 8296, 'chaplaintherapist': 8297, 'repost': 8298, 'malta': 8299, 'enjoywish': 8300, 'springfield': 8301, 'todayhowever': 8302, 'expense': 8303, 'participate': 8304, 'weeken': 8305, 'dahsar': 8306, 'thanxs': 8307, 'whittled': 8308, 'saints': 8309, 'teami': 8310, 'bankrupt': 8311, 'cooks': 8312, 'singles': 8313, 'decoupling': 8314, 'centersthis': 8315, 'honeyyyy': 8316, 'thornberrys': 8317, 'schoolwork': 8318, 'rehearsal': 8319, 'ru': 8320, 'erocka': 8321, 'ruler': 8322, 'enlightening': 8323, 'honourary': 8324, 'fluffette': 8325, 'shortage': 8326, 'combers': 8327, 'twitpics': 8328, 'shakalohana': 8329, 'wavez': 8330, 'surfin': 8331, 'comingexcited': 8332, 'sisi': 8333, 'nitecan': 8334, 'nutswont': 8335, 'reaons': 8336, 'itmatt': 8337, 'slowing': 8338, 'buhahaha': 8339, 'sensehahaha': 8340, 'nontweetinggirlfriend': 8341, 'byyy': 8342, 'sounding': 8343, 'lurgy': 8344, 'endofrope': 8345, 'talkingvoice': 8346, 'annpyimg': 8347, 'lighting': 8348, 'enhanced': 8349, 'sparklers': 8350, 'shantz': 8351, 'shantell': 8352, 'spears': 8353, 'busipod': 8354, 'vocabulary': 8355, 'benefit': 8356, 'cara': 8357, 'nighty': 8358, 'avenue': 8359, 'cupcakey': 8360, 'harper': 8361, 'ipodgreat': 8362, 'songlove': 8363, 'beatboxing': 8364, 'camee': 8365, 'offiacial': 8366, 'ripleys': 8367, 'eatingbad': 8368, 'utorrent': 8369, 'destroytwitter': 8370, 'foolishness': 8371, 'timberfake': 8372, 'internship': 8373, 'memorize': 8374, 'julius': 8375, 'caesar': 8376, 'twitted': 8377, 'nri': 8378, 'karan': 8379, 'johar': 8380, 'kulps': 8381, 'dense': 8382, 'cps': 8383, 'continuation': 8384, 'interpreter': 8385, 'sicp': 8386, 'spiderwoman': 8387, 'swindon': 8388, 'awayits': 8389, 'phobias': 8390, 'earned': 8391, 'esh': 8392, 'chosen': 8393, 'outstanding': 8394, 'presentations': 8395, 'discussants': 8396, 'skittles': 8397, 'yalls': 8398, 'sweeties': 8399, 'valiantly': 8400, 'textedcalled': 8401, 'eeeeeeeeeeeeee': 8402, 'seee': 8403, 'speaks': 8404, 'unzelaif': 8405, 'hashim': 8406, 'dosnt': 8407, 'holidaythen': 8408, 'panahra': 8409, 'rolf': 8410, 'shush': 8411, 'ulcers': 8412, 'healed': 8413, 'umbrellai': 8414, 'peoplee': 8415, 'bly': 8416, 'freakinggg': 8417, 'lookse': 8418, 'shorts': 8419, 'sandals': 8420, 'wearther': 8421, 'wayne': 8422, 'homeim': 8423, 'tiredhad': 8424, 'fledged': 8425, 'nv': 8426, 'tracky': 8427, 'daks': 8428, 'intrusion': 8429, 'linksharing': 8430, 'burp': 8431, 'nauseas': 8432, 'lions': 8433, 'stings': 8434, 'shenanigans': 8435, 'creditcardsized': 8436, 'sticks': 8437, 'hobotramp': 8438, 'quitwell': 8439, 'hurley': 8440, 'hyperlinks': 8441, 'indentation': 8442, 'clicking': 8443, 'pushit': 8444, 'isis': 8445, 'toured': 8446, 'superawesome': 8447, 'realization': 8448, 'mooneys': 8449, 'thermal': 8450, 'managementc': 8451, 'succesful': 8452, 'cancertown': 8453, 'goodmorningnight': 8454, 'slovakian': 8455, 'mahalo': 8456, 'kauai': 8457, 'pantry': 8458, 'calories': 8459, 'macris': 8460, 'deli': 8461, 'lunching': 8462, 'trojan': 8463, 'dor': 8464, 'honeymoon': 8465, 'meespecially': 8466, 'hehei': 8467, 'blasted': 8468, 'dlukasrossi': 8469, 'lukas': 8470, 'protected': 8471, 'profiles': 8472, 'gtfo': 8473, 'bridesmaids': 8474, 'computed': 8475, 'jipped': 8476, 'aladdin': 8477, 'urgggh': 8478, 'footwear': 8479, 'griting': 8480, 'loney': 8481, 'husker': 8482, 'accessno': 8483, 'garrit': 8484, 'sickkkkk': 8485, 'celina': 8486, 'uhpp': 8487, 'ahhhlilys': 8488, 'stinky': 8489, 'gal': 8490, 'whooo': 8491, 'hoooo': 8492, 'budden': 8493, 'kimbalicious': 8494, 'yooo': 8495, 'myyyyye': 8496, 'sleepyhead': 8497, 'dilfs': 8498, 'monthhappy': 8499, 'rawknrollnet': 8500, 'radioorg': 8501, 'vivid': 8502, 'rawk': 8503, 'graduatingits': 8504, 'breakin': 8505, 'heartbut': 8506, 'xmenwolverine': 8507, 'trialingfor': 8508, 'trials': 8509, 'screeching': 8510, 'halt': 8511, 'mush': 8512, 'gooooooodmorning': 8513, 'affecting': 8514, 'kaput': 8515, 'ahhmy': 8516, 'interuptions': 8517, 'helloooo': 8518, 'cnaterbury': 8519, 'reborn': 8520, 'artcabinet': 8521, 'apptsnot': 8522, 'heredont': 8523, 'fininsh': 8524, 'reactivation': 8525, 'combonations': 8526, 'meditate': 8527, 'findings': 8528, 'bordom': 8529, 'faded': 8530, 'feminineand': 8531, 'joeman': 8532, 'gizmo': 8533, 'growls': 8534, 'pruple': 8535, 'fingie': 8536, 'fanmail': 8537, 'boredumsong': 8538, 'flyleaf': 8539, 'pisssing': 8540, 'lautner': 8541, 'mandarin': 8542, 'wahey': 8543, 'remaining': 8544, 'intelligence': 8545, 'refactor': 8546, 'rewrite': 8547, 'brasilia': 8548, 'flashcads': 8549, 'yesterdayy': 8550, 'quotess': 8551, 'garth': 8552, 'downvery': 8553, 'reeeaaaally': 8554, 'stockings': 8555, 'glee': 8556, 'allaround': 8557, 'redneck': 8558, 'meself': 8559, 'goodnighthappy': 8560, 'mamis': 8561, 'amaize': 8562, 'tbqh': 8563, 'bu': 8564, 'listbut': 8565, 'barcampbkk': 8566, 'personalize': 8567, 'geronimo': 8568, 'earlierrr': 8569, 'tooz': 8570, 'abo': 8571, 'pomchi': 8572, 'daysoff': 8573, 'offugh': 8574, 'birdies': 8575, 'gman': 8576, 'thundered': 8577, 'reallyreally': 8578, 'brandwkshop': 8579, 'bedbury': 8580, 'eeeeee': 8581, 'hoodie': 8582, 'bo': 8583, 'beshia': 8584, 'persons': 8585, 'nationals': 8586, 'profiled': 8587, 'weaki': 8588, 'youhhhhhhh': 8589, 'japenese': 8590, 'sumthinnn': 8591, 'misssesss': 8592, 'supa': 8593, 'suckespecially': 8594, 'baaaby': 8595, 'waaaah': 8596, 'eatoff': 8597, 'germanywow': 8598, 'spark': 8599, 'isolated': 8600, 'aisa': 8601, 'shifty': 8602, 'momalwayyyyyyyssssssss': 8603, 'surpisingly': 8604, 'diners': 8605, 'guarantee': 8606, 'pooooor': 8607, 'todayyyyy': 8608, 'proposes': 8609, 'archies': 8610, 'triangle': 8611, 'cringe': 8612, 'pause': 8613, 'proves': 8614, 'speakerphone': 8615, 'lly': 8616, 'desperation': 8617, 'nowgreat': 8618, 'skinanother': 8619, 'majorlyhhhmmmnnnim': 8620, 'thinkingi': 8621, 'concealerim': 8622, 'coooolest': 8623, 'nichole': 8624, 'partysuprisingly': 8625, 'yukky': 8626, 'prayin': 8627, 'welly': 8628, 'ja': 8629, 'deze': 8630, 'interessanter': 8631, 'ib': 8632, 'mascots': 8633, 'virlcom': 8634, 'shadow': 8635, 'earliest': 8636, 'whoolllleeee': 8637, 'graf': 8638, 'hotness': 8639, 'personified': 8640, 'snake': 8641, 'cutee': 8642, 'nicho': 8643, 'pusrse': 8644, 'holmes': 8645, 'tweepsland': 8646, 'asher': 8647, 'summaries': 8648, 'beckett': 8649, 'chock': 8650, 'asbestos': 8651, 'aitana': 8652, 'alltired': 8653, 'competetion': 8654, 'declare': 8655, 'musicians': 8656, 'harpmanhatter': 8657, 'sadtheres': 8658, 'mpg': 8659, 'surprising': 8660, 'sorryyy': 8661, 'milerz': 8662, 'yourz': 8663, 'buenohope': 8664, 'accessories': 8665, 'livescribe': 8666, 'smartpen': 8667, 'nina': 8668, 'phlegmily': 8669, 'eeeee': 8670, 'clapping': 8671, 'gothats': 8672, 'therapuetic': 8673, 'bettering': 8674, 'financing': 8675, 'amazingwell': 8676, 'swined': 8677, 'pinocchios': 8678, 'bamboozle': 8679, 'apicture': 8680, 'thoughyes': 8681, 'amazning': 8682, 'greets': 8683, 'slovenia': 8684, 'overactive': 8685, 'goooooodmorning': 8686, 'keegan': 8687, 'matthews': 8688, 'yesnot': 8689, 'aaarrrgh': 8690, 'observationally': 8691, 'insightful': 8692, 'creams': 8693, 'nike': 8694, 'greeeeeeeeeeeat': 8695, 'classesif': 8696, 'meu': 8697, 'frioooo': 8698, 'delcia': 8699, 'ju': 8700, 'josie': 8701, 'zorzpeep': 8702, 'insteadand': 8703, 'rsvpsorry': 8704, 'birthdayday': 8705, 'feline': 8706, 'fuzzballits': 8707, 'doneworried': 8708, 'alan': 8709, 'partridge': 8710, 'johno': 8711, 'itmay': 8712, 'cape': 8713, 'oohed': 8714, 'err': 8715, 'schoolbooks': 8716, 'finallythe': 8717, 'phoenix': 8718, 'inventory': 8719, 'storyteller': 8720, 'lovey': 8721, 'lovething': 8722, 'undernourished': 8723, 'regime': 8724, 'finito': 8725, 'blurryness': 8726, 'chocky': 8727, 'twiiter': 8728, 'personermdifficult': 8729, 'minibus': 8730, 'fountain': 8731, 'clogged': 8732, 'grouping': 8733, 'participants': 8734, 'amumlaut': 8735, 'afterpartying': 8736, 'beths': 8737, 'gabbie': 8738, 'gps': 8739, 'sparkle': 8740, 'rlly': 8741, 'descanse': 8742, 'paz': 8743, 'luto': 8744, 'johnback': 8745, 'illinois': 8746, 'prose': 8747, 'blagh': 8748, 'beez': 8749, 'heterochallenged': 8750, 'began': 8751, 'thatyoure': 8752, 'workunfortunately': 8753, 'dinos': 8754, 'wasstraat': 8755, 'jacobs': 8756, 'whisper': 8757, 'itsilly': 8758, 'rsvping': 8759, 'houdin': 8760, 'crackup': 8761, 'inconsiderate': 8762, 'ballroom': 8763, 'concur': 8764, 'ayah': 8765, 'wellonly': 8766, 'holidayssad': 8767, 'jurybased': 8768, 'paranthas': 8769, 'birdy': 8770, 'plaid': 8771, 'colleague': 8772, 'iweb': 8773, 'optimizing': 8774, 'movietwo': 8775, 'shante': 8776, 'yus': 8777, 'revamping': 8778, 'outboard': 8779, 'gearvery': 8780, 'fucken': 8781, 'deffff': 8782, 'chut': 8783, 'vy': 8784, 'hik': 8785, 'phi': 8786, 'hc': 8787, 'kha': 8788, 'cp': 8789, 'kin': 8790, 'thc': 8791, 'essense': 8792, 'pricy': 8793, 'startin': 8794, 'uuuggghh': 8795, 'staring': 8796, 'basicallyheadache': 8797, 'anncole': 8798, 'rivers': 8799, 'tonites': 8800, 'poise': 8801, 'tickettttt': 8802, 'weeksoverdue': 8803, 'wantholla': 8804, 'daaaang': 8805, 'widescreen': 8806, 'rotation': 8807, 'kwanghock': 8808, 'hao': 8809, 'yeahness': 8810, 'xxxxxxxxxxxxxxxxxxxxxx': 8811, 'hairdressers': 8812, 'luncheons': 8813, 'chocolatesand': 8814, 'themwork': 8815, 'dogged': 8816, 'kymonkey': 8817, 'cheating': 8818, 'opinion': 8819, 'dwts': 8820, 'boreddddd': 8821, 'cookbooks': 8822, 'itts': 8823, 'canasta': 8824, 'thenpsych': 8825, 'exicted': 8826, 'acee': 8827, 'shunt': 8828, 'radar': 8829, 'exxciiteed': 8830, 'heep': 8831, 'swelling': 8832, 'sab': 8833, 'comme': 8834, 'tryingsorry': 8835, 'jeeeez': 8836, 'newsfire': 8837, 'prego': 8838, 'smuts': 8839, 'abang': 8840, 'screamer': 8841, 'wentworths': 8842, 'wiff': 8843, 'pazik': 8844, 'fart': 8845, 'brighten': 8846, 'glenelg': 8847, 'notthebest': 8848, 'weekendbut': 8849, 'homeneed': 8850, 'itemsbut': 8851, 'makino': 8852, 'chaya': 8853, 'cowboy': 8854, 'japan': 8855, 'freetds': 8856, 'utf': 8857, 'htb': 8858, 'stephen': 8859, 'smushed': 8860, 'deadset': 8861, 'bookstill': 8862, 'lpz': 8863, 'wnat': 8864, 'pleasantly': 8865, 'teratoma': 8866, 'cavity': 8867, 'malepattern': 8868, 'baldness': 8869, 'gweg': 8870, 'rny': 8871, 'sugary': 8872, 'vending': 8873, 'bleck': 8874, 'bonespraying': 8875, 'arrogant': 8876, 'tap': 8877, 'oregon': 8878, 'woe': 8879, 'coaches': 8880, 'jvm': 8881, 'touri': 8882, 'lawrence': 8883, 'rdacla': 8884, 'entities': 8885, 'cataloguing': 8886, 'rda': 8887, 'safer': 8888, 'sphere': 8889, 'disapointedgood': 8890, 'britainsgottalent': 8891, 'hahahahahahahaa': 8892, 'revitalize': 8893, 'reverting': 8894, 'cliches': 8895, 'discussed': 8896, 'bela': 8897, 'lugosi': 8898, 'apearance': 8899, 'outer': 8900, 'goodmaybe': 8901, 'abbster': 8902, 'alarms': 8903, 'inc': 8904, 'skomer': 8905, 'akarowan': 8906, 'alcoholic': 8907, 'argggggg': 8908, 'buggers': 8909, 'unsalted': 8910, 'caviar': 8911, 'psych': 8912, 'neuro': 8913, 'wets': 8914, 'remedy': 8915, 'wlda': 8916, 'dummyhead': 8917, 'twitterings': 8918, 'thisll': 8919, 'rants': 8920, 'nau': 8921, 'ordeal': 8922, 'looooooooves': 8923, 'itgood': 8924, 'rockett': 8925, 'themim': 8926, 'discriminating': 8927, 'roughnight': 8928, 'discern': 8929, 'avg': 8930, 'plagiarism': 8931, 'concurrency': 8932, 'interrupting': 8933, 'joing': 8934, 'freedomor': 8935, 'monthsso': 8936, 'prepped': 8937, 'buckfast': 8938, 'donminican': 8939, 'wmina': 8940, 'gymthis': 8941, 'wno': 8942, 'koxpers': 8943, 'wolf': 8944, 'chewy': 8945, 'pseudo': 8946, 'stepmoms': 8947, 'moths': 8948, 'wasps': 8949, 'insects': 8950, 'nowpretty': 8951, 'meone': 8952, 'muffins': 8953, 'manford': 8954, 'jetway': 8955, 'seventh': 8956, 'layer': 8957, 'hardcoremetalcore': 8958, 'bmth': 8959, 'trytomergetwotools': 8960, 'frameworks': 8961, 'framework': 8962, 'offtopic': 8963, 'inappropriate': 8964, 'germination': 8965, 'blinding': 8966, 'samanthadenise': 8967, 'bedeven': 8968, 'surf': 8969, 'mills': 8970, 'wildlife': 8971, 'thingits': 8972, 'alki': 8973, 'offstreet': 8974, 'wkds': 8975, 'sandman': 8976, 'tec': 8977, 'hindi': 8978, 'roar': 8979, 'whyyyyyy': 8980, 'getcho': 8981, 'memorys': 8982, 'commin': 8983, 'khyy': 8984, 'arrg': 8985, 'picturedarn': 8986, 'uglyonee': 8987, 'gregg': 8988, 'romo': 8989, 'frined': 8990, 'responsabilities': 8991, 'pokes': 8992, 'offset': 8993, 'gains': 8994, 'picturisation': 8995, 'ratatat': 8996, 'socialscope': 8997, 'youthank': 8998, 'beatiful': 8999, 'buena': 9000, 'hide': 9001, 'defend': 9002, 'ontario': 9003, 'hourswill': 9004, 'awakei': 9005, 'dayscamping': 9006, 'yayi': 9007, 'beauties': 9008, 'grads': 9009, 'designart': 9010, 'deodorant': 9011, 'duhhhhhh': 9012, 'weezy': 9013, 'knotts': 9014, 'evn': 9015, 'rhonda': 9016, 'spat': 9017, 'balanced': 9018, 'midge': 9019, 'punkd': 9020, 'katieawesome': 9021, 'travels': 9022, 'mistakeill': 9023, 'thankyooooou': 9024, 'slightest': 9025, 'doggymy': 9026, 'hammymy': 9027, 'fishes': 9028, 'slope': 9029, 'golfballs': 9030, 'kimberlee': 9031, 'uhoh': 9032, 'fist': 9033, 'biker': 9034, 'guyand': 9035, 'lindy': 9036, 'olympiou': 9037, 'diamanti': 9038, 'thessaloniki': 9039, 'phantom': 9040, 'fridaywhich': 9041, 'fritters': 9042, 'fooddont': 9043, 'cameo': 9044, 'allwill': 9045, 'nowgnight': 9046, 'mie': 9047, 'goodknight': 9048, 'blockhead': 9049, 'beeand': 9050, 'tweety': 9051, 'wereld': 9052, 'goals': 9053, 'piyaaa': 9054, 'noteboook': 9055, 'graandmas': 9056, 'houseee': 9057, 'dillingen': 9058, 'seminars': 9059, 'kevins': 9060, 'shirtless': 9061, 'lololol': 9062, 'kenan': 9063, 'nowright': 9064, 'yahh': 9065, 'determined': 9066, 'slarm': 9067, 'bowls': 9068, 'trekwhat': 9069, 'rising': 9070, 'albany': 9071, 'aos': 9072, 'typicalgoin': 9073, 'againooo': 9074, 'alfred': 9075, 'wathing': 9076, 'taquito': 9077, 'junction': 9078, 'ollies': 9079, 'aswel': 9080, 'diploma': 9081, 'cheeredi': 9082, 'chant': 9083, 'apologylol': 9084, 'sonic': 9085, 'py': 9086, 'chaper': 9087, 'dunker': 9088, 'raymond': 9089, 'hometown': 9090, 'dcd': 9091, 'ttytomorrow': 9092, 'sesh': 9093, 'blessing': 9094, 'aston': 9095, 'djs': 9096, 'partypeople': 9097, 'goodman': 9098, 'wonderland': 9099, 'gio': 9100, 'brazilian': 9101, 'ruxbury': 9102, 'zemote': 9103, 'zemotecom': 9104, 'paranoif': 9105, 'anchovies': 9106, 'crazyi': 9107, 'splash': 9108, 'litterature': 9109, 'soooooooooooooooooooooooooooooooooooo': 9110, 'justins': 9111, 'daxx': 9112, 'proverbs': 9113, 'followfridays': 9114, 'sht': 9115, 'milkskake': 9116, 'warrant': 9117, 'agg': 9118, 'plops': 9119, 'taiwanese': 9120, 'dramas': 9121, 'chun': 9122, 'eeeeeee': 9123, 'soothes': 9124, 'evaluating': 9125, 'peopledont': 9126, 'homehappy': 9127, 'twitmoms': 9128, 'spaniel': 9129, 'debt': 9130, 'aaargh': 9131, 'longggg': 9132, 'inkheart': 9133, 'ffa': 9134, 'autoreset': 9135, 'plinker': 9136, 'ummokjust': 9137, 'horde': 9138, 'disbanded': 9139, 'tweepsgood': 9140, 'wussup': 9141, 'americatalk': 9142, 'wuts': 9143, 'ferman': 9144, 'addin': 9145, 'shooould': 9146, 'roseanne': 9147, 'bep': 9148, 'waved': 9149, 'gaining': 9150, 'frankly': 9151, 'rightards': 9152, 'arghh': 9153, 'itt': 9154, 'waitt': 9155, 'cheryl': 9156, 'ttt': 9157, 'ryland': 9158, 'suarez': 9159, 'tbhbut': 9160, 'iter': 9161, 'reactor': 9162, 'scholar': 9163, 'homeland': 9164, 'ontology': 9165, 'prescription': 9166, 'liek': 9167, 'soooory': 9168, 'evelyn': 9169, 'illogical': 9170, 'happpy': 9171, 'hysterics': 9172, 'yaas': 9173, 'clipping': 9174, 'scrapbook': 9175, 'fiasco': 9176, 'yacht': 9177, 'decking': 9178, 'niley': 9179, 'demisterling': 9180, 'jemi': 9181, 'taping': 9182, 'stillthis': 9183, 'homesssssskooooler': 9184, 'clayton': 9185, 'resturant': 9186, 'huckabee': 9187, 'atticus': 9188, 'corral': 9189, 'platinum': 9190, 'busting': 9191, 'silencedoesnt': 9192, 'humm': 9193, 'supporting': 9194, 'yujm': 9195, 'shane': 9196, 'dawson': 9197, 'nowgood': 9198, 'haterjus': 9199, 'osap': 9200, 'recap': 9201, 'rosemary': 9202, 'guybut': 9203, 'thatwouldmakeof': 9204, 'myfriends': 9205, 'cargo': 9206, 'postponed': 9207, 'bdayhes': 9208, 'query': 9209, 'applications': 9210, 'coronas': 9211, 'pastries': 9212, 'uptown': 9213, 'bagel': 9214, 'mononoke': 9215, 'moommy': 9216, 'somn': 9217, 'fcs': 9218, 'awwh': 9219, 'oli': 9220, 'snowdaysss': 9221, 'fm': 9222, 'tooone': 9223, 'onesies': 9224, 'lan': 9225, 'ki': 9226, 'compre': 9227, 'raha': 9228, 'abhi': 9229, 'mckenzie': 9230, 'agaaaaaaiiiin': 9231, 'maaaam': 9232, 'thanksmine': 9233, 'stoned': 9234, 'lem': 9235, 'yeahhavent': 9236, 'thebc': 9237, 'ratty': 9238, 'lender': 9239, 'nin': 9240, 'threatens': 9241, 'omedetou': 9242, 'refreshed': 9243, 'ovechkin': 9244, 'phootoboothingisfunforbunny': 9245, 'volumen': 9246, 'eins': 9247, 'krogers': 9248, 'catwalk': 9249, 'blahh': 9250, 'nighthave': 9251, 'catchy': 9252, 'yahooo': 9253, 'romulin': 9254, 'tropical': 9255, 'lagoon': 9256, 'fishahhh': 9257, 'michi': 9258, 'moma': 9259, 'kaki': 9260, 'sparks': 9261, 'alrightokay': 9262, 'occured': 9263, 'cheris': 9264, 'bonfire': 9265, 'lock': 9266, 'twiin': 9267, 'reprobates': 9268, 'suspicion': 9269, 'programmed': 9270, 'paisley': 9271, 'minas': 9272, 'tirith': 9273, 'killeen': 9274, 'homebirth': 9275, 'moot': 9276, 'podunktown': 9277, 'handwraps': 9278, 'hawksmoor': 9279, 'streetview': 9280, 'isi': 9281, 'homeseriously': 9282, 'fluffodile': 9283, 'teg': 9284, 'tess': 9285, 'frey': 9286, 'gender': 9287, 'sondaughter': 9288, 'audiobook': 9289, 'rope': 9290, 'witdrawal': 9291, 'demos': 9292, 'firstbut': 9293, 'str': 9294, 'aus': 9295, 'islip': 9296, 'killme': 9297, 'pril': 9298, 'manga': 9299, 'sunset': 9300, 'jaycee': 9301, 'oneletterer': 9302, 'dble': 9303, 'suicide': 9304, 'diamonds': 9305, 'suzaku': 9306, 'shh': 9307, 'cystic': 9308, 'lacrimal': 9309, 'infectection': 9310, 'owen': 9311, 'sayits': 9312, 'airsoft': 9313, 'binoculars': 9314, 'ipodsadi': 9315, 'ri': 9316, 'visite': 9317, 'demand': 9318, 'sgb': 9319, 'nesquik': 9320, 'followillfriday': 9321, 'drooling': 9322, 'notion': 9323, 'heyahh': 9324, 'cumin': 9325, 'taylorr': 9326, 'usd': 9327, 'losses': 9328, 'hopping': 9329, 'tidy': 9330, 'ashes': 9331, 'catnip': 9332, 'overspend': 9333, 'midday': 9334, 'sue': 9335, 'creditcard': 9336, 'yaaaaay': 9337, 'jordies': 9338, 'donnies': 9339, 'dji': 9340, 'inherent': 9341, 'humility': 9342, 'toasters': 9343, 'tankdps': 9344, 'wellthat': 9345, 'battles': 9346, 'midwest': 9347, 'tdub': 9348, 'tys': 9349, 'uncontrollably': 9350, 'spainyou': 9351, 'grantedluckily': 9352, 'booking': 9353, 'stuvk': 9354, 'stpid': 9355, 'mute': 9356, 'gooooonight': 9357, 'kinokuniya': 9358, 'splurge': 9359, 'bigggest': 9360, 'settling': 9361, 'urlmincnmt': 9362, 'dexter': 9363, 'chunky': 9364, 'cups': 9365, 'coffeenot': 9366, 'struckthought': 9367, 'woooomp': 9368, 'peicing': 9369, 'fallin': 9370, 'uhhh': 9371, 'dub': 9372, 'gs': 9373, 'cheerleader': 9374, 'ohrwurm': 9375, 'colorblind': 9376, 'pegelcape': 9377, 'keliling': 9378, 'kuilbuttotally': 9379, 'awesomewas': 9380, 'templecultureambiencetruly': 9381, 'meebo': 9382, 'ebuddy': 9383, 'joins': 9384, 'siddy': 9385, 'reimer': 9386, 'kubuntu': 9387, 'grench': 9388, 'akl': 9389, 'sleeveless': 9390, 'figuring': 9391, 'flourescents': 9392, 'facepeely': 9393, 'hideous': 9394, 'lipstick': 9395, 'unpacked': 9396, 'awayim': 9397, 'freelance': 9398, 'heri': 9399, 'moleskine': 9400, 'notebooks': 9401, 'goddam': 9402, 'soonwe': 9403, 'vancity': 9404, 'skimchamp': 9405, 'icetv': 9406, 'smr': 9407, 'withstanding': 9408, 'listenening': 9409, 'palmpre': 9410, 'emayal': 9411, 'loops': 9412, 'flushed': 9413, 'shaky': 9414, 'wakeup': 9415, 'ilook': 9416, 'demis': 9417, 'blushes': 9418, 'trackpad': 9419, 'quarters': 9420, 'oooo': 9421, 'authorized': 9422, 'refills': 9423, 'practicing': 9424, 'crumbles': 9425, 'nonyahoo': 9426, 'acc': 9427, 'boughtout': 9428, 'yahoospam': 9429, 'shoppingfantastic': 9430, 'kelli': 9431, 'byron': 9432, 'cellnothin': 9433, 'candidness': 9434, 'habit': 9435, 'filas': 9436, 'definently': 9437, 'hourstrying': 9438, 'knw': 9439, 'blu': 9440, 'reminders': 9441, 'posture': 9442, 'peet': 9443, 'mindless': 9444, 'walwal': 9445, 'sumptuous': 9446, 'spite': 9447, 'unforgettable': 9448, 'xtra': 9449, 'wolvarine': 9450, 'frnd': 9451, 'lh': 9452, 'fopp': 9453, 'bahhhh': 9454, 'sicko': 9455, 'digusted': 9456, 'buttfuck': 9457, 'forgetful': 9458, 'empitome': 9459, 'unseeded': 9460, 'qualifierok': 9461, 'doubles': 9462, 'bidden': 9463, 'ucl': 9464, 'digiqom': 9465, 'contributions': 9466, 'recos': 9467, 'jkuk': 9468, 'thaz': 9469, 'hale': 9470, 'grieco': 9471, 'babyim': 9472, 'mummyyyyyyyy': 9473, 'orleans': 9474, 'watchn': 9475, 'builds': 9476, 'antoinette': 9477, 'youuu': 9478, 'semis': 9479, 'collinson': 9480, 'trampyesssssir': 9481, 'mustve': 9482, 'itdo': 9483, 'hedge': 9484, 'ducky': 9485, 'pitchfork': 9486, 'shutup': 9487, 'blaze': 9488, 'aliveim': 9489, 'doneto': 9490, 'todat': 9491, 'mcast': 9492, 'gerbil': 9493, 'krispy': 9494, 'kreme': 9495, 'lohang': 9496, 'librefm': 9497, 'audacious': 9498, 'finishin': 9499, 'fullest': 9500, 'lottt': 9501, 'ughhhhhhhhh': 9502, 'anwhere': 9503, 'sacramento': 9504, 'babsi': 9505, 'pffff': 9506, 'msft': 9507, 'nanowrimo': 9508, 'jls': 9509, 'genre': 9510, 'todayisaprosperous': 9511, 'thankujesus': 9512, 'beyeblessed': 9513, 'boverdx': 9514, 'sights': 9515, 'ukpubs': 9516, 'coomee': 9517, 'jamaiiicah': 9518, 'associate': 9519, 'ericsson': 9520, 'berryd': 9521, 'arellano': 9522, 'mika': 9523, 'aroundalmost': 9524, 'validation': 9525, 'nested': 9526, 'invert': 9527, 'weee': 9528, 'concretize': 9529, 'connoisseur': 9530, 'putet': 9531, 'biting': 9532, 'aaaaiieee': 9533, 'squeak': 9534, 'exclamation': 9535, 'pirouette': 9536, 'brudder': 9537, 'textin': 9538, 'ccp': 9539, 'eithah': 9540, 'funnn': 9541, 'carlin': 9542, 'blackberrys': 9543, 'funi': 9544, 'scale': 9545, 'cropping': 9546, 'themhelp': 9547, 'loveeeeeeeeeeeeeeeeeeeeee': 9548, 'pina': 9549, 'goodhe': 9550, 'flirting': 9551, 'colleagueswould': 9552, 'rsssunday': 9553, 'fo': 9554, 'shizzle': 9555, 'pisay': 9556, 'wellz': 9557, 'binstruct': 9558, 'mib': 9559, 'developer': 9560, 'stretching': 9561, 'hairdye': 9562, 'smeared': 9563, 'duvet': 9564, 'tuesdaydumb': 9565, 'rulesmy': 9566, 'describe': 9567, 'omw': 9568, 'lotta': 9569, 'precip': 9570, 'tiptop': 9571, 'auction': 9572, 'answers': 9573, 'abouts': 9574, 'oni': 9575, 'catchup': 9576, 'texy': 9577, 'lis': 9578, 'lusting': 9579, 'turf': 9580, 'sweetdreams': 9581, 'photobucket': 9582, 'sleeper': 9583, 'valerie': 9584, 'wayyyyyy': 9585, 'worknt': 9586, 'sloanster': 9587, 'frosted': 9588, 'wheats': 9589, 'generalisations': 9590, 'aku': 9591, 'kbangun': 9592, 'gara': 9593, 'mimpi': 9594, 'lenas': 9595, 'cookout': 9596, 'twitterbugs': 9597, 'homskis': 9598, 'spendin': 9599, 'familias': 9600, 'sexay': 9601, 'lottery': 9602, 'diagnosed': 9603, 'ligament': 9604, 'overthought': 9605, 'manic': 9606, 'downed': 9607, 'abalone': 9608, 'sashimi': 9609, 'fatherinlaw': 9610, 'loveees': 9611, 'highmissing': 9612, 'mayfield': 9613, 'finsh': 9614, 'eleven': 9615, 'allowd': 9616, 'tangooo': 9617, 'bat': 9618, 'socked': 9619, 'reckless': 9620, 'wachting': 9621, 'ut': 9622, 'trivia': 9623, 'wikihow': 9624, 'plzzzzz': 9625, 'extremally': 9626, 'notches': 9627, 'tanna': 9628, 'workbut': 9629, 'bounty': 9630, 'vampyre': 9631, 'comixes': 9632, 'donloaded': 9633, 'tweedles': 9634, 'weeknd': 9635, 'thingss': 9636, 'promoting': 9637, 'muziknot': 9638, 'lmaao': 9639, 'leyrock': 9640, 'coloursfest': 9641, 'ahoy': 9642, 'enthused': 9643, 'manics': 9644, 'phrase': 9645, 'upand': 9646, 'ventolin': 9647, 'unfollowing': 9648, 'stingcrunk': 9649, 'courselong': 9650, 'nitealso': 9651, 'vall': 9652, 'goodhappy': 9653, 'dayword': 9654, 'mutha': 9655, 'enfest': 9656, 'dustins': 9657, 'halfsweet': 9658, 'summaas': 9659, 'sean': 9660, 'thousand': 9661, 'corpes': 9662, 'arnie': 9663, 'booty': 9664, 'feys': 9665, 'nonfunctionalproductive': 9666, 'reorganize': 9667, 'interracial': 9668, 'everyou': 9669, 'qa': 9670, 'tadpole': 9671, 'dogtown': 9672, 'lindos': 9673, 'ruled': 9674, 'maxed': 9675, 'grossblaaaqhhh': 9676, 'hifi': 9677, 'whittier': 9678, 'alyson': 9679, 'aly': 9680, 'shamed': 9681, 'ugboots': 9682, 'topgear': 9683, 'crucial': 9684, 'overwhelming': 9685, 'fosters': 9686, 'omgoodness': 9687, 'wittyrude': 9688, 'hrlike': 9689, 'sayings': 9690, 'pratical': 9691, 'becos': 9692, 'skola': 9693, 'impt': 9694, 'placebo': 9695, 'tori': 9696, 'amos': 9697, 'dionee': 9698, 'cramples': 9699, 'whaaaaaaaaaat': 9700, 'fmfl': 9701, 'troub': 9702, 'bowman': 9703, 'strategicclock': 9704, 'grrrri': 9705, 'sheep': 9706, 'unsurprised': 9707, 'annalisa': 9708, 'opposite': 9709, 'mellow': 9710, 'preparations': 9711, 'mondaygreat': 9712, 'mondaynot': 9713, 'heartz': 9714, 'wakeboarding': 9715, 'bakugan': 9716, 'jammies': 9717, 'yhaw': 9718, 'ntah': 9719, 'facebookdetox': 9720, 'omgthe': 9721, 'notifications': 9722, 'kapsel': 9723, 'dy': 9724, 'nulis': 9725, 'spertinya': 9726, 'ditag': 9727, 'notificationnya': 9728, 'huhu': 9729, 'dentistthey': 9730, 'whistlers': 9731, 'whistling': 9732, 'subscriber': 9733, 'dtrain': 9734, 'beastie': 9735, 'pew': 9736, 'peww': 9737, 'phasers': 9738, 'sarcy': 9739, 'maintain': 9740, 'haciendo': 9741, 'primer': 9742, 'rack': 9743, 'spike': 9744, 'poison': 9745, 'izzards': 9746, 'realli': 9747, 'smelt': 9748, 'iiight': 9749, 'matthes': 9750, 'melove': 9751, 'inclined': 9752, 'kmf': 9753, 'macvim': 9754, 'rehearsalgonna': 9755, 'miller': 9756, 'grrrrrrrrrrrrrrr': 9757, 'blighty': 9758, 'gangsterrrr': 9759, 'lupos': 9760, 'suprnatural': 9761, 'ewok': 9762, 'matinee': 9763, 'athens': 9764, 'budapest': 9765, 'arc': 9766, 'ouuhh': 9767, 'snotty': 9768, 'switched': 9769, 'pimp': 9770, 'todayson': 9771, 'nbooklife': 9772, 'overreaction': 9773, 'stiles': 9774, 'burst': 9775, 'explore': 9776, 'brilliantly': 9777, 'abouttttto': 9778, 'smarmy': 9779, 'gifford': 9780, 'lectures': 9781, 'newjabbakidz': 9782, 'wasu': 9783, 'masksi': 9784, 'rowwishing': 9785, 'ceddy': 9786, 'scala': 9787, 'homeon': 9788, 'tinted': 9789, 'grayish': 9790, 'flashy': 9791, 'hillim': 9792, 'cheeto': 9793, 'puncture': 9794, 'rhinitis': 9795, 'boohooo': 9796, 'internetz': 9797, 'sadddim': 9798, 'refollow': 9799, 'tswift': 9800, 'appetite': 9801, 'monarchy': 9802, 'slaves': 9803, 'reconize': 9804, 'kits': 9805, 'coty': 9806, 'nnc': 9807, 'stripey': 9808, 'subtle': 9809, 'floral': 9810, 'babee': 9811, 'yoooouuu': 9812, 'rp': 9813, 'uft': 9814, 'tutoring': 9815, 'eighth': 9816, 'mojito': 9817, 'lanka': 9818, 'spiritual': 9819, 'peeing': 9820, 'pantsnobody': 9821, 'hairrr': 9822, 'premium': 9823, 'exceeded': 9824, 'threshold': 9825, 'february': 9826, 'jackets': 9827, 'congratulation': 9828, 'icehockey': 9829, 'stayn': 9830, 'conflicting': 9831, 'historys': 9832, 'unanswered': 9833, 'ifs': 9834, 'ignorent': 9835, 'aholes': 9836, 'overturn': 9837, 'firefly': 9838, 'arabelle': 9839, 'hmmyour': 9840, 'backkkk': 9841, 'kodiak': 9842, 'terra': 9843, 'projector': 9844, 'nielsenpowermoms': 9845, 'dayme': 9846, 'lolwas': 9847, 'correspondents': 9848, 'cheered': 9849, 'filing': 9850, 'consideringoff': 9851, 'thplease': 9852, 'hapee': 9853, 'peak': 9854, 'mushymushy': 9855, 'aaaaarrrrggghhh': 9856, 'kerbear': 9857, 'lantos': 9858, 'ifyou': 9859, 'percentage': 9860, 'felton': 9861, 'bartofthecriticalquestions': 9862, 'zeropointit': 9863, 'dayevery': 9864, 'birfdayy': 9865, 'nobobys': 9866, 'websites': 9867, 'choosing': 9868, 'kettle': 9869, 'hada': 9870, 'xxxxx': 9871, 'dining': 9872, 'subcribed': 9873, 'advertise': 9874, 'heffas': 9875, 'impromptu': 9876, 'analytics': 9877, 'googlecom': 9878, 'safaris': 9879, 'autofill': 9880, 'realizedi': 9881, 'birthdayboo': 9882, 'hump': 9883, 'mattmccoy': 9884, 'bsg': 9885, 'nutella': 9886, 'untile': 9887, 'jillian': 9888, 'michaels': 9889, 'starwarswithaddedpants': 9890, 'curses': 9891, 'firewallproxy': 9892, 'miamiadc': 9893, 'eraser': 9894, 'zombiepix': 9895, 'unfinished': 9896, 'cropped': 9897, 'dorky': 9898, 'ghostwhisperer': 9899, 'tessy': 9900, 'mil': 9901, 'lefty': 9902, 'problemo': 9903, 'thisbrandi': 9904, 'carlile': 9905, 'sleepfail': 9906, 'ddfail': 9907, 'stavros': 9908, 'flatley': 9909, 'prez': 9910, 'mcfonalds': 9911, 'roulette': 9912, 'mygrilled': 9913, 'routine': 9914, 'elena': 9915, 'bjs': 9916, 'bestbuy': 9917, 'adjusting': 9918, 'zzzzzzzzzzzzzzz': 9919, 'postal': 9920, 'preapplication': 9921, 'iva': 9922, 'yoo': 9923, 'brokun': 9924, 'humuns': 9925, 'maybee': 9926, 'agin': 9927, 'wun': 9928, 'skankinwhat': 9929, 'enuff': 9930, 'funds': 9931, 'borrow': 9932, 'bfa': 9933, 'marxs': 9934, 'nauseatingly': 9935, 'shitload': 9936, 'ittakestimetoopenawebpage': 9937, 'polanco': 9938, 'diga': 9939, 'peasy': 9940, 'ozbargain': 9941, 'optimising': 9942, 'drupal': 9943, 'curling': 9944, 'herhis': 9945, 'willie': 9946, 'pouting': 9947, 'jazzercise': 9948, 'chaperone': 9949, 'twenties': 9950, 'wantstobeakiddagain': 9951, 'asugar': 9952, 'btaste': 9953, 'ittomorrow': 9954, 'wellll': 9955, 'wildflowers': 9956, 'false': 9957, 'vats': 9958, 'insiders': 9959, 'murder': 9960, 'goodie': 9961, 'thks': 9962, 'employer': 9963, 'stitched': 9964, 'bleeds': 9965, 'waterfall': 9966, 'siri': 9967, 'acquired': 9968, 'ministrya': 9969, 'todayso': 9970, 'screams': 9971, 'curdling': 9972, 'portland': 9973, 'scheme': 9974, 'prereunion': 9975, 'majorspoilerscom': 9976, 'subsiding': 9977, 'realnot': 9978, 'kodomo': 9979, 'backhad': 9980, 'cyberspace': 9981, 'backso': 9982, 'lane': 9983, 'trafffffffic': 9984, 'wwork': 9985, 'miinnnesota': 9986, 'paintings': 9987, 'dug': 9988, 'lifelock': 9989, 'experian': 9990, 'reduce': 9991, 'processing': 9992, 'theft': 9993, 'torchwood': 9994, 'levi': 9995, 'extended': 9996, 'earpiece': 9997, 'oopstoo': 9998, 'bridges': 9999, 'blair': 10000, 'competitionhope': 10001, 'borred': 10002, 'doingn': 10003, 'elbowarm': 10004, 'dongle': 10005, 'techy': 10006, 'simplicity': 10007, 'beaut': 10008, 'sophie': 10009, 'razzing': 10010, 'skateboard': 10011, 'charli': 10012, 'touque': 10013, 'sus': 10014, 'sarms': 10015, 'huff': 10016, 'todayyou': 10017, 'overthetop': 10018, 'elses': 10019, 'carrer': 10020, 'crazyb': 10021, 'experienced': 10022, 'apathy': 10023, 'summmmmerrrrr': 10024, 'beginsyeahhhhhyaaaaaa': 10025, 'collected': 10026, 'analog': 10027, 'rubys': 10028, 'peanuts': 10029, 'supposeddd': 10030, 'mommiies': 10031, 'owt': 10032, 'theaa': 10033, 'thiis': 10034, 'thiing': 10035, 'wayyyy': 10036, 'sword': 10037, 'walaikum': 10038, 'assalam': 10039, 'alhamdulillah': 10040, 'wend': 10041, 'duas': 10042, 'rainging': 10043, 'gnimorning': 10044, 'underpaid': 10045, 'rotting': 10046, 'yl': 10047, 'pov': 10048, 'cryed': 10049, 'tylers': 10050, 'exausted': 10051, 'foreboding': 10052, 'lolllim': 10053, 'handmake': 10054, 'banggg': 10055, 'medical': 10056, 'flores': 10057, 'blackberrymessenger': 10058, 'wrestlefest': 10059, 'cleaners': 10060, 'mustangs': 10061, 'weekeeend': 10062, 'trainr': 10063, 'hiss': 10064, 'tee': 10065, 'ghetto': 10066, 'sipping': 10067, 'oj': 10068, 'soberana': 10069, 'nita': 10070, 'ucky': 10071, 'defense': 10072, 'vitamin': 10073, 'mores': 10074, 'shooeessss': 10075, 'trackballs': 10076, 'retailer': 10077, 'oatmeal': 10078, 'nooooothing': 10079, 'tania': 10080, 'rename': 10081, 'songhello': 10082, 'toysrus': 10083, 'thrilling': 10084, 'das': 10085, 'joyride': 10086, 'roadtrip': 10087, 'pai': 10088, 'littelist': 10089, 'dearly': 10090, 'departed': 10091, 'shields': 10092, 'roasting': 10093, 'sourcing': 10094, 'cakin': 10095, 'offering': 10096, 'confit': 10097, 'daytakn': 10098, 'laaaaaaaaave': 10099, 'noooi': 10100, 'allmost': 10101, 'headmay': 10102, 'welt': 10103, 'arrghh': 10104, 'eczema': 10105, 'cranky': 10106, 'preachers': 10107, 'psh': 10108, 'openhouses': 10109, 'creche': 10110, 'burners': 10111, 'gooseberry': 10112, 'katy': 10113, 'buses': 10114, 'autographs': 10115, 'plopped': 10116, 'edges': 10117, 'honza': 10118, 'czech': 10119, 'republic': 10120, 'wowthanks': 10121, 'diplomat': 10122, 'wellwe': 10123, 'laurenim': 10124, 'sesion': 10125, 'busany': 10126, 'donations': 10127, 'fund': 10128, 'recovered': 10129, 'elijah': 10130, 'hahhahah': 10131, 'mommiessss': 10132, 'comparing': 10133, 'musicmonday': 10134, 'destroyed': 10135, 'brent': 10136, 'gregshowing': 10137, 'headzup': 10138, 'charter': 10139, 'meetinglunch': 10140, 'sunshinenothing': 10141, 'daytime': 10142, 'grouling': 10143, 'whuahahhaha': 10144, 'bram': 10145, 'ladagesapplejackspancakes': 10146, 'nicoles': 10147, 'commme': 10148, 'omgeee': 10149, 'helll': 10150, 'jer': 10151, 'haywire': 10152, 'cm': 10153, 'stomache': 10154, 'urbans': 10155, 'sicken': 10156, 'visteon': 10157, 'belfast': 10158, 'ughjust': 10159, 'atat': 10160, 'dozens': 10161, 'stormtroopers': 10162, 'mimmiz': 10163, 'hurghada': 10164, 'blazin': 10165, 'revival': 10166, 'echo': 10167, 'gorilla': 10168, 'burgundy': 10169, 'xb': 10170, 'minivan': 10171, 'shawdows': 10172, 'curves': 10173, 'ughhi': 10174, 'mogul': 10175, 'minish': 10176, 'ezlo': 10177, 'partytiiime': 10178, 'fiesta': 10179, 'twitternut': 10180, 'squashes': 10181, 'scruffy': 10182, 'nerfherders': 10183, 'amis': 10184, 'fullterm': 10185, 'kari': 10186, 'dammmi': 10187, 'lollllll': 10188, 'knowledgable': 10189, 'mpre': 10190, 'aiaahh': 10191, 'sailin': 10192, 'struggles': 10193, 'butteryum': 10194, 'orangepineapplebanana': 10195, 'boredtried': 10196, 'facepanda': 10197, 'flonase': 10198, 'steroid': 10199, 'inhaler': 10200, 'chore': 10201, 'areo': 10202, 'blended': 10203, 'lumpy': 10204, 'chattering': 10205, 'freebies': 10206, 'jbnoy': 10207, 'thread': 10208, 'beggin': 10209, 'yearsthey': 10210, 'imintheroom': 10211, 'imwatchingthehannahmoviewithmomshesaidthisfilmverygreat': 10212, 'producing': 10213, 'anchoring': 10214, 'ashminov': 10215, 'genious': 10216, 'collections': 10217, 'wonderfull': 10218, 'breakfst': 10219, 'vanessa': 10220, 'looong': 10221, 'zenrelated': 10222, 'lobster': 10223, 'chow': 10224, 'nigel': 10225, 'inexplicably': 10226, 'appeared': 10227, 'thoi': 10228, 'heretill': 10229, 'trainstubes': 10230, 'chrisette': 10231, 'micheles': 10232, 'epiphany': 10233, 'soninlaws': 10234, 'topol': 10235, 'looooved': 10236, 'annie': 10237, 'ovation': 10238, 'wieters': 10239, 'averaged': 10240, 'sighsadface': 10241, 'outnow': 10242, 'okthanksdont': 10243, 'eitherill': 10244, 'thoughany': 10245, 'saythink': 10246, 'soonso': 10247, 'mooorning': 10248, 'terrific': 10249, 'plm': 10250, 'deprivation': 10251, 'riveting': 10252, 'toothpicks': 10253, 'regional': 10254, 'aspirating': 10255, 'warren': 10256, 'godd': 10257, 'seriousslyyy': 10258, 'tragidy': 10259, 'yeasterday': 10260, 'wiew': 10261, 'embarrassd': 10262, 'brittneys': 10263, 'becky': 10264, 'brit': 10265, 'oompa': 10266, 'lumpa': 10267, 'boredwhat': 10268, 'kunguma': 10269, 'poovum': 10270, 'konjuma': 10271, 'puravum': 10272, 'cinematography': 10273, 'alter': 10274, 'insuran': 10275, 'meanw': 10276, 'chuu': 10277, 'ayy': 10278, 'kanina': 10279, 'kayy': 10280, 'fasho': 10281, 'impact': 10282, 'woopity': 10283, 'slurpeeee': 10284, 'botanical': 10285, 'blatant': 10286, 'wingman': 10287, 'sentimental': 10288, 'swampedso': 10289, 'twitteri': 10290, 'knowbut': 10291, 'tile': 10292, 'np': 10293, 'prague': 10294, 'runhaha': 10295, 'lele': 10296, 'implementing': 10297, 'willpaginate': 10298, 'brusters': 10299, 'trina': 10300, 'thundering': 10301, 'gott': 10302, 'recolouring': 10303, 'antitwittering': 10304, 'whatchu': 10305, 'sucka': 10306, 'lamee': 10307, 'sharpied': 10308, 'youoh': 10309, 'british': 10310, 'stag': 10311, 'tonightt': 10312, 'streaming': 10313, 'flipping': 10314, 'hairlossgotta': 10315, 'oramarecordscom': 10316, 'unagi': 10317, 'noooooooooo': 10318, 'parrents': 10319, 'stash': 10320, 'rainchecktomorrow': 10321, 'onther': 10322, 'marketers': 10323, 'psst': 10324, 'marriedand': 10325, 'rewatch': 10326, 'todayin': 10327, 'preparation': 10328, 'jaron': 10329, 'mikes': 10330, 'germs': 10331, 'irritating': 10332, 'squats': 10333, 'luciano': 10334, 'tremendous': 10335, 'winterboard': 10336, 'sippinn': 10337, 'whut': 10338, 'sta': 10339, 'focused': 10340, 'yayay': 10341, 'girlies': 10342, 'duuudei': 10343, 'vase': 10344, 'unity': 10345, 'didntgot': 10346, 'omgthat': 10347, 'hahalive': 10348, 'spy': 10349, 'officedesperately': 10350, 'chaser': 10351, 'sympathise': 10352, 'writers': 10353, 'justsayin': 10354, 'aimeeeeeee': 10355, 'adoring': 10356, 'tourdeus': 10357, 'upper': 10358, 'cabaret': 10359, 'bale': 10360, 'punlk': 10361, 'torcon': 10362, 'fabric': 10363, 'breezehope': 10364, 'stir': 10365, 'hatred': 10366, 'shecky': 10367, 'fightdid': 10368, 'allnighter': 10369, 'ahahahahahaha': 10370, 'dunners': 10371, 'gigantic': 10372, 'piling': 10373, 'chew': 10374, 'jah': 10375, 'moral': 10376, 'kelliehow': 10377, 'ui': 10378, 'packer': 10379, 'startled': 10380, 'lovatoback': 10381, 'lovatobehind': 10382, 'titanic': 10383, 'sadshoes': 10384, 'matey': 10385, 'suzi': 10386, 'scabs': 10387, 'mizz': 10388, 'comfort': 10389, 'preferred': 10390, 'wingstop': 10391, 'brussels': 10392, 'sprouts': 10393, 'fillings': 10394, 'dukes': 10395, 'mktg': 10396, 'suggested': 10397, 'liep': 10398, 'zojuist': 10399, 'risngs': 10400, 'glove': 10401, 'lottie': 10402, 'pastimes': 10403, 'gdaughter': 10404, 'doona': 10405, 'beveragei': 10406, 'carparks': 10407, 'restuarant': 10408, 'javascript': 10409, 'helens': 10410, 'lovies': 10411, 'sammich': 10412, 'bongie': 10413, 'didthanks': 10414, 'yeti': 10415, 'plead': 10416, 'insanity': 10417, 'metric': 10418, 'century': 10419, 'ryann': 10420, 'wt': 10421, 'igloo': 10422, 'retainer': 10423, 'autorun': 10424, 'cybercriminaloverlords': 10425, 'utd': 10426, 'alicias': 10427, 'idkkkk': 10428, 'pup': 10429, 'nappys': 10430, 'wordby': 10431, 'nappy': 10432, 'braids': 10433, 'igot': 10434, 'hangtime': 10435, 'pillows': 10436, 'gryffindor': 10437, 'longman': 10438, 'kraut': 10439, 'authors': 10440, 'kittyboys': 10441, 'nightynight': 10442, 'butnada': 10443, 'clot': 10444, 'mayst': 10445, 'bumf': 10446, 'shaving': 10447, 'nico': 10448, 'munchkin': 10449, 'leonardo': 10450, 'understanding': 10451, 'happeened': 10452, 'ro': 10453, 'provides': 10454, 'fridayfirehazzard': 10455, 'quark': 10456, 'huhuhu': 10457, 'quaterfinals': 10458, 'bruvs': 10459, 'timetable': 10460, 'amtarot': 10461, 'wrath': 10462, 'imissu': 10463, 'primarkfeel': 10464, 'teleconference': 10465, 'rubiks': 10466, 'sickening': 10467, 'breaker': 10468, 'lfctv': 10469, 'medal': 10470, 'transatlantic': 10471, 'carbon': 10472, 'footprint': 10473, 'wrongand': 10474, 'gaiman': 10475, 'liberty': 10476, 'reopen': 10477, 'shawna': 10478, 'damon': 10479, 'flareup': 10480, 'lookingbut': 10481, 'stuffit': 10482, 'oouchhhh': 10483, 'primatech': 10484, 'decade': 10485, 'nts': 10486, 'pffffffffff': 10487, 'triumph': 10488, 'bing': 10489, 'crosby': 10490, 'schoolmate': 10491, 'bally': 10492, 'wrongly': 10493, 'minniapolis': 10494, 'newport': 10495, 'goodthanks': 10496, 'rightwe': 10497, 'arguing': 10498, 'nothingi': 10499, 'satisfaction': 10500, 'assessment': 10501, 'stinging': 10502, 'workhillcats': 10503, 'cent': 10504, 'mothrs': 10505, 'outt': 10506, 'mommm': 10507, 'translated': 10508, 'methodology': 10509, 'aots': 10510, 'momstobe': 10511, 'smilelife': 10512, 'mcsupergirl': 10513, 'brotherdid': 10514, 'num': 10515, 'smhyou': 10516, 'sware': 10517, 'againtoo': 10518, 'dramasooo': 10519, 'oils': 10520, 'eta': 10521, 'glamorous': 10522, 'rachael': 10523, 'chik': 10524, 'bummedyoure': 10525, 'handheld': 10526, 'lookinghim': 10527, 'alexandra': 10528, 'belmont': 10529, 'appearing': 10530, 'vogue': 10531, 'munderday': 10532, 'luch': 10533, 'aunty': 10534, 'stina': 10535, 'familyi': 10536, 'sh': 10537, 'tought': 10538, 'jjj': 10539, 'painted': 10540, 'plugging': 10541, 'completes': 10542, 'nomsgot': 10543, 'olympics': 10544, 'gearbox': 10545, 'increase': 10546, 'feeeeeet': 10547, 'lest': 10548, 'vital': 10549, 'damns': 10550, 'obscurity': 10551, 'ummmm': 10552, 'expansions': 10553, 'senioritis': 10554, 'slackin': 10555, 'workman': 10556, 'whip': 10557, 'pitmans': 10558, 'aweesome': 10559, 'thatgonna': 10560, 'retell': 10561, 'disappointedmahirap': 10562, 'magsupervise': 10563, 'bastos': 10564, 'mabaho': 10565, 'stellar': 10566, 'stil': 10567, 'hahahahayeah': 10568, 'kneeling': 10569, 'outjoking': 10570, 'spammer': 10571, 'advise': 10572, 'hup': 10573, 'yippie': 10574, 'mojitos': 10575, 'quid': 10576, 'tgthr': 10577, 'jonesy': 10578, 'dadinlaw': 10579, 'catchers': 10580, 'adsense': 10581, 'payment': 10582, 'spaceship': 10583, 'edwin': 10584, 'begged': 10585, 'attic': 10586, 'downhill': 10587, 'shoutbox': 10588, 'overheat': 10589, 'bcoz': 10590, 'campaign': 10591, 'skirts': 10592, 'newt': 10593, 'aweful': 10594, 'programmer': 10595, 'frc': 10596, 'pcola': 10597, 'smackdown': 10598, 'confsuing': 10599, 'hathe': 10600, 'po': 10601, 'tinys': 10602, 'mkting': 10603, 'wst': 10604, 'wheater': 10605, 'austria': 10606, 'exspecially': 10607, 'tafe': 10608, 'ooow': 10609, 'tribes': 10610, 'extinct': 10611, 'donalds': 10612, 'saaaaaaid': 10613, 'hateeee': 10614, 'playcount': 10615, 'hasta': 10616, 'siempre': 10617, 'deen': 10618, 'goats': 10619, 'katnip': 10620, 'saddle': 10621, 'tipping': 10622, 'burnedfried': 10623, 'michells': 10624, 'wtaching': 10625, 'recruits': 10626, 'wakeful': 10627, 'overlap': 10628, 'playerwell': 10629, 'kickoff': 10630, 'opens': 10631, 'taura': 10632, 'hanafiah': 10633, 'morreee': 10634, 'shoott': 10635, 'printer': 10636, 'blacks': 10637, 'marbled': 10638, 'eliza': 10639, 'reread': 10640, 'succession': 10641, 'wthose': 10642, 'discontinued': 10643, 'abuse': 10644, 'dal': 10645, 'facebookov': 10646, 'aplikace': 10647, 'hovno': 10648, 'enlargement': 10649, 'yearrrr': 10650, 'comeback': 10651, 'tuned': 10652, 'fellows': 10653, 'assumptions': 10654, 'solutions': 10655, 'badmicrosoft': 10656, 'wealthy': 10657, 'sarrah': 10658, 'precisely': 10659, 'nearest': 10660, 'plurking': 10661, 'souffl': 10662, 'skiing': 10663, 'treble': 10664, 'cone': 10665, 'kool': 10666, 'paged': 10667, 'amhzz': 10668, 'balmain': 10669, 'knockoffs': 10670, 'dealthese': 10671, 'garley': 10672, 'wooops': 10673, 'boomstonetrying': 10674, 'tty': 10675, 'albeit': 10676, 'controlling': 10677, 'bayou': 10678, 'judgemental': 10679, 'duckett': 10680, 'festivalswell': 10681, 'fests': 10682, 'jayne': 10683, 'baltimore': 10684, 'smores': 10685, 'jacuzzi': 10686, 'elliptical': 10687, 'splints': 10688, 'dere': 10689, 'subwayyum': 10690, 'rehearsestarving': 10691, 'outz': 10692, 'devel': 10693, 'curried': 10694, 'mussels': 10695, 'octopus': 10696, 'fragrances': 10697, 'chamomilethe': 10698, 'sadfound': 10699, 'otu': 10700, 'eatpoor': 10701, 'hilly': 10702, 'iusedtobescaredof': 10703, 'prism': 10704, 'jerseyz': 10705, 'didja': 10706, 'magix': 10707, 'rhythm': 10708, 'homeee': 10709, 'sunrash': 10710, 'rotr': 10711, 'adelitas': 10712, 'invincible': 10713, 'nogo': 10714, 'backsorry': 10715, 'shore': 10716, 'wellgotta': 10717, 'schoolgawd': 10718, 'multitaskin': 10719, 'nightmornin': 10720, 'errbody': 10721, 'njoying': 10722, 'plce': 10723, 'joomla': 10724, 'cvs': 10725, 'genetic': 10726, 'brandpoor': 10727, 'allergiesno': 10728, 'sowoke': 10729, 'workboo': 10730, 'resco': 10731, 'mobileforms': 10732, 'toolkit': 10733, 'keve': 10734, 'overtweet': 10735, 'stripper': 10736, 'nonsense': 10737, 'fiddle': 10738, 'faddle': 10739, 'workload': 10740, 'flooded': 10741, 'curtains': 10742, 'rugs': 10743, 'soaked': 10744, 'carlys': 10745, 'smug': 10746, 'whistleblower': 10747, 'belay': 10748, 'swimsuit': 10749, 'tub': 10750, 'bromeliad': 10751, 'drace': 10752, 'jeffery': 10753, 'ideal': 10754, 'cheifs': 10755, 'canes': 10756, 'togethers': 10757, 'ehh': 10758, 'puddles': 10759, 'thumbnail': 10760, 'maatt': 10761, 'dudeee': 10762, 'drowsy': 10763, 'piriton': 10764, 'purifier': 10765, 'swingstill': 10766, 'tiredcoffee': 10767, 'plugged': 10768, 'flashpoints': 10769, 'segment': 10770, 'chevron': 10771, 'cunning': 10772, 'lifeestyle': 10773, 'witless': 10774, 'foooood': 10775, 'whose': 10776, 'idkim': 10777, 'tennille': 10778, 'diplomacongrats': 10779, 'bednite': 10780, 'misplaced': 10781, 'crate': 10782, 'dolce': 10783, 'tto': 10784, 'snlkimyou': 10785, 'tonightjustin': 10786, 'hajjisyea': 10787, 'uninhabital': 10788, 'swept': 10789, 'mopped': 10790, 'roadtrips': 10791, 'catalog': 10792, 'upbracing': 10793, 'comedown': 10794, 'sighhh': 10795, 'benadryllong': 10796, 'daystay': 10797, 'twitterbugsgoodnight': 10798, 'decleration': 10799, 'barcalona': 10800, 'palominos': 10801, 'cooolooorss': 10802, 'composition': 10803, 'scribkin': 10804, 'roc': 10805, 'witchu': 10806, 'imy': 10807, 'buu': 10808, 'loveliest': 10809, 'blatantly': 10810, 'guarding': 10811, 'guard': 10812, 'thereive': 10813, 'diegoooooooo': 10814, 'ths': 10815, 'israd': 10816, 'rygby': 10817, 'toowerdphubbys': 10818, 'rwhats': 10819, 'givingcaring': 10820, 'ugghhhhh': 10821, 'feeeeeed': 10822, 'meeeeee': 10823, 'dreaded': 10824, 'chiefs': 10825, 'elway': 10826, 'nfl': 10827, 'foster': 10828, 'jewellry': 10829, 'dressssss': 10830, 'shitter': 10831, 'casagrande': 10832, 'bulldogs': 10833, 'fattyyy': 10834, 'rainbow': 10835, 'organs': 10836, 'tab': 10837, 'thundershowers': 10838, 'contacting': 10839, 'aba': 10840, 'asd': 10841, 'autism': 10842, 'intervene': 10843, 'nobles': 10844, 'thisits': 10845, 'snowball': 10846, 'boourns': 10847, 'ahte': 10848, 'retreat': 10849, 'skewl': 10850, 'ina': 10851, 'invisalign': 10852, 'refitted': 10853, 'eleni': 10854, 'demons': 10855, 'provence': 10856, 'registering': 10857, 'browsers': 10858, 'ping': 10859, 'duhi': 10860, 'oats': 10861, 'pinot': 10862, 'grigio': 10863, 'desperatly': 10864, 'vanessas': 10865, 'policemen': 10866, 'pappadeux': 10867, 'sidemyself': 10868, 'piercings': 10869, 'kindof': 10870, 'cue': 10871, 'bon': 10872, 'voyage': 10873, 'mccarran': 10874, 'cyah': 10875, 'transferring': 10876, 'bhabhi': 10877, 'horseforth': 10878, 'fitzsimmons': 10879, 'anticipation': 10880, 'elaines': 10881, 'ybwm': 10882, 'presh': 10883, 'zdbp': 10884, 'whyd': 10885, 'hottest': 10886, 'ggs': 10887, 'imho': 10888, 'engadget': 10889, 'burritos': 10890, 'enchilado': 10891, 'foking': 10892, 'hazy': 10893, 'ketchup': 10894, 'waili': 10895, 'alaiiik': 10896, 'barley': 10897, 'tuff': 10898, 'endeavor': 10899, 'happyemox': 10900, 'schoollol': 10901, 'kilometres': 10902, 'hundred': 10903, 'intervals': 10904, 'wallpapers': 10905, 'ephraim': 10906, 'zenh': 10907, 'nightsigh': 10908, 'malibu': 10909, 'cheering': 10910, 'lrs': 10911, 'ami': 10912, 'foreverrr': 10913, 'retweetings': 10914, 'palin': 10915, 'boognish': 10916, 'clemmie': 10917, 'unattractive': 10918, 'listens': 10919, 'msi': 10920, 'bakes': 10921, 'remarkably': 10922, 'grrrstupid': 10923, 'scrabble': 10924, 'outrelaxing': 10925, 'mesa': 10926, 'approving': 10927, 'twa': 10928, 'thinker': 10929, 'rusks': 10930, 'fennel': 10931, 'camomile': 10932, 'tierdi': 10933, 'iswas': 10934, 'xt': 10935, 'wantcnt': 10936, 'beagle': 10937, 'oripei': 10938, 'uo': 10939, 'whitecaps': 10940, 'throughi': 10941, 'revolution': 10942, 'ibiza': 10943, 'debussy': 10944, 'squarethats': 10945, 'documentation': 10946, 'inoo': 10947, 'ino': 10948, 'truesdale': 10949, 'bytheway': 10950, 'wheree': 10951, 'dmc': 10952, 'corrected': 10953, 'transcription': 10954, 'maikos': 10955, 'nnnaaa': 10956, 'uhhhh': 10957, 'playah': 10958, 'devi': 10959, 'nailing': 10960, 'webconcepting': 10961, 'awarded': 10962, 'tonigh': 10963, 'rideyes': 10964, 'decoration': 10965, 'memoir': 10966, 'yinz': 10967, 'belgium': 10968, 'nuuuuu': 10969, 'tobutt': 10970, 'sadsorry': 10971, 'quakes': 10972, 'eastgardens': 10973, 'pastors': 10974, 'festive': 10975, 'pajamasi': 10976, 'yippeee': 10977, 'buenos': 10978, 'dias': 10979, 'somethng': 10980, 'microeconomics': 10981, 'beside': 10982, 'ilets': 10983, 'ronin': 10984, 'mattew': 10985, 'mcconaughey': 10986, 'smexy': 10987, 'oohs': 10988, 'aahs': 10989, 'liloven': 10990, 'kinduhh': 10991, 'lter': 10992, 'examsnow': 10993, 'focusing': 10994, 'schooldayuumm': 10995, 'lingerie': 10996, 'kathy': 10997, 'qs': 10998, 'restnot': 10999, 'indiaand': 11000, 'snubbed': 11001, 'ineptnessshyness': 11002, 'itx': 11003, 'burrito': 11004, 'chipotle': 11005, 'hmz': 11006, 'governmental': 11007, 'sunbathe': 11008, 'iccvb': 11009, 'monwed': 11010, 'hddi': 11011, 'benchmarked': 11012, 'mbs': 11013, 'eeeeeeeeeee': 11014, 'accidents': 11015, 'wembley': 11016, 'palnice': 11017, 'todayhave': 11018, 'madam': 11019, 'budgetboo': 11020, 'sooooooooooo': 11021, 'sabrina': 11022, 'rad': 11023, 'nonalcoholic': 11024, 'mpp': 11025, 'teetotaler': 11026, 'waupoos': 11027, 'handbags': 11028, 'bumper': 11029, 'troops': 11030, 'military': 11031, 'tighten': 11032, 'bolts': 11033, 'yaayy': 11034, 'spur': 11035, 'cantttt': 11036, 'shineeeee': 11037, 'thoughtfulu': 11038, 'unix': 11039, 'appraising': 11040, 'peer': 11041, 'compose': 11042, 'railing': 11043, 'rroberts': 11044, 'amything': 11045, 'sence': 11046, 'mcm': 11047, 'runless': 11048, 'guyz': 11049, 'doinq': 11050, 'eligable': 11051, 'howeva': 11052, 'itz': 11053, 'dannys': 11054, 'dmv': 11055, 'todaysome': 11056, 'mmmmmmm': 11057, 'espressothe': 11058, 'efficiently': 11059, 'cosmic': 11060, 'furry': 11061, 'unclaimed': 11062, 'bigoted': 11063, 'patronising': 11064, 'imperialist': 11065, 'monoculturalist': 11066, 'selfrighteous': 11067, 'jonsame': 11068, 'velvet': 11069, 'frosting': 11070, 'tara': 11071, 'catholic': 11072, 'wholeheartedly': 11073, 'ambiguous': 11074, 'bandit': 11075, 'deadliestcatch': 11076, 'tpglove': 11077, 'suspense': 11078, 'godawful': 11079, 'catnappedcats': 11080, 'oberhausen': 11081, 'vague': 11082, 'popper': 11083, 'suxs': 11084, 'awesomely': 11085, 'flowered': 11086, 'pose': 11087, 'imitate': 11088, 'haiku': 11089, 'yuen': 11090, 'bottoms': 11091, 'smashspaceningcom': 11092, 'ssbb': 11093, 'waaah': 11094, 'wider': 11095, 'reduculous': 11096, 'fantastical': 11097, 'fucktard': 11098, 'hack': 11099, 'brill': 11100, 'berocca': 11101, 'therewe': 11102, 'awesomeeeeee': 11103, 'nonmothers': 11104, 'succumb': 11105, 'mentality': 11106, 'severe': 11107, 'eden': 11108, 'madina': 11109, 'hyd': 11110, 'thekas': 11111, 'emarosa': 11112, 'shiiiiiiiiiiiiiiiiiiiiiiiiiiiiiiiiiiit': 11113, 'jayel': 11114, 'maricar': 11115, 'chu': 11116, 'goodnights': 11117, 'organiser': 11118, 'artistdjs': 11119, 'malaysian': 11120, 'hundreth': 11121, 'fuss': 11122, 'incorporate': 11123, 'looooooooooooool': 11124, 'talkers': 11125, 'ambulances': 11126, 'eyelids': 11127, 'pirate': 11128, 'voiceaaarrrggghhh': 11129, 'shermk': 11130, 'vidoe': 11131, 'dolores': 11132, 'hotttie': 11133, 'poooh': 11134, 'sounda': 11135, 'hh': 11136, 'musicnews': 11137, 'alexi': 11138, 'lillysan': 11139, 'brownie': 11140, 'frikken': 11141, 'baaaaaaaaaaackkkkkkkk': 11142, 'symptoms': 11143, 'soch': 11144, 'obly': 11145, 'aumfff': 11146, 'datin': 11147, 'awsomeim': 11148, 'colbert': 11149, 'frankfurt': 11150, 'walah': 11151, 'feeeel': 11152, 'spa': 11153, 'tmwr': 11154, 'berries': 11155, 'kanoa': 11156, 'wonderfully': 11157, 'backwards': 11158, 'twitterrific': 11159, 'muhahaha': 11160, 'shipping': 11161, 'handleing': 11162, 'swp': 11163, 'formally': 11164, 'ugliest': 11165, 'bbws': 11166, 'cannabis': 11167, 'marijuana': 11168, 'cla': 11169, 'hong': 11170, 'kong': 11171, 'chewbacca': 11172, 'leung': 11173, 'pumped': 11174, 'ent': 11175, 'porsche': 11176, 'resignation': 11177, 'tripoly': 11178, 'tweaked': 11179, 'swoobs': 11180, 'swass': 11181, 'crowded': 11182, 'ayanna': 11183, 'electrik': 11184, 'richgirl': 11185, 'joyologist': 11186, 'freak': 11187, 'leaveeeee': 11188, 'guranteee': 11189, 'parrot': 11190, 'reptile': 11191, 'ranting': 11192, 'genghis': 11193, 'colorado': 11194, 'forevs': 11195, 'tdl': 11196, 'sade': 11197, 'affiliate': 11198, 'broc': 11199, 'insecticidal': 11200, 'pests': 11201, 'chemicals': 11202, 'usnlbest': 11203, 'ofc': 11204, 'genuinely': 11205, 'nuthin': 11206, 'cones': 11207, 'cramped': 11208, 'ticker': 11209, 'nightohh': 11210, 'neways': 11211, 'greentea': 11212, 'libray': 11213, 'hernandez': 11214, 'caitlin': 11215, 'gaffigan': 11216, 'allllllllll': 11217, 'weekendhow': 11218, 'thrillingand': 11219, 'goshy': 11220, 'poland': 11221, 'baggin': 11222, 'lauryn': 11223, 'pens': 11224, 'chasers': 11225, 'shiiiiiiiiiiiiiiiiiiiiiiiiiiiiiit': 11226, 'databases': 11227, 'predict': 11228, 'lazying': 11229, 'buffie': 11230, 'kane': 11231, 'stubbed': 11232, 'cabinet': 11233, 'destiny': 11234, 'trojancongrats': 11235, 'lonelydh': 11236, 'hardy': 11237, 'beth': 11238, 'afterlife': 11239, 'charlies': 11240, 'yearsblows': 11241, 'strung': 11242, 'buzzing': 11243, 'deathstar': 11244, 'enterprice': 11245, 'nocturnal': 11246, 'serendipity': 11247, 'kashmir': 11248, 'drom': 11249, 'bash': 11250, 'mcphee': 11251, 'folded': 11252, 'gqfhm': 11253, 'snuggled': 11254, 'timegettin': 11255, 'homesoooo': 11256, 'boyzzzz': 11257, 'partlolok': 11258, 'rage': 11259, 'eew': 11260, 'headway': 11261, 'dial': 11262, 'lays': 11263, 'backaches': 11264, 'bobbi': 11265, 'lewis': 11266, 'hurtsagain': 11267, 'heyheyheyy': 11268, 'watcha': 11269, 'benders': 11270, 'hahahahah': 11271, 'treknot': 11272, 'sosad': 11273, 'alison': 11274, 'medley': 11275, 'ryall': 11276, 'tourney': 11277, 'fk': 11278, 'pianoand': 11279, 'sloppy': 11280, 'replicants': 11281, 'workies': 11282, 'shoooot': 11283, 'mebc': 11284, 'songpeter': 11285, 'tailbone': 11286, 'wld': 11287, 'neomonia': 11288, 'cyalater': 11289, 'resources': 11290, 'wer': 11291, 'neaaarr': 11292, 'stressd': 11293, 'dg': 11294, 'gammme': 11295, 'thanksdo': 11296, 'showroom': 11297, 'chk': 11298, 'lamps': 11299, 'eclectricity': 11300, 'khaki': 11301, 'dodgers': 11302, 'royals': 11303, 'aaahaha': 11304, 'youstinkatrespondingtotexts': 11305, 'walktheyre': 11306, 'omgg': 11307, 'antibiotics': 11308, 'sixx': 11309, 'favour': 11310, 'pubulation': 11311, 'ssm': 11312, 'graceful': 11313, 'appeals': 11314, 'cutoff': 11315, 'wellbikini': 11316, 'minivacation': 11317, 'clemson': 11318, 'imagining': 11319, 'anchorage': 11320, 'lootwise': 11321, 'stealth': 11322, 'gauss': 11323, 'sanctity': 11324, 'tainted': 11325, 'troublesthanks': 11326, 'lu': 11327, 'turnon': 11328, 'shelving': 11329, 'likerio': 11330, 'ahhaha': 11331, 'socialmediatv': 11332, 'videoblah': 11333, 'loveit': 11334, 'iloveyouuu': 11335, 'fused': 11336, 'fusedgaming': 11337, 'ptam': 11338, 'abean': 11339, 'slouchy': 11340, 'barets': 11341, 'retorting': 11342, 'benihana': 11343, 'waikiki': 11344, 'misshimalready': 11345, 'dyed': 11346, 'bossman': 11347, 'meadowbank': 11348, 'whatthefuck': 11349, 'clubs': 11350, 'sono': 11351, 'defunctlesi': 11352, 'carpool': 11353, 'alltime': 11354, 'puffffy': 11355, 'leavinggggggg': 11356, 'countdown': 11357, 'breakmy': 11358, 'kostet': 11359, 'fisch': 11360, 'mathsteacher': 11361, 'ska': 11362, 'yyyyuck': 11363, 'peaceout': 11364, 'ppt': 11365, 'sleeeepy': 11366, 'pupils': 11367, 'jailbroken': 11368, 'bricked': 11369, 'lols': 11370, 'div': 11371, 'hogging': 11372, 'itexa': 11373, 'political': 11374, 'kiddoe': 11375, 'haiszt': 11376, 'cuute': 11377, 'venezuela': 11378, 'bugg': 11379, 'importexport': 11380, 'locally': 11381, 'sytycd': 11382, 'anywherestreamed': 11383, 'dillah': 11384, 'sunnny': 11385, 'passive': 11386, 'agressive': 11387, 'cuteness': 11388, 'empress': 11389, 'twitteriffic': 11390, 'silverlight': 11391, 'problematic': 11392, 'weekwork': 11393, 'raises': 11394, 'aaaahh': 11395, 'vigorous': 11396, 'pruning': 11397, 'removal': 11398, 'unloading': 11399, 'leopard': 11400, 'leonard': 11401, 'nimoy': 11402, 'sequel': 11403, 'yupunfortunately': 11404, 'badsorry': 11405, 'ekkkthats': 11406, 'ruffhope': 11407, 'swiped': 11408, 'nte': 11409, 'ncp': 11410, 'coffeeclub': 11411, 'swolen': 11412, 'shitt': 11413, 'whr': 11414, 'fires': 11415, 'florence': 11416, 'goods': 11417, 'nintendogs': 11418, 'mug': 11419, 'generates': 11420, 'uninstall': 11421, 'dancingwaiting': 11422, 'newww': 11423, 'orphan': 11424, 'farmer': 11425, 'cheated': 11426, 'previously': 11427, 'bravi': 11428, 'subconscious': 11429, 'oncall': 11430, 'duties': 11431, 'jill': 11432, 'becoz': 11433, 'nta': 11434, 'wrkouts': 11435, 'hapen': 11436, 'satrted': 11437, 'dieting': 11438, 'modded': 11439, 'preseason': 11440, 'drawls': 11441, 'custodian': 11442, 'envious': 11443, 'longdistance': 11444, 'relationshipsshes': 11445, 'zomg': 11446, 'typedbut': 11447, 'funlike': 11448, 'languagei': 11449, 'zzzzzzzgoodnight': 11450, 'tsx': 11451, 'tls': 11452, 'russian': 11453, 'lax': 11454, 'morrningg': 11455, 'cryingbecause': 11456, 'johnathan': 11457, 'adobe': 11458, 'servernice': 11459, 'luis': 11460, 'profs': 11461, 'progressive': 11462, 'tonitehappy': 11463, 'prima': 11464, 'fxxxmylife': 11465, 'mortified': 11466, 'tallblonde': 11467, 'popcornnow': 11468, 'skwl': 11469, 'pi': 11470, 'neleg': 11471, 'mai': 11472, 'avea': 11473, 'alt': 11474, 'emisiune': 11475, 'sau': 11476, 'ceva': 11477, 'nomes': 11478, 'connectionguess': 11479, 'eats': 11480, 'bode': 11481, 'gastronomical': 11482, 'arrested': 11483, 'fickleness': 11484, 'gatorade': 11485, 'yumyum': 11486, 'arise': 11487, 'hakuna': 11488, 'matana': 11489, 'muchdeserved': 11490, 'nooooooooooooooo': 11491, 'clicked': 11492, 'mayor': 11493, 'brainard': 11494, 'nttn': 11495, 'losers': 11496, 'seven': 11497, 'zenjar': 11498, 'manny': 11499, 'pacman': 11500, 'sowy': 11501, 'shortie': 11502, 'hurtfinally': 11503, 'bedwill': 11504, 'oververy': 11505, 'workingand': 11506, 'directv': 11507, 'intensity': 11508, 'imiss': 11509, 'ashotn': 11510, 'newlywed': 11511, 'glow': 11512, 'ummwhy': 11513, 'twitterchallenged': 11514, 'kaust': 11515, 'phyllis': 11516, 'hyman': 11517, 'unsung': 11518, 'momthat': 11519, 'juggler': 11520, 'charbotgreen': 11521, 'unusual': 11522, 'deborah': 11523, 'neighbour': 11524, 'fond': 11525, 'nickelback': 11526, 'lnd': 11527, 'vo': 11528, 'developed': 11529, 'cushings': 11530, 'disease': 11531, 'huaaaa': 11532, 'twnzfinest': 11533, 'goodbyeeee': 11534, 'lubbock': 11535, 'wetits': 11536, 'timeno': 11537, 'mysterio': 11538, 'latagood': 11539, 'twitfam': 11540, 'blessxoxo': 11541, 'mere': 11542, 'gravity': 11543, 'beamer': 11544, 'prn': 11545, 'accumulating': 11546, 'finance': 11547, 'freo': 11548, 'hobby': 11549, 'horoscopes': 11550, 'editions': 11551, 'exhaustedcant': 11552, 'kaul': 11553, 'bradddd': 11554, 'teams': 11555, 'eaat': 11556, 'interface': 11557, 'roflmfao': 11558, 'hairsss': 11559, 'ytony': 11560, 'outage': 11561, 'propped': 11562, 'slippy': 11563, 'mer': 11564, 'fer': 11565, 'powershell': 11566, 'dimples': 11567, 'naww': 11568, 'continually': 11569, 'frustratedi': 11570, 'crushedspock': 11571, 'asians': 11572, 'emilie': 11573, 'knowng': 11574, 'sungs': 11575, 'erbdy': 11576, 'twikini': 11577, 'stamp': 11578, 'vidjagame': 11579, 'vgtribunecom': 11580, 'shoutin': 11581, 'bedgot': 11582, 'tarrant': 11583, 'tomoz': 11584, 'bludge': 11585, 'extendable': 11586, 'aaah': 11587, 'copypaste': 11588, 'deeper': 11589, 'coukd': 11590, 'flair': 11591, 'metaphor': 11592, 'transparency': 11593, 'opaqueness': 11594, 'gotto': 11595, 'evermore': 11596, 'unbelievably': 11597, 'firing': 11598, 'streek': 11599, 'businesses': 11600, 'zongzi': 11601, 'morework': 11602, 'winchester': 11603, 'greeeeeat': 11604, 'greenlake': 11605, 'happyslip': 11606, 'tomorrowwim': 11607, 'newman': 11608, 'stephanies': 11609, 'greensborolove': 11610, 'molotov': 11611, 'bamboo': 11612, 'structure': 11613, 'braxton': 11614, 'dunk': 11615, 'dampier': 11616, 'rcb': 11617, 'trashes': 11618, 'kissa': 11619, 'enchiladas': 11620, 'suizas': 11621, 'krys': 11622, 'baths': 11623, 'jimming': 11624, 'dakota': 11625, 'spayed': 11626, 'parental': 11627, 'everrything': 11628, 'breadtalk': 11629, 'grl': 11630, 'justwatched': 11631, 'everi': 11632, 'mikehhs': 11633, 'persauded': 11634, 'conditioning': 11635, 'goon': 11636, 'subo': 11637, 'britians': 11638, 'kenjoy': 11639, 'ello': 11640, 'caddyyes': 11641, 'gahaha': 11642, 'accent': 11643, 'bulmers': 11644, 'magners': 11645, 'pear': 11646, 'slush': 11647, 'hurryup': 11648, 'omgimpatient': 11649, 'niceid': 11650, 'therebut': 11651, 'goooooodmoring': 11652, 'yat': 11653, 'aygee': 11654, 'ariella': 11655, 'gonzalez': 11656, 'babysitterdirectory': 11657, 'revealed': 11658, 'moanwhingemoan': 11659, 'lorraine': 11660, 'rollin': 11661, 'lond': 11662, 'pik': 11663, 'braid': 11664, 'scrub': 11665, 'relaxxxx': 11666, 'vcr': 11667, 'piecing': 11668, 'boeing': 11669, 'huntington': 11670, 'sugaaar': 11671, 'ra': 11672, 'skrg': 11673, 'sempit': 11674, 'waktunya': 11675, 'yesdy': 11676, 'squirted': 11677, 'buggered': 11678, 'bhaha': 11679, 'nightclub': 11680, 'teflon': 11681, 'whisky': 11682, 'hungryif': 11683, 'omigoodness': 11684, 'printerafter': 11685, 'electronics': 11686, 'eminems': 11687, 'marjorie': 11688, 'jemimah': 11689, 'brides': 11690, 'gown': 11691, 'onceby': 11692, 'jackmans': 11693, 'balling': 11694, 'witnessed': 11695, 'sm': 11696, 'bellshill': 11697, 'bothwell': 11698, 'tunnocks': 11699, 'swam': 11700, 'boxers': 11701, 'yarn': 11702, 'shipment': 11703, 'badumtish': 11704, 'writes': 11705, 'cadbury': 11706, 'abnormal': 11707, 'daysome': 11708, 'pervert': 11709, 'wikid': 11710, 'myne': 11711, 'ned': 11712, 'dudde': 11713, 'spineless': 11714, 'distinct': 11715, 'epicenter': 11716, 'jesse': 11717, 'chester': 11718, 'bennington': 11719, 'mong': 11720, 'banbury': 11721, 'geology': 11722, 'austens': 11723, 'northanger': 11724, 'abbey': 11725, 'mornins': 11726, 'vhemt': 11727, 'sleepcraziness': 11728, 'proven': 11729, 'opposites': 11730, 'ladmag': 11731, 'kidsdependable': 11732, 'jobe': 11733, 'published': 11734, 'align': 11735, 'realign': 11736, 'sensitivity': 11737, 'asthetics': 11738, 'elvira': 11739, 'dow': 11740, 'futures': 11741, 'matched': 11742, 'thaanks': 11743, 'lammy': 11744, 'sherman': 11745, 'nit': 11746, 'adaptor': 11747, 'clair': 11748, 'yallunfortunately': 11749, 'itgotta': 11750, 'livesi': 11751, 'orderd': 11752, 'gunn': 11753, 'meteor': 11754, 'lockin': 11755, 'musiciansartists': 11756, 'crowdsourcing': 11757, 'awesomest': 11758, 'heee': 11759, 'approves': 11760, 'copilot': 11761, 'burnin': 11762, 'marchit': 11763, 'slowthen': 11764, 'heartbeat': 11765, 'turkeys': 11766, 'yardi': 11767, 'yesterdays': 11768, 'fcukkki': 11769, 'deetzsee': 11770, 'waydont': 11771, 'merrier': 11772, 'elbow': 11773, 'owwiee': 11774, 'poooooooor': 11775, 'sheeeep': 11776, 'joburg': 11777, 'lanky': 11778, 'happily': 11779, 'yh': 11780, 'eekk': 11781, 'gor': 11782, 'influx': 11783, 'fic': 11784, 'yeeeeeessss': 11785, 'studyingnow': 11786, 'teeshirt': 11787, 'faaar': 11788, 'await': 11789, 'conviction': 11790, 'vmail': 11791, 'recharge': 11792, 'stunned': 11793, 'upahh': 11794, 'giver': 11795, 'rewards': 11796, 'givers': 11797, 'appreciation': 11798, 'dowe': 11799, 'oversleeping': 11800, 'gracie': 11801, 'pounced': 11802, 'slidebar': 11803, 'slaving': 11804, 'arrgghhhggguuuiiissshhhh': 11805, 'assignement': 11806, 'burma': 11807, 'cuba': 11808, 'eeeep': 11809, 'crashhad': 11810, 'boxing': 11811, 'trainer': 11812, 'klonopin': 11813, 'paintballing': 11814, 'canadian': 11815, 'trades': 11816, 'daypeople': 11817, 'uswhat': 11818, 'happenedi': 11819, 'wanthavent': 11820, 'jeeeeez': 11821, 'depechemode': 11822, 'alternative': 11823, 'gahan': 11824, 'buthesmine': 11825, 'thisfun': 11826, 'darren': 11827, 'hayess': 11828, 'wacky': 11829, 'southmight': 11830, 'feedicon': 11831, 'accompany': 11832, 'swin': 11833, 'aaaaaaaaaahhhhhhhh': 11834, 'brrrrrr': 11835, 'boopboopboop': 11836, 'aot': 11837, 'lec': 11838, 'gamer': 11839, 'luvd': 11840, 'extent': 11841, 'wahoo': 11842, 'bummermail': 11843, 'necessary': 11844, 'brazillians': 11845, 'forbidden': 11846, 'munch': 11847, 'kennedy': 11848, 'reinjured': 11849, 'impacts': 11850, 'latter': 11851, 'virtualization': 11852, 'krenee': 11853, 'tmobiles': 11854, 'sim': 11855, 'corrupted': 11856, 'familia': 11857, 'sams': 11858, 'okso': 11859, 'twittin': 11860, 'computerits': 11861, 'hussein': 11862, 'maxin': 11863, 'jiulianis': 11864, 'woopee': 11865, 'enought': 11866, 'spilling': 11867, 'tomoro': 11868, 'amyyyy': 11869, 'vhits': 11870, 'storage': 11871, 'ceiling': 11872, 'bathrooms': 11873, 'afternoonyes': 11874, 'melolmine': 11875, 'warped': 11876, 'demolished': 11877, 'morewell': 11878, 'chasetons': 11879, 'barbecue': 11880, 'rogrio': 11881, 'minotouro': 11882, 'froggies': 11883, 'impostor': 11884, 'theni': 11885, 'eeyeathooo': 11886, 'nc': 11887, 'luau': 11888, 'poetize': 11889, 'cong': 11890, 'govt': 11891, 'ruling': 11892, 'karnataka': 11893, 'cauvery': 11894, 'politicians': 11895, 'asda': 11896, 'fnb': 11897, 'ddd': 11898, 'scrap': 11899, 'flats': 11900, 'whahahah': 11901, 'fishy': 11902, 'saucepan': 11903, 'waterindian': 11904, 'scrabbled': 11905, 'squatting': 11906, 'poss': 11907, 'shweeeeet': 11908, 'bahahaha': 11909, 'gabriel': 11910, 'helenas': 11911, 'cantab': 11912, 'pogs': 11913, 'chipssunday': 11914, 'preorder': 11915, 'sphex': 11916, 'iloveitwhen': 11917, 'appliances': 11918, 'obrian': 11919, 'phoneits': 11920, 'neewwww': 11921, 'veranda': 11922, 'junt': 11923, 'stable': 11924, 'baggageso': 11925, 'ooohhhhh': 11926, 'oxteach': 11927, 'dahling': 11928, 'tweep': 11929, 'kindness': 11930, 'brynn': 11931, 'everreally': 11932, 'nooooooooooo': 11933, 'soprano': 11934, 'aaaaall': 11935, 'itst': 11936, 'listfind': 11937, 'gonethank': 11938, 'godtime': 11939, 'treasures': 11940, 'tailights': 11941, 'gatwick': 11942, 'tweetlessand': 11943, 'aguilera': 11944, 'ilovemymommy': 11945, 'confess': 11946, 'grouch': 11947, 'mariel': 11948, 'babyyy': 11949, 'daysim': 11950, 'embouchure': 11951, 'carcassonne': 11952, 'tomb': 11953, 'raider': 11954, 'boohoo': 11955, 'averted': 11956, 'hawaiian': 11957, 'reused': 11958, 'architect': 11959, 'tarblack': 11960, 'promenade': 11961, 'prizeand': 11962, 'jogs': 11963, 'languishing': 11964, 'api': 11965, 'bannerbomb': 11966, 'homebrew': 11967, 'bindz': 11968, 'bullies': 11969, 'unto': 11970, 'andywent': 11971, 'soupbut': 11972, 'daysmigraine': 11973, 'offense': 11974, 'insults': 11975, 'concentrating': 11976, 'afternooni': 11977, 'illustrate': 11978, 'suuuuck': 11979, 'vacines': 11980, 'cambs': 11981, 'eeeeeeeeee': 11982, 'wayim': 11983, 'allmothers': 11984, 'stressfulbeen': 11985, 'wordgummed': 11986, 'grosses': 11987, 'torment': 11988, 'meets': 11989, 'furs': 11990, 'nowthe': 11991, 'sub': 11992, 'darlingit': 11993, 'happpppy': 11994, 'thegame': 11995, 'slammer': 11996, 'dadt': 11997, 'liar': 11998, 'vibrant': 11999, 'cpeven': 12000, 'youironing': 12001, 'tooprob': 12002, 'laternt': 12003, 'pinned': 12004, 'listed': 12005, 'hosp': 12006, 'gallstones': 12007, 'overdoing': 12008, 'grinding': 12009, 'pues': 12010, 'bien': 12011, 'chiquita': 12012, 'esa': 12013, 'bookim': 12014, 'recapping': 12015, 'juansimon': 12016, 'qik': 12017, 'newsroom': 12018, 'derekbellcom': 12019, 'booted': 12020, 'sacrificing': 12021, 'threee': 12022, 'godits': 12023, 'amheading': 12024, 'godtoo': 12025, 'lategood': 12026, 'martins': 12027, 'dnb': 12028, 'lean': 12029, 'interns': 12030, 'elevate': 12031, 'trickery': 12032, 'exasperation': 12033, 'hijacked': 12034, 'uglier': 12035, 'roxie': 12036, 'habitat': 12037, 'twitteractive': 12038, 'hannahisdead': 12039, 'fuckyeah': 12040, 'mustang': 12041, 'elk': 12042, 'topnotch': 12043, 'aaaagggessss': 12044, 'apologised': 12045, 'ndo': 12046, 'tidying': 12047, 'tupprwre': 12048, 'lid': 12049, 'ensues': 12050, 'donate': 12051, 'tweethearts': 12052, 'mithru': 12053, 'faires': 12054, 'deaf': 12055, 'waltzer': 12056, 'leandro': 12057, 'whitsun': 12058, 'deeeesearted': 12059, 'twittermy': 12060, 'dangitcuz': 12061, 'willhoit': 12062, 'collister': 12063, 'rblpnbro': 12064, 'daybeat': 12065, 'warmth': 12066, 'depth': 12067, 'lincolnshire': 12068, 'sunrise': 12069, 'blvd': 12070, 'aleeshas': 12071, 'elance': 12072, 'tya': 12073, 'caf': 12074, 'viocenite': 12075, 'foad': 12076, 'promotion': 12077, 'mariahnever': 12078, 'abuelo': 12079, 'aguadilla': 12080, 'tutorial': 12081, 'yday': 12082, 'sequences': 12083, 'melatonin': 12084, 'ldbf': 12085, 'churnas': 12086, 'assure': 12087, 'tacosone': 12088, 'straycat': 12089, 'discouraging': 12090, 'commercial': 12091, 'simpsons': 12092, 'squirells': 12093, 'accordion': 12094, 'thief': 12095, 'buffs': 12096, 'munchkins': 12097, 'pero': 12098, 'parece': 12099, 'personas': 12100, 'estan': 12101, 'acuerdo': 12102, 'stis': 12103, 'deathcab': 12104, 'calendar': 12105, 'dvbs': 12106, 'fa': 12107, 'nvidia': 12108, 'ionbased': 12109, 'ideapad': 12110, 'ctrl': 12111, 'nonstarter': 12112, 'correspondants': 12113, 'weigly': 12114, 'wellure': 12115, 'punkrobot': 12116, 'wtfwinter': 12117, 'shld': 12118, 'uff': 12119, 'litt': 12120, 'trist': 12121, 'lese': 12122, 'siste': 12123, 'tweetsen': 12124, 'din': 12125, 'prooved': 12126, 'insist': 12127, 'jelz': 12128, 'loudquietloud': 12129, 'santiago': 12130, 'lovering': 12131, 'leakycon': 12132, 'otherinbox': 12133, 'multiplayer': 12134, 'sleepies': 12135, 'poorlies': 12136, 'tweeples': 12137, 'trak': 12138, 'noting': 12139, 'desserts': 12140, 'gfail': 12141, 'textiles': 12142, 'kink': 12143, 'testers': 12144, 'synology': 12145, 'diskstations': 12146, 'anticipate': 12147, 'cageball': 12148, 'joemoit': 12149, 'throughshe': 12150, 'backand': 12151, 'ly': 12152, 'rica': 12153, 'hbu': 12154, 'height': 12155, 'bumbpy': 12156, 'randoms': 12157, 'novacaine': 12158, 'numb': 12159, 'mentalitiesthere': 12160, 'arabs': 12161, 'nag': 12162, 'thoughh': 12163, 'lexis': 12164, 'headrush': 12165, 'dinno': 12166, 'nutrition': 12167, 'unladylike': 12168, 'holes': 12169, 'forsaken': 12170, 'stereosound': 12171, 'lainey': 12172, 'glau': 12173, 'tscc': 12174, 'anita': 12175, 'millions': 12176, 'omar': 12177, 'samuri': 12178, 'mealtimes': 12179, 'pkuers': 12180, 'jessie': 12181, 'leukemia': 12182, 'goodnite': 12183, 'gloomygo': 12184, 'icecreamor': 12185, 'ginwhichever': 12186, 'baybee': 12187, 'diggg': 12188, 'ammoxxx': 12189, 'grrrl': 12190, 'veggiesespecially': 12191, 'tomatoes': 12192, 'nonsunny': 12193, 'girlys': 12194, 'burneded': 12195, 'blistered': 12196, 'bordum': 12197, 'ysj': 12198, 'chandelier': 12199, 'steps': 12200, 'underdog': 12201, 'durango': 12202, 'chaperoning': 12203, 'surfing': 12204, 'woodchuck': 12205, 'drumset': 12206, 'frighten': 12207, 'deathi': 12208, 'leathers': 12209, 'pox': 12210, 'montepulciano': 12211, 'worldraining': 12212, 'dingle': 12213, 'farted': 12214, 'whipped': 12215, 'topping': 12216, 'shortcake': 12217, 'shortcakefail': 12218, 'sancha': 12219, 'chini': 12220, 'buttercup': 12221, 'mend': 12222, 'whiny': 12223, 'kidsitting': 12224, 'skipping': 12225, 'castingrelated': 12226, 'perry': 12227, 'valkyria': 12228, 'chronicles': 12229, 'fluhn': 12230, 'tutto': 12231, 'mio': 12232, 'cuore': 12233, 'improvment': 12234, 'shoesi': 12235, 'sensors': 12236, 'prac': 12237, 'structr': 12238, 'lwr': 12239, 'ushers': 12240, 'prep': 12241, 'creatures': 12242, 'amthanks': 12243, 'gracin': 12244, 'nellys': 12245, 'dissapear': 12246, 'elton': 12247, 'allowing': 12248, 'tw': 12249, 'bellion': 12250, 'stupidly': 12251, 'sickcancelled': 12252, 'shelf': 12253, 'doneabout': 12254, 'estimate': 12255, 'drafts': 12256, 'carbs': 12257, 'leaking': 12258, 'jager': 12259, 'fonei': 12260, 'anywayfones': 12261, 'floatespecially': 12262, 'thrown': 12263, 'zzzzy': 12264, 'maniac': 12265, 'xuxu': 12266, 'hooo': 12267, 'hyhtt': 12268, 'tequila': 12269, 'rebonded': 12270, 'chopping': 12271, 'kunal': 12272, 'khemu': 12273, 'starrers': 12274, 'outthere': 12275, 'probability': 12276, 'niche': 12277, 'smelled': 12278, 'maaad': 12279, 'lostfound': 12280, 'atwork': 12281, 'electro': 12282, 'loooooolding': 12283, 'rally': 12284, 'idyllic': 12285, 'geordiebird': 12286, 'bikiniperfect': 12287, 'skoo': 12288, 'thiss': 12289, 'sorbet': 12290, 'ditched': 12291, 'newly': 12292, 'minted': 12293, 'plural': 12294, 'pesky': 12295, 'findin': 12296, 'alonetough': 12297, 'solving': 12298, 'norm': 12299, 'plastic': 12300, 'telescope': 12301, 'yesty': 12302, 'grandrapids': 12303, 'nudge': 12304, 'rafa': 12305, 'disection': 12306, 'froggy': 12307, 'skeleton': 12308, 'devils': 12309, 'norfolk': 12310, 'mari': 12311, 'lupita': 12312, 'stamps': 12313, 'safeway': 12314, 'yst': 12315, 'daylakers': 12316, 'bail': 12317, 'closes': 12318, 'adwancrd': 12319, 'batch': 12320, 'omega': 12321, 'movein': 12322, 'fort': 12323, 'belvoir': 12324, 'base': 12325, 'stationed': 12326, 'pentagon': 12327, 'gudluck': 12328, 'welcomeyou': 12329, 'bins': 12330, 'pitching': 12331, 'lackluster': 12332, 'shortstops': 12333, 'papi': 12334, 'mendoza': 12335, 'prologue': 12336, 'liberalism': 12337, 'crucifiction': 12338, 'abstraction': 12339, 'copyright': 12340, 'visually': 12341, 'impaired': 12342, 'sccr': 12343, 'chains': 12344, 'cop': 12345, 'earthquakes': 12346, 'musicares': 12347, 'mains': 12348, 'dizon': 12349, 'leah': 12350, 'hallway': 12351, 'hailing': 12352, 'pushing': 12353, 'gqmf': 12354, 'woefully': 12355, 'ontdstartrek': 12356, 'jlo': 12357, 'awardsbut': 12358, 'thaank': 12359, 'mea': 12360, 'theaterahah': 12361, 'coold': 12362, 'steviej': 12363, 'grtsat': 12364, 'bggeting': 12365, 'frapp': 12366, 'knuckle': 12367, 'lsu': 12368, 'mentioning': 12369, 'jinxed': 12370, 'anyhow': 12371, 'inovera': 12372, 'jakki': 12373, 'fiiiinaaalllyyy': 12374, 'torential': 12375, 'wolverhampton': 12376, 'improved': 12377, 'addresses': 12378, 'fussy': 12379, 'foxford': 12380, 'pontoon': 12381, 'retirment': 12382, 'underground': 12383, 'shanwest': 12384, 'twomey': 12385, 'icann': 12386, 'neurosurgeon': 12387, 'itwhich': 12388, 'mentions': 12389, 'timeline': 12390, 'loove': 12391, 'showif': 12392, 'chimp': 12393, 'blames': 12394, 'compliments': 12395, 'stratus': 12396, 'whhhyyy': 12397, 'leeloo': 12398, 'unplugging': 12399, 'janes': 12400, 'joplin': 12401, 'munsay': 12402, 'musso': 12403, 'sxsw': 12404, 'firepit': 12405, 'sighits': 12406, 'finaleno': 12407, 'niiiighht': 12408, 'amazzzing': 12409, 'wordddss': 12410, 'tgifi': 12411, 'processes': 12412, 'aussieland': 12413, 'mammas': 12414, 'scarey': 12415, 'barbara': 12416, 'hahha': 12417, 'awoooogahhhhhh': 12418, 'decently': 12419, 'kickass': 12420, 'freshner': 12421, 'horriblel': 12422, 'scent': 12423, 'grossed': 12424, 'daaammmnnnnn': 12425, 'festivities': 12426, 'oash': 12427, 'efteling': 12428, 'anwb': 12429, 'crow': 12430, 'perk': 12431, 'vaccinations': 12432, 'jbd': 12433, 'ayaw': 12434, 'bumukas': 12435, 'soco': 12436, 'damali': 12437, 'mixer': 12438, 'ricks': 12439, 'chiclit': 12440, 'yayyyyyyy': 12441, 'nowto': 12442, 'flattie': 12443, 'wrkd': 12444, 'disabled': 12445, 'dunnoi': 12446, 'sweets': 12447, 'breezesounds': 12448, 'mozart': 12449, 'minnesota': 12450, 'ohim': 12451, 'withinso': 12452, 'associated': 12453, 'nooostaying': 12454, 'nightshockgot': 12455, 'sennheiser': 12456, 'cx': 12457, 'earbuds': 12458, 'mu': 12459, 'armthis': 12460, 'yesbut': 12461, 'qualified': 12462, 'snail': 12463, 'haaaate': 12464, 'violin': 12465, 'jai': 12466, 'duckraces': 12467, 'beara': 12468, 'seal': 12469, 'whale': 12470, 'entrance': 12471, 'cal': 12472, 'zipcode': 12473, 'orralle': 12474, 'teriyaki': 12475, 'poptarts': 12476, 'crancherry': 12477, 'glowy': 12478, 'ravey': 12479, 'smokey': 12480, 'pizzary': 12481, 'knighty': 12482, 'benn': 12483, 'uuuup': 12484, 'strugglingselfishness': 12485, 'myyy': 12486, 'norwood': 12487, 'haaaaaa': 12488, 'endodontist': 12489, 'removing': 12490, 'ceramic': 12491, 'shatter': 12492, 'ranga': 12493, 'alrightim': 12494, 'nandos': 12495, 'bailed': 12496, 'zommgg': 12497, 'screamo': 12498, 'kiddshow': 12499, 'promoted': 12500, 'bali': 12501, 'enemies': 12502, 'nicecooperating': 12503, 'sherri': 12504, 'plzzzz': 12505, 'grungy': 12506, 'lovecould': 12507, 'workboyz': 12508, 'billiam': 12509, 'whoayoure': 12510, 'upkeep': 12511, 'manageable': 12512, 'brownred': 12513, 'benjerrys': 12514, 'sundress': 12515, 'newark': 12516, 'showerwere': 12517, 'churchtime': 12518, 'tasting': 12519, 'ulu': 12520, 'lacks': 12521, 'neti': 12522, 'yaobroken': 12523, 'footso': 12524, 'denvers': 12525, 'movebut': 12526, 'fontstruct': 12527, 'dafont': 12528, 'weighting': 12529, 'daps': 12530, 'momo': 12531, 'kentucky': 12532, 'gail': 12533, 'geezzz': 12534, 'siargao': 12535, 'nlng': 12536, 'pla': 12537, 'curing': 12538, 'le': 12539, 'battered': 12540, 'gokarting': 12541, 'naming': 12542, 'anywherebtw': 12543, 'sfos': 12544, 'showers': 12545, 'haayy': 12546, 'decode': 12547, 'skaters': 12548, 'alphonso': 12549, 'lassi': 12550, 'nimbupaani': 12551, 'eveningsummers': 12552, 'okaay': 12553, 'bambi': 12554, 'ladyill': 12555, 'lok': 12556, 'ef': 12557, 'jummy': 12558, 'ooohi': 12559, 'washingtonlame': 12560, 'inthe': 12561, 'sticking': 12562, 'wand': 12563, 'madness': 12564, 'hellerrr': 12565, 'followerss': 12566, 'tricina': 12567, 'uhhm': 12568, 'benefiting': 12569, 'indies': 12570, 'bellyache': 12571, 'meeeeeee': 12572, 'getaway': 12573, 'intrigued': 12574, 'maaddict': 12575, 'unyay': 12576, 'greatt': 12577, 'imaginealthough': 12578, 'miri': 12579, 'raced': 12580, 'illuminated': 12581, 'dreaaaming': 12582, 'polyvore': 12583, 'maccabees': 12584, 'bev': 12585, 'okasan': 12586, 'roomi': 12587, 'twitterena': 12588, 'span': 12589, 'seeeeeeee': 12590, 'transformers': 12591, 'cme': 12592, 'shia': 12593, 'yippiee': 12594, 'malo': 12595, 'beg': 12596, 'pleeeeeeeassseeeeeee': 12597, 'ringtone': 12598, 'aarrgghh': 12599, 'fuka': 12600, 'hose': 12601, 'leaked': 12602, 'floating': 12603, 'holby': 12604, 'nadine': 12605, 'lewington': 12606, 'clifford': 12607, 'statistic': 12608, 'ofmax': 12609, 'realx': 12610, 'haa': 12611, 'shiit': 12612, 'seductively': 12613, 'sprawled': 12614, 'blokes': 12615, 'bonnet': 12616, 'shockers': 12617, 'shoothope': 12618, 'ladys': 12619, 'fuschia': 12620, 'sheath': 12621, 'chic': 12622, 'denis': 12623, 'nowhate': 12624, 'backache': 12625, 'hairstype': 12626, 'travesty': 12627, 'exclassmates': 12628, 'hayfevery': 12629, 'sufferin': 12630, 'nanosecond': 12631, 'wishhh': 12632, 'dayenjoy': 12633, 'smoothstreaming': 12634, 'usersfanfrickingtastic': 12635, 'startill': 12636, 'lumpia': 12637, 'pancit': 12638, 'confusin': 12639, 'understandable': 12640, 'amma': 12641, 'nugent': 12642, 'miffed': 12643, 'irwin': 12644, 'sickee': 12645, 'misoricesushimochi': 12646, 'grrrrri': 12647, 'jaw': 12648, 'allow': 12649, 'reintroduce': 12650, 'diagram': 12651, 'mainstream': 12652, 'migrate': 12653, 'duber': 12654, 'klondike': 12655, 'sheat': 12656, 'hugcuz': 12657, 'sukks': 12658, 'restful': 12659, 'document': 12660, 'porter': 12661, 'venting': 12662, 'cuteset': 12663, 'looooooove': 12664, 'fangirl': 12665, 'dramatic': 12666, 'paintnet': 12667, 'crazily': 12668, 'fullpage': 12669, 'ajc': 12670, 'nightlast': 12671, 'muahh': 12672, 'deplyod': 12673, 'falougairaq': 12674, 'nweek': 12675, 'didgeridoo': 12676, 'bahamas': 12677, 'einstein': 12678, 'manicure': 12679, 'ollmann': 12680, 'sig': 12681, 'stake': 12682, 'chez': 12683, 'alogmo': 12684, 'predeparture': 12685, 'restriction': 12686, 'challah': 12687, 'ironclad': 12688, 'determination': 12689, 'ericka': 12690, 'trashed': 12691, 'aware': 12692, 'cakewish': 12693, 'nuttin': 12694, 'quitsmokingdiary': 12695, 'yaaaaaayy': 12696, 'sephora': 12697, 'licks': 12698, 'coolidge': 12699, 'myspacethey': 12700, 'ridin': 12701, 'blasting': 12702, 'ic': 12703, 'photolooks': 12704, 'soooooooooo': 12705, 'powerball': 12706, 'jackpot': 12707, 'formidable': 12708, 'inthebattle': 12709, 'buchers': 12710, 'todaynola': 12711, 'backgroundmy': 12712, 'heroswichita': 12713, 'kraussey': 12714, 'obligations': 12715, 'twitterbut': 12716, 'possiblei': 12717, 'donor': 12718, 'correctly': 12719, 'featured': 12720, 'tomorrowhappy': 12721, 'partyyyy': 12722, 'godness': 12723, 'parentsthats': 12724, 'capable': 12725, 'heehee': 12726, 'refusing': 12727, 'woodies': 12728, 'hove': 12729, 'trailor': 12730, 'tourture': 12731, 'itonlinelol': 12732, 'crews': 12733, 'congratulationskeep': 12734, 'accdentt': 12735, 'godddd': 12736, 'coughed': 12737, 'dreadzone': 12738, 'liferuin': 12739, 'musictrauma': 12740, 'dunhams': 12741, 'tks': 12742, 'laminate': 12743, 'downjust': 12744, 'gameboy': 12745, 'chiptune': 12746, 'frappuccino': 12747, 'reaches': 12748, 'adequately': 12749, 'eally': 12750, 'forwarded': 12751, 'canberra': 12752, 'trekked': 12753, 'themovie': 12754, 'halloween': 12755, 'danielle': 12756, 'harris': 12757, 'heelllll': 12758, 'incidents': 12759, 'ritasbadly': 12760, 'hotelredenand': 12761, 'laughyou': 12762, 'puffyn': 12763, 'earthlink': 12764, 'businessy': 12765, 'spiders': 12766, 'octupi': 12767, 'pipe': 12768, 'masson': 12769, 'youx': 12770, 'momentx': 12771, 'geht': 12772, 'wieder': 12773, 'halarious': 12774, 'throws': 12775, 'ronaldo': 12776, 'derby': 12777, 'sana': 12778, 'matanggap': 12779, 'jolted': 12780, 'cubes': 12781, 'hagg': 12782, 'theese': 12783, 'bedipod': 12784, 'playsoft': 12785, 'flowinsooooon': 12786, 'fancys': 12787, 'freshmen': 12788, 'warmup': 12789, 'jpeg': 12790, 'terminology': 12791, 'biiiiig': 12792, 'dose': 12793, 'insulin': 12794, 'afterjune': 12795, 'thy': 12796, 'aims': 12797, 'negotiation': 12798, 'crooning': 12799, 'trued': 12800, 'rim': 12801, 'spartacus': 12802, 'mikee': 12803, 'oddos': 12804, 'grandfather': 12805, 'fkc': 12806, 'embroidery': 12807, 'deposit': 12808, 'outyou': 12809, 'timea': 12810, 'nearing': 12811, 'stats': 12812, 'tsar': 12813, 'aaaaaaaaaamazing': 12814, 'pipers': 12815, 'coleman': 12816, 'excite': 12817, 'filter': 12818, 'claussuch': 12819, 'excitement': 12820, 'kristen': 12821, 'sorryyyyyy': 12822, 'kurt': 12823, 'dire': 12824, 'nobodies': 12825, 'overseas': 12826, 'finallygoodnight': 12827, 'consist': 12828, 'ravishing': 12829, 'exhibit': 12830, 'haavent': 12831, 'lambert': 12832, 'workarrived': 12833, 'edmontonians': 12834, 'shabu': 12835, 'comforting': 12836, 'squeegee': 12837, 'noggin': 12838, 'musicfeeling': 12839, 'raininy': 12840, 'proposedwere': 12841, 'magnolias': 12842, 'babysit': 12843, 'peacelovejonas': 12844, 'naplan': 12845, 'masters': 12846, 'nutin': 12847, 'dairy': 12848, 'dollarama': 12849, 'workdays': 12850, 'ade': 12851, 'commitments': 12852, 'alonen': 12853, 'donated': 12854, 'booksmags': 12855, 'ukrainian': 12856, 'marquee': 12857, 'snood': 12858, 'educator': 12859, 'legless': 12860, 'stillborn': 12861, 'spaniels': 12862, 'ducati': 12863, 'bedill': 12864, 'snots': 12865, 'julia': 12866, 'thikn': 12867, 'allweb': 12868, 'pingpooping': 12869, 'gtg': 12870, 'soundtrack': 12871, 'mayjah': 12872, 'monte': 12873, 'cristo': 12874, 'endangered': 12875, 'species': 12876, 'artist': 12877, 'theheck': 12878, 'easyjust': 12879, 'beckwith': 12880, 'joyner': 12881, 'professionally': 12882, 'gta': 12883, 'waaaaaaaa': 12884, 'chilito': 12885, 'cincinnati': 12886, 'sundayvisitin': 12887, 'friendbrother': 12888, 'staceys': 12889, 'diggnation': 12890, 'mths': 12891, 'daysthe': 12892, 'sas': 12893, 'favourtie': 12894, 'exhilerating': 12895, 'kristin': 12896, 'wooop': 12897, 'settled': 12898, 'leather': 12899, 'jacketsuncomfortablenot': 12900, 'reminderthx': 12901, 'tonightthanks': 12902, 'steppin': 12903, 'pleaseeeeeeeeeeeeee': 12904, 'phillip': 12905, 'mario': 12906, 'sleepytown': 12907, 'titanium': 12908, 'helicopter': 12909, 'topend': 12910, 'interwebnet': 12911, 'bba': 12912, 'haaaaair': 12913, 'sickkkk': 12914, 'nawill': 12915, 'manim': 12916, 'wordslooks': 12917, 'giftin': 12918, 'lolsz': 12919, 'gracias': 12920, 'lolol': 12921, 'lieing': 12922, 'barrowman': 12923, 'winnipeg': 12924, 'pace': 12925, 'poser': 12926, 'bishopstorford': 12927, 'sadsville': 12928, 'buch': 12929, 'workdetails': 12930, 'nickj': 12931, 'umnicks': 12932, 'voicesmileeyeslaughand': 12933, 'rolemodel': 12934, 'hiking': 12935, 'witnessing': 12936, 'jurassic': 12937, 'filmed': 12938, 'alaskaso': 12939, 'nemecek': 12940, 'keed': 12941, 'norms': 12942, 'herrrrr': 12943, 'presenting': 12944, 'todayhope': 12945, 'mejer': 12946, 'emmm': 12947, 'geee': 12948, 'souvlaki': 12949, 'dimitrisi': 12950, 'harleton': 12951, 'againreally': 12952, 'nostalgic': 12953, 'rerun': 12954, 'nerdprom': 12955, 'playbyplay': 12956, 'dian': 12957, 'deng': 12958, 'commencement': 12959, 'protest': 12960, 'slutted': 12961, 'jealz': 12962, 'alimony': 12963, 'reminising': 12964, 'conservative': 12965, 'mintbubblegumcookieflakenerds': 12966, 'albumlucky': 12967, 'panwa': 12968, 'christine': 12969, 'shopaholic': 12970, 'ember': 12971, 'dante': 12972, 'katies': 12973, 'spaghetti': 12974, 'kellz': 12975, 'tanks': 12976, 'spawning': 12977, 'twitmama': 12978, 'evar': 12979, 'awnser': 12980, 'finales': 12981, 'walkthe': 12982, 'maaaan': 12983, 'tiime': 12984, 'chooool': 12985, 'praline': 12986, 'folder': 12987, 'nownobody': 12988, 'toocant': 12989, 'parcs': 12990, 'cheeseburglar': 12991, 'taffjones': 12992, 'andnevar': 12993, 'kde': 12994, 'hauled': 12995, 'cameraphone': 12996, 'cass': 12997, 'blahhh': 12998, 'folo': 12999, 'nomination': 13000, 'gale': 13001, 'combat': 13002, 'excolleagues': 13003, 'boasting': 13004, 'gangsterrr': 13005, 'drems': 13006, 'kalies': 13007, 'tweeets': 13008, 'tweekdeckkk': 13009, 'cryyyy': 13010, 'breeding': 13011, 'opportinists': 13012, 'moncton': 13013, 'tucker': 13014, 'sko': 13015, 'ean': 13016, 'weigh': 13017, 'raf': 13018, 'boulmer': 13019, 'sweden': 13020, 'manicurist': 13021, 'kapowski': 13022, 'measure': 13023, 'upstupid': 13024, 'bberry': 13025, 'retelling': 13026, 'saskatoon': 13027, 'siccck': 13028, 'jimbbbbo': 13029, 'offensive': 13030, 'schoolmaybe': 13031, 'sickall': 13032, 'migrane': 13033, 'ibs': 13034, 'mimis': 13035, 'healthyliving': 13036, 'direction': 13037, 'speaker': 13038, 'terminals': 13039, 'soldering': 13040, 'aces': 13041, 'yuotube': 13042, 'peppermint': 13043, 'mochas': 13044, 'frappachinos': 13045, 'baguio': 13046, 'cleche': 13047, 'sarcasm': 13048, 'bcreative': 13049, 'harrd': 13050, 'ttfn': 13051, 'entrepreneurs': 13052, 'niiiiiiiights': 13053, 'storesee': 13054, 'commandments': 13055, 'geeks': 13056, 'stressorscome': 13057, 'lmhr': 13058, 'fristy': 13059, 'retained': 13060, 'pmsl': 13061, 'bacterin': 13062, 'yoooouuuu': 13063, 'karishmaa': 13064, 'luvv': 13065, 'stink': 13066, 'pleaseeeee': 13067, 'birthdayyyy': 13068, 'annoyingly': 13069, 'livlyf': 13070, 'rhel': 13071, 'bnx': 13072, 'packets': 13073, 'humble': 13074, 'mettingdont': 13075, 'nerdiest': 13076, 'chilis': 13077, 'boofy': 13078, 'bitim': 13079, 'extensions': 13080, 'sneeze': 13081, 'inspite': 13082, 'spams': 13083, 'twittergadget': 13084, 'rhodes': 13085, 'nacklacematching': 13086, 'earring': 13087, 'mrb': 13088, 'academyish': 13089, 'kiddyoull': 13090, 'sketchy': 13091, 'plis': 13092, 'fate': 13093, 'divx': 13094, 'dundee': 13095, 'chergo': 13096, 'environmental': 13097, 'lappytop': 13098, 'baterrry': 13099, 'dyingtryingtofind': 13100, 'movieto': 13101, 'goingto': 13102, 'grandmothers': 13103, 'furbaby': 13104, 'uktv': 13105, 'tomro': 13106, 'oxox': 13107, 'swedenbut': 13108, 'landed': 13109, 'boardan': 13110, 'concerts': 13111, 'procrastinator': 13112, 'ruineddeath': 13113, 'bleach': 13114, 'ankles': 13115, 'swolleneeks': 13116, 'limpingso': 13117, 'baha': 13118, 'caine': 13119, 'deprived': 13120, 'greatful': 13121, 'seck': 13122, 'waitresses': 13123, 'werecounting': 13124, 'comingand': 13125, 'citipointe': 13126, 'argghhh': 13127, 'ccrying': 13128, 'selfdenial': 13129, 'harmful': 13130, 'cardboard': 13131, 'mcdicks': 13132, 'yetgoing': 13133, 'kean': 13134, 'cipriano': 13135, 'interrupt': 13136, 'mewell': 13137, 'savesummer': 13138, 'amazones': 13139, 'suitescretegreece': 13140, 'moore': 13141, 'barbecues': 13142, 'conducive': 13143, 'jobapplying': 13144, 'laser': 13145, 'butler': 13146, 'thinkhope': 13147, 'ek': 13148, 'lina': 13149, 'birthdaypresent': 13150, 'brinn': 13151, 'messenger': 13152, 'soggy': 13153, 'confusions': 13154, 'freed': 13155, 'wrng': 13156, 'flattened': 13157, 'arty': 13158, 'discrepencies': 13159, 'aureole': 13160, 'decemberists': 13161, 'bolshoi': 13162, 'jadore': 13163, 'pianist': 13164, 'prompting': 13165, 'reinstall': 13166, 'rjwtf': 13167, 'buyim': 13168, 'chingo': 13169, 'bling': 13170, 'chile': 13171, 'thang': 13172, 'bgeezy': 13173, 'stuffat': 13174, 'doinnite': 13175, 'brochures': 13176, 'bwrc': 13177, 'cleanin': 13178, 'skunk': 13179, 'regrettin': 13180, 'bmpre': 13181, 'wades': 13182, 'touches': 13183, 'fuckn': 13184, 'believing': 13185, 'sacrilege': 13186, 'embark': 13187, 'poisoning': 13188, 'blowing': 13189, 'ringtones': 13190, 'emozac': 13191, 'zaccie': 13192, 'ahahahaha': 13193, 'liee': 13194, 'pattinson': 13195, 'morningbrunchish': 13196, 'bothers': 13197, 'metabolism': 13198, 'snapping': 13199, 'glowing': 13200, 'mindas': 13201, 'musicall': 13202, 'disturbance': 13203, 'sapinsidetrack': 13204, 'palo': 13205, 'alto': 13206, 'debugging': 13207, 'unmuted': 13208, 'jenna': 13209, 'begging': 13210, 'rendered': 13211, 'yuhh': 13212, 'humbug': 13213, 'booi': 13214, 'adapter': 13215, 'dslr': 13216, 'candidate': 13217, 'terabyte': 13218, 'harddisk': 13219, 'buts': 13220, 'theyu': 13221, 'smacks': 13222, 'flipside': 13223, 'mobiledang': 13224, 'bahrain': 13225, 'tablespotting': 13226, 'newbie': 13227, 'burlesque': 13228, 'awwthanks': 13229, 'smudge': 13230, 'malicious': 13231, 'orchestraand': 13232, 'sigur': 13233, 'iya': 13234, 'nyokap': 13235, 'pernah': 13236, 'berkata': 13237, 'demikian': 13238, 'noble': 13239, 'comforts': 13240, 'stem': 13241, 'cells': 13242, 'relaxful': 13243, 'mornining': 13244, 'stale': 13245, 'exclude': 13246, 'completelyim': 13247, 'toms': 13248, 'lushh': 13249, 'manwe': 13250, 'briefs': 13251, 'agencies': 13252, 'proppa': 13253, 'glassez': 13254, 'outing': 13255, 'sph': 13256, 'frenz': 13257, 'dissappoint': 13258, 'haiz': 13259, 'zulu': 13260, 'sugarchocolatecaffeine': 13261, 'jodi': 13262, 'upugg': 13263, 'rymed': 13264, 'cu': 13265, 'judd': 13266, 'mitglee': 13267, 'litterally': 13268, 'cursed': 13269, 'jonlakers': 13270, 'seuss': 13271, 'itjoin': 13272, 'batshit': 13273, 'orwell': 13274, 'lunchtime': 13275, 'daywish': 13276, 'biketo': 13277, 'abba': 13278, 'firday': 13279, 'sighting': 13280, 'spongebobs': 13281, 'distraught': 13282, 'yestarday': 13283, 'toniiiite': 13284, 'arggh': 13285, 'uss': 13286, 'confessional': 13287, 'sinned': 13288, 'krystles': 13289, 'neville': 13290, 'enuh': 13291, 'hunwas': 13292, 'avin': 13293, 'farhappy': 13294, 'thenis': 13295, 'cnews': 13296, 'thos': 13297, 'gripped': 13298, 'firmly': 13299, 'delle': 13300, 'queue': 13301, 'metre': 13302, 'usatexas': 13303, 'tunsia': 13304, 'neball': 13305, 'plc': 13306, 'fuzzy': 13307, 'costco': 13308, 'pangaea': 13309, 'killah': 13310, 'priest': 13311, 'featuring': 13312, 'fkn': 13313, 'matches': 13314, 'somerset': 13315, 'gifted': 13316, 'foil': 13317, 'snowy': 13318, 'pentecost': 13319, 'uselessly': 13320, 'rachmaninoff': 13321, 'amaaazing': 13322, 'seriouslyit': 13323, 'mixup': 13324, 'planting': 13325, 'gardenhope': 13326, 'motorways': 13327, 'noooootttttttt': 13328, 'whatsoever': 13329, 'causing': 13330, 'tgc': 13331, 'spaz': 13332, 'ensures': 13333, 'timely': 13334, 'productnamingrulez': 13335, 'ohmygosh': 13336, 'rz': 13337, 'curvey': 13338, 'hamptons': 13339, 'popularent': 13340, 'boog': 13341, 'minhey': 13342, 'fuzz': 13343, 'cranking': 13344, 'baffoon': 13345, 'believes': 13346, 'issayin': 13347, 'lad': 13348, 'puerto': 13349, 'rico': 13350, 'mclife': 13351, 'twitpeeps': 13352, 'bonnie': 13353, 'clyde': 13354, 'jayzan': 13355, 'allsort': 13356, 'yepsjust': 13357, 'geekshopping': 13358, 'educating': 13359, 'aaaagh': 13360, 'tdaynothing': 13361, 'tmrohow': 13362, 'excitin': 13363, 'simplified': 13364, 'hoursnz': 13365, 'sleeves': 13366, 'cathylofran': 13367, 'nicci': 13368, 'pale': 13369, 'whiteman': 13370, 'birthdayhappy': 13371, 'persistent': 13372, 'coughs': 13373, 'troubles': 13374, 'triplet': 13375, 'florists': 13376, 'cassadee': 13377, 'florist': 13378, 'hmmneed': 13379, 'elsehmm': 13380, 'affirmation': 13381, 'brenda': 13382, 'whooops': 13383, 'poughkeepsie': 13384, 'ahhhhhhhh': 13385, 'pridelines': 13386, 'osn': 13387, 'laddies': 13388, 'soothing': 13389, 'clues': 13390, 'skyrockets': 13391, 'aaaaaaaafternoon': 13392, 'itthats': 13393, 'khc': 13394, 'tiz': 13395, 'hadthebestdayever': 13396, 'jesusim': 13397, 'papaya': 13398, 'lobbyists': 13399, 'mangosteen': 13400, 'papayaor': 13401, 'cybersecurity': 13402, 'yaa': 13403, 'partyyou': 13404, 'pleassse': 13405, 'burnside': 13406, 'yummyi': 13407, 'haz': 13408, 'smal': 13409, 'pleess': 13410, 'pinkpop': 13411, 'wwwwweeeeeeeeeeeeeeekkkkkeeeennnndddd': 13412, 'booskie': 13413, 'reassurance': 13414, 'potatoes': 13415, 'hahahahahahahahahahahahaha': 13416, 'workingbut': 13417, 'hiphiphoray': 13418, 'sucking': 13419, 'att': 13420, 'mywireless': 13421, 'othaa': 13422, 'gurrrrrl': 13423, 'brotherskristi': 13424, 'mccafetastes': 13425, 'cured': 13426, 'mcskillet': 13427, 'abundantbless': 13428, 'leavingg': 13429, 'boyfrienndd': 13430, 'finallly': 13431, 'psychiatric': 13432, 'commercialsized': 13433, 'htc': 13434, 'roundtable': 13435, 'judging': 13436, 'spymaster': 13437, 'fornicating': 13438, 'wahamerican': 13439, 'chweet': 13440, 'muaxxx': 13441, 'sittn': 13442, 'thinkinwow': 13443, 'von': 13444, 'jester': 13445, 'glands': 13446, 'mummies': 13447, 'holliejust': 13448, 'boooooooored': 13449, 'evergraduation': 13450, 'reservesi': 13451, 'gregor': 13452, 'arthroscopy': 13453, 'plns': 13454, 'earthday': 13455, 'wranglers': 13456, 'mountainjam': 13457, 'hammond': 13458, 'normaltwo': 13459, 'transactions': 13460, 'musclesthe': 13461, 'gnitey': 13462, 'orientationits': 13463, 'seriouslythis': 13464, 'uy': 13465, 'sleepingtime': 13466, 'bif': 13467, 'buliding': 13468, 'oohhhh': 13469, 'cornyness': 13470, 'hahahahahahahahahahahaha': 13471, 'downs': 13472, 'nickchien': 13473, 'asia': 13474, 'bologna': 13475, 'shookn': 13476, 'buys': 13477, 'fritter': 13478, 'wowsa': 13479, 'beddy': 13480, 'reli': 13481, 'sluttin': 13482, 'waaaaaaaaahhhh': 13483, 'thomay': 13484, 'greattttt': 13485, 'ayoko': 13486, 'tagalog': 13487, 'fromahem': 13488, 'mealwas': 13489, 'willblok': 13490, 'princeton': 13491, 'ambulance': 13492, 'shaven': 13493, 'arkansas': 13494, 'strongly': 13495, 'diary': 13496, 'favorit': 13497, 'method': 13498, 'interest': 13499, 'excessive': 13500, 'efficient': 13501, 'suckss': 13502, 'badbooks': 13503, 'encoraging': 13504, 'behavior': 13505, 'provoking': 13506, 'mjname': 13507, 'orchestra': 13508, 'ucla': 13509, 'bookstorenow': 13510, 'university': 13511, 'winks': 13512, 'welcoming': 13513, 'serena': 13514, 'madrid': 13515, 'yeahshe': 13516, 'beanz': 13517, 'kiddosgotta': 13518, 'hudson': 13519, 'ciaras': 13520, 'hommmmmme': 13521, 'buttt': 13522, 'overdo': 13523, 'retriever': 13524, 'rightgotta': 13525, 'twitterati': 13526, 'everyond': 13527, 'julias': 13528, 'vector': 13529, 'guitars': 13530, 'mba': 13531, 'gmornin': 13532, 'mackillop': 13533, 'derek': 13534, 'reallyyyyy': 13535, 'jenni': 13536, 'lovelyso': 13537, 'todaymy': 13538, 'someif': 13539, 'gtalk': 13540, 'lingering': 13541, 'refrigerator': 13542, 'boise': 13543, 'volumes': 13544, 'elevators': 13545, 'impecible': 13546, 'trick': 13547, 'blinky': 13548, 'bios': 13549, 'revel': 13550, 'homerefreshed': 13551, 'justa': 13552, 'bitbac': 13553, 'abroad': 13554, 'travelin': 13555, 'pepo': 13556, 'hehehehe': 13557, 'purate': 13558, 'amaaaazing': 13559, 'mwah': 13560, 'accused': 13561, 'sided': 13562, 'alredy': 13563, 'resist': 13564, 'owi': 13565, 'credo': 13566, 'brighi': 13567, 'commies': 13568, 'wrists': 13569, 'lemsip': 13570, 'fantabulous': 13571, 'division': 13572, 'livin': 13573, 'disorders': 13574, 'vomit': 13575, 'girrrrrrrrlll': 13576, 'wowthat': 13577, 'macaramber': 13578, 'heir': 13579, 'saybitch': 13580, 'bookbag': 13581, 'toget': 13582, 'funniset': 13583, 'blve': 13584, 'eu': 13585, 'tenho': 13586, 'curso': 13587, 'drc': 13588, 'ohyeahhh': 13589, 'smileit': 13590, 'ought': 13591, 'moives': 13592, 'thompson': 13593, 'pilli': 13594, 'crazyhere': 13595, 'yeee': 13596, 'damnnn': 13597, 'cherished': 13598, 'victor': 13599, 'selfupdate': 13600, 'rbrubygems': 13601, 'bre': 13602, 'reg': 13603, 'imna': 13604, 'rowlol': 13605, 'thorw': 13606, 'varsity': 13607, 'fanclub': 13608, 'jj': 13609, 'yeeh': 13610, 'salty': 13611, 'pretzels': 13612, 'yw': 13613, 'foul': 13614, 'sank': 13615, 'whimpered': 13616, 'motherssss': 13617, 'thankssss': 13618, 'tibet': 13619, 'todaywith': 13620, 'harley': 13621, 'bprohibiting': 13622, 'drip': 13623, 'mennot': 13624, 'tomorrowwanna': 13625, 'familyits': 13626, 'dma': 13627, 'ouchwaited': 13628, 'eyebrows': 13629, 'waxed': 13630, 'watches': 13631, 'caww': 13632, 'mandm': 13633, 'helaas': 13634, 'unfortunatelly': 13635, 'norway': 13636, 'reissue': 13637, 'newss': 13638, 'brothes': 13639, 'tweeeeeet': 13640, 'severly': 13641, 'sunburntit': 13642, 'egyptian': 13643, 'betterrrrrrrr': 13644, 'twain': 13645, 'lathargic': 13646, 'mentally': 13647, 'huggles': 13648, 'hovering': 13649, 'pissy': 13650, 'trysometimes': 13651, 'provide': 13652, 'murderous': 13653, 'rampages': 13654, 'turnaround': 13655, 'repairs': 13656, 'woodland': 13657, 'yee': 13658, 'ryehappy': 13659, 'slowthe': 13660, 'thoes': 13661, 'bridezilla': 13662, 'wiffleball': 13663, 'ging': 13664, 'holla': 13665, 'imnot': 13666, 'youbut': 13667, 'awesomeily': 13668, 'cooool': 13669, 'lovve': 13670, 'roco': 13671, 'shoooow': 13672, 'googling': 13673, 'dido': 13674, 'fillwords': 13675, 'luf': 13676, 'scampi': 13677, 'vermouth': 13678, 'cigg': 13679, 'irlanda': 13680, 'meaway': 13681, 'thoughim': 13682, 'gathering': 13683, 'bdayhappy': 13684, 'thodont': 13685, 'engulfed': 13686, 'shooooes': 13687, 'maany': 13688, 'academically': 13689, 'amazingggg': 13690, 'devjavanet': 13691, 'logic': 13692, 'friendsss': 13693, 'chutzpah': 13694, 'samson': 13695, 'delilah': 13696, 'brianna': 13697, 'todayagitated': 13698, 'tribute': 13699, 'matalatine': 13700, 'thenyou': 13701, 'cactus': 13702, 'causins': 13703, 'awayyy': 13704, 'painfully': 13705, 'unavailable': 13706, 'endlessly': 13707, 'fascinated': 13708, 'sustainability': 13709, 'gen': 13710, 'charles': 13711, 'qt': 13712, 'shrunk': 13713, 'cardigan': 13714, 'twitties': 13715, 'streching': 13716, 'payday': 13717, 'houstatlantavegas': 13718, 'nov': 13719, 'heavennn': 13720, 'misanthrope': 13721, 'humanity': 13722, 'carey': 13723, 'norwich': 13724, 'relegated': 13725, 'rivals': 13726, 'towels': 13727, 'accidently': 13728, 'hehee': 13729, 'oyay': 13730, 'shoping': 13731, 'davidhahaenjoy': 13732, 'incomplete': 13733, 'acute': 13734, 'mumps': 13735, 'ov': 13736, 'goode': 13737, 'mediocre': 13738, 'pitwas': 13739, 'leafs': 13740, 'heey': 13741, 'emptying': 13742, 'ohmygod': 13743, 'aaaaa': 13744, 'hmmmthe': 13745, 'restaurantone': 13746, 'dukbolgi': 13747, 'dutch': 13748, 'everyoneeeee': 13749, 'xxxxxxloser': 13750, 'bubbletweet': 13751, 'tends': 13752, 'wellllllllllllll': 13753, 'yeeeeahi': 13754, 'strippers': 13755, 'annual': 13756, 'preshow': 13757, 'greenish': 13758, 'whincop': 13759, 'introduced': 13760, 'franklin': 13761, 'gooooooooood': 13762, 'implementation': 13763, 'unittest': 13764, 'loader': 13765, 'loldon': 13766, 'seriousits': 13767, 'bittersweet': 13768, 'nx': 13769, 'euch': 13770, 'whod': 13771, 'gromit': 13772, 'combined': 13773, 'disastrously': 13774, 'xxxxxxxxxxxxxxxxxxx': 13775, 'gaytimes': 13776, 'romans': 13777, 'haileys': 13778, 'isafailure': 13779, 'communicated': 13780, 'annoyedyet': 13781, 'skimmed': 13782, 'discing': 13783, 'discs': 13784, 'koozie': 13785, 'hunnie': 13786, 'jamaica': 13787, 'lve': 13788, 'gasping': 13789, 'kaohsiung': 13790, 'duckies': 13791, 'critical': 13792, 'peoplemyself': 13793, 'yeeeee': 13794, 'murked': 13795, 'tremendously': 13796, 'holder': 13797, 'discounts': 13798, 'pp': 13799, 'whaaaaaat': 13800, 'cancuks': 13801, 'ull': 13802, 'buyers': 13803, 'remorseuve': 13804, 'freindshirley': 13805, 'lmaobut': 13806, 'thoroughly': 13807, 'comee': 13808, 'gits': 13809, 'inningssweared': 13810, 'lawwas': 13811, 'demilynnmusic': 13812, 'homieactually': 13813, 'mackenzie': 13814, 'weekendparis': 13815, 'nab': 13816, 'youngster': 13817, 'swears': 13818, 'hedache': 13819, 'kakabalik': 13820, 'tarlac': 13821, 'aftie': 13822, 'secretly': 13823, 'sorryill': 13824, 'alpha': 13825, 'autoconnect': 13826, 'infront': 13827, 'recovers': 13828, 'impaled': 13829, 'scottishtryingtobeirish': 13830, 'ewan': 13831, 'mcgregor': 13832, 'toooooom': 13833, 'pleeease': 13834, 'risking': 13835, 'kayaking': 13836, 'hyperventilating': 13837, 'sumthing': 13838, 'haaa': 13839, 'hearin': 13840, 'convos': 13841, 'wanaa': 13842, 'himm': 13843, 'tolerate': 13844, 'contestants': 13845, 'xxoo': 13846, 'awakebut': 13847, 'boredddddd': 13848, 'cleanout': 13849, 'rearranging': 13850, 'bookshelf': 13851, 'wonderingi': 13852, 'mare': 13853, 'articles': 13854, 'flirt': 13855, 'dayit': 13856, 'pastor': 13857, 'derivative': 13858, 'identity': 13859, 'upstate': 13860, 'hick': 13861, 'ethnic': 13862, 'gazing': 13863, 'idiotattux': 13864, 'techyuppie': 13865, 'pdf': 13866, 'stdinpdf': 13867, 'copying': 13868, 'mildura': 13869, 'mhhhwhatever': 13870, 'joeys': 13871, 'lizard': 13872, 'hre': 13873, 'butch': 13874, 'lklol': 13875, 'tdy': 13876, 'righti': 13877, 'revelation': 13878, 'suuuks': 13879, 'babysitters': 13880, 'eyedea': 13881, 'macs': 13882, 'powermac': 13883, 'anoop': 13884, 'gdgd': 13885, 'wonderfuly': 13886, 'pliers': 13887, 'skillslol': 13888, 'footy': 13889, 'buggy': 13890, 'superglue': 13891, 'giraffe': 13892, 'gameresearching': 13893, 'aracheologists': 13894, 'rubs': 13895, 'softly': 13896, 'rayne': 13897, 'novel': 13898, 'paperbackim': 13899, 'potrait': 13900, 'profound': 13901, 'examsboring': 13902, 'babysittee': 13903, 'spinach': 13904, 'trent': 13905, 'zoningconcept': 13906, 'heavenfr': 13907, 'horn': 13908, 'yip': 13909, 'dodgy': 13910, 'eish': 13911, 'boet': 13912, 'ridding': 13913, 'dangero': 13914, 'waaaaaaa': 13915, 'midget': 13916, 'jor': 13917, 'samples': 13918, 'zorny': 13919, 'recall': 13920, 'bungle': 13921, 'notlol': 13922, 'chickxxxxx': 13923, 'availble': 13924, 'fukkn': 13925, 'angrrry': 13926, 'rick': 13927, 'noesss': 13928, 'tickling': 13929, 'sandwhich': 13930, 'osbourne': 13931, 'taxman': 13932, 'westend': 13933, 'iloveyopu': 13934, 'kayleigh': 13935, 'lymz': 13936, 'cntt': 13937, 'waiit': 13938, 'jimmys': 13939, 'badplease': 13940, 'pondering': 13941, 'shanes': 13942, 'whining': 13943, 'critics': 13944, 'constitutes': 13945, 'nitenite': 13946, 'spamspamspam': 13947, 'keiths': 13948, 'motorbike': 13949, 'dayyyyyyyyyyyy': 13950, 'thirds': 13951, 'eclipsethen': 13952, 'yir': 13953, 'nanaimo': 13954, 'whohoo': 13955, 'algonquin': 13956, 'shoppers': 13957, 'taser': 13958, 'humane': 13959, 'permanently': 13960, 'sprinkling': 13961, 'sadifying': 13962, 'heartparts': 13963, 'feat': 13964, 'uktoday': 13965, 'thoughthanks': 13966, 'downfall': 13967, 'fridgeand': 13968, 'clotheshouse': 13969, 'difficulty': 13970, 'idmfinal': 13971, 'manila': 13972, 'ditchin': 13973, 'barfin': 13974, 'esotsm': 13975, 'oic': 13976, 'thenthanks': 13977, 'dreamweaver': 13978, 'julio': 13979, 'hotdoggross': 13980, 'glre': 13981, 'vcenter': 13982, 'mssql': 13983, 'connects': 13984, 'hmmok': 13985, 'schoolhope': 13986, 'cellgroup': 13987, 'leaders': 13988, 'kanye': 13989, 'occasion': 13990, 'rapfun': 13991, 'helllllpppp': 13992, 'fleetwood': 13993, 'xxxxxx': 13994, 'brooke': 13995, 'wonly': 13996, 'snoops': 13997, 'wharra': 13998, 'oracle': 13999, 'unixodbc': 14000, 'arrangement': 14001, 'griffins': 14002, 'urgent': 14003, 'yellowishorangeishbrownish': 14004, 'aquatic': 14005, 'julie': 14006, 'sleepytime': 14007, 'lifeline': 14008, 'aaaau': 14009, 'uthanks': 14010, 'friendand': 14011, 'forgiveme': 14012, 'hemorrhoids': 14013, 'poem': 14014, 'christa': 14015, 'sweeeet': 14016, 'asst': 14017, 'planss': 14018, 'idontknowwhatdamnbrandcoffeethisis': 14019, 'pg': 14020, 'motherdaughters': 14021, 'bonding': 14022, 'rummage': 14023, 'pheasant': 14024, 'kaotic': 14025, 'domina': 14026, 'ravit': 14027, 'caffein': 14028, 'affair': 14029, 'hypergoodness': 14030, 'evaluation': 14031, 'forms': 14032, 'tutees': 14033, 'aloof': 14034, 'condescending': 14035, 'jays': 14036, 'cookoutofthecentury': 14037, 'entered': 14038, 'lossing': 14039, 'fucckinggg': 14040, 'cakss': 14041, 'clipsepisodes': 14042, 'languish': 14043, 'projectm': 14044, 'modeling': 14045, 'irked': 14046, 'papis': 14047, 'swizzy': 14048, 'connolly': 14049, 'kirby': 14050, 'brighton': 14051, 'luks': 14052, 'krystal': 14053, 'empowering': 14054, 'praise': 14055, 'momthe': 14056, 'treky': 14057, 'couldbut': 14058, 'scattergoods': 14059, 'niiick': 14060, 'asasgdygyasdgy': 14061, 'archesi': 14062, 'wayyyyy': 14063, 'beautifulalbeit': 14064, 'atmbeen': 14065, 'hru': 14066, 'sanibel': 14067, 'pine': 14068, 'lammmeeee': 14069, 'wildly': 14070, 'fiction': 14071, 'disapointed': 14072, 'ciber': 14073, 'sabip': 14074, 'buisnesses': 14075, 'baadly': 14076, 'offend': 14077, 'rockstars': 14078, 'nurses': 14079, 'rns': 14080, 'soph': 14081, 'indexed': 14082, 'unload': 14083, 'reeheally': 14084, 'umbrella': 14085, 'sin': 14086, 'japsicans': 14087, 'breed': 14088, 'bedbut': 14089, 'upi': 14090, 'fabian': 14091, 'dailybooth': 14092, 'weepy': 14093, 'obnoxious': 14094, 'yehey': 14095, 'exciteeeddd': 14096, 'balme': 14097, 'aaaaaalcohol': 14098, 'kwl': 14099, 'hanna': 14100, 'mayday': 14101, 'okai': 14102, 'dasit': 14103, 'sogni': 14104, 'doro': 14105, 'ej': 14106, 'bigfanfriday': 14107, 'betting': 14108, 'daaaaawhh': 14109, 'ohlala': 14110, 'gwt': 14111, 'sisterbaby': 14112, 'smugly': 14113, 'hatin': 14114, 'paycheck': 14115, 'weirdly': 14116, 'disliking': 14117, 'rumor': 14118, 'cyndi': 14119, 'hammock': 14120, 'chased': 14121, 'saaaaafe': 14122, 'friendships': 14123, 'gosshhh': 14124, 'hansen': 14125, 'cole': 14126, 'stacking': 14127, 'breakim': 14128, 'exhaaaausted': 14129, 'opi': 14130, 'gl': 14131, 'designing': 14132, 'vacuuming': 14133, 'vacuum': 14134, 'countering': 14135, 'benedryl': 14136, 'grabbing': 14137, 'dishesi': 14138, 'ttc': 14139, 'embassy': 14140, 'mondaygood': 14141, 'appetizing': 14142, 'weekmy': 14143, 'oi': 14144, 'dayweekend': 14145, 'pollster': 14146, 'identification': 14147, 'republican': 14148, 'coal': 14149, 'rainhumidity': 14150, 'morningjust': 14151, 'ohbtwi': 14152, 'outsiden': 14153, 'everrrrr': 14154, 'deakin': 14155, 'prof': 14156, 'heineken': 14157, 'picker': 14158, 'grabbed': 14159, 'flannel': 14160, 'hobbit': 14161, 'greaattt': 14162, 'fatty': 14163, 'facespacing': 14164, 'fiercemichi': 14165, 'milles': 14166, 'buggin': 14167, 'weighed': 14168, 'inet': 14169, 'haah': 14170, 'reyt': 14171, 'fancies': 14172, 'valentinos': 14173, 'gutter': 14174, 'issuesvery': 14175, 'challenges': 14176, 'scoreless': 14177, 'gavin': 14178, 'socksoo': 14179, 'nemo': 14180, 'creppy': 14181, 'uniteddogscom': 14182, 'poppy': 14183, 'automobiles': 14184, 'juan': 14185, 'pelota': 14186, 'hillsdoctors': 14187, 'afternoons': 14188, 'sol': 14189, 'withdraws': 14190, 'christmasim': 14191, 'chiel': 14192, 'fuse': 14193, 'jewelry': 14194, 'bonfires': 14195, 'jameson': 14196, 'christopher': 14197, 'prince': 14198, 'hindustan': 14199, 'dunia': 14200, 'mein': 14201, 'asay': 14202, 'koi': 14203, 'nehi': 14204, 'milegi': 14205, 'disappearing': 14206, 'plethora': 14207, 'wowzer': 14208, 'mash': 14209, 'shatterd': 14210, 'schol': 14211, 'pwg': 14212, 'botched': 14213, 'hybrid': 14214, 'dolphin': 14215, 'xl': 14216, 'mrw': 14217, 'laughtner': 14218, 'gomez': 14219, 'mag': 14220, 'renowned': 14221, 'paws': 14222, 'chop': 14223, 'menagerie': 14224, 'rangers': 14225, 'croissant': 14226, 'un': 14227, 'pleeeeease': 14228, 'allison': 14229, 'iraheta': 14230, 'sling': 14231, 'whatev': 14232, 'har': 14233, 'vondt': 14234, 'ryggen': 14235, 'disgust': 14236, 'everrrr': 14237, 'afternooon': 14238, 'sardonic': 14239, 'elope': 14240, 'fuck': 14241, 'uhm': 14242, 'sounded': 14243, 'johns': 14244, 'showsyou': 14245, 'saymy': 14246, 'boredddd': 14247, 'kos': 14248, 'jules': 14249, 'lahore': 14250, 'targets': 14251, 'tikka': 14252, 'hairstyles': 14253, 'lolwat': 14254, 'atlantic': 14255, 'cotton': 14256, 'nigeria': 14257, 'gerbino': 14258, 'forcing': 14259, 'mockups': 14260, 'grrfatboy': 14261, 'edc': 14262, 'lineup': 14263, 'adapted': 14264, 'tote': 14265, 'hypnosis': 14266, 'bloodypoet': 14267, 'rotate': 14268, 'worm': 14269, 'wormie': 14270, 'aila': 14271, 'cyclone': 14272, 'calcutta': 14273, 'sunshade': 14274, 'branch': 14275, 'yorks': 14276, 'lancs': 14277, 'yorkshire': 14278, 'colors': 14279, 'sickhe': 14280, 'trauma': 14281, 'mahn': 14282, 'haircutmight': 14283, 'sweepstakes': 14284, 'toobastards': 14285, 'restaurantwhere': 14286, 'goosebumps': 14287, 'believer': 14288, 'standstill': 14289, 'twttrg': 14290, 'atrocious': 14291, 'brats': 14292, 'youuuuuuuuuuu': 14293, 'mshs': 14294, 'hust': 14295, 'plucked': 14296, 'holdin': 14297, 'kales': 14298, 'forehead': 14299, 'slices': 14300, 'sweetpea': 14301, 'gfx': 14302, 'suspend': 14303, 'mem': 14304, 'leaks': 14305, 'bookcalled': 14306, 'blogged': 14307, 'franz': 14308, 'friended': 14309, 'sommat': 14310, 'awestruck': 14311, 'katherine': 14312, 'chicagoand': 14313, 'eastern': 14314, 'auditions': 14315, 'bonzo': 14316, 'cower': 14317, 'comply': 14318, 'phoebes': 14319, 'twiddling': 14320, 'vocab': 14321, 'dint': 14322, 'dumped': 14323, 'blamed': 14324, 'oldest': 14325, 'spencer': 14326, 'doubly': 14327, 'ouuchh': 14328, 'societe': 14329, 'generale': 14330, 'sayid': 14331, 'novos': 14332, 'timo': 14333, 'ticon': 14334, 'ul': 14335, 'pari': 14336, 'neb': 14337, 'buckhead': 14338, 'shorter': 14339, 'welcomeanytime': 14340, 'switches': 14341, 'huaaaaa': 14342, 'sweetiepie': 14343, 'weekendto': 14344, 'weekendthat': 14345, 'yeayyy': 14346, 'colton': 14347, 'monthwowi': 14348, 'todayyyyyyyyy': 14349, 'profiel': 14350, 'viewed': 14351, 'jole': 14352, 'erwin': 14353, 'blom': 14354, 'goona': 14355, 'leo': 14356, 'nomintated': 14357, 'diva': 14358, 'breezy': 14359, 'drunkbowling': 14360, 'muses': 14361, 'institute': 14362, 'doctoral': 14363, 'funding': 14364, 'finalizer': 14365, 'grisham': 14366, 'chavs': 14367, 'tattered': 14368, 'fallen': 14369, 'shikari': 14370, 'jennys': 14371, 'investigating': 14372, 'manderin': 14373, 'insteadi': 14374, 'lameness': 14375, 'sunbut': 14376, 'tyga': 14377, 'deleon': 14378, 'tifanny': 14379, 'blews': 14380, 'goodbyez': 14381, 'innocence': 14382, 'nana': 14383, 'kickbutt': 14384, 'huwwts': 14385, 'fuckyoumonday': 14386, 'ascari': 14387, 'yoooooooou': 14388, 'beardburk': 14389, 'buckling': 14390, 'inanity': 14391, 'functional': 14392, 'farolito': 14393, 'various': 14394, 'dollies': 14395, 'bingley': 14396, 'practisetheproposal': 14397, 'endearing': 14398, 'thisare': 14399, 'frowns': 14400, 'braggin': 14401, 'deforestationso': 14402, 'youlol': 14403, 'gooodmorning': 14404, 'carpets': 14405, 'athough': 14406, 'onstage': 14407, 'butlins': 14408, 'flipflops': 14409, 'usf': 14410, 'koret': 14411, 'rimt': 14412, 'bris': 14413, 'statements': 14414, 'bebeisis': 14415, 'chanve': 14416, 'elisabeth': 14417, 'nonintrusive': 14418, 'keygens': 14419, 'assuming': 14420, 'blogrelated': 14421, 'zoey': 14422, 'readyyy': 14423, 'summerr': 14424, 'babyyyy': 14425, 'brera': 14426, 'headahce': 14427, 'wut': 14428, 'devy': 14429, 'frozen': 14430, 'marnier': 14431, 'souffle': 14432, 'bisquick': 14433, 'deland': 14434, 'thassa': 14435, 'reutimann': 14436, 'leading': 14437, 'potted': 14438, 'geraniums': 14439, 'grandkids': 14440, 'hawthorne': 14441, 'seriouslyi': 14442, 'rdany': 14443, 'brodys': 14444, 'joker': 14445, 'exclusive': 14446, 'cheeeks': 14447, 'neutrality': 14448, 'cera': 14449, 'graces': 14450, 'funzen': 14451, 'todayhappy': 14452, 'sleeprestless': 14453, 'nefuew': 14454, 'bedd': 14455, 'throwbie': 14456, 'publish': 14457, 'krystle': 14458, 'catfights': 14459, 'unbelievable': 14460, 'appartement': 14461, 'sicklike': 14462, 'marcos': 14463, 'restget': 14464, 'missd': 14465, 'otha': 14466, 'falkland': 14467, 'mtbcut': 14468, 'tadi': 14469, 'eli': 14470, 'pricked': 14471, 'presten': 14472, 'bsd': 14473, 'garageband': 14474, 'bedsorta': 14475, 'angelina': 14476, 'liquid': 14477, 'desperatethat': 14478, 'rubber': 14479, 'themso': 14480, 'amazeeeeeee': 14481, 'yayyy': 14482, 'lololi': 14483, 'holdem': 14484, 'command': 14485, 'cornbread': 14486, 'falls': 14487, 'retry': 14488, 'allyson': 14489, 'lnger': 14490, 'bores': 14491, 'minna': 14492, 'sp': 14493, 'pider': 14494, 'pade': 14495, 'spotty': 14496, 'spots': 14497, 'dontthey': 14498, 'moooooooooooooooo': 14499, 'problemfree': 14500, 'gamefan': 14501, 'moes': 14502, 'spicy': 14503, 'dove': 14504, 'presenta': 14505, 'webcams': 14506, 'hoepfner': 14507, 'burgfest': 14508, 'karlsruhe': 14509, 'booooooooo': 14510, 'skater': 14511, 'ofhot': 14512, 'catherine': 14513, 'tnx': 14514, 'weddings': 14515, 'raphael': 14516, 'saadiq': 14517, 'conjunctivitis': 14518, 'thislol': 14519, 'thankies': 14520, 'yetbut': 14521, 'moff': 14522, 'satdee': 14523, 'hairball': 14524, 'swaying': 14525, 'pav': 14526, 'bhaaji': 14527, 'finely': 14528, 'celtic': 14529, 'lads': 14530, 'alissa': 14531, 'taekwando': 14532, 'myst': 14533, 'texangirl': 14534, 'cheque': 14535, 'movieloved': 14536, 'broccoli': 14537, 'hunger': 14538, 'hiyaa': 14539, 'xxxxxxxx': 14540, 'wac': 14541, 'reallyy': 14542, 'gahif': 14543, 'cowering': 14544, 'cadburys': 14545, 'liverpools': 14546, 'museums': 14547, 'minimize': 14548, 'jg': 14549, 'veo': 14550, 'ahasta': 14551, 'lunes': 14552, 'grilled': 14553, 'broccolli': 14554, 'veggies': 14555, 'voiceover': 14556, 'druidry': 14557, 'internets': 14558, 'thurstag': 14559, 'wantit': 14560, 'championing': 14561, 'activex': 14562, 'limo': 14563, 'macdonalds': 14564, 'sender': 14565, 'touchin': 14566, 'aapko': 14567, 'sehat': 14568, 'torino': 14569, 'longhaul': 14570, 'oouuchgood': 14571, 'yogaing': 14572, 'jumbo': 14573, 'wintour': 14574, 'mock': 14575, 'mactastic': 14576, 'mysterious': 14577, 'fixins': 14578, 'conf': 14579, 'liesliesliesyou': 14580, 'practicallyeverything': 14581, 'disapointing': 14582, 'augh': 14583, 'weho': 14584, 'boytoy': 14585, 'creased': 14586, 'nikes': 14587, 'justcause': 14588, 'pmdoesnt': 14589, 'weeven': 14590, 'wingood': 14591, 'tassie': 14592, 'wahahaha': 14593, 'fob': 14594, 'frineds': 14595, 'imposible': 14596, 'amar': 14597, 'wifiyou': 14598, 'eeet': 14599, 'hawain': 14600, 'wellllll': 14601, 'nighttried': 14602, 'cdcaves': 14603, 'hilariously': 14604, 'massacre': 14605, 'yogg': 14606, 'lasting': 14607, 'hazin': 14608, 'notorious': 14609, 'harrump': 14610, 'gagging': 14611, 'kitchenfire': 14612, 'shins': 14613, 'biatch': 14614, 'flea': 14615, 'lilime': 14616, 'goodtimes': 14617, 'kona': 14618, 'triathlon': 14619, 'secure': 14620, 'friendtwitter': 14621, 'selalu': 14622, 'ruang': 14623, 'untuk': 14624, 'sahabat': 14625, 'bugsssss': 14626, 'unfollowingnot': 14627, 'lovesnkotb': 14628, 'yupas': 14629, 'alwayswonder': 14630, 'earthgetting': 14631, 'mcds': 14632, 'hader': 14633, 'toyno': 14634, 'chickfila': 14635, 'lovelet': 14636, 'daysssssss': 14637, 'yahoooo': 14638, 'ftl': 14639, 'gawd': 14640, 'itch': 14641, 'volcano': 14642, 'ito': 14643, 'quihote': 14644, 'feria': 14645, 'urbana': 14646, 'lasercut': 14647, 'agessss': 14648, 'shopdoesnt': 14649, 'ealing': 14650, 'puppyyy': 14651, 'calledyepback': 14652, 'sheyagainrd': 14653, 'timeee': 14654, 'workshop': 14655, 'niqhty': 14656, 'toqether': 14657, 'pitty': 14658, 'upsidedown': 14659, 'callstxtfb': 14660, 'worriedi': 14661, 'muchbut': 14662, 'thatburger': 14663, 'folio': 14664, 'caaaaant': 14665, 'sleepits': 14666, 'wahhhh': 14667, 'whatcha': 14668, 'existes': 14669, 'cokies': 14670, 'arnt': 14671, 'mmmmmmmmmmmm': 14672, 'laterhope': 14673, 'bait': 14674, 'moderately': 14675, 'lactoseintolerant': 14676, 'dez': 14677, 'moines': 14678, 'tdwp': 14679, 'godown': 14680, 'fungus': 14681, 'ochh': 14682, 'supose': 14683, 'thaught': 14684, 'pres': 14685, 'vitamins': 14686, 'freshly': 14687, 'threatened': 14688, 'surveillance': 14689, 'increases': 14690, 'coool': 14691, 'viennaaustria': 14692, 'certian': 14693, 'source': 14694, 'nowww': 14695, 'grrrrrrr': 14696, 'celebration': 14697, 'anothe': 14698, 'chickie': 14699, 'mufasa': 14700, 'warriors': 14701, 'hahahahahaha': 14702, 'reworded': 14703, 'insteada': 14704, 'snappy': 14705, 'songd': 14706, 'relient': 14707, 'songsi': 14708, 'doable': 14709, 'derbyshire': 14710, 'buxton': 14711, 'prechilled': 14712, 'cryy': 14713, 'cuzs': 14714, 'pushin': 14715, 'graduationsorry': 14716, 'smash': 14717, 'emailmailing': 14718, 'tireddd': 14719, 'yummiest': 14720, 'ipoh': 14721, 'wattching': 14722, 'channelrubbish': 14723, 'rubbishhhhhh': 14724, 'viz': 14725, 'omgness': 14726, 'beup': 14727, 'cigarettes': 14728, 'wondefl': 14729, 'michaelblessings': 14730, 'oregan': 14731, 'pshdidnt': 14732, 'joshua': 14733, 'spazz': 14734, 'rightlol': 14735, 'sainthood': 14736, 'winwin': 14737, 'reschedule': 14738, 'disspointed': 14739, 'advertising': 14740, 'lifehackers': 14741, 'mamamama': 14742, 'mccoys': 14743, 'initial': 14744, 'glacier': 14745, 'ecxept': 14746, 'decembbberrrrrrrr': 14747, 'stilll': 14748, 'anywho': 14749, 'carnivalsofparis': 14750, 'spyed': 14751, 'listented': 14752, 'deceiving': 14753, 'pffftt': 14754, 'soberdang': 14755, 'int': 14756, 'shifting': 14757, 'biiig': 14758, 'cert': 14759, 'infectionman': 14760, 'oneill': 14761, 'compaq': 14762, 'toodle': 14763, 'pip': 14764, 'eassy': 14765, 'montmel': 14766, 'flolloping': 14767, 'describes': 14768, 'recognition': 14769, 'workwise': 14770, 'sessions': 14771, 'ronnie': 14772, 'pickkshaa': 14773, 'milky': 14774, 'ssshhh': 14775, 'disturb': 14776, 'beeeeeddddddd': 14777, 'trinity': 14778, 'agustin': 14779, 'dowant': 14780, 'df': 14781, 'liesgirlstell': 14782, 'resigned': 14783, 'whyyyyy': 14784, 'merm': 14785, 'sappy': 14786, 'legally': 14787, 'stained': 14788, 'underworld': 14789, 'sayperfect': 14790, 'loaned': 14791, 'aerobars': 14792, 'alkek': 14793, 'chexquest': 14794, 'sins': 14795, 'patsy': 14796, 'booksold': 14797, 'plugs': 14798, 'forreal': 14799, 'melbournefor': 14800, 'originally': 14801, 'honeysee': 14802, 'barakitten': 14803, 'ilycecily': 14804, 'semiflaky': 14805, 'vrbocom': 14806, 'procrastination': 14807, 'assumption': 14808, 'rik': 14809, 'heidiv': 14810, 'outline': 14811, 'develop': 14812, 'ensure': 14813, 'deliver': 14814, 'greatness': 14815, 'bottislive': 14816, 'treeeeek': 14817, 'hospitol': 14818, 'tourny': 14819, 'reripped': 14820, 'censoring': 14821, 'nincom': 14822, 'speculate': 14823, 'disagree': 14824, 'uniform': 14825, 'guides': 14826, 'register': 14827, 'naptime': 14828, 'poltergeist': 14829, 'tylerhappy': 14830, 'londons': 14831, 'mammyy': 14832, 'southkorean': 14833, 'dips': 14834, 'sakatas': 14835, 'tide': 14836, 'prewedding': 14837, 'ceviche': 14838, 'bellinis': 14839, 'unhook': 14840, 'cronies': 14841, 'accidentely': 14842, 'sistas': 14843, 'wilmy': 14844, 'sisa': 14845, 'whitney': 14846, 'tart': 14847, 'pudding': 14848, 'hurtful': 14849, 'maker': 14850, 'makerfaire': 14851, 'yani': 14852, 'peek': 14853, 'unhooking': 14854, 'atx': 14855, 'polite': 14856, 'rel': 14857, 'soc': 14858, 'flashlight': 14859, 'viper': 14860, 'attendance': 14861, 'wrestlers': 14862, 'tna': 14863, 'clowns': 14864, 'signings': 14865, 'bareillescan': 14866, 'soooolets': 14867, 'riverside': 14868, 'miming': 14869, 'amgot': 14870, 'caliber': 14871, 'symphonycms': 14872, 'hoisin': 14873, 'gelato': 14874, 'edmund': 14875, 'darnitt': 14876, 'ffk': 14877, 'awwhwell': 14878, 'astri': 14879, 'ntn': 14880, 'bbf': 14881, 'juga': 14882, 'hihi': 14883, 'sukanya': 14884, 'jun': 14885, 'pyo': 14886, 'tables': 14887, 'garland': 14888, 'yehits': 14889, 'lupus': 14890, 'thro': 14891, 'blogtalkradio': 14892, 'thereby': 14893, 'hotshot': 14894, 'neemah': 14895, 'thirdchapter': 14896, 'virge': 14897, 'entries': 14898, 'straightened': 14899, 'layers': 14900, 'intruder': 14901, 'saidplease': 14902, 'handsi': 14903, 'tiehahaha': 14904, 'initials': 14905, 'jewnew': 14906, 'stressing': 14907, 'wbc': 14908, 'counterprotests': 14909, 'waterfire': 14910, 'okayso': 14911, 'nowsend': 14912, 'sns': 14913, 'uthx': 14914, 'nnnnoooooo': 14915, 'relive': 14916, 'closedfaz': 14917, 'canal': 14918, 'spay': 14919, 'motto': 14920, 'wath': 14921, 'twitterfails': 14922, 'nowthis': 14923, 'regina': 14924, 'deux': 14925, 'shouldhave': 14926, 'marlees': 14927, 'toeat': 14928, 'kahuna': 14929, 'ranger': 14930, 'peeks': 14931, 'rocketslakers': 14932, 'gerald': 14933, 'succeed': 14934, 'declined': 14935, 'carnival': 14936, 'wyour': 14937, 'giddy': 14938, 'beeen': 14939, 'comeeee': 14940, 'shannii': 14941, 'stringer': 14942, 'gocincinnati': 14943, 'nicley': 14944, 'underage': 14945, 'gin': 14946, 'keggers': 14947, 'kpopped': 14948, 'trudged': 14949, 'anathem': 14950, 'pgits': 14951, 'masthanks': 14952, 'trillin': 14953, 'fest': 14954, 'hobnobbed': 14955, 'mwean': 14956, 'generous': 14957, 'sexxxxxxxy': 14958, 'larry': 14959, 'hahahahahahahahahah': 14960, 'tickled': 14961, 'josa': 14962, 'slowdown': 14963, 'fuccin': 14964, 'blocc': 14965, 'honking': 14966, 'uneventful': 14967, 'bof': 14968, 'juno': 14969, 'polaroid': 14970, 'bowie': 14971, 'alyanna': 14972, 'bondoc': 14973, 'cesar': 14974, 'sosa': 14975, 'hollyoakspoor': 14976, 'gilbert': 14977, 'sullivan': 14978, 'sundayyyy': 14979, 'sweaters': 14980, 'milestone': 14981, 'truce': 14982, 'precise': 14983, 'awesomespock': 14984, 'hillarious': 14985, 'northpark': 14986, 'malli': 14987, 'ughhreally': 14988, 'giveim': 14989, 'mono': 14990, 'omglistening': 14991, 'errg': 14992, 'battlestar': 14993, 'galactica': 14994, 'guapisimo': 14995, 'chico': 14996, 'likelike': 14997, 'nsty': 14998, 'hint': 14999, 'marky': 15000, 'tammy': 15001, 'predicting': 15002, 'heavyweight': 15003, 'crosses': 15004, 'subliminal': 15005, 'jeebus': 15006, 'feliz': 15007, 'delas': 15008, 'mols': 15009, 'worksick': 15010, 'bone': 15011, 'warmly': 15012, 'gdnight': 15013, 'otay': 15014, 'goneso': 15015, 'ohnoyoudidnt': 15016, 'systemwide': 15017, 'spellchecker': 15018, 'suite': 15019, 'unhelpful': 15020, 'rocksnothing': 15021, 'juliet': 15022, 'shakeyyyy': 15023, 'schooliooo': 15024, 'nowcalifornia': 15025, 'civilizati': 15026, 'celebxxxvidsyh': 15027, 'aybygw': 15028, 'fwendsso': 15029, 'repliesfollow': 15030, 'hmmthat': 15031, 'cubbies': 15032, 'raiding': 15033, 'rene': 15034, 'psycho': 15035, 'livebox': 15036, 'cheerios': 15037, 'scones': 15038, 'toke': 15039, 'stephane': 15040, 'hoilday': 15041, 'lotchecktester': 15042, 'hoffentlich': 15043, 'wirds': 15044, 'stelle': 15045, 'wesely': 15046, 'rescuers': 15047, 'dru': 15048, 'mickey': 15049, 'faking': 15050, 'hahahai': 15051, 'yourock': 15052, 'coldso': 15053, 'cusack': 15054, 'boreddisgusting': 15055, 'weatherboredsooo': 15056, 'whisperer': 15057, 'moneyy': 15058, 'determines': 15059, 'proctors': 15060, 'manmy': 15061, 'hourso': 15062, 'cherris': 15063, 'musashis': 15064, 'rep': 15065, 'kitaro': 15066, 'lotion': 15067, 'afaik': 15068, 'croccos': 15069, 'salsa': 15070, 'bummerienjoyed': 15071, 'beef': 15072, 'sauteed': 15073, 'mushrooms': 15074, 'wheat': 15075, 'enna': 15076, 'kodumai': 15077, 'idhu': 15078, 'pythonkingsnl': 15079, 'presented': 15080, 'howard': 15081, 'preclark': 15082, 'prepre': 15083, 'haylee': 15084, 'milkshakeshakeshakeshake': 15085, 'datetoday': 15086, 'grandmothermiss': 15087, 'mane': 15088, 'pol': 15089, 'udd': 15090, 'romantici': 15091, 'timeand': 15092, 'daleks': 15093, 'dw': 15094, 'exhibition': 15095, 'cardiff': 15096, 'layne': 15097, 'whaaay': 15098, 'tolddd': 15099, 'thot': 15100, 'aerosmith': 15101, 'sheffield': 15102, 'hotspots': 15103, 'shoppin': 15104, 'dayweek': 15105, 'teacherim': 15106, 'overdue': 15107, 'preachery': 15108, 'firmware': 15109, 'lautnerdaily': 15110, 'tassi': 15111, 'dmed': 15112, 'happymothersday': 15113, 'nl': 15114, 'honeypot': 15115, 'fckeditor': 15116, 'edits': 15117, 'valencias': 15118, 'gridiron': 15119, 'watering': 15120, 'jamba': 15121, 'exploded': 15122, 'surrey': 15123, 'nippy': 15124, 'willnot': 15125, 'soi': 15126, 'estate': 15127, 'geared': 15128, 'yn': 15129, 'bloated': 15130, 'mam': 15131, 'mingin': 15132, 'burger': 15133, 'overrr': 15134, 'yikeysss': 15135, 'pamela': 15136, 'esque': 15137, 'ferns': 15138, 'petals': 15139, 'fnpin': 15140, 'insidemust': 15141, 'funwish': 15142, 'bitbetter': 15143, 'facepalm': 15144, 'morningblahhh': 15145, 'wellgoing': 15146, 'oll': 15147, 'applebees': 15148, 'ssug': 15149, 'penance': 15150, 'joss': 15151, 'dismissed': 15152, 'galbladia': 15153, 'scarededededed': 15154, 'consists': 15155, 'ofhayley': 15156, 'williamsjosh': 15157, 'farrozac': 15158, 'farrojeremy': 15159, 'alphabet': 15160, 'suffication': 15161, 'breathing': 15162, 'jinx': 15163, 'realnash': 15164, 'honorary': 15165, 'cellstorms': 15166, 'leftthe': 15167, 'separates': 15168, 'robber': 15169, 'amateur': 15170, 'jaoo': 15171, 'hyped': 15172, 'pmagain': 15173, 'charese': 15174, 'meow': 15175, 'congrads': 15176, 'engagementbridal': 15177, 'arrangements': 15178, 'agoi': 15179, 'dyer': 15180, 'ceremonygloomy': 15181, 'bui': 15182, 'grants': 15183, 'fees': 15184, 'tritonlink': 15185, 'tantalizingly': 15186, 'communism': 15187, 'communist': 15188, 'todayhmmphh': 15189, 'zoita': 15190, 'holeintheheart': 15191, 'mot': 15192, 'tol': 15193, 'shred': 15194, 'ohnoes': 15195, 'eventho': 15196, 'defective': 15197, 'thaty': 15198, 'fij': 15199, 'probable': 15200, 'tearing': 15201, 'whoooooo': 15202, 'spcn': 15203, 'richelle': 15204, 'succubus': 15205, 'bluesfabulous': 15206, 'blowout': 15207, 'thong': 15208, 'twiggies': 15209, 'beneath': 15210, 'cornerstone': 15211, 'goign': 15212, 'putt': 15213, 'yards': 15214, 'colossus': 15215, 'lp': 15216, 'scofiled': 15217, 'beards': 15218, 'manness': 15219, 'asylm': 15220, 'goooosh': 15221, 'subscription': 15222, 'incredily': 15223, 'throwingkeeps': 15224, 'eying': 15225, 'ofim': 15226, 'boyhubby': 15227, 'vw': 15228, 'tomarrowbecause': 15229, 'foreword': 15230, 'youplease': 15231, 'fearme': 15232, 'samee': 15233, 'maxium': 15234, 'alejandra': 15235, 'maxi': 15236, 'satisfy': 15237, 'youmiss': 15238, 'redeem': 15239, 'flame': 15240, 'twiits': 15241, 'pinkapple': 15242, 'knox': 15243, 'delightful': 15244, 'desribe': 15245, 'nightneed': 15246, 'shiraz': 15247, 'antibahai': 15248, 'centernot': 15249, 'mosque': 15250, 'election': 15251, 'campaignsadly': 15252, 'wr': 15253, 'zahedan': 15254, 'yays': 15255, 'azz': 15256, 'buddhist': 15257, 'jews': 15258, 'frequent': 15259, 'wednesay': 15260, 'improv': 15261, 'gotham': 15262, 'comicsthen': 15263, 'nonwww': 15264, 'funnyu': 15265, 'assfuck': 15266, 'trough': 15267, 'cholesterol': 15268, 'cheerful': 15269, 'lata': 15270, 'yelling': 15271, 'skipped': 15272, 'reallizing': 15273, 'racin': 15274, 'gap': 15275, 'mommasss': 15276, 'posse': 15277, 'vacant': 15278, 'dynamic': 15279, 'herniated': 15280, 'airports': 15281, 'altered': 15282, 'motherss': 15283, 'lunchhmph': 15284, 'daysbut': 15285, 'twiligghhttt': 15286, 'sukked': 15287, 'maroon': 15288, 'bottled': 15289, 'shuuut': 15290, 'sensible': 15291, 'heston': 15292, 'bleumenthal': 15293, 'maamwow': 15294, 'eesh': 15295, 'detention': 15296, 'mommiewhat': 15297, 'mornig': 15298, 'everone': 15299, 'allahpundit': 15300, 'spooky': 15301, 'commiseration': 15302, 'moses': 15303, 'torontos': 15304, 'younge': 15305, 'mesmerizing': 15306, 'yezzzir': 15307, 'thenhows': 15308, 'todaybeing': 15309, 'hopelol': 15310, 'flood': 15311, 'rated': 15312, 'raggy': 15313, 'doucheeee': 15314, 'amorsote': 15315, 'purdy': 15316, 'summat': 15317, 'preggo': 15318, 'trolley': 15319, 'mckinney': 15320, 'actially': 15321, 'yesall': 15322, 'cornwall': 15323, 'shuffles': 15324, 'cinerama': 15325, 'gila': 15326, 'milan': 15327, 'dillematic': 15328, 'speciali': 15329, 'cons': 15330, 'suv': 15331, 'horribly': 15332, 'stuffy': 15333, 'sudafed': 15334, 'twitteeeerrr': 15335, 'babiieshow': 15336, 'thng': 15337, 'offerred': 15338, 'gleneagles': 15339, 'champagne': 15340, 'receptionscant': 15341, 'ricky': 15342, 'cld': 15343, 'softer': 15344, 'unopened': 15345, 'nesscaf': 15346, 'cupboard': 15347, 'travellers': 15348, 'tales': 15349, 'sep': 15350, 'pearlyns': 15351, 'grans': 15352, 'svc': 15353, 'puzzle': 15354, 'paracetamol': 15355, 'marisa': 15356, 'mauro': 15357, 'arseholes': 15358, 'jackes': 15359, 'movieing': 15360, 'anew': 15361, 'situational': 15362, 'trish': 15363, 'pointless': 15364, 'nan': 15365, 'kawawas': 15366, 'twitskies': 15367, 'sleeeeeeep': 15368, 'goonight': 15369, 'wrangler': 15370, 'ware': 15371, 'xm': 15372, 'mhz': 15373, 'iop': 15374, 'hpt': 15375, 'adaptec': 15376, 'relatives': 15377, 'unsure': 15378, 'wheels': 15379, 'peddling': 15380, 'sizes': 15381, 'assortment': 15382, 'outofmycontrol': 15383, 'bouquets': 15384, 'arranged': 15385, 'momz': 15386, 'jkwish': 15387, 'evenlyn': 15388, 'tomora': 15389, 'gson': 15390, 'roasted': 15391, 'sardines': 15392, 'whaa': 15393, 'filmtv': 15394, 'wmids': 15395, 'appreciateduni': 15396, 'choked': 15397, 'retainers': 15398, 'hmv': 15399, 'overpriced': 15400, 'savechuck': 15401, 'ghhh': 15402, 'thehannabeth': 15403, 'abandonment': 15404, 'tecas': 15405, 'outzen': 15406, 'clorox': 15407, 'shag': 15408, 'melody': 15409, 'raspberry': 15410, 'ripple': 15411, 'leavealec': 15412, 'volterra': 15413, 'dobro': 15414, 'kp': 15415, 'eq': 15416, 'caltrain': 15417, 'christians': 15418, 'rode': 15419, 'jeep': 15420, 'finearts': 15421, 'jered': 15422, 'briliant': 15423, 'ticks': 15424, 'sn': 15425, 'resistant': 15426, 'beachyummy': 15427, 'manlovely': 15428, 'havs': 15429, 'booooored': 15430, 'weeeee': 15431, 'stragglers': 15432, 'exists': 15433, 'fizz': 15434, 'fired': 15435, 'shoulders': 15436, 'takeout': 15437, 'vodka': 15438, 'ale': 15439, 'oooooooh': 15440, 'eeeeeeekkkkkkk': 15441, 'ellipital': 15442, 'eastcoast': 15443, 'exploring': 15444, 'samsung': 15445, 'omnia': 15446, 'farmers': 15447, 'militant': 15448, 'modeam': 15449, 'competitonso': 15450, 'tb': 15451, 'alrightyou': 15452, 'borriing': 15453, 'alternating': 15454, 'playoffs': 15455, 'boredmiss': 15456, 'hahahahhahaha': 15457, 'rems': 15458, 'avis': 15459, 'receipt': 15460, 'hereditary': 15461, 'gooooooood': 15462, 'campers': 15463, 'overture': 15464, 'underscore': 15465, 'rowing': 15466, 'selfridges': 15467, 'yesssss': 15468, 'exctied': 15469, 'cairns': 15470, 'clan': 15471, 'evenings': 15472, 'significant': 15473, 'trendy': 15474, 'renouncing': 15475, 'reflecti': 15476, 'annonymity': 15477, 'backfb': 15478, 'miracle': 15479, 'drained': 15480, 'lovesick': 15481, 'trueee': 15482, 'straighten': 15483, 'statk': 15484, 'suckits': 15485, 'answear': 15486, 'burden': 15487, 'ofhorrible': 15488, 'geodefense': 15489, 'maps': 15490, 'exploration': 15491, 'janette': 15492, 'myspacee': 15493, 'montanai': 15494, 'dats': 15495, 'yuu': 15496, 'matte': 15497, 'lcd': 15498, 'inix': 15499, 'elmo': 15500, 'navarro': 15501, 'han': 15502, 'keiron': 15503, 'hehenice': 15504, 'endorsed': 15505, 'twindexxcom': 15506, 'wacha': 15507, 'snoopy': 15508, 'arcadia': 15509, 'payroll': 15510, 'darealest': 15511, 'qet': 15512, 'drankin': 15513, 'charmingly': 15514, 'moondog': 15515, 'twitterbugsnothing': 15516, 'loooooooooong': 15517, 'liein': 15518, 'cordon': 15519, 'split': 15520, 'naz': 15521, 'yesterdayim': 15522, 'resemble': 15523, 'bekah': 15524, 'irate': 15525, 'callers': 15526, 'ped': 15527, 'fuckkk': 15528, 'measels': 15529, 'leatherman': 15530, 'fonz': 15531, 'skate': 15532, 'casablanca': 15533, 'sweats': 15534, 'soready': 15535, 'tonightfox': 15536, 'eastenders': 15537, 'semi': 15538, 'formulas': 15539, 'redhead': 15540, 'gingers': 15541, 'locate': 15542, 'drain': 15543, 'functionsnahh': 15544, 'hennings': 15545, 'ligaments': 15546, 'mailed': 15547, 'hateee': 15548, 'todayyyyyy': 15549, 'playerstationit': 15550, 'accelerated': 15551, 'atom': 15552, 'fullscreen': 15553, 'plex': 15554, 'kelsenator': 15555, 'swifts': 15556, 'mv': 15557, 'illys': 15558, 'payments': 15559, 'pasy': 15560, 'raving': 15561, 'beautifulness': 15562, 'skit': 15563, 'alarmsong': 15564, 'collegue': 15565, 'banking': 15566, 'panicky': 15567, 'buble': 15568, 'exception': 15569, 'sass': 15570, 'scenie': 15571, 'volunteer': 15572, 'dealsyou': 15573, 'conspiracy': 15574, 'remembers': 15575, 'loopy': 15576, 'monthsnot': 15577, 'awesomness': 15578, 'geeta': 15579, 'cockney': 15580, 'heavenly': 15581, 'chapman': 15582, 'overloaded': 15583, 'luc': 15584, 'bourdon': 15585, 'pixabt': 15586, 'ubut': 15587, 'shaved': 15588, 'ishi': 15589, 'aquarius': 15590, 'aussieim': 15591, 'cancelling': 15592, 'javaone': 15593, 'stephmust': 15594, 'toddler': 15595, 'ointment': 15596, 'commando': 15597, 'chanting': 15598, 'inxs': 15599, 'ommegang': 15600, 'metallic': 15601, 'inav': 15602, 'iblue': 15603, 'themegives': 15604, 'jets': 15605, 'ida': 15606, 'egan': 15607, 'ventana': 15608, 'los': 15609, 'cielos': 15610, 'bck': 15611, 'failedhaving': 15612, 'withdrawals': 15613, 'mommaz': 15614, 'lovinheaded': 15615, 'ecommerce': 15616, 'jerms': 15617, 'lastnightthey': 15618, 'meanie': 15619, 'vacashunand': 15620, 'updatei': 15621, 'onscreen': 15622, 'kateage': 15623, 'weekthen': 15624, 'tomos': 15625, 'authenticating': 15626, 'annivarsary': 15627, 'hansons': 15628, 'gladi': 15629, 'smoothy': 15630, 'baulko': 15631, 'scheuring': 15632, 'levels': 15633, 'funnily': 15634, 'roland': 15635, 'lvl': 15636, 'rwitters': 15637, 'pranks': 15638, 'rubadeau': 15639, 'refresh': 15640, 'majors': 15641, 'rejoice': 15642, 'slurpees': 15643, 'feds': 15644, 'hounding': 15645, 'dodged': 15646, 'feeders': 15647, 'robins': 15648, 'fridayi': 15649, 'recourse': 15650, 'atty': 15651, 'studieslaw': 15652, 'references': 15653, 'inolving': 15654, 'bias': 15655, 'juries': 15656, 'nullification': 15657, 'etsyseller': 15658, 'angrily': 15659, 'extemely': 15660, 'abusivementally': 15661, 'nightss': 15662, 'collect': 15663, 'poisonous': 15664, 'pellets': 15665, 'ritualistic': 15666, 'tooooth': 15667, 'wakin': 15668, 'selenas': 15669, 'belleville': 15670, 'orillia': 15671, 'geocachingcom': 15672, 'delivering': 15673, 'worldnow': 15674, 'wires': 15675, 'graph': 15676, 'ohhhhhh': 15677, 'thanksi': 15678, 'thatbesides': 15679, 'eirtaku': 15680, 'belief': 15681, 'pill': 15682, 'mediation': 15683, 'sweeter': 15684, 'uniten': 15685, 'luh': 15686, 'floridas': 15687, 'reluctantly': 15688, 'upgradedone': 15689, 'disabling': 15690, 'addons': 15691, 'sophies': 15692, 'saginaki': 15693, 'cesna': 15694, 'violent': 15695, 'fightclub': 15696, 'involving': 15697, 'heavily': 15698, 'bdate': 15699, 'oth': 15700, 'lmfaoooo': 15701, 'sho': 15702, 'fuckingtastic': 15703, 'mangaanime': 15704, 'familiarsorry': 15705, 'clubbers': 15706, 'smartphone': 15707, 'cabo': 15708, 'butteflies': 15709, 'ano': 15710, 'yun': 15711, 'yan': 15712, 'unsettled': 15713, 'journeys': 15714, 'thursdayyy': 15715, 'transit': 15716, 'boohoohoo': 15717, 'burgh': 15718, 'encouragementit': 15719, 'bottling': 15720, 'sanitized': 15721, 'oranges': 15722, 'rodney': 15723, 'atkins': 15724, 'concerti': 15725, 'referenced': 15726, 'assemblies': 15727, 'fnh': 15728, 'castle': 15729, 'caliburn': 15730, 'dynamicproxy': 15731, 'nh': 15732, 'aaaaw': 15733, 'tail': 15734, 'sergeants': 15735, 'beetches': 15736, 'anais': 15737, 'reeeally': 15738, 'inspiron': 15739, 'coreduo': 15740, 'ddr': 15741, 'hdd': 15742, 'outtie': 15743, 'funchal': 15744, 'magreally': 15745, 'kadi': 15746, 'practising': 15747, 'beautful': 15748, 'redbubble': 15749, 'naivety': 15750, 'butno': 15751, 'kenyattas': 15752, 'jihoon': 15753, 'awesomelove': 15754, 'gearwhos': 15755, 'favouritegot': 15756, 'longgggg': 15757, 'curlupinaballandread': 15758, 'emos': 15759, 'gentlemen': 15760, 'discussing': 15761, 'facehunter': 15762, 'representation': 15763, 'compare': 15764, 'sophmore': 15765, 'fifteen': 15766, 'goderich': 15767, 'pitts': 15768, 'judgement': 15769, 'steviewonder': 15770, 'yale': 15771, 'grades': 15772, 'arrggghhhdang': 15773, 'googs': 15774, 'iloveyoutwoooo': 15775, 'dreps': 15776, 'ashleycat': 15777, 'sharffenberger': 15778, 'ughhhhmad': 15779, 'timesi': 15780, 'thngs': 15781, 'stufppls': 15782, 'champ': 15783, 'nto': 15784, 'entonces': 15785, 'perdonada': 15786, 'porque': 15787, 'sigues': 15788, 'droped': 15789, 'tray': 15790, 'aaaw': 15791, 'hubbies': 15792, 'niteout': 15793, 'bulls': 15794, 'afterward': 15795, 'crazyyy': 15796, 'boringgg': 15797, 'dodd': 15798, 'novy': 15799, 'voodoo': 15800, 'traders': 15801, 'bayi': 15802, 'snob': 15803, 'tapping': 15804, 'imprinted': 15805, 'recepies': 15806, 'godda': 15807, 'insulted': 15808, 'charlene': 15809, 'iloveyoutoo': 15810, 'nottinghami': 15811, 'jass': 15812, 'wari': 15813, 'weinfest': 15814, 'boredboots': 15815, 'postpone': 15816, 'invitations': 15817, 'celebreting': 15818, 'fulfilling': 15819, 'bunking': 15820, 'prog': 15821, 'whoore': 15822, 'cologne': 15823, 'harding': 15824, 'pxy': 15825, 'bedpoor': 15826, 'korn': 15827, 'rocio': 15828, 'jljf': 15829, 'siiiick': 15830, 'paintballin': 15831, 'erased': 15832, 'toolbar': 15833, 'dale': 15834, 'storytotally': 15835, 'secondary': 15836, 'uhmygawddd': 15837, 'booths': 15838, 'epi': 15839, 'evie': 15840, 'unproductive': 15841, 'dolled': 15842, 'woth': 15843, 'cheesyness': 15844, 'morales': 15845, 'kardashians': 15846, 'wheew': 15847, 'outa': 15848, 'shouting': 15849, 'yeay': 15850, 'jiah': 15851, 'carefree': 15852, 'aloe': 15853, 'hints': 15854, 'againdarn': 15855, 'unfortunate': 15856, 'winding': 15857, 'chatroom': 15858, 'pissssssing': 15859, 'doso': 15860, 'thatss': 15861, 'fixes': 15862, 'ribbons': 15863, 'ashleigh': 15864, 'bens': 15865, 'everys': 15866, 'sophia': 15867, 'likelyy': 15868, 'hordies': 15869, 'euh': 15870, 'ldap': 15871, 'schema': 15872, 'ava': 15873, 'psalm': 15874, 'tightened': 15875, 'netball': 15876, 'tryouts': 15877, 'thght': 15878, 'workd': 15879, 'iu': 15880, 'winced': 15881, 'flatland': 15882, 'goodno': 15883, 'drmiracles': 15884, 'feelit': 15885, 'render': 15886, 'revit': 15887, 'autocad': 15888, 'loadsa': 15889, 'shizze': 15890, 'happend': 15891, 'jimmie': 15892, 'corey': 15893, 'dreadful': 15894, 'editting': 15895, 'vida': 15896, 'bakneed': 15897, 'hwi': 15898, 'goto': 15899, 'cops': 15900, 'swag': 15901, 'turkish': 15902, 'crazylike': 15903, 'webshots': 15904, 'scanner': 15905, 'tweetbud': 15906, 'flwrs': 15907, 'terrified': 15908, 'grimmy': 15909, 'carina': 15910, 'hugsjoy': 15911, 'glade': 15912, 'debian': 15913, 'nobodys': 15914, 'uuuu': 15915, 'spout': 15916, 'faceit': 15917, 'tam': 15918, 'tele': 15919, 'ittttt': 15920, 'nerdy': 15921, 'starhope': 15922, 'flawless': 15923, 'agoit': 15924, 'scarce': 15925, 'keri': 15926, 'hilson': 15927, 'dropper': 15928, 'imacs': 15929, 'sewed': 15930, 'vv': 15931, 'quesadilla': 15932, 'quesadiaas': 15933, 'bombbb': 15934, 'gorham': 15935, 'errri': 15936, 'idestroy': 15937, 'rygegrejdk': 15938, 'hmtm': 15939, 'remake': 15940, 'hollywoodjust': 15941, 'groundbreaking': 15942, 'oscc': 15943, 'mickeyds': 15944, 'eggmcmuffin': 15945, 'mcyum': 15946, 'stones': 15947, 'leavepriciness': 15948, 'panhandlers': 15949, 'newspaper': 15950, 'wstocktwits': 15951, 'clutter': 15952, 'twittersphere': 15953, 'sheets': 15954, 'endulging': 15955, 'creature': 15956, 'alfie': 15957, 'ehhehehe': 15958, 'bangin': 15959, 'atonement': 15960, 'gees': 15961, 'horriblenow': 15962, 'babyfather': 15963, 'gemstar': 15964, 'feelinq': 15965, 'huqe': 15966, 'pimple': 15967, 'riqht': 15968, 'dressing': 15969, 'ekin': 15970, 'mak': 15971, 'touchscreen': 15972, 'uninteresting': 15973, 'haahaaa': 15974, 'jellybeaniesss': 15975, 'socksys': 15976, 'plucky': 15977, 'caspars': 15978, 'arthritus': 15979, 'uphave': 15980, 'followerswonderful': 15981, 'darkest': 15982, 'iloveyoumoreeee': 15983, 'goooooooooooooooooooooooood': 15984, 'thankss': 15985, 'elleay': 15986, 'booya': 15987, 'dbar': 15988, 'timezzz': 15989, 'varieties': 15990, 'kawaii': 15991, 'cosplay': 15992, 'limping': 15993, 'summers': 15994, 'wander': 15995, 'hilda': 15996, 'gallares': 15997, 'kindred': 15998, 'anrshine': 15999, 'lonesome': 16000, 'slumdog': 16001, 'millionaire': 16002, 'bollywood': 16003, 'heartedly': 16004, 'beckiiex': 16005, 'cinemas': 16006, 'claratyne': 16007, 'mastermind': 16008, 'statesboro': 16009, 'coincidently': 16010, 'ancient': 16011, 'lovei': 16012, 'freddies': 16013, 'cotch': 16014, 'ladyhawke': 16015, 'bajan': 16016, 'ghm': 16017, 'bedim': 16018, 'cancled': 16019, 'beezy': 16020, 'twiiterlove': 16021, 'thermometer': 16022, 'oar': 16023, 'stockholm': 16024, 'solve': 16025, 'pleeeeeease': 16026, 'pleeeease': 16027, 'mozconcept': 16028, 'sicknot': 16029, 'bedthen': 16030, 'weekendtaking': 16031, 'spreei': 16032, 'stomatch': 16033, 'dramafest': 16034, 'crummy': 16035, 'daysmh': 16036, 'niterzzz': 16037, 'evry': 16038, 'twitterbugz': 16039, 'authority': 16040, 'vod': 16041, 'turtles': 16042, 'ajax': 16043, 'php': 16044, 'concept': 16045, 'autorefresh': 16046, 'chander': 16047, 'disconnects': 16048, 'smuggle': 16049, 'eternity': 16050, 'managing': 16051, 'nikkie': 16052, 'payne': 16053, 'teens': 16054, 'yen': 16055, 'uttered': 16056, 'ical': 16057, 'sososo': 16058, 'olivia': 16059, 'spins': 16060, 'rainingseatbelt': 16061, 'buckledthanks': 16062, 'bates': 16063, 'yaeh': 16064, 'homeit': 16065, 'suekd': 16066, 'incapable': 16067, 'felz': 16068, 'teensthanks': 16069, 'fff': 16070, 'leeuwarden': 16071, 'unsubscribe': 16072, 'dusted': 16073, 'vacuummy': 16074, 'smoky': 16075, 'kmart': 16076, 'locals': 16077, 'directions': 16078, 'sac': 16079, 'assemble': 16080, 'jrs': 16081, 'undeleted': 16082, 'squirrellist': 16083, 'sliver': 16084, 'tequilllacarne': 16085, 'asadaand': 16086, 'decentso': 16087, 'ebru': 16088, 'linkvery': 16089, 'coolsee': 16090, 'pismo': 16091, 'powershot': 16092, 'sumtimes': 16093, 'bande': 16094, 'hasde': 16095, 'squidswho': 16096, 'hafta': 16097, 'stressin': 16098, 'hcore': 16099, 'ughhhhhh': 16100, 'smokefree': 16101, 'airbrush': 16102, 'wallbut': 16103, 'unpopular': 16104, 'muslim': 16105, 'briyani': 16106, 'sugarfree': 16107, 'wahahahaha': 16108, 'naaaaa': 16109, 'wellhapit': 16110, 'narn': 16111, 'headless': 16112, 'downpour': 16113, 'freakish': 16114, 'delusional': 16115, 'bailing': 16116, 'comon': 16117, 'bmovie': 16118, 'gaaaaaaasp': 16119, 'skinned': 16120, 'lyke': 16121, 'nostalgia': 16122, 'tushar': 16123, 'sillyness': 16124, 'ruining': 16125, 'pockets': 16126, 'delcious': 16127, 'ver': 16128, 'distraction': 16129, 'shoppinghmmm': 16130, 'moneyhow': 16131, 'knowunfortunately': 16132, 'oktwitter': 16133, 'bttf': 16134, 'yeaah': 16135, 'stubbornly': 16136, 'freeagentapp': 16137, 'abby': 16138, 'noe': 16139, 'zune': 16140, 'feeds': 16141, 'brokewalking': 16142, 'folkestone': 16143, 'akon': 16144, 'corners': 16145, 'campin': 16146, 'nonjudgmental': 16147, 'rushing': 16148, 'tragicluckily': 16149, 'escentuals': 16150, 'tearrrrrrrr': 16151, 'cys': 16152, 'sayam': 16153, 'obession': 16154, 'yvonne': 16155, 'ffrecommend': 16156, 'titos': 16157, 'kks': 16158, 'laineygossip': 16159, 'taylena': 16160, 'heartbreaks': 16161, 'kirstie': 16162, 'gnyt': 16163, 'bittercreek': 16164, 'hopnoxious': 16165, 'sweetgrass': 16166, 'jamies': 16167, 'purposely': 16168, 'tacky': 16169, 'redskins': 16170, 'jansen': 16171, 'rainin': 16172, 'twinge': 16173, 'paypal': 16174, 'bacontaco': 16175, 'myspaceee': 16176, 'clarkson': 16177, 'cecilia': 16178, 'penjiiii': 16179, 'mcbaby': 16180, 'accessible': 16181, 'simmons': 16182, 'negativity': 16183, 'blinded': 16184, 'radioactive': 16185, 'dissapoint': 16186, 'booth': 16187, 'studiomade': 16188, 'oprahs': 16189, 'unfried': 16190, 'kfc': 16191, 'boba': 16192, 'wolverinechilled': 16193, 'popedaveben': 16194, 'snapshot': 16195, 'befoooore': 16196, 'freaks': 16197, 'musicboth': 16198, 'aesthetic': 16199, 'fizzy': 16200, 'nias': 16201, 'nonmommies': 16202, 'helooo': 16203, 'eminem': 16204, 'seams': 16205, 'nois': 16206, 'dip': 16207, 'sufficient': 16208, 'overstressed': 16209, 'allowance': 16210, 'cybernet': 16211, 'flo': 16212, 'bttr': 16213, 'loaded': 16214, 'thrillseekers': 16215, 'vehicles': 16216, 'governor': 16217, 'furlough': 16218, 'chills': 16219, 'passwords': 16220, 'pooped': 16221, 'dhs': 16222, 'bsod': 16223, 'yesterdayi': 16224, 'chung': 16225, 'alexa': 16226, 'cycled': 16227, 'cottage': 16228, 'companion': 16229, 'meowing': 16230, 'jiberish': 16231, 'joyhappy': 16232, 'maggie': 16233, 'moos': 16234, 'galaxy': 16235, 'kbal': 16236, 'joelted': 16237, 'becuase': 16238, 'followingbut': 16239, 'loon': 16240, 'collab': 16241, 'alynn': 16242, 'brewery': 16243, 'aaand': 16244, 'likeslol': 16245, 'sideits': 16246, 'moxyeverything': 16247, 'aspire': 16248, 'supervisor': 16249, 'eviction': 16250, 'noy': 16251, 'kashi': 16252, 'disservice': 16253, 'housemates': 16254, 'fetching': 16255, 'mortgage': 16256, 'outbreak': 16257, 'confidential': 16258, 'spinelli': 16259, 'solved': 16260, 'halfway': 16261, 'bearer': 16262, 'recipient': 16263, 'tunes': 16264, 'brrrrr': 16265, 'saab': 16266, 'eeehhh': 16267, 'twitching': 16268, 'boystown': 16269, 'reds': 16270, 'nyeh': 16271, 'gourmet': 16272, 'greasy': 16273, 'horseshoe': 16274, 'hypnotyst': 16275, 'hmmmm': 16276, 'beware': 16277, 'yeahim': 16278, 'guitartoday': 16279, 'nameless': 16280, 'basment': 16281, 'jaxxs': 16282, 'raindropsthats': 16283, 'fuji': 16284, 'mjb': 16285, 'administrators': 16286, 'firew': 16287, 'accountsand': 16288, 'sebastian': 16289, 'zq': 16290, 'uniforms': 16291, 'gahhhhh': 16292, 'forte': 16293, 'funty': 16294, 'megeezi': 16295, 'electricity': 16296, 'invitingall': 16297, 'doodle': 16298, 'nepal': 16299, 'declaring': 16300, 'resign': 16301, 'resigning': 16302, 'faves': 16303, 'dayum': 16304, 'understood': 16305, 'precoffee': 16306, 'thingys': 16307, 'ouchhhhhh': 16308, 'frkn': 16309, 'trackball': 16310, 'rsi': 16311, 'yeha': 16312, 'damit': 16313, 'communityfirstandtrust': 16314, 'haley': 16315, 'padawan': 16316, 'hitrecord': 16317, 'region': 16318, 'itit': 16319, 'agnes': 16320, 'twitterits': 16321, 'barton': 16322, 'akh': 16323, 'sayed': 16324, 'hassans': 16325, 'tonightgot': 16326, 'watchign': 16327, 'windowfar': 16328, 'tae': 16329, 'speedbumps': 16330, 'signals': 16331, 'posada': 16332, 'ab': 16333, 'hardwood': 16334, 'lmaaaooooo': 16335, 'hmmmchinese': 16336, 'altho': 16337, 'ngayon': 16338, 'nagrerehab': 16339, 'revisionwhat': 16340, 'funstill': 16341, 'apples': 16342, 'aside': 16343, 'marco': 16344, 'alreadyback': 16345, 'occupying': 16346, 'massachusetts': 16347, 'lager': 16348, 'contracted': 16349, 'slobber': 16350, 'earlyish': 16351, 'everythinggg': 16352, 'winninggggg': 16353, 'aaaa': 16354, 'againsave': 16355, 'mandarich': 16356, 'gems': 16357, 'dtown': 16358, 'brokt': 16359, 'fotc': 16360, 'epsilon': 16361, 'tauren': 16362, 'shaman': 16363, 'icewater': 16364, 'janis': 16365, 'hustlaball': 16366, 'appearances': 16367, 'prowler': 16368, 'vivianns': 16369, 'andrews': 16370, 'marries': 16371, 'lodgethis': 16372, 'frustrationi': 16373, 'wp': 16374, 'updatesthey': 16375, 'timesback': 16376, 'sfo': 16377, 'installs': 16378, 'orgasmic': 16379, 'qood': 16380, 'jealoussee': 16381, 'herits': 16382, 'yal': 16383, 'butwent': 16384, 'gloss': 16385, 'lips': 16386, 'sleepgood': 16387, 'oc': 16388, 'rachyl': 16389, 'thimk': 16390, 'muscles': 16391, 'aby': 16392, 'hoursnow': 16393, 'hovered': 16394, 'systems': 16395, 'chattin': 16396, 'psp': 16397, 'amigo': 16398, 'qw': 16399, 'fou': 16400, 'maat': 16401, 'goonies': 16402, 'projected': 16403, 'belinda': 16404, 'jensen': 16405, 'toaster': 16406, 'cristal': 16407, 'latejust': 16408, 'sweetietweethug': 16409, 'everyonee': 16410, 'boak': 16411, 'gaging': 16412, 'mfs': 16413, 'isone': 16414, 'newthope': 16415, 'carys': 16416, 'hugely': 16417, 'haaawaaaah': 16418, 'tedious': 16419, 'saran': 16420, 'tuesdays': 16421, 'org': 16422, 'responsible': 16423, 'fastings': 16424, 'karen': 16425, 'dock': 16426, 'andrea': 16427, 'sk': 16428, 'latonya': 16429, 'californiai': 16430, 'boiler': 16431, 'tedx': 16432, 'mondaaaaaay': 16433, 'shitttt': 16434, 'portsmouth': 16435, 'sumfink': 16436, 'relatively': 16437, 'troy': 16438, 'mcloven': 16439, 'paved': 16440, 'trekone': 16441, 'bombtastic': 16442, 'cho': 16443, 'exploit': 16444, 'reenacting': 16445, 'grandbabies': 16446, 'infant': 16447, 'sells': 16448, 'doet': 16449, 'punching': 16450, 'abp': 16451, 'contagious': 16452, 'luckyand': 16453, 'coffeeshop': 16454, 'airco': 16455, 'welts': 16456, 'flock': 16457, 'sneezy': 16458, 'mourn': 16459, 'wateva': 16460, 'pyr': 16461, 'doorknobs': 16462, 'crushing': 16463, 'jaws': 16464, 'todayreally': 16465, 'padsterits': 16466, 'prays': 16467, 'thomson': 16468, 'msla': 16469, 'imworking': 16470, 'nowmy': 16471, 'gss': 16472, 'hxc': 16473, 'chanel': 16474, 'pedder': 16475, 'ferragamo': 16476, 'downturn': 16477, 'hospitalyet': 16478, 'geograhy': 16479, 'trueps': 16480, 'waldi': 16481, 'gears': 16482, 'embracing': 16483, 'septa': 16484, 'weightless': 16485, 'compassion': 16486, 'humans': 16487, 'axe': 16488, 'mandingo': 16489, 'jrlol': 16490, 'diane': 16491, 'unlock': 16492, 'sorors': 16493, 'digestives': 16494, 'jerryyummmmy': 16495, 'unconditonally': 16496, 'materialistic': 16497, 'memeber': 16498, 'watchingn': 16499, 'alias': 16500, 'vmware': 16501, 'unitymode': 16502, 'ofoz': 16503, 'hilary': 16504, 'janey': 16505, 'nosebleed': 16506, 'detoxing': 16507, 'pickler': 16508, 'messgae': 16509, 'saver': 16510, 'craigslist': 16511, 'organised': 16512, 'giro': 16513, 'caruso': 16514, 'polish': 16515, 'deanna': 16516, 'twitterbgt': 16517, 'ck': 16518, 'faceless': 16519, 'numero': 16520, 'uno': 16521, 'harrymcflytosing': 16522, 'golfers': 16523, 'summit': 16524, 'sides': 16525, 'secs': 16526, 'trianing': 16527, 'blogsite': 16528, 'del': 16529, 'thxx': 16530, 'nowthats': 16531, 'daysthey': 16532, 'interupted': 16533, 'jackhammers': 16534, 'intil': 16535, 'thougth': 16536, 'wilber': 16537, 'expectation': 16538, 'integral': 16539, 'hmmmmbeing': 16540, 'parcel': 16541, 'backordered': 16542, 'dios': 16543, 'acaban': 16544, 'tocar': 16545, 'licensed': 16546, 'dyeing': 16547, 'housetaking': 16548, 'abuzz': 16549, 'tr': 16550, 'knights': 16551, 'obnoxiously': 16552, 'mpls': 16553, 'runsexcursions': 16554, 'ake': 16555, 'lazing': 16556, 'mattress': 16557, 'armada': 16558, 'tentside': 16559, 'sessionmosh': 16560, 'edgefesssssst': 16561, 'brawn': 16562, 'mclaren': 16563, 'sharp': 16564, 'noticable': 16565, 'chelsey': 16566, 'dbl': 16567, 'achievement': 16568, 'brazilians': 16569, 'countries': 16570, 'anoher': 16571, 'collaboration': 16572, 'victims': 16573, 'aghh': 16574, 'wowp': 16575, 'maddd': 16576, 'easygoing': 16577, 'melancholyyetcheery': 16578, 'sweltering': 16579, 'slithering': 16580, 'snakes': 16581, 'frightening': 16582, 'detail': 16583, 'yepsadly': 16584, 'shoplol': 16585, 'reallly': 16586, 'yoooooooooooooooooooou': 16587, 'thoughtful': 16588, 'yaya': 16589, 'backing': 16590, 'addicts': 16591, 'worldwide': 16592, 'emotion': 16593, 'pinkgreen': 16594, 'yoko': 16595, 'ono': 16596, 'demoing': 16597, 'tayla': 16598, 'brecky': 16599, 'accounting': 16600, 'froma': 16601, 'coupla': 16602, 'detroit': 16603, 'containing': 16604, 'laths': 16605, 'compute': 16606, 'lewd': 16607, 'meals': 16608, 'smtimes': 16609, 'thrs': 16610, 'solitude': 16611, 'lk': 16612, 'jessicab': 16613, 'yipaw': 16614, 'violence': 16615, 'heyyyy': 16616, 'listpermanent': 16617, 'chav': 16618, 'sox': 16619, 'scheduled': 16620, 'bead': 16621, 'crumb': 16622, 'navigation': 16623, 'herhseys': 16624, 'syrup': 16625, 'eyed': 16626, 'ecologically': 16627, 'carrier': 16628, 'eco': 16629, 'techno': 16630, 'lifelovestress': 16631, 'withdrawls': 16632, 'amazingg': 16633, 'replyy': 16634, 'ikno': 16635, 'musictesting': 16636, 'singerguitarist': 16637, 'duuuum': 16638, 'margrete': 16639, 'burping': 16640, 'cms': 16641, 'versioning': 16642, 'railsgit': 16643, 'mikados': 16644, 'emailsvoicemailsfacebook': 16645, 'mwaha': 16646, 'redbone': 16647, 'lincoln': 16648, 'exodus': 16649, 'purrtty': 16650, 'keanu': 16651, 'eliminating': 16652, 'bludgers': 16653, 'beaters': 16654, 'tackling': 16655, 'quidditch': 16656, 'gpt': 16657, 'finsih': 16658, 'lalaland': 16659, 'headaaaaaaaaaaaache': 16660, 'wrinkles': 16661, 'piggls': 16662, 'pickles': 16663, 'mendeed': 16664, 'discog': 16665, 'disbanding': 16666, 'rio': 16667, 'thors': 16668, 'wonderfur': 16669, 'kittykisses': 16670, 'stud': 16671, 'happydance': 16672, 'luat': 16673, 'examenul': 16674, 'spss': 16675, 'rescheduled': 16676, 'evili': 16677, 'jmichelle': 16678, 'tf': 16679, 'pt': 16680, 'inlapush': 16681, 'quil': 16682, 'nickleback': 16683, 'unfortuantley': 16684, 'hanks': 16685, 'reflection': 16686, 'wizz': 16687, 'genevaaa': 16688, 'parkgood': 16689, 'timesgood': 16690, 'waaay': 16691, 'cruisey': 16692, 'twilighters': 16693, 'itthe': 16694, 'pdgg': 16695, 'hehaheahaaaa': 16696, 'codes': 16697, 'zapatos': 16698, 'trashcan': 16699, 'repairing': 16700, 'guns': 16701, 'plzz': 16702, 'hooooommmeeee': 16703, 'uds': 16704, 'waitn': 16705, 'rappn': 16706, 'gav': 16707, 'schooli': 16708, 'mehahaha': 16709, 'hel': 16710, 'agfest': 16711, 'lovehes': 16712, 'tortured': 16713, 'songmakes': 16714, 'decisionsbottle': 16715, 'tweetstats': 16716, 'needy': 16717, 'bionomial': 16718, 'panel': 16719, 'glue': 16720, 'swearing': 16721, 'newborn': 16722, 'raning': 16723, 'exsausted': 16724, 'chalky': 16725, 'backpacking': 16726, 'groundhog': 16727, 'buff': 16728, 'tattoed': 16729, 'preferably': 16730, 'strutfluffy': 16731, 'orthadontist': 16732, 'beastypops': 16733, 'ochoas': 16734, 'boreduntill': 16735, 'jagk': 16736, 'bestest': 16737, 'helllllloooooooooooo': 16738, 'fieldwork': 16739, 'databook': 16740, 'awkwardly': 16741, 'optimist': 16742, 'paginating': 16743, 'aspnet': 16744, 'listview': 16745, 'fuming': 16746, 'purchase': 16747, 'lotrrotk': 16748, 'gosforth': 16749, 'antony': 16750, 'johnsons': 16751, 'philadelphia': 16752, 'errrr': 16753, 'vluna': 16754, 'whataburger': 16755, 'tally': 16756, 'chapped': 16757, 'netherlands': 16758, 'recognizes': 16759, 'truss': 16760, 'yoube': 16761, 'insomniac': 16762, 'amalmost': 16763, 'campos': 16764, 'missendon': 16765, 'newtown': 16766, 'elora': 16767, 'danan': 16768, 'nsw': 16769, 'melbs': 16770, 'economics': 16771, 'jubey': 16772, 'kyneton': 16773, 'noice': 16774, 'autumn': 16775, 'melb': 16776, 'daylesford': 16777, 'jdubb': 16778, 'jobi': 16779, 'folkkz': 16780, 'baaaaaaaah': 16781, 'cockroach': 16782, 'heeeeelp': 16783, 'lovebank': 16784, 'torey': 16785, 'temptation': 16786, 'mysefl': 16787, 'awessomee': 16788, 'hurrr': 16789, 'orr': 16790, 'alkie': 16791, 'foodtour': 16792, 'ahhhcant': 16793, 'onewill': 16794, 'noctweetup': 16795, 'goodgirl': 16796, 'laff': 16797, 'aright': 16798, 'outties': 16799, 'hammer': 16800, 'musiicbox': 16801, 'silverstein': 16802, 'shotgun': 16803, 'guilted': 16804, 'dming': 16805, 'maccym': 16806, 'ankit': 16807, 'parlour': 16808, 'hokeypokeybandra': 16809, 'panthers': 16810, 'glassers': 16811, 'calla': 16812, 'loca': 16813, 'yogini': 16814, 'mysoles': 16815, 'palante': 16816, 'lore': 16817, 'fruity': 16818, 'nightshift': 16819, 'routines': 16820, 'northlands': 16821, 'newscenter': 16822, 'getaways': 16823, 'northland': 16824, 'decompression': 16825, 'ani': 16826, 'booey': 16827, 'latewaking': 16828, 'xams': 16829, 'guniea': 16830, 'glastonbury': 16831, 'wyattt': 16832, 'gourmetcook': 16833, 'ripbatman': 16834, 'youbeen': 16835, 'raiders': 16836, 'steemer': 16837, 'masterchef': 16838, 'pugsly': 16839, 'otrip': 16840, 'cruisetour': 16841, 'twoloers': 16842, 'candlelight': 16843, 'suites': 16844, 'morcom': 16845, 'hva': 16846, 'shw': 16847, 'crapped': 16848, 'deciding': 16849, 'ultrasound': 16850, 'precaution': 16851, 'luckiest': 16852, 'veritas': 16853, 'missus': 16854, 'drizzle': 16855, 'waving': 16856, 'diablo': 16857, 'barked': 16858, 'streets': 16859, 'lexingtons': 16860, 'foodno': 16861, 'bedno': 16862, 'quantum': 16863, 'leap': 16864, 'malls': 16865, 'craigie': 16866, 'thinksm': 16867, 'purrrty': 16868, 'feckin': 16869, 'calll': 16870, 'moveout': 16871, 'strudel': 16872, 'runt': 16873, 'solange': 16874, 'crisps': 16875, 'betta': 16876, 'department': 16877, 'happppppyyyy': 16878, 'mothersdayyyyyyyyy': 16879, 'metsies': 16880, 'delicacies': 16881, 'gday': 16882, 'jacks': 16883, 'sweetye': 16884, 'aoki': 16885, 'sunthursbut': 16886, 'sanzz': 16887, 'generations': 16888, 'ladyi': 16889, 'onfire': 16890, 'letitia': 16891, 'driveor': 16892, 'storei': 16893, 'brenden': 16894, 'correctiona': 16895, 'coco': 16896, 'instantmessaging': 16897, 'hoursand': 16898, 'upps': 16899, 'preform': 16900, 'omgggggggggg': 16901, 'youhoping': 16902, 'soonim': 16903, 'ubook': 16904, 'alma': 16905, 'liana': 16906, 'corber': 16907, 'moreover': 16908, 'wiaih': 16909, 'humbling': 16910, 'bret': 16911, 'former': 16912, 'havta': 16913, 'fllwing': 16914, 'loveeeeeeee': 16915, 'component': 16916, 'cables': 16917, 'pfes': 16918, 'chairman': 16919, 'yayness': 16920, 'motherstobe': 16921, 'sirens': 16922, 'lapitytopity': 16923, 'specialist': 16924, 'owwie': 16925, 'awayz': 16926, 'weebo': 16927, 'blatently': 16928, 'shoving': 16929, 'likee': 16930, 'piers': 16931, 'stooopid': 16932, 'interent': 16933, 'rejecting': 16934, 'substances': 16935, 'twirps': 16936, 'divadee': 16937, 'capitan': 16938, 'upfeelin': 16939, 'singtel': 16940, 'anerexic': 16941, 'tataindicom': 16942, 'tatasky': 16943, 'airtel': 16944, 'broadband': 16945, 'whoott': 16946, 'rehab': 16947, 'wary': 16948, 'marshmallows': 16949, 'sonetime': 16950, 'mavens': 16951, 'peac': 16952, 'visitors': 16953, 'vorderman': 16954, 'interivew': 16955, 'nonbelievers': 16956, 'hmmp': 16957, 'rovin': 16958, 'calandercalendar': 16959, 'collander': 16960, 'lonestar': 16961, 'pitchers': 16962, 'consumption': 16963, 'serie': 16964, 'guinness': 16965, 'midway': 16966, 'butthurt': 16967, 'funnyy': 16968, 'lolwellhope': 16969, 'whopee': 16970, 'vmas': 16971, 'fintster': 16972, 'blazing': 16973, 'schoolmates': 16974, 'sssnoring': 16975, 'dells': 16976, 'warrenty': 16977, 'flypside': 16978, 'goodi': 16979, 'creat': 16980, 'gables': 16981, 'outsider': 16982, 'hallelujah': 16983, 'careers': 16984, 'bermudas': 16985, 'cwazy': 16986, 'mindy': 16987, 'rsvp': 16988, 'venky': 16989, 'pachad': 16990, 'ans': 16991, 'lionkicked': 16992, 'phelps': 16993, 'overexcited': 16994, 'tgi': 16995, 'reservation': 16996, 'throooooooooooooo': 16997, 'srtarting': 16998, 'playstation': 16999, 'controllers': 17000, 'programmes': 17001, 'orbitron': 17002, 'dowhen': 17003, 'pardee': 17004, 'colours': 17005, 'picturs': 17006, 'surgury': 17007, 'okur': 17008, 'commentshows': 17009, 'ova': 17010, 'sooper': 17011, 'dooper': 17012, 'bharia': 17013, 'dhumchik': 17014, 'slo': 17015, 'ocracoke': 17016, 'thunderstorms': 17017, 'afternoonits': 17018, 'amritsar': 17019, 'placesthe': 17020, 'horrorhoping': 17021, 'wholesale': 17022, 'tuition': 17023, 'yipee': 17024, 'jan': 17025, 'aggressive': 17026, 'sunbathing': 17027, 'ado': 17028, 'leftwithout': 17029, 'loooonnnggg': 17030, 'happyand': 17031, 'kansas': 17032, 'nno': 17033, 'couldsilly': 17034, 'slr': 17035, 'allright': 17036, 'daysometimes': 17037, 'overs': 17038, 'casa': 17039, 'regal': 17040, 'mancat': 17041, 'gutwrenching': 17042, 'idgaf': 17043, 'tucson': 17044, 'sour': 17045, 'fondue': 17046, 'backplease': 17047, 'quartered': 17048, 'commands': 17049, 'ezine': 17050, 'reals': 17051, 'myrtle': 17052, 'angsty': 17053, 'krautrock': 17054, 'kirkland': 17055, 'launchyerboat': 17056, 'laughthe': 17057, 'totaly': 17058, 'clam': 17059, 'twitches': 17060, 'hahayeahth': 17061, 'maylolim': 17062, 'litle': 17063, 'hyperbirdies': 17064, 'terrorizing': 17065, 'twi': 17066, 'tonightmaybe': 17067, 'suggesting': 17068, 'loan': 17069, 'deferment': 17070, 'tomorah': 17071, 'compliance': 17072, 'harm': 17073, 'demanding': 17074, 'decline': 17075, 'tisha': 17076, 'horsies': 17077, 'estep': 17078, 'tdukes': 17079, 'flwd': 17080, 'mornwhen': 17081, 'dhmptn': 17082, 'hershes': 17083, 'nicc': 17084, 'oftwtr': 17085, 'twitterrr': 17086, 'interminable': 17087, 'approx': 17088, 'msgsecond': 17089, 'grabs': 17090, 'msgsec': 17091, 'ooommmmggggg': 17092, 'ballistic': 17093, 'autistics': 17094, 'relished': 17095, 'sparking': 17096, 'milking': 17097, 'afc': 17098, 'aaahhhjust': 17099, 'enjoys': 17100, 'twitterize': 17101, 'ommg': 17102, 'gurll': 17103, 'youbrokeback': 17104, 'totoro': 17105, 'atmosphere': 17106, 'mamagra': 17107, 'nav': 17108, 'workkkkkkkkkkkkkkkkk': 17109, 'brushing': 17110, 'frenchfrycorndog': 17111, 'scroll': 17112, 'wooomy': 17113, 'ispoor': 17114, 'cowell': 17115, 'ayehe': 17116, 'grinning': 17117, 'cheshire': 17118, 'thatv': 17119, 'dons': 17120, 'grub': 17121, 'upland': 17122, 'knightsweet': 17123, 'trois': 17124, 'ohbabayy': 17125, 'bcit': 17126, 'carlton': 17127, 'janessa': 17128, 'sucksss': 17129, 'sunfay': 17130, 'afterall': 17131, 'worldima': 17132, 'nymph': 17133, 'omegle': 17134, 'votingall': 17135, 'lovesss': 17136, 'celebrates': 17137, 'anyhooohappy': 17138, 'mumzys': 17139, 'uuuugh': 17140, 'galveston': 17141, 'bosses': 17142, 'skipton': 17143, 'dissapointment': 17144, 'aural': 17145, 'xmas': 17146, 'encoding': 17147, 'amfcant': 17148, 'requirements': 17149, 'quinn': 17150, 'guility': 17151, 'giutar': 17152, 'sudoku': 17153, 'ermm': 17154, 'amazinq': 17155, 'qirlsniqhtout': 17156, 'quess': 17157, 'qreat': 17158, 'todayyyy': 17159, 'nerrrvous': 17160, 'folow': 17161, 'comanche': 17162, 'stanky': 17163, 'marathonima': 17164, 'bodys': 17165, 'resisting': 17166, 'itsurely': 17167, 'levy': 17168, 'shmolan': 17169, 'tooyoull': 17170, 'calming': 17171, 'greeeeen': 17172, 'ipoding': 17173, 'mutitasking': 17174, 'unappealing': 17175, 'swapim': 17176, 'grumpies': 17177, 'lasertag': 17178, 'updont': 17179, 'whoohoo': 17180, 'mwahaha': 17181, 'achillies': 17182, 'amazingplease': 17183, 'suckd': 17184, 'pockeded': 17185, 'lindsay': 17186, 'fansite': 17187, 'thorpe': 17188, 'feliza': 17189, 'giirll': 17190, 'ipswitchbest': 17191, 'fevered': 17192, 'pampering': 17193, 'snuggied': 17194, 'concerned': 17195, 'ughhhhwaitin': 17196, 'josiah': 17197, 'oging': 17198, 'montreal': 17199, 'inane': 17200, 'grading': 17201, 'eliminated': 17202, 'minstrels': 17203, 'petrol': 17204, 'ditch': 17205, 'yayou': 17206, 'thabks': 17207, 'ttyl': 17208, 'friendyou': 17209, 'gbw': 17210, 'tagers': 17211, 'mhmm': 17212, 'hehebut': 17213, 'vn': 17214, 'uggs': 17215, 'thorough': 17216, 'degrease': 17217, 'snaaaap': 17218, 'jimmaaayy': 17219, 'hookups': 17220, 'againaha': 17221, 'questionsrevision': 17222, 'glyders': 17223, 'supremists': 17224, 'abhor': 17225, 'philosophers': 17226, 'doomed': 17227, 'hooks': 17228, 'transgress': 17229, 'betill': 17230, 'lunchn': 17231, 'niteda': 17232, 'teary': 17233, 'sorts': 17234, 'horrifying': 17235, 'warz': 17236, 'reallythat': 17237, 'manoh': 17238, 'ahora': 17239, 'brtt': 17240, 'americas': 17241, 'boysmikey': 17242, 'dustin': 17243, 'travy': 17244, 'boysi': 17245, 'elaborate': 17246, 'specs': 17247, 'showstoppers': 17248, 'janelle': 17249, 'boreedd': 17250, 'fukn': 17251, 'durin': 17252, 'showima': 17253, 'gala': 17254, 'ftr': 17255, 'wzzzzzzzzzup': 17256, 'derrek': 17257, 'jayk': 17258, 'skylar': 17259, 'yuuup': 17260, 'conflict': 17261, 'sept': 17262, 'undertanding': 17263, 'everwish': 17264, 'awesomeupdater': 17265, 'mar': 17266, 'stupidstupid': 17267, 'dood': 17268, 'gprs': 17269, 'yaymencom': 17270, 'snlyouve': 17271, 'roxy': 17272, 'palmade': 17273, 'celeb': 17274, 'stoopid': 17275, 'accela': 17276, 'decrease': 17277, 'dpressed': 17278, 'groundim': 17279, 'bastards': 17280, 'menlo': 17281, 'vibe': 17282, 'loook': 17283, 'kung': 17284, 'ticking': 17285, 'sloooooooooowlyyyyyyyyyyyyy': 17286, 'offence': 17287, 'heyheyheyheyehyeyyyyyyyyyyyyyyyy': 17288, 'friad': 17289, 'installation': 17290, 'netbook': 17291, 'marrrrrrrrrry': 17292, 'wud': 17293, 'gloves': 17294, 'unrelated': 17295, 'storywise': 17296, 'downing': 17297, 'mamabear': 17298, 'helmet': 17299, 'persepolis': 17300, 'himokok': 17301, 'cuteshould': 17302, 'mineu': 17303, 'ciroc': 17304, 'staythats': 17305, 'contrary': 17306, 'anti': 17307, 'trekkies': 17308, 'francesc': 17309, 'fabregas': 17310, 'fabre': 17311, 'eunice': 17312, 'kyna': 17313, 'thematic': 17314, 'enthusiam': 17315, 'batty': 17316, 'remove': 17317, 'defrag': 17318, 'ugg': 17319, 'outsidewish': 17320, 'ferber': 17321, 'goodbad': 17322, 'yesno': 17323, 'postsdays': 17324, 'conversations': 17325, 'droppedand': 17326, 'ughdo': 17327, 'sacrifices': 17328, 'admin': 17329, 'warmer': 17330, 'chilliness': 17331, 'shrug': 17332, 'morrowi': 17333, 'itcute': 17334, 'rn': 17335, 'applebottoms': 17336, 'fubu': 17337, 'octo': 17338, 'cynics': 17339, 'relocate': 17340, 'fi': 17341, 'smoki': 17342, 'strikegood': 17343, 'workdrawing': 17344, 'dothis': 17345, 'ysc': 17346, 'runthrough': 17347, 'bwm': 17348, 'eftelingfun': 17349, 'pythonrollercoasterride': 17350, 'washingtonim': 17351, 'hungryi': 17352, 'alaska': 17353, 'marzipan': 17354, 'government': 17355, 'krista': 17356, 'mccoy': 17357, 'isawesome': 17358, 'daaaaang': 17359, 'clocked': 17360, 'northview': 17361, 'reqs': 17362, 'dawg': 17363, 'sways': 17364, 'bmore': 17365, 'adobo': 17366, 'mcc': 17367, 'nott': 17368, 'weirdos': 17369, 'gloom': 17370, 'kboom': 17371, 'seenpreceded': 17372, 'fibromyalgia': 17373, 'compoundin': 17374, 'westgate': 17375, 'stumbling': 17376, 'deathfic': 17377, 'warnings': 17378, 'smartcar': 17379, 'bulgaria': 17380, 'webcast': 17381, 'jonasnewsongs': 17382, 'strategy': 17383, 'robarts': 17384, 'hajust': 17385, 'wenches': 17386, 'connie': 17387, 'carla': 17388, 'previews': 17389, 'ginormous': 17390, 'stafford': 17391, 'chapel': 17392, 'sy': 17393, 'biglots': 17394, 'machines': 17395, 'confuse': 17396, 'honi': 17397, 'nakumadaya': 17398, 'nga': 17399, 'pala': 17400, 'crowds': 17401, 'squiggy': 17402, 'laverne': 17403, 'snd': 17404, 'vat': 17405, 'loveafter': 17406, 'zyrtec': 17407, 'detector': 17408, 'brickmans': 17409, 'chad': 17410, 'davey': 17411, 'watson': 17412, 'bathing': 17413, 'voracious': 17414, 'stubble': 17415, 'yaaaaaaaaaaaay': 17416, 'hassnt': 17417, 'flowy': 17418, 'oystsers': 17419, 'platter': 17420, 'western': 17421, 'facebeek': 17422, 'kilo': 17423, 'mela': 17424, 'cept': 17425, 'lostthegame': 17426, 'excitingi': 17427, 'euggh': 17428, 'peaks': 17429, 'brag': 17430, 'striker': 17431, 'twittix': 17432, 'supplys': 17433, 'greastest': 17434, 'trevor': 17435, 'funtime': 17436, 'pun': 17437, 'intended': 17438, 'campp': 17439, 'cwpm': 17440, 'member': 17441, 'sheboygan': 17442, 'teekay': 17443, 'angus': 17444, 'trully': 17445, 'ik': 17446, 'sideways': 17447, 'stoped': 17448, 'broadcasting': 17449, 'lonley': 17450, 'livingroom': 17451, 'sneezes': 17452, 'tissue': 17453, 'germaphobeness': 17454, 'significantly': 17455, 'noob': 17456, 'soulfull': 17457, 'shifter': 17458, 'yealooks': 17459, 'issorry': 17460, 'touchwas': 17461, 'tongits': 17462, 'cordial': 17463, 'admirer': 17464, 'hur': 17465, 'avalanche': 17466, 'goddamnit': 17467, 'sourish': 17468, 'limbs': 17469, 'preventing': 17470, 'gg': 17471, 'timeeven': 17472, 'ummmph': 17473, 'drat': 17474, 'parsley': 17475, 'kelvin': 17476, 'function': 17477, 'summertime': 17478, 'smokinggg': 17479, 'saaad': 17480, 'ultimately': 17481, 'tweetbeaks': 17482, 'hen': 17483, 'sharn': 17484, 'booored': 17485, 'synn': 17486, 'wwecom': 17487, 'ughhhhhhhh': 17488, 'romancescomedies': 17489, 'hersheys': 17490, 'walmonds': 17491, 'departure': 17492, 'exstudent': 17493, 'sudying': 17494, 'reviewing': 17495, 'downloadingusing': 17496, 'sessionstill': 17497, 'prioritize': 17498, 'averages': 17499, 'smite': 17500, 'cuties': 17501, 'supperinn': 17502, 'stayathome': 17503, 'mhs': 17504, 'sacked': 17505, 'aaaaaoouoouoouu': 17506, 'uturn': 17507, 'outtoooo': 17508, 'mariah': 17509, 'tallcree': 17510, 'heeey': 17511, 'hockeywe': 17512, 'lapa': 17513, 'samba': 17514, 'bsnl': 17515, 'studlife': 17516, 'fost': 17517, 'tiberiu': 17518, 'noi': 17519, 'aflat': 17520, 'sunt': 17521, 'imbecili': 17522, 'peste': 17523, 'oversized': 17524, 'awwwe': 17525, 'waslooking': 17526, 'poorest': 17527, 'med': 17528, 'shiv': 17529, 'ethernet': 17530, 'housefinally': 17531, 'mommaluv': 17532, 'pateven': 17533, 'jehovahs': 17534, 'macmaze': 17535, 'lula': 17536, 'danstorce': 17537, 'yahyan': 17538, 'iaaaaaaaaaaaaan': 17539, 'lifeball': 17540, 'vienna': 17541, 'speedo': 17542, 'dontlike': 17543, 'abandoning': 17544, 'noim': 17545, 'adoreiii': 17546, 'lof': 17547, 'cosmo': 17548, 'kamikaze': 17549, 'converting': 17550, 'armin': 17551, 'popularity': 17552, 'desappointed': 17553, 'loooooove': 17554, 'letterman': 17555, 'consumed': 17556, 'abueltia': 17557, 'ignmentplease': 17558, 'sufka': 17559, 'biatches': 17560, 'drews': 17561, 'loveu': 17562, 'sheeeeittt': 17563, 'bwaaaahhh': 17564, 'thanku': 17565, 'prime': 17566, 'broody': 17567, 'kindle': 17568, 'paperback': 17569, 'baq': 17570, 'headach': 17571, 'wci': 17572, 'befor': 17573, 'sumone': 17574, 'lunchbreak': 17575, 'zeb': 17576, 'napped': 17577, 'expenses': 17578, 'hopelessly': 17579, 'vinsensitive': 17580, 'madaya': 17581, 'ouchthat': 17582, 'yearmission': 17583, 'accomplishednow': 17584, 'sophomore': 17585, 'allim': 17586, 'nowshe': 17587, 'ityou': 17588, 'mornineverybody': 17589, 'aol': 17590, 'sparkling': 17591, 'resistance': 17592, 'pretties': 17593, 'tillies': 17594, 'nifty': 17595, 'mikesh': 17596, 'sunburns': 17597, 'bedding': 17598, 'cracks': 17599, 'givein': 17600, 'arun': 17601, 'shudve': 17602, 'pmg': 17603, 'relasie': 17604, 'footage': 17605, 'stations': 17606, 'pedicures': 17607, 'representative': 17608, 'indonesia': 17609, 'granulation': 17610, 'assumes': 17611, 'taboo': 17612, 'pwnd': 17613, 'chuckle': 17614, 'pulls': 17615, 'strings': 17616, 'garbo': 17617, 'oohooh': 17618, 'dmore': 17619, 'awetastic': 17620, 'chargerrr': 17621, 'booooo': 17622, 'cyprus': 17623, 'tweete': 17624, 'kidd': 17625, 'extranauseous': 17626, 'peristalsis': 17627, 'airconditioner': 17628, 'compiment': 17629, 'photovia': 17630, 'secondstar': 17631, 'edaust': 17632, 'penguins': 17633, 'barb': 17634, 'personi': 17635, 'happiletter': 17636, 'redd': 17637, 'defiance': 17638, 'adjustment': 17639, 'bandwidth': 17640, 'rooms': 17641, 'blackhawks': 17642, 'lightening': 17643, 'laughin': 17644, 'enlightened': 17645, 'apperently': 17646, 'belofsouthie': 17647, 'grandas': 17648, 'backhip': 17649, 'yesthere': 17650, 'thanxxx': 17651, 'pointlesss': 17652, 'powerpoints': 17653, 'leaveeee': 17654, 'caant': 17655, 'iht': 17656, 'ahar': 17657, 'chops': 17658, 'coking': 17659, 'zotz': 17660, 'dazzles': 17661, 'hv': 17662, 'profoundly': 17663, 'freeing': 17664, 'expand': 17665, 'molyneux': 17666, 'whaatttaatttt': 17667, 'sierra': 17668, 'camper': 17669, 'ashlie': 17670, 'befriending': 17671, 'fann': 17672, 'jbobsessed': 17673, 'bookface': 17674, 'ammmmazing': 17675, 'msgnow': 17676, 'inconvenient': 17677, 'benot': 17678, 'thocaught': 17679, 'refs': 17680, 'marls': 17681, 'bry': 17682, 'nofair': 17683, 'uhura': 17684, 'nero': 17685, 'ak': 17686, 'holyyyyyyy': 17687, 'injustice': 17688, 'iiii': 17689, 'heav': 17690, 'accadentally': 17691, 'sets': 17692, 'funfunfun': 17693, 'abbreviate': 17694, 'agoraphobics': 17695, 'yearling': 17696, 'answerer': 17697, 'playtime': 17698, 'alreadi': 17699, 'teenager': 17700, 'decreasing': 17701, 'outi': 17702, 'unified': 17703, 'drastically': 17704, 'doubleclick': 17705, 'cassidy': 17706, 'gohave': 17707, 'shoutz': 17708, 'nervvoouuss': 17709, 'jojo': 17710, 'willdo': 17711, 'anythig': 17712, 'fraudster': 17713, 'lovecraftian': 17714, 'siitter': 17715, 'val': 17716, 'badbut': 17717, 'weheyyyy': 17718, 'midi': 17719, 'petty': 17720, 'rendezvous': 17721, 'loneliness': 17722, 'creeps': 17723, 'slaps': 17724, 'greaaat': 17725, 'pleaseeeeee': 17726, 'explosion': 17727, 'eighties': 17728, 'migrating': 17729, 'hotter': 17730, 'jz': 17731, 'lasagne': 17732, 'askin': 17733, 'waslooks': 17734, 'oowweee': 17735, 'wuz': 17736, 'poppin': 17737, 'lipstic': 17738, 'pumps': 17739, 'repetitive': 17740, 'luckyyy': 17741, 'torta': 17742, 'hotdog': 17743, 'itlog': 17744, 'schedules': 17745, 'badits': 17746, 'bluff': 17747, 'meadowhall': 17748, 'ange': 17749, 'additl': 17750, 'yeeeeeeeee': 17751, 'pistols': 17752, 'oceanupmiley': 17753, 'gaston': 17754, 'justinhmmmim': 17755, 'olds': 17756, 'stumpy': 17757, 'cuban': 17758, 'breakfastservice': 17759, 'marjoleine': 17760, 'guido': 17761, 'dirk': 17762, 'mothersdaymother': 17763, 'hapy': 17764, 'thorn': 17765, 'mouthy': 17766, 'jittery': 17767, 'ahhhhhhhhh': 17768, 'shredding': 17769, 'rrtheatre': 17770, 'whooaaa': 17771, 'overwheolming': 17772, 'itus': 17773, 'mckay': 17774, 'butits': 17775, 'friiiiiday': 17776, 'heheheheh': 17777, 'dupes': 17778, 'daydidnt': 17779, 'excitingsaw': 17780, 'nailed': 17781, 'wyck': 17782, 'lazzzy': 17783, 'crissy': 17784, 'doinnnn': 17785, 'tossing': 17786, 'loses': 17787, 'jae': 17788, 'pe': 17789, 'lauras': 17790, 'picky': 17791, 'naughty': 17792, 'clingy': 17793, 'noriegas': 17794, 'stickam': 17795, 'milows': 17796, 'therefly': 17797, 'dadold': 17798, 'appealing': 17799, 'sacred': 17800, 'shoplifting': 17801, 'twittereveryone': 17802, 'posh': 17803, 'darfur': 17804, 'comiccon': 17805, 'aroundtakin': 17806, 'surrrrrously': 17807, 'mindblowing': 17808, 'pennsylvania': 17809, 'todaythis': 17810, 'afternoonnow': 17811, 'tshwane': 17812, 'robertson': 17813, 'photoblog': 17814, 'mn': 17815, 'zelda': 17816, 'maders': 17817, 'ahhhhsame': 17818, 'elusive': 17819, 'tricky': 17820, 'bachelor': 17821, 'tiesto': 17822, 'suitable': 17823, 'gather': 17824, 'holydays': 17825, 'dockers': 17826, 'gimmeh': 17827, 'poofy': 17828, 'limp': 17829, 'morningmidday': 17830, 'fights': 17831, 'charley': 17832, 'badu': 17833, 'thoughhe': 17834, 'agus': 17835, 'pelangi': 17836, 'loooong': 17837, 'hotcold': 17838, 'transition': 17839, 'orientation': 17840, 'serco': 17841, 'excitednervous': 17842, 'arrrgh': 17843, 'redwood': 17844, 'unprepared': 17845, 'alrighty': 17846, 'iigghhtt': 17847, 'geet': 17848, 'idc': 17849, 'immboredddd': 17850, 'fuckitt': 17851, 'yesits': 17852, 'itvery': 17853, 'elsinore': 17854, 'graduationi': 17855, 'scousers': 17856, 'haircuts': 17857, 'splits': 17858, 'forseeable': 17859, 'workive': 17860, 'whove': 17861, 'ahso': 17862, 'danica': 17863, 'fork': 17864, 'aaarrrgggghhh': 17865, 'decribe': 17866, 'reminisce': 17867, 'mope': 17868, 'northern': 17869, 'clemency': 17870, 'nungguin': 17871, 'sista': 17872, 'asihkayaknya': 17873, 'ini': 17874, 'yeayy': 17875, 'ltj': 17876, 'yoke': 17877, 'restaraunt': 17878, 'garfields': 17879, 'unemployment': 17880, 'macaroons': 17881, 'barone': 17882, 'elmers': 17883, 'hihihi': 17884, 'corny': 17885, 'alam': 17886, 'kidz': 17887, 'sherraton': 17888, 'brodi': 17889, 'bbqd': 17890, 'lifted': 17891, 'root': 17892, 'canalugh': 17893, 'serio': 17894, 'barroca': 17895, 'parabens': 17896, 'phishing': 17897, 'yyankees': 17898, 'ubcs': 17899, 'ladiez': 17900, 'trolling': 17901, 'overrated': 17902, 'gurrl': 17903, 'decongestant': 17904, 'waaw': 17905, 'redirects': 17906, 'becase': 17907, 'wrecking': 17908, 'soaking': 17909, 'fitzcarraldo': 17910, 'daaaaaaaaay': 17911, 'barks': 17912, 'likeing': 17913, 'tradewinds': 17914, 'odyssey': 17915, 'bump': 17916, 'wraps': 17917, 'chirp': 17918, 'outsidewell': 17919, 'dearie': 17920, 'boardies': 17921, 'acoustic': 17922, 'hoes': 17923, 'funnot': 17924, 'neglect': 17925, 'yardsale': 17926, 'au': 17927, 'resonate': 17928, 'ngobrolin': 17929, 'cii': 17930, 'kesian': 17931, 'kamu': 17932, 'speakernya': 17933, 'rusak': 17934, 'benerin': 17935, 'hotsawce': 17936, 'gnights': 17937, 'ipt': 17938, 'poked': 17939, 'facking': 17940, 'teletubbies': 17941, 'adaptation': 17942, 'interiors': 17943, 'girlbahahah': 17944, 'ciggarettes': 17945, 'chewed': 17946, 'immature': 17947, 'frosty': 17948, 'crispies': 17949, 'cathy': 17950, 'ordinarily': 17951, 'chasing': 17952, 'reflected': 17953, 'phillips': 17954, 'trusty': 17955, 'runmoms': 17956, 'menormal': 17957, 'juneau': 17958, 'fd': 17959, 'comforteating': 17960, 'bryce': 17961, 'elementary': 17962, 'shaken': 17963, 'strength': 17964, 'stripes': 17965, 'caps': 17966, 'bwahaha': 17967, 'disgraced': 17968, 'perfectionist': 17969, 'luckkkk': 17970, 'retake': 17971, 'patricks': 17972, 'clubdancingbut': 17973, 'orignal': 17974, 'skips': 17975, 'hurtling': 17976, 'headlong': 17977, 'frees': 17978, 'hungrybut': 17979, 'mah': 17980, 'clown': 17981, 'largest': 17982, 'mayerhes': 17983, 'terri': 17984, 'dean': 17985, 'polo': 17986, 'absoulutley': 17987, 'weer': 17988, 'eens': 17989, 'raar': 17990, 'gelopen': 17991, 'serenading': 17992, 'judicial': 17993, 'supervision': 17994, 'executive': 17995, 'commonwealth': 17996, 'caribbean': 17997, 'bradies': 17998, 'rieger': 17999, 'begonia': 18000, 'logical': 18001, 'reasoning': 18002, 'tutor': 18003, 'tones': 18004, 'dealz': 18005, 'paraguay': 18006, 'butbutthe': 18007, 'nurburgring': 18008, 'brummie': 18009, 'alicev': 18010, 'immensely': 18011, 'temple': 18012, 'vesak': 18013, 'rena': 18014, 'communifuckingcationlearn': 18015, 'ai': 18016, 'blogher': 18017, 'pringles': 18018, 'aski': 18019, 'guidance': 18020, 'counsellor': 18021, 'hotdogs': 18022, 'blob': 18023, 'tentacles': 18024, 'peoplenew': 18025, 'circle': 18026, 'tire': 18027, 'wm': 18028, 'headline': 18029, 'stomachace': 18030, 'trailhead': 18031, 'chutti': 18032, 'tomo': 18033, 'hormone': 18034, 'misbehaved': 18035, 'grreverytime': 18036, 'girlfriendim': 18037, 'totem': 18038, 'aust': 18039, 'herew': 18040, 'dayone': 18041, 'bh': 18042, 'menfolk': 18043, 'ocd': 18044, 'aquatards': 18045, 'watchinggg': 18046, 'wini': 18047, 'hellooooooo': 18048, 'steakhouse': 18049, 'framed': 18050, 'foto': 18051, 'valentino': 18052, 'rossi': 18053, 'bankroll': 18054, 'whine': 18055, 'bitch': 18056, 'supposeand': 18057, 'zuccini': 18058, 'puzzled': 18059, 'pinpoint': 18060, 'weber': 18061, 'founder': 18062, 'puma': 18063, 'subs': 18064, 'thumping': 18065, 'evangelizing': 18066, 'cubiclefreedomness': 18067, 'geo': 18068, 'zoned': 18069, 'stepped': 18070, 'waaaaa': 18071, 'drycleaners': 18072, 'workinghappy': 18073, 'gagas': 18074, 'whatshappening': 18075, 'voyager': 18076, 'goi': 18077, 'metres': 18078, 'daughtrys': 18079, 'beshie': 18080, 'jkidding': 18081, 'mondayfunday': 18082, 'peopleand': 18083, 'depress': 18084, 'motherinlaw': 18085, 'followup': 18086, 'greenim': 18087, 'afraidiowe': 18088, 'homeworkboring': 18089, 'reviewwhile': 18090, 'papercan': 18091, 'printchick': 18092, 'gradually': 18093, 'ptfe': 18094, 'trekky': 18095, 'journalist': 18096, 'blockbustercom': 18097, 'ease': 18098, 'charmed': 18099, 'manned': 18100, 'aswered': 18101, 'prixim': 18102, 'disproves': 18103, 'teus': 18104, 'lalala': 18105, 'uqh': 18106, 'supposedd': 18107, 'cuzz': 18108, 'wakke': 18109, 'upp': 18110, 'earlyy': 18111, 'cantt': 18112, 'sleepp': 18113, 'omq': 18114, 'tomorroww': 18115, 'iss': 18116, 'whadya': 18117, 'tedtalks': 18118, 'hereso': 18119, 'nowt': 18120, 'bananabrain': 18121, 'oepn': 18122, 'straightener': 18123, 'neitherrrr': 18124, 'aeroplanes': 18125, 'wkp': 18126, 'albuquerque': 18127, 'coldplaying': 18128, 'kknow': 18129, 'josey': 18130, 'canvas': 18131, 'ooooover': 18132, 'oooover': 18133, 'stuttgart': 18134, 'befahconference': 18135, 'discussions': 18136, 'exercising': 18137, 'madnot': 18138, 'momsen': 18139, 'reopens': 18140, 'zumba': 18141, 'closure': 18142, 'nooobody': 18143, 'waaaaayyyyy': 18144, 'overpower': 18145, 'sbs': 18146, 'steals': 18147, 'buries': 18148, 'fence': 18149, 'embarassing': 18150, 'darian': 18151, 'lennon': 18152, 'burton': 18153, 'todaytryouts': 18154, 'carera': 18155, 'remain': 18156, 'captive': 18157, 'indys': 18158, 'thers': 18159, 'peole': 18160, 'fridayevry': 18161, 'lockdown': 18162, 'moolah': 18163, 'flatworld': 18164, 'proposal': 18165, 'enzian': 18166, 'cliiimb': 18167, 'mt': 18168, 'weds': 18169, 'anthems': 18170, 'mixing': 18171, 'seein': 18172, 'juniors': 18173, 'clash': 18174, 'vehicle': 18175, 'qfc': 18176, 'broad': 18177, 'adriana': 18178, 'webcamming': 18179, 'caroooo': 18180, 'misscbw': 18181, 'siblings': 18182, 'shortyur': 18183, 'noooooooooooo': 18184, 'swelter': 18185, 'heatish': 18186, 'huffy': 18187, 'carson': 18188, 'pampered': 18189, 'booooooring': 18190, 'chiangmai': 18191, 'loy': 18192, 'krathong': 18193, 'ptour': 18194, 'grizzly': 18195, 'typo': 18196, 'trainings': 18197, 'novi': 18198, 'saaaaaaaaaaaaaad': 18199, 'leopards': 18200, 'gratitude': 18201, 'ls': 18202, 'crampsss': 18203, 'haunted': 18204, 'housesound': 18205, 'ralphies': 18206, 'wayconfused': 18207, 'itmargie': 18208, 'alzheimers': 18209, 'commerce': 18210, 'gottaaa': 18211, 'outttt': 18212, 'morningdid': 18213, 'digits': 18214, 'telephone': 18215, 'darius': 18216, 'neighting': 18217, 'excels': 18218, 'videophoto': 18219, 'lags': 18220, 'lookie': 18221, 'paradice': 18222, 'boc': 18223, 'fridaystudying': 18224, 'beav': 18225, 'disneybest': 18226, 'timehowl': 18227, 'gba': 18228, 'niiight': 18229, 'whyyy': 18230, 'microsofti': 18231, 'kgs': 18232, 'woops': 18233, 'laaandan': 18234, 'faceagain': 18235, 'deplurk': 18236, 'jap': 18237, 'shopper': 18238, 'vega': 18239, 'fireeeeee': 18240, 'breakout': 18241, 'nonexistent': 18242, 'charis': 18243, 'wookieman': 18244, 'malamute': 18245, 'kitchenand': 18246, 'itmy': 18247, 'ahahahahahahahaha': 18248, 'beautifuul': 18249, 'sorrymy': 18250, 'checkedlosing': 18251, 'sadfaced': 18252, 'hearandim': 18253, 'saltvinegarthey': 18254, 'bwahah': 18255, 'chocolateeee': 18256, 'eeeeevvveeerrrr': 18257, 'fmlllll': 18258, 'grumbleweather': 18259, 'thingand': 18260, 'gxx': 18261, 'mrskutcher': 18262, 'aplusk': 18263, 'hughesy': 18264, 'rafferty': 18265, 'kansai': 18266, 'girlall': 18267, 'rubbing': 18268, 'blackout': 18269, 'oklahomaaaaa': 18270, 'adiel': 18271, 'sabby': 18272, 'improving': 18273, 'midgets': 18274, 'smfh': 18275, 'ln': 18276, 'turbull': 18277, 'bunting': 18278, 'jocant': 18279, 'blued': 18280, 'screened': 18281, 'contain': 18282, 'dreadfully': 18283, 'verey': 18284, 'madry': 18285, 'chasawy': 18286, 'deathmatch': 18287, 'whys': 18288, 'ndc': 18289, 'amendment': 18290, 'pimpin': 18291, 'thrd': 18292, 'poopy': 18293, 'neverending': 18294, 'babbby': 18295, 'iwaiting': 18296, 'layenn': 18297, 'downuughh': 18298, 'dunt': 18299, 'boredomand': 18300, 'detalis': 18301, 'gruesome': 18302, 'beforesometimes': 18303, 'forgiving': 18304, 'remould': 18305, 'reform': 18306, 'chivalry': 18307, 'ringmore': 18308, 'piercingsit': 18309, 'utmost': 18310, 'tigers': 18311, 'furby': 18312, 'meters': 18313, 'cobbles': 18314, 'thoughtwhat': 18315, 'elizabeth': 18316, 'challanges': 18317, 'movingcariphone': 18318, 'janewe': 18319, 'samuel': 18320, 'bitmr': 18321, 'witcha': 18322, 'photofiltre': 18323, 'photoscape': 18324, 'gimp': 18325, 'shards': 18326, 'pokey': 18327, 'dokomi': 18328, 'connections': 18329, 'lonnie': 18330, 'hittin': 18331, 'ala': 18332, 'cunningham': 18333, 'sundaybut': 18334, 'stancethis': 18335, 'meltingaway': 18336, 'partly': 18337, 'wellwood': 18338, 'counter': 18339, 'patientnot': 18340, 'pittsburgh': 18341, 'wiggity': 18342, 'optimism': 18343, 'bridgeleaving': 18344, 'specialistpoor': 18345, 'buger': 18346, 'mmmmmmmmm': 18347, 'terminedas': 18348, 'monkeys': 18349, 'congrat': 18350, 'cooraperates': 18351, 'mushroom': 18352, 'uprooted': 18353, 'youngins': 18354, 'length': 18355, 'touche': 18356, 'brokeoh': 18357, 'waiti': 18358, 'noor': 18359, 'planyea': 18360, 'chan': 18361, 'kmrn': 18362, 'bawa': 18363, 'kosong': 18364, 'baxx': 18365, 'baaha': 18366, 'antm': 18367, 'comeha': 18368, 'ocharleys': 18369, 'waitress': 18370, 'choppers': 18371, 'rereading': 18372, 'representing': 18373, 'trace': 18374, 'fridaynot': 18375, 'viruses': 18376, 'wiping': 18377, 'reinstalling': 18378, 'lifs': 18379, 'unfairluk': 18380, 'frendi': 18381, 'surveys': 18382, 'leftover': 18383, 'dominos': 18384, 'noiiiiice': 18385, 'btwn': 18386, 'lv': 18387, 'ists': 18388, 'thomasi': 18389, 'decisionand': 18390, 'outsiders': 18391, 'smelly': 18392, 'immense': 18393, 'agreeable': 18394, 'dillybar': 18395, 'dq': 18396, 'yuuum': 18397, 'bulletin': 18398, 'musli': 18399, 'drooping': 18400, 'shawneei': 18401, 'edition': 18402, 'fanny': 18403, 'liers': 18404, 'bereft': 18405, 'faults': 18406, 'cheeks': 18407, 'williamsburg': 18408, 'infinite': 18409, 'boutiques': 18410, 'wbad': 18411, 'scone': 18412, 'guttedthe': 18413, 'amazingjust': 18414, 'whants': 18415, 'surlytween': 18416, 'relative': 18417, 'sworn': 18418, 'trained': 18419, 'soarin': 18420, 'gnna': 18421, 'knockin': 18422, 'gyah': 18423, 'babyclient': 18424, 'teething': 18425, 'tetens': 18426, 'hence': 18427, 'signature': 18428, 'namelol': 18429, 'ninja': 18430, 'gout': 18431, 'ribena': 18432, 'toughest': 18433, 'everrr': 18434, 'reno': 18435, 'theeee': 18436, 'brunt': 18437, 'cancellednow': 18438, 'mccain': 18439, 'spilt': 18440, 'chucking': 18441, 'moomy': 18442, 'onewith': 18443, 'inflamed': 18444, 'vocal': 18445, 'tripping': 18446, 'tiredness': 18447, 'nottt': 18448, 'jain': 18449, 'shir': 18450, 'commission': 18451, 'amazoncom': 18452, 'certificates': 18453, 'mex': 18454, 'bowlmilk': 18455, 'wbae': 18456, 'myka': 18457, 'meann': 18458, 'nwilson': 18459, 'superpower': 18460, 'wamu': 18461, 'dgree': 18462, 'ensconced': 18463, 'mapsjk': 18464, 'doooo': 18465, 'creep': 18466, 'fack': 18467, 'seriouse': 18468, 'godly': 18469, 'subhana': 18470, 'algebra': 18471, 'hives': 18472, 'dread': 18473, 'retail': 18474, 'queensland': 18475, 'aquino': 18476, 'spades': 18477, 'confiscate': 18478, 'weeksi': 18479, 'tulips': 18480, 'fee': 18481, 'dunkin': 18482, 'donuts': 18483, 'journalism': 18484, 'houseand': 18485, 'jareds': 18486, 'located': 18487, 'settles': 18488, 'felicia': 18489, 'gril': 18490, 'assault': 18491, 'slot': 18492, 'sensitive': 18493, 'blower': 18494, 'censor': 18495, 'dirteeh': 18496, 'luke': 18497, 'scuba': 18498, 'etown': 18499, 'coldi': 18500, 'sickk': 18501, 'evr': 18502, 'sensei': 18503, 'jowki': 18504, 'ungrateful': 18505, 'xslimmer': 18506, 'password': 18507, 'bigest': 18508, 'redbull': 18509, 'tiniest': 18510, 'practitionerspent': 18511, 'devoted': 18512, 'adoarble': 18513, 'supervillians': 18514, 'warfield': 18515, 'iphones': 18516, 'braiding': 18517, 'lashes': 18518, 'mysore': 18519, 'pigsswines': 18520, 'ciege': 18521, 'cagalawans': 18522, 'invites': 18523, 'vietnam': 18524, 'consideration': 18525, 'medam': 18526, 'neith': 18527, 'keepin': 18528, 'missinmydgbigtyme': 18529, 'promif': 18530, 'jobos': 18531, 'anywaybut': 18532, 'tonoght': 18533, 'fields': 18534, 'quarantined': 18535, 'pinkeye': 18536, 'oist': 18537, 'sakit': 18538, 'dippin': 18539, 'herei': 18540, 'normaland': 18541, 'throats': 18542, 'whatt': 18543, 'anywayi': 18544, 'jeuno': 18545, 'coudl': 18546, 'starbuks': 18547, 'verdict': 18548, 'restosso': 18549, 'fuunn': 18550, 'shizz': 18551, 'earedpages': 18552, 'dodger': 18553, 'athletes': 18554, 'joanna': 18555, 'bown': 18556, 'playmate': 18557, 'plumbers': 18558, 'calgon': 18559, 'rija': 18560, 'penny': 18561, 'attract': 18562, 'whitex': 18563, 'gratz': 18564, 'harvey': 18565, 'rothlisberger': 18566, 'dayne': 18567, 'goddess': 18568, 'investigated': 18569, 'straighteners': 18570, 'pricey': 18571, 'wimpy': 18572, 'theorys': 18573, 'arggghhhhhhhhhhh': 18574, 'darline': 18575, 'addictionermm': 18576, 'covers': 18577, 'bunged': 18578, 'decaf': 18579, 'teas': 18580, 'roflmaoyes': 18581, 'spamvirus': 18582, 'threat': 18583, 'collerbone': 18584, 'bouquet': 18585, 'elsewhere': 18586, 'herts': 18587, 'dv': 18588, 'gitwar': 18589, 'baffles': 18590, 'benjamin': 18591, 'repent': 18592, 'overdid': 18593, 'goverment': 18594, 'downsizinghe': 18595, 'hellooo': 18596, 'amarula': 18597, 'heidi': 18598, 'klum': 18599, 'ecology': 18600, 'lvttbt': 18601, 'bend': 18602, 'movements': 18603, 'melika': 18604, 'cursing': 18605, 'wardrobe': 18606, 'asprin': 18607, 'myweawkness': 18608, 'chocolatei': 18609, 'wlan': 18610, 'socialising': 18611, 'mish': 18612, 'ladie': 18613, 'concede': 18614, 'sip': 18615, 'shhh': 18616, 'annapolis': 18617, 'registeration': 18618, 'flows': 18619, 'titlewhoops': 18620, 'pasty': 18621, 'goofin': 18622, 'meir': 18623, 'context': 18624, 'interwebz': 18625, 'jfg': 18626, 'facebookcom': 18627, 'isint': 18628, 'smthng': 18629, 'reaaaallly': 18630, 'waaayyyy': 18631, 'eeek': 18632, 'airline': 18633, 'charges': 18634, 'axkit': 18635, 'journals': 18636, 'twitt': 18637, 'boredddddddd': 18638, 'clarks': 18639, 'cloning': 18640, 'buttermilk': 18641, 'delaware': 18642, 'bracelet': 18643, 'subconscience': 18644, 'tacoma': 18645, 'kgw': 18646, 'foggy': 18647, 'dent': 18648, 'pedals': 18649, 'godamn': 18650, 'tupac': 18651, 'biggie': 18652, 'hearty': 18653, 'laughso': 18654, 'otalia': 18655, 'regard': 18656, 'dries': 18657, 'shampoo': 18658, 'luvly': 18659, 'koh': 18660, 'sunwanna': 18661, 'meaningful': 18662, 'collecting': 18663, 'oome': 18664, 'muck': 18665, 'jconsole': 18666, 'khan': 18667, 'mrazlooking': 18668, 'cayogial': 18669, 'bz': 18670, 'uuuuugh': 18671, 'remodel': 18672, 'anouther': 18673, 'lilash': 18674, 'yorker': 18675, 'ohsosexy': 18676, 'rahul': 18677, 'bask': 18678, 'tinytwitter': 18679, 'nontouch': 18680, 'mcnugget': 18681, 'wanders': 18682, 'miz': 18683, 'lance': 18684, 'juneim': 18685, 'outdoors': 18686, 'muhaha': 18687, 'martha': 18688, 'mnth': 18689, 'neverrr': 18690, 'duo': 18691, 'bookmarked': 18692, 'ddub': 18693, 'brains': 18694, 'functioning': 18695, 'straightening': 18696, 'realllllllly': 18697, 'llike': 18698, 'messaged': 18699, 'dylan': 18700, 'mast': 18701, 'ladki': 18702, 'patata': 18703, 'jiske': 18704, 'sath': 18705, 'bhi': 18706, 'jaye': 18707, 'khush': 18708, 'rehnawill': 18709, 'apologise': 18710, 'deccy': 18711, 'rejection': 18712, 'warner': 18713, 'fairs': 18714, 'recomended': 18715, 'someonee': 18716, 'adventures': 18717, 'californias': 18718, 'deficit': 18719, 'cuzzo': 18720, 'vivi': 18721, 'successfully': 18722, 'flue': 18723, 'thebear': 18724, 'fricking': 18725, 'elishas': 18726, 'hooorah': 18727, 'bitchy': 18728, 'ninth': 18729, 'yearly': 18730, 'sickkk': 18731, 'veryyy': 18732, 'hacienda': 18733, 'airy': 18734, 'didshed': 18735, 'urghh': 18736, 'valuable': 18737, 'smoked': 18738, 'peolple': 18739, 'welldeserved': 18740, 'todayno': 18741, 'emailsonly': 18742, 'doooooo': 18743, 'rem': 18744, 'circa': 18745, 'tyvm': 18746, 'bruno': 18747, 'arghhhh': 18748, 'nb': 18749, 'scalpers': 18750, 'morons': 18751, 'forked': 18752, 'stracchino': 18753, 'hubbytobe': 18754, 'unplug': 18755, 'aids': 18756, 'rrod': 18757, 'andzi': 18758, 'hltermand': 18759, 'kaare': 18760, \"'ve\": 18761, 'riotnow': 18762, 'chlamydiabut': 18763, 'poxsyphilis': 18764, 'munchin': 18765, 'eitherits': 18766, 'waaaaaay': 18767, 'freaaaaaaak': 18768, 'contradiction': 18769, 'fracked': 18770, 'diskhappiness': 18771, 'airlines': 18772, 'todaybut': 18773, 'modcloth': 18774, 'stray': 18775, 'cans': 18776, 'tuna': 18777, 'knooow': 18778, 'ooooooooold': 18779, 'hoot': 18780, 'bestsellers': 18781, 'melo': 18782, 'mount': 18783, 'carefully': 18784, 'beignet': 18785, 'awesoome': 18786, 'blimey': 18787, 'gtgs': 18788, 'accidentpls': 18789, 'poke': 18790, 'hamster': 18791, 'queueing': 18792, 'nfty': 18793, 'yesterdayahhh': 18794, 'emolifes': 18795, 'unfairemo': 18796, 'vacuums': 18797, 'morningin': 18798, 'nowmissing': 18799, 'devices': 18800, 'chillen': 18801, 'gmas': 18802, 'eggos': 18803, 'synthetic': 18804, 'sustitute': 18805, 'chamber': 18806, 'callbacks': 18807, 'scurrying': 18808, 'sitar': 18809, 'suuuuuuuurerub': 18810, 'priests': 18811, 'lola': 18812, 'wesley': 18813, 'tooam': 18814, 'thts': 18815, 'nowam': 18816, 'helpin': 18817, 'ilol': 18818, 'postin': 18819, 'wmiad': 18820, 'bwahahahahahahaha': 18821, 'doggy': 18822, 'ahd': 18823, 'ryanseacrest': 18824, 'neckshoulderback': 18825, 'wordart': 18826, 'eoi': 18827, 'facebooks': 18828, 'sherbert': 18829, 'nutritious': 18830, 'milano': 18831, 'sympahty': 18832, 'pdates': 18833, 'muchfinalityto': 18834, 'meanstill': 18835, 'worthless': 18836, 'gucci': 18837, 'performanceparty': 18838, 'hobos': 18839, 'donut': 18840, 'unfortunetly': 18841, 'louise': 18842, 'adopted': 18843, 'ballet': 18844, 'funnow': 18845, 'coolio': 18846, 'pocketkeep': 18847, 'feathers': 18848, 'rear': 18849, 'tubeyyou': 18850, 'thugh': 18851, 'courtney': 18852, 'lmoa': 18853, 'apparent': 18854, 'networks': 18855, 'whre': 18856, 'heartache': 18857, 'morninghappy': 18858, 'mascara': 18859, 'lvoe': 18860, 'blackets': 18861, 'vwll': 18862, 'vwllers': 18863, 'venueswhat': 18864, 'helen': 18865, 'reisling': 18866, 'verona': 18867, 'enjoyyitverymuch': 18868, 'phothos': 18869, 'trueand': 18870, 'poetic': 18871, 'fucktards': 18872, 'stoppped': 18873, 'disgruntled': 18874, 'investors': 18875, 'hoe': 18876, 'roadsthe': 18877, 'shiningnew': 18878, 'youngest': 18879, 'blcok': 18880, 'haox': 18881, 'esplained': 18882, 'nighters': 18883, 'lighten': 18884, 'groupchat': 18885, 'ymous': 18886, 'contrast': 18887, 'neighboor': 18888, 'bingo': 18889, 'wfamily': 18890, 'rec': 18891, 'gametrying': 18892, 'crythe': 18893, 'muchi': 18894, 'himcant': 18895, 'breakingg': 18896, 'twitfriends': 18897, 'hahadid': 18898, 'wondered': 18899, 'rake': 18900, 'client': 18901, 'ccnet': 18902}\n"
     ]
    }
   ],
   "source": [
    "print(tokenizer.word_index)"
   ]
  },
  {
   "cell_type": "code",
   "execution_count": 40,
   "id": "eb82b8ed",
   "metadata": {},
   "outputs": [
    {
     "name": "stdout",
     "output_type": "stream",
     "text": [
      " Sooo SAD I will miss you here in San Diego!!!\n",
      "[252, 37, 26, 1270, 2211]\n"
     ]
    }
   ],
   "source": [
    "print(text[0])\n",
    "print(encoded_docs[0])"
   ]
  },
  {
   "cell_type": "code",
   "execution_count": 41,
   "id": "427ff188",
   "metadata": {},
   "outputs": [
    {
     "name": "stdout",
     "output_type": "stream",
     "text": [
      "[   0    0    0    0    0    0    0    0    0    0    0    0    0    0\n",
      "    0    0    0    0    0    0    0    0    0    0    0    0    0    0\n",
      "    0    0    0    0    0    0    0    0    0    0    0    0    0    0\n",
      "    0    0    0    0    0    0    0    0    0    0    0    0    0    0\n",
      "    0    0    0    0    0    0    0    0    0    0    0    0    0    0\n",
      "    0    0    0    0    0    0    0    0    0    0    0    0    0    0\n",
      "    0    0    0    0    0    0    0    0    0    0    0    0    0    0\n",
      "    0    0    0    0    0    0    0    0    0    0    0    0    0    0\n",
      "    0    0    0    0    0    0    0    0    0    0    0    0    0    0\n",
      "    0    0    0    0    0    0    0    0    0    0    0    0    0    0\n",
      "    0    0    0    0    0    0    0    0    0    0    0    0    0    0\n",
      "    0    0    0    0    0    0    0    0    0    0    0    0    0    0\n",
      "    0    0    0    0    0    0    0    0    0    0    0    0    0    0\n",
      "    0    0    0    0    0    0    0    0    0    0    0    0    0  252\n",
      "   37   26 1270 2211]\n"
     ]
    }
   ],
   "source": [
    "print(padded_sequence[0])"
   ]
  },
  {
   "cell_type": "code",
   "execution_count": 42,
   "id": "938a50d1",
   "metadata": {},
   "outputs": [
    {
     "name": "stdout",
     "output_type": "stream",
     "text": [
      "Model: \"sequential\"\n",
      "_________________________________________________________________\n",
      " Layer (type)                Output Shape              Param #   \n",
      "=================================================================\n",
      " embedding (Embedding)       (None, 200, 32)           604896    \n",
      "                                                                 \n",
      " spatial_dropout1d (SpatialD  (None, 200, 32)          0         \n",
      " ropout1D)                                                       \n",
      "                                                                 \n",
      " lstm (LSTM)                 (None, 50)                16600     \n",
      "                                                                 \n",
      " dropout (Dropout)           (None, 50)                0         \n",
      "                                                                 \n",
      " dense (Dense)               (None, 1)                 51        \n",
      "                                                                 \n",
      "=================================================================\n",
      "Total params: 621,547\n",
      "Trainable params: 621,547\n",
      "Non-trainable params: 0\n",
      "_________________________________________________________________\n",
      "None\n"
     ]
    }
   ],
   "source": [
    "embedding_vector_length = 32\n",
    "model = Sequential() \n",
    "model.add(Embedding(vocab_size, embedding_vector_length, input_length=200) )\n",
    "model.add(SpatialDropout1D(0.25))\n",
    "model.add(LSTM(50, dropout=0.5, recurrent_dropout=0.5))\n",
    "model.add(Dropout(0.2))\n",
    "model.add(Dense(1, activation='sigmoid')) \n",
    "model.compile(loss='binary_crossentropy',optimizer='adam', metrics=['accuracy'])  \n",
    "print(model.summary()) "
   ]
  },
  {
   "cell_type": "code",
   "execution_count": 43,
   "id": "ab82873c",
   "metadata": {},
   "outputs": [
    {
     "name": "stdout",
     "output_type": "stream",
     "text": [
      "Epoch 1/5\n",
      "410/410 [==============================] - 67s 148ms/step - loss: 0.5174 - accuracy: 0.7332 - val_loss: 0.3649 - val_accuracy: 0.8524\n",
      "Epoch 2/5\n",
      "410/410 [==============================] - 59s 145ms/step - loss: 0.3168 - accuracy: 0.8712 - val_loss: 0.3273 - val_accuracy: 0.8631\n",
      "Epoch 3/5\n",
      "410/410 [==============================] - 59s 145ms/step - loss: 0.2601 - accuracy: 0.8953 - val_loss: 0.3315 - val_accuracy: 0.8640\n",
      "Epoch 4/5\n",
      "410/410 [==============================] - 62s 151ms/step - loss: 0.2312 - accuracy: 0.9089 - val_loss: 0.3437 - val_accuracy: 0.8512\n",
      "Epoch 5/5\n",
      "410/410 [==============================] - 60s 147ms/step - loss: 0.2088 - accuracy: 0.9178 - val_loss: 0.3603 - val_accuracy: 0.8494\n"
     ]
    }
   ],
   "source": [
    "history = model.fit(padded_sequence,sentiment_label[0],validation_split=0.2, epochs=5, batch_size=32)"
   ]
  },
  {
   "cell_type": "code",
   "execution_count": 44,
   "id": "747e93bf",
   "metadata": {},
   "outputs": [
    {
     "data": {
      "image/png": "[encoded data removed]",
      "text/plain": [
       "<Figure size 432x288 with 1 Axes>"
      ]
     },
     "metadata": {
      "needs_background": "light"
     },
     "output_type": "display_data"
    },
    {
     "data": {
      "text/plain": [
       "<Figure size 432x288 with 0 Axes>"
      ]
     },
     "metadata": {},
     "output_type": "display_data"
    }
   ],
   "source": [
    "plt.plot(history.history['accuracy'], label='acc')\n",
    "plt.plot(history.history['val_accuracy'], label='val_acc')\n",
    "plt.legend()\n",
    "plt.show()\n",
    "plt.savefig(\"Accuracy plot.jpg\")"
   ]
  },
  {
   "cell_type": "code",
   "execution_count": 45,
   "id": "e6850556",
   "metadata": {},
   "outputs": [
    {
     "data": {
      "image/png": "[encoded data removed]",
      "text/plain": [
       "<Figure size 432x288 with 1 Axes>"
      ]
     },
     "metadata": {
      "needs_background": "light"
     },
     "output_type": "display_data"
    },
    {
     "data": {
      "text/plain": [
       "<Figure size 432x288 with 0 Axes>"
      ]
     },
     "metadata": {},
     "output_type": "display_data"
    }
   ],
   "source": [
    "plt.plot(history.history['loss'], label='loss')\n",
    "plt.plot(history.history['val_loss'], label='val_loss')\n",
    "plt.legend()\n",
    "plt.show()\n",
    "plt.savefig(\"Loss plot.jpg\")"
   ]
  },
  {
   "cell_type": "code",
   "execution_count": 59,
   "id": "3819dae9",
   "metadata": {},
   "outputs": [
    {
     "data": {
      "text/plain": [
       "0.9177998304367065"
      ]
     },
     "execution_count": 59,
     "metadata": {},
     "output_type": "execute_result"
    }
   ],
   "source": [
    "np.max(history.history['accuracy'])"
   ]
  },
  {
   "cell_type": "code",
   "execution_count": 46,
   "id": "b8691038",
   "metadata": {},
   "outputs": [],
   "source": [
    "def predict_sentiment(texts):\n",
    "    tw = tokenizer.texts_to_sequences([texts])\n",
    "    tw = pad_sequences(tw,maxlen=200)\n",
    "    prediction = int(model.predict(tw).round().item())\n",
    "    print(prediction)\n",
    "    print(\"Predicted label: \", sentiment_label[1][prediction])"
   ]
  },
  {
   "cell_type": "code",
   "execution_count": 47,
   "id": "eaf3073e",
   "metadata": {},
   "outputs": [
    {
     "data": {
      "text/plain": [
       "'positive'"
      ]
     },
     "execution_count": 47,
     "metadata": {},
     "output_type": "execute_result"
    }
   ],
   "source": [
    "sentiment_label[1][1]"
   ]
  },
  {
   "cell_type": "code",
   "execution_count": 48,
   "id": "a8318f8a",
   "metadata": {},
   "outputs": [
    {
     "name": "stdout",
     "output_type": "stream",
     "text": [
      "1/1 [==============================] - 4s 4s/step\n",
      "1\n",
      "Predicted label:  positive\n",
      "1/1 [==============================] - 2s 2s/step\n",
      "0\n",
      "Predicted label:  negative\n"
     ]
    }
   ],
   "source": [
    "test_sentence1 = \"The bot was good.\"\n",
    "predict_sentiment(test_sentence1)\n",
    "\n",
    "test_sentence2 = \"This is the worst flight experience of my life!\"\n",
    "predict_sentiment(test_sentence2)"
   ]
  },
  {
   "cell_type": "code",
   "execution_count": null,
   "id": "f728f39b",
   "metadata": {},
   "outputs": [],
   "source": []
  },
  {
   "cell_type": "code",
   "execution_count": null,
   "id": "db9e1b86",
   "metadata": {},
   "outputs": [],
   "source": []
  }
 ],
 "metadata": {
  "kernelspec": {
   "display_name": "Python 3",
   "language": "python",
   "name": "python3"
  },
  "language_info": {
   "codemirror_mode": {
    "name": "ipython",
    "version": 3
   },
   "file_extension": ".py",
   "mimetype": "text/x-python",
   "name": "python",
   "nbconvert_exporter": "python",
   "pygments_lexer": "ipython3",
   "version": "3.8.8"
  }
 },
 "nbformat": 4,
 "nbformat_minor": 5
}
