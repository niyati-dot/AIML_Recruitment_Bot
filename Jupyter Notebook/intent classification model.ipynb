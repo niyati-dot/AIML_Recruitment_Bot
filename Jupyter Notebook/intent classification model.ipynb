{
 "cells": [
  {
   "cell_type": "code",
   "execution_count": 1,
   "id": "fa712b28",
   "metadata": {},
   "outputs": [],
   "source": [
    "import random\n",
    "from tensorflow.keras.optimizers import SGD\n",
    "from keras.layers import Dense, Dropout\n",
    "from keras.models import load_model\n",
    "from keras.models import Sequential\n",
    "import numpy as np\n",
    "import pickle\n",
    "import json\n",
    "import nltk\n",
    "from nltk.stem import WordNetLemmatizer\n",
    "import matplotlib.pyplot as plt"
   ]
  },
  {
   "cell_type": "code",
   "execution_count": 2,
   "id": "a5a43733",
   "metadata": {},
   "outputs": [
    {
     "name": "stderr",
     "output_type": "stream",
     "text": [
      "[nltk_data] Downloading package punkt to\n",
      "[nltk_data]     C:\\Users\\jaseb\\AppData\\Roaming\\nltk_data...\n",
      "[nltk_data]   Package punkt is already up-to-date!\n",
      "[nltk_data] Downloading package wordnet to\n",
      "[nltk_data]     C:\\Users\\jaseb\\AppData\\Roaming\\nltk_data...\n",
      "[nltk_data]   Package wordnet is already up-to-date!\n"
     ]
    },
    {
     "data": {
      "text/plain": [
       "True"
      ]
     },
     "execution_count": 2,
     "metadata": {},
     "output_type": "execute_result"
    }
   ],
   "source": [
    "lemmatizer = WordNetLemmatizer()\n",
    "nltk.download(\"punkt\")\n",
    "nltk.download(\"wordnet\")"
   ]
  },
  {
   "cell_type": "code",
   "execution_count": 5,
   "id": "faef4e64",
   "metadata": {},
   "outputs": [],
   "source": [
    "words = []\n",
    "classes = []\n",
    "documents = []\n",
    "ignore_words = [\"?\", \"!\"]\n",
    "data_file = open(\"data.json\").read()\n",
    "intents = json.loads(data_file)"
   ]
  },
  {
   "cell_type": "code",
   "execution_count": 6,
   "id": "16b0a6a7",
   "metadata": {},
   "outputs": [
    {
     "data": {
      "text/plain": [
       "'{\"intents\": [\\n{\"tag\": \"Greeting\",\"patterns\": [\"hello there\",\"how are you doing\",\"how are you\",\"hey\",\"hi there\",\"hi\",\"hello\",\"hi good morning\",\"hi good afternoon\",\"hi good evening\"]},\\n{\"tag\": \"GreetingResponseYes\",\"patterns\": [\"Yes I am ready to take the assessment\",\"Yes I am ready\", \"I am good, I am ready to take the assessment\",\"I am ready\",\"I can take the test today\",\"ready\",\"all set\",\"we can proceed\",\"good to go\",\"I am ready to take the test\",\"I am ready to take the assessment\",\"all set to take the assessment\",\"all set to take the test\",\"all good to take the assessment\",\"I am ready for the assessment\",\"Yes i am ready\",\"Yes I am ready to take the assessment\",\"I am ok and ready to take the assessment\",\"okie dokie\"]},\\n{\"tag\": \"GreetingResponseNo\",\"patterns\": [ \"No I am not ready\",\"I am not\",\"Could you please reschedule the assessment\",\"I am not  feeling well\",\"I cannot attend it today\",\"Can you reschedule the test?\",\"Not today\",\"Not sure\",\"Sorry I cannot attend the assessment\",\"I cannot attend the assessment\",\"I am not good, I am not ready to take the assessment\",\"No I am not ready to take the assessment\",\"I cannot take the assessment today\",\"not ready to take the assessment\",\"not good to go\",\"not set\",\"I cannot proceed to take the assessment\",\"we can\\'t proceed\",\"I can\\'t proceed\",\"not okie dokie\",\"I am not ok, I won\\'t be able to take the assessment\",\"I cannot write the assessment\",\"I cannot attend the assessment\",\"not good to gofor the assessment\",\"I don\\'t want to take the assessment\",\"I can\\'t proceed with the assessment\",\"I cannot write the assessment\",\"won\\'t be able to attend the assessment\",\"I don\\'t want to take the assessment\" \\n]},\\n{\"tag\": \"Help\",\"patterns\": [\"I don\\'t know how to operate this\",\"I need help\",\"how to contact the customer care\",\"how to contact the HR\",\"When can i expect the results\",\"I don\\'t know what to do\",\"What should i do after the test\",\"what should i do after the assessment\",\"when will i get a review\",\"will i get the assessment feedback\",\"what should i do after the assessment\",\"who you gonna call\",\"where am i\",\"what is this\",\"will an HR contact me\" \\n]},\\n{\"tag\": \"Review\",\"patterns\": [\"Yes i would like to give a review\",\"I am ready to give a review\",\"ok to give a review\",\"Yes i would like to give a feedback\",\"I am ready to give a feedback\",\"I am ok to give a feedback\"]}\\n]}\\n\\n'"
      ]
     },
     "execution_count": 6,
     "metadata": {},
     "output_type": "execute_result"
    }
   ],
   "source": [
    "data_file"
   ]
  },
  {
   "cell_type": "code",
   "execution_count": 4,
   "id": "9d28a5bf",
   "metadata": {},
   "outputs": [],
   "source": [
    "for intent in intents[\"intents\"]:\n",
    "    for pattern in intent[\"patterns\"]:\n",
    "\n",
    "        # take each word and tokenize it\n",
    "        w = nltk.word_tokenize(pattern)\n",
    "        words.extend(w)\n",
    "        # adding documents\n",
    "        documents.append((w, intent[\"tag\"]))\n",
    "\n",
    "        # adding classes to our class list\n",
    "        if intent[\"tag\"] not in classes:\n",
    "            classes.append(intent[\"tag\"])"
   ]
  },
  {
   "cell_type": "code",
   "execution_count": 5,
   "id": "4f0d23de",
   "metadata": {},
   "outputs": [],
   "source": [
    "words = [lemmatizer.lemmatize(w.lower()) for w in words if w not in ignore_words]\n",
    "words = sorted(list(set(words)))\n",
    "\n",
    "classes = sorted(list(set(classes)))\n",
    "\n",
    "pickle.dump(words, open(\"words.pkl\", \"wb\"))\n",
    "pickle.dump(classes, open(\"classes.pkl\", \"wb\"))"
   ]
  },
  {
   "cell_type": "code",
   "execution_count": 6,
   "id": "769f5da7",
   "metadata": {},
   "outputs": [
    {
     "name": "stderr",
     "output_type": "stream",
     "text": [
      "<ipython-input-6-3cc44a25c62c>:23: VisibleDeprecationWarning: Creating an ndarray from ragged nested sequences (which is a list-or-tuple of lists-or-tuples-or ndarrays with different lengths or shapes) is deprecated. If you meant to do this, you must specify 'dtype=object' when creating the ndarray.\n",
      "  training = np.array(training)\n"
     ]
    }
   ],
   "source": [
    "training = []\n",
    "output_empty = [0] * len(classes)\n",
    "for doc in documents:\n",
    "    # initializing bag of words\n",
    "    bag = []\n",
    "    # list of tokenized words for the pattern\n",
    "    pattern_words = doc[0]\n",
    "\n",
    "    # lemmatize each word - create base word, in attempt to represent related words\n",
    "    pattern_words = [lemmatizer.lemmatize(word.lower()) for word in pattern_words]\n",
    "    # create our bag of words array with 1, if word match found in current pattern\n",
    "    for w in words:\n",
    "        bag.append(1) if w in pattern_words else bag.append(0)\n",
    "\n",
    "    # output is a '0' for each tag and '1' for current tag (for each pattern)\n",
    "    output_row = list(output_empty)\n",
    "    output_row[classes.index(doc[1])] = 1\n",
    "\n",
    "    training.append([bag, output_row])\n",
    "\n",
    "# shuffle our features and turn into np.array\n",
    "random.shuffle(training)\n",
    "training = np.array(training)"
   ]
  },
  {
   "cell_type": "code",
   "execution_count": 7,
   "id": "15676428",
   "metadata": {},
   "outputs": [
    {
     "name": "stdout",
     "output_type": "stream",
     "text": [
      "Training data created\n"
     ]
    }
   ],
   "source": [
    "train_x = list(training[:, 0])\n",
    "train_y = list(training[:, 1])\n",
    "print(\"Training data created\")"
   ]
  },
  {
   "cell_type": "code",
   "execution_count": 8,
   "id": "f6f9b617",
   "metadata": {},
   "outputs": [
    {
     "name": "stdout",
     "output_type": "stream",
     "text": [
      "Model: \"sequential\"\n",
      "_________________________________________________________________\n",
      " Layer (type)                Output Shape              Param #   \n",
      "=================================================================\n",
      " dense (Dense)               (None, 128)               11136     \n",
      "                                                                 \n",
      " dropout (Dropout)           (None, 128)               0         \n",
      "                                                                 \n",
      " dense_1 (Dense)             (None, 64)                8256      \n",
      "                                                                 \n",
      " dropout_1 (Dropout)         (None, 64)                0         \n",
      "                                                                 \n",
      " dense_2 (Dense)             (None, 5)                 325       \n",
      "                                                                 \n",
      "=================================================================\n",
      "Total params: 19,717\n",
      "Trainable params: 19,717\n",
      "Non-trainable params: 0\n",
      "_________________________________________________________________\n",
      "Epoch 1/50\n",
      "13/13 - 1s - loss: 1.6681 - accuracy: 0.2698 - val_loss: 1.5907 - val_accuracy: 0.3125 - 690ms/epoch - 53ms/step\n",
      "Epoch 2/50\n",
      "13/13 - 0s - loss: 1.6213 - accuracy: 0.1429 - val_loss: 1.5526 - val_accuracy: 0.3750 - 68ms/epoch - 5ms/step\n",
      "Epoch 3/50\n",
      "13/13 - 0s - loss: 1.5160 - accuracy: 0.3333 - val_loss: 1.5181 - val_accuracy: 0.4375 - 49ms/epoch - 4ms/step\n",
      "Epoch 4/50\n",
      "13/13 - 0s - loss: 1.5357 - accuracy: 0.2381 - val_loss: 1.4869 - val_accuracy: 0.4375 - 44ms/epoch - 3ms/step\n",
      "Epoch 5/50\n",
      "13/13 - 0s - loss: 1.4931 - accuracy: 0.3968 - val_loss: 1.4634 - val_accuracy: 0.4375 - 46ms/epoch - 4ms/step\n",
      "Epoch 6/50\n",
      "13/13 - 0s - loss: 1.5020 - accuracy: 0.3333 - val_loss: 1.4414 - val_accuracy: 0.5000 - 53ms/epoch - 4ms/step\n",
      "Epoch 7/50\n",
      "13/13 - 0s - loss: 1.4499 - accuracy: 0.4127 - val_loss: 1.4226 - val_accuracy: 0.4375 - 42ms/epoch - 3ms/step\n",
      "Epoch 8/50\n",
      "13/13 - 0s - loss: 1.4115 - accuracy: 0.4286 - val_loss: 1.4023 - val_accuracy: 0.4375 - 50ms/epoch - 4ms/step\n",
      "Epoch 9/50\n",
      "13/13 - 0s - loss: 1.4274 - accuracy: 0.3651 - val_loss: 1.3816 - val_accuracy: 0.4375 - 43ms/epoch - 3ms/step\n",
      "Epoch 10/50\n",
      "13/13 - 0s - loss: 1.4377 - accuracy: 0.3810 - val_loss: 1.3641 - val_accuracy: 0.4375 - 50ms/epoch - 4ms/step\n",
      "Epoch 11/50\n",
      "13/13 - 0s - loss: 1.3392 - accuracy: 0.4127 - val_loss: 1.3468 - val_accuracy: 0.4375 - 50ms/epoch - 4ms/step\n",
      "Epoch 12/50\n",
      "13/13 - 0s - loss: 1.3816 - accuracy: 0.4286 - val_loss: 1.3304 - val_accuracy: 0.5000 - 48ms/epoch - 4ms/step\n",
      "Epoch 13/50\n",
      "13/13 - 0s - loss: 1.3169 - accuracy: 0.4444 - val_loss: 1.3147 - val_accuracy: 0.5000 - 43ms/epoch - 3ms/step\n",
      "Epoch 14/50\n",
      "13/13 - 0s - loss: 1.2718 - accuracy: 0.4444 - val_loss: 1.2955 - val_accuracy: 0.5000 - 51ms/epoch - 4ms/step\n",
      "Epoch 15/50\n",
      "13/13 - 0s - loss: 1.2646 - accuracy: 0.3968 - val_loss: 1.2836 - val_accuracy: 0.5000 - 43ms/epoch - 3ms/step\n",
      "Epoch 16/50\n",
      "13/13 - 0s - loss: 1.2820 - accuracy: 0.4762 - val_loss: 1.2719 - val_accuracy: 0.5000 - 42ms/epoch - 3ms/step\n",
      "Epoch 17/50\n",
      "13/13 - 0s - loss: 1.2933 - accuracy: 0.4921 - val_loss: 1.2565 - val_accuracy: 0.5000 - 43ms/epoch - 3ms/step\n",
      "Epoch 18/50\n",
      "13/13 - 0s - loss: 1.2346 - accuracy: 0.5079 - val_loss: 1.2411 - val_accuracy: 0.5000 - 50ms/epoch - 4ms/step\n",
      "Epoch 19/50\n",
      "13/13 - 0s - loss: 1.1891 - accuracy: 0.5397 - val_loss: 1.2272 - val_accuracy: 0.5625 - 57ms/epoch - 4ms/step\n",
      "Epoch 20/50\n",
      "13/13 - 0s - loss: 1.2151 - accuracy: 0.5238 - val_loss: 1.2124 - val_accuracy: 0.5000 - 43ms/epoch - 3ms/step\n",
      "Epoch 21/50\n",
      "13/13 - 0s - loss: 1.1855 - accuracy: 0.5079 - val_loss: 1.1962 - val_accuracy: 0.5000 - 42ms/epoch - 3ms/step\n",
      "Epoch 22/50\n",
      "13/13 - 0s - loss: 1.1772 - accuracy: 0.5079 - val_loss: 1.1803 - val_accuracy: 0.5625 - 48ms/epoch - 4ms/step\n",
      "Epoch 23/50\n",
      "13/13 - 0s - loss: 1.1374 - accuracy: 0.5397 - val_loss: 1.1683 - val_accuracy: 0.5000 - 50ms/epoch - 4ms/step\n",
      "Epoch 24/50\n",
      "13/13 - 0s - loss: 1.1712 - accuracy: 0.4286 - val_loss: 1.1534 - val_accuracy: 0.5625 - 46ms/epoch - 4ms/step\n",
      "Epoch 25/50\n",
      "13/13 - 0s - loss: 1.1186 - accuracy: 0.5397 - val_loss: 1.1391 - val_accuracy: 0.5625 - 47ms/epoch - 4ms/step\n",
      "Epoch 26/50\n",
      "13/13 - 0s - loss: 1.1330 - accuracy: 0.4286 - val_loss: 1.1292 - val_accuracy: 0.5625 - 49ms/epoch - 4ms/step\n",
      "Epoch 27/50\n",
      "13/13 - 0s - loss: 1.1763 - accuracy: 0.5238 - val_loss: 1.1162 - val_accuracy: 0.6250 - 52ms/epoch - 4ms/step\n",
      "Epoch 28/50\n",
      "13/13 - 0s - loss: 1.1181 - accuracy: 0.5556 - val_loss: 1.1054 - val_accuracy: 0.6250 - 41ms/epoch - 3ms/step\n",
      "Epoch 29/50\n",
      "13/13 - 0s - loss: 1.1023 - accuracy: 0.5873 - val_loss: 1.0939 - val_accuracy: 0.6250 - 44ms/epoch - 3ms/step\n",
      "Epoch 30/50\n",
      "13/13 - 0s - loss: 1.0218 - accuracy: 0.5714 - val_loss: 1.0788 - val_accuracy: 0.6250 - 41ms/epoch - 3ms/step\n",
      "Epoch 31/50\n",
      "13/13 - 0s - loss: 1.0607 - accuracy: 0.6190 - val_loss: 1.0671 - val_accuracy: 0.6250 - 51ms/epoch - 4ms/step\n",
      "Epoch 32/50\n",
      "13/13 - 0s - loss: 1.0442 - accuracy: 0.6032 - val_loss: 1.0535 - val_accuracy: 0.6250 - 41ms/epoch - 3ms/step\n",
      "Epoch 33/50\n",
      "13/13 - 0s - loss: 1.0998 - accuracy: 0.6349 - val_loss: 1.0431 - val_accuracy: 0.6250 - 45ms/epoch - 3ms/step\n",
      "Epoch 34/50\n",
      "13/13 - 0s - loss: 1.0265 - accuracy: 0.6190 - val_loss: 1.0322 - val_accuracy: 0.7500 - 45ms/epoch - 3ms/step\n",
      "Epoch 35/50\n",
      "13/13 - 0s - loss: 1.0603 - accuracy: 0.5556 - val_loss: 1.0194 - val_accuracy: 0.7500 - 37ms/epoch - 3ms/step\n",
      "Epoch 36/50\n",
      "13/13 - 0s - loss: 0.9504 - accuracy: 0.5873 - val_loss: 1.0038 - val_accuracy: 0.6875 - 45ms/epoch - 3ms/step\n",
      "Epoch 37/50\n",
      "13/13 - 0s - loss: 0.8890 - accuracy: 0.6984 - val_loss: 0.9891 - val_accuracy: 0.6875 - 44ms/epoch - 3ms/step\n",
      "Epoch 38/50\n",
      "13/13 - 0s - loss: 0.9838 - accuracy: 0.6032 - val_loss: 0.9755 - val_accuracy: 0.7500 - 42ms/epoch - 3ms/step\n",
      "Epoch 39/50\n",
      "13/13 - 0s - loss: 0.9479 - accuracy: 0.6667 - val_loss: 0.9596 - val_accuracy: 0.7500 - 49ms/epoch - 4ms/step\n",
      "Epoch 40/50\n",
      "13/13 - 0s - loss: 0.9343 - accuracy: 0.6508 - val_loss: 0.9480 - val_accuracy: 0.7500 - 49ms/epoch - 4ms/step\n",
      "Epoch 41/50\n",
      "13/13 - 0s - loss: 0.8361 - accuracy: 0.7460 - val_loss: 0.9347 - val_accuracy: 0.7500 - 41ms/epoch - 3ms/step\n",
      "Epoch 42/50\n",
      "13/13 - 0s - loss: 0.8390 - accuracy: 0.7302 - val_loss: 0.9248 - val_accuracy: 0.7500 - 47ms/epoch - 4ms/step\n",
      "Epoch 43/50\n",
      "13/13 - 0s - loss: 0.8239 - accuracy: 0.6667 - val_loss: 0.9128 - val_accuracy: 0.7500 - 47ms/epoch - 4ms/step\n",
      "Epoch 44/50\n",
      "13/13 - 0s - loss: 0.8184 - accuracy: 0.7460 - val_loss: 0.8984 - val_accuracy: 0.7500 - 42ms/epoch - 3ms/step\n",
      "Epoch 45/50\n",
      "13/13 - 0s - loss: 0.8411 - accuracy: 0.7302 - val_loss: 0.8828 - val_accuracy: 0.7500 - 41ms/epoch - 3ms/step\n",
      "Epoch 46/50\n",
      "13/13 - 0s - loss: 0.8967 - accuracy: 0.6349 - val_loss: 0.8659 - val_accuracy: 0.7500 - 45ms/epoch - 3ms/step\n",
      "Epoch 47/50\n",
      "13/13 - 0s - loss: 0.8409 - accuracy: 0.7143 - val_loss: 0.8556 - val_accuracy: 0.7500 - 44ms/epoch - 3ms/step\n",
      "Epoch 48/50\n",
      "13/13 - 0s - loss: 0.7268 - accuracy: 0.8095 - val_loss: 0.8422 - val_accuracy: 0.7500 - 46ms/epoch - 4ms/step\n",
      "Epoch 49/50\n",
      "13/13 - 0s - loss: 0.8261 - accuracy: 0.6508 - val_loss: 0.8321 - val_accuracy: 0.7500 - 44ms/epoch - 3ms/step\n",
      "Epoch 50/50\n",
      "13/13 - 0s - loss: 0.7897 - accuracy: 0.6825 - val_loss: 0.8182 - val_accuracy: 0.7500 - 50ms/epoch - 4ms/step\n",
      "model created\n"
     ]
    }
   ],
   "source": [
    "# actual training\n",
    "# Create model - 3 layers. First layer 128 neurons, second layer 64 neurons and 3rd output layer contains number of neurons\n",
    "# equal to number of intents to predict output intent with softmax\n",
    "model = Sequential()\n",
    "model.add(Dense(128, input_shape=(len(train_x[0]),), activation=\"relu\"))\n",
    "model.add(Dropout(0.5))\n",
    "model.add(Dense(64, activation=\"relu\"))\n",
    "model.add(Dropout(0.5))\n",
    "model.add(Dense(len(train_y[0]), activation=\"softmax\"))\n",
    "model.summary()\n",
    "\n",
    "# Compile model. Stochastic gradient descent with Nesterov accelerated gradient gives good results for this model\n",
    "sgd = SGD(learning_rate=0.01, decay=1e-6, momentum=0.9, nesterov=True)\n",
    "model.compile(loss=\"categorical_crossentropy\", optimizer=\"sgd\", metrics=[\"accuracy\"])\n",
    "\n",
    "# fitting and saving the model\n",
    "hist = model.fit(np.array(train_x), np.array(train_y), epochs = 50, validation_split=0.2,batch_size = 5, verbose = 2)\n",
    "model.save(\"chatbot_model.h5\", hist)\n",
    "print(\"model created\")"
   ]
  },
  {
   "cell_type": "code",
   "execution_count": 9,
   "id": "2dd51a83",
   "metadata": {},
   "outputs": [
    {
     "name": "stdout",
     "output_type": "stream",
     "text": [
      "Model: \"sequential\"\n",
      "_________________________________________________________________\n",
      " Layer (type)                Output Shape              Param #   \n",
      "=================================================================\n",
      " dense (Dense)               (None, 128)               11136     \n",
      "                                                                 \n",
      " dropout (Dropout)           (None, 128)               0         \n",
      "                                                                 \n",
      " dense_1 (Dense)             (None, 64)                8256      \n",
      "                                                                 \n",
      " dropout_1 (Dropout)         (None, 64)                0         \n",
      "                                                                 \n",
      " dense_2 (Dense)             (None, 5)                 325       \n",
      "                                                                 \n",
      "=================================================================\n",
      "Total params: 19,717\n",
      "Trainable params: 19,717\n",
      "Non-trainable params: 0\n",
      "_________________________________________________________________\n",
      "None\n"
     ]
    }
   ],
   "source": [
    "print(model.summary())"
   ]
  },
  {
   "cell_type": "code",
   "execution_count": 10,
   "id": "57ed862b",
   "metadata": {},
   "outputs": [
    {
     "data": {
      "text/plain": [
       "0.8095238208770752"
      ]
     },
     "execution_count": 10,
     "metadata": {},
     "output_type": "execute_result"
    }
   ],
   "source": [
    "np.max(hist.history['accuracy'])"
   ]
  },
  {
   "cell_type": "code",
   "execution_count": 11,
   "id": "7bbaeb87",
   "metadata": {},
   "outputs": [
    {
     "data": {
      "image/png": "[encoded data removed]",
      "text/plain": [
       "<Figure size 432x288 with 1 Axes>"
      ]
     },
     "metadata": {
      "needs_background": "light"
     },
     "output_type": "display_data"
    },
    {
     "data": {
      "text/plain": [
       "<Figure size 432x288 with 0 Axes>"
      ]
     },
     "metadata": {},
     "output_type": "display_data"
    }
   ],
   "source": [
    "plt.plot(hist.history['accuracy'], label='acc')\n",
    "plt.plot(hist.history['val_accuracy'], label='val_acc')\n",
    "plt.xlabel(\"Epochs\")\n",
    "plt.ylabel(\"Accuracy\")\n",
    "plt.legend()\n",
    "plt.show()\n",
    "plt.savefig(\"Accuracy plot.jpg\")"
   ]
  },
  {
   "cell_type": "code",
   "execution_count": 12,
   "id": "b0f90e8e",
   "metadata": {},
   "outputs": [
    {
     "data": {
      "image/png": "[encoded data removed]",
      "text/plain": [
       "<Figure size 432x288 with 1 Axes>"
      ]
     },
     "metadata": {
      "needs_background": "light"
     },
     "output_type": "display_data"
    },
    {
     "data": {
      "text/plain": [
       "<Figure size 432x288 with 0 Axes>"
      ]
     },
     "metadata": {},
     "output_type": "display_data"
    }
   ],
   "source": [
    "plt.plot(hist.history['loss'], label='loss')\n",
    "plt.plot(hist.history['val_loss'], label='val_loss')\n",
    "plt.xlabel(\"Epochs\")\n",
    "plt.ylabel(\"Loss\")\n",
    "plt.legend()\n",
    "plt.show()\n",
    "plt.savefig(\"Loss plot.jpg\")"
   ]
  },
  {
   "cell_type": "code",
   "execution_count": 13,
   "id": "321551ca",
   "metadata": {},
   "outputs": [],
   "source": [
    "def clean_up_sentence(sentence):\n",
    "    print(sentence)\n",
    "    sentence_words = nltk.word_tokenize(sentence)\n",
    "    sentence_words = [lemmatizer.lemmatize(word.lower()) for word in sentence_words]\n",
    "    return sentence_words\n",
    "\n",
    "# return bag of words array: 0 or 1 for each word in the bag that exists in the sentence\n",
    "def bow(sentence, words, show_details=True):\n",
    "    # tokenize the pattern\n",
    "    sentence_words = clean_up_sentence(sentence)\n",
    "    # bag of words - matrix of N words, vocabulary matrix\n",
    "    bag = [0] * len(words)\n",
    "    for s in sentence_words:\n",
    "        for i, w in enumerate(words):\n",
    "            if w == s:\n",
    "                # assign 1 if current word is in the vocabulary position\n",
    "                bag[i] = 1\n",
    "                if show_details:\n",
    "                    print(\"found in bag: %s\" % w)\n",
    "    return np.array(bag)"
   ]
  },
  {
   "cell_type": "code",
   "execution_count": 14,
   "id": "65da3814",
   "metadata": {},
   "outputs": [],
   "source": [
    "def predict_intent(text):\n",
    "    p = bow(text, words, show_details=False)\n",
    "    res = model.predict(np.array([p]))[0]\n",
    "    ERROR_THRESHOLD = 0.40\n",
    "    results = [[i, r] for i, r in enumerate(res) if r > ERROR_THRESHOLD]\n",
    "    # sort by strength of probability\n",
    "    results.sort(key=lambda x: x[1], reverse=True)\n",
    "    return_list = []\n",
    "    for r in results:\n",
    "            return_list.append({\"intent\": classes[r[0]], \"probability\": str(r[1])})\n",
    "\n",
    "    print(return_list)\n",
    "    #return return_list\n",
    "    #print(classes[r[0]])"
   ]
  },
  {
   "cell_type": "code",
   "execution_count": 75,
   "id": "7c13295e",
   "metadata": {},
   "outputs": [
    {
     "name": "stdout",
     "output_type": "stream",
     "text": [
      "Hi how are you?\n",
      "1/1 [==============================] - 0s 18ms/step\n",
      "[]\n",
      "Yes i am ready!\n",
      "1/1 [==============================] - 0s 20ms/step\n",
      "[{'intent': 'GreetingResponseYes', 'probability': '0.5902458'}]\n",
      "Where am I\n",
      "1/1 [==============================] - 0s 17ms/step\n",
      "[]\n"
     ]
    }
   ],
   "source": [
    "test_sentence1 = \"Hi how are you?\"\n",
    "predict_intent(test_sentence1)\n",
    "\n",
    "test_sentence2 = \"Yes i am ready!\"\n",
    "predict_intent(test_sentence2)\n",
    "\n",
    "test_sentence3 = \"Where am I\"\n",
    "predict_intent(test_sentence3)"
   ]
  },
  {
   "cell_type": "code",
   "execution_count": null,
   "id": "7ea40cc9",
   "metadata": {},
   "outputs": [],
   "source": []
  },
  {
   "cell_type": "code",
   "execution_count": null,
   "id": "f50d84ea",
   "metadata": {},
   "outputs": [],
   "source": []
  },
  {
   "cell_type": "code",
   "execution_count": null,
   "id": "e6f44480",
   "metadata": {},
   "outputs": [],
   "source": []
  },
  {
   "cell_type": "code",
   "execution_count": null,
   "id": "55cadd4b",
   "metadata": {},
   "outputs": [],
   "source": []
  }
 ],
 "metadata": {
  "kernelspec": {
   "display_name": "Python 3",
   "language": "python",
   "name": "python3"
  },
  "language_info": {
   "codemirror_mode": {
    "name": "ipython",
    "version": 3
   },
   "file_extension": ".py",
   "mimetype": "text/x-python",
   "name": "python",
   "nbconvert_exporter": "python",
   "pygments_lexer": "ipython3",
   "version": "3.8.8"
  }
 },
 "nbformat": 4,
 "nbformat_minor": 5
}
